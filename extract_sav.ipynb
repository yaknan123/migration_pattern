{
 "cells": [
  {
   "cell_type": "markdown",
   "id": "fff6e7cb",
   "metadata": {},
   "source": [
    "#### 1. Import Libraries"
   ]
  },
  {
   "cell_type": "code",
   "execution_count": 132,
   "id": "074738b3",
   "metadata": {},
   "outputs": [],
   "source": [
    "import pyreadstat\n",
    "import pandas as pd\n",
    "\n",
    "pd.set_option(\"display.max_rows\", None)  # show all rows if needed"
   ]
  },
  {
   "cell_type": "markdown",
   "id": "d7932230",
   "metadata": {},
   "source": [
    "#### 2. Load Data"
   ]
  },
  {
   "cell_type": "code",
   "execution_count": 133,
   "id": "6af7274c",
   "metadata": {},
   "outputs": [
    {
     "name": "stdout",
     "output_type": "stream",
     "text": [
      "Shape for Men Migration: (18466, 233)\n",
      "Shape for Women Migration: (40326, 571)\n"
     ]
    }
   ],
   "source": [
    "file_path_men   = \"men_and_womens_mobility_data/mn.sav\"\n",
    "file_path_women = \"men_and_womens_mobility_data/wm.sav\"\n",
    "\n",
    "# read_sav returns (dataframe, metadata)\n",
    "df_men, meta_men     = pyreadstat.read_sav(file_path_men)\n",
    "df_women, meta_women = pyreadstat.read_sav(file_path_women)\n",
    "\n",
    "print(\"Shape for Men Migration:\", df_men.shape)\n",
    "print(\"Shape for Women Migration:\", df_women.shape)\n",
    "\n"
   ]
  },
  {
   "cell_type": "markdown",
   "id": "c8a4fcd5",
   "metadata": {},
   "source": [
    "#### 3. Extract Relevant Columns"
   ]
  },
  {
   "cell_type": "code",
   "execution_count": 134,
   "id": "866f043d",
   "metadata": {},
   "outputs": [
    {
     "name": "stdout",
     "output_type": "stream",
     "text": [
      "\n",
      "Men Metadata:\n",
      "MWB17 --> State prior to moving to current place\n",
      "HH7 --> Region\n",
      "\n",
      "Women Metadata:\n",
      "WB17 --> State prior to moving to current place\n",
      "HH7 --> Region\n"
     ]
    }
   ],
   "source": [
    "# For men → MWB17 = previous state, HH7 = current state\n",
    "men_df   = df_men[[\"MWB17\", \"HH7\"]]\n",
    "# For women → WB17 = previous state, HH7 = current state\n",
    "women_df = df_women[[\"WB17\", \"HH7\"]]\n",
    "\n",
    "# Extract variable labels from metadata\n",
    "men_meta   = {col: meta_men.column_labels[df_men.columns.get_loc(col)] for col in [\"MWB17\", \"HH7\"]}\n",
    "women_meta = {col: meta_women.column_labels[df_women.columns.get_loc(col)] for col in [\"WB17\", \"HH7\"]}\n",
    "\n",
    "print(\"\\nMen Metadata:\")\n",
    "for short, full in men_meta.items():\n",
    "    print(f\"{short} --> {full}\")\n",
    "\n",
    "print(\"\\nWomen Metadata:\")\n",
    "for short, full in women_meta.items():\n",
    "    print(f\"{short} --> {full}\")\n"
   ]
  },
  {
   "cell_type": "markdown",
   "id": "0126dd87",
   "metadata": {},
   "source": [
    "#### 4. Filter and Clean Data"
   ]
  },
  {
   "cell_type": "code",
   "execution_count": 135,
   "id": "b429b9ce",
   "metadata": {},
   "outputs": [
    {
     "name": "stdout",
     "output_type": "stream",
     "text": [
      "\n",
      "Men Filtered Shape: (18399, 2)\n",
      "Women Filtered Shape: (40169, 2)\n"
     ]
    }
   ],
   "source": [
    "# Keep only valid codes (1–37), drop 96/99 etc.\n",
    "men_filtered = (\n",
    "    men_df[(men_df[\"MWB17\"].fillna(0) <= 37) & (men_df[\"HH7\"].fillna(0) <= 37)]\n",
    "    .astype({\"MWB17\": \"Int64\", \"HH7\": \"Int64\"})   # Int64 keeps NaN support\n",
    ")\n",
    "\n",
    "women_filtered = (\n",
    "    women_df[(women_df[\"WB17\"].fillna(0) <= 37) & (women_df[\"HH7\"].fillna(0) <= 37)]\n",
    "    .astype({\"WB17\": \"Int64\", \"HH7\": \"Int64\"})\n",
    ")\n",
    "\n",
    "print(\"\\nMen Filtered Shape:\", men_filtered.shape)\n",
    "print(\"Women Filtered Shape:\", women_filtered.shape)"
   ]
  },
  {
   "cell_type": "markdown",
   "id": "425abbe7",
   "metadata": {},
   "source": [
    "#### 5. Summary Stats (Men & Women)"
   ]
  },
  {
   "cell_type": "code",
   "execution_count": 136,
   "id": "f1ba8548",
   "metadata": {},
   "outputs": [
    {
     "name": "stdout",
     "output_type": "stream",
     "text": [
      "\n",
      "Men Unique MWB17: [1, 2, 3, 4, 5, 6, 7, 8, 9, 10, 11, 12, 13, 14, 15, 16, 17, 18, 19, 20, 21, 22, 23, 24, 25, 26, 27, 28, 29, 30, 31, 32, 33, 34, 35, 36, 37]\n",
      "Men Unique HH7: [1, 2, 3, 4, 5, 6, 7, 8, 9, 10, 11, 12, 13, 14, 15, 16, 17, 18, 19, 20, 21, 22, 23, 24, 25, 26, 27, 28, 29, 30, 31, 32, 33, 34, 35, 36, 37]\n",
      "Men MWB17 counts:\n",
      " MWB17\n",
      "1     100\n",
      "2     460\n",
      "3     177\n",
      "4     156\n",
      "5      67\n",
      "6     225\n",
      "7     155\n",
      "8     399\n",
      "9      92\n",
      "10    179\n",
      "11     46\n",
      "12    257\n",
      "13    129\n",
      "14    177\n",
      "15    115\n",
      "16     85\n",
      "17    266\n",
      "18    102\n",
      "19    311\n",
      "20     28\n",
      "21     34\n",
      "22    460\n",
      "23    319\n",
      "24    565\n",
      "25     61\n",
      "26    344\n",
      "27    151\n",
      "28    110\n",
      "29    268\n",
      "30    194\n",
      "31    111\n",
      "32    115\n",
      "33    278\n",
      "34    320\n",
      "35    420\n",
      "36    235\n",
      "37    303\n",
      "Name: count, dtype: Int64\n",
      "Men HH7 counts:\n",
      " HH7\n",
      "1     467\n",
      "2     791\n",
      "3     474\n",
      "4     350\n",
      "5     730\n",
      "6     354\n",
      "7     481\n",
      "8     656\n",
      "9     358\n",
      "10    353\n",
      "11    443\n",
      "12    386\n",
      "13    285\n",
      "14    437\n",
      "15    620\n",
      "16    396\n",
      "17    597\n",
      "18    522\n",
      "19    654\n",
      "20    579\n",
      "21    674\n",
      "22    432\n",
      "23    489\n",
      "24    406\n",
      "25    591\n",
      "26    607\n",
      "27    333\n",
      "28    394\n",
      "29    316\n",
      "30    337\n",
      "31    606\n",
      "32    293\n",
      "33    614\n",
      "34    523\n",
      "35    628\n",
      "36    511\n",
      "37    603\n",
      "Name: count, dtype: Int64\n",
      "\n",
      "Women Unique WB17: [1, 2, 3, 4, 5, 6, 7, 8, 9, 10, 11, 12, 13, 14, 15, 16, 17, 18, 19, 20, 21, 22, 23, 24, 25, 26, 27, 28, 29, 30, 31, 32, 33, 34, 35, 36, 37]\n",
      "Women Unique HH7: [1, 2, 3, 4, 5, 6, 7, 8, 9, 10, 11, 12, 13, 14, 15, 16, 17, 18, 19, 20, 21, 22, 23, 24, 25, 26, 27, 28, 29, 30, 31, 32, 33, 34, 35, 36, 37]\n",
      "Women WB17 counts:\n",
      " WB17\n",
      "1      687\n",
      "2      935\n",
      "3      806\n",
      "4      565\n",
      "5      963\n",
      "6      434\n",
      "7      780\n",
      "8      518\n",
      "9      453\n",
      "10     535\n",
      "11     523\n",
      "12     552\n",
      "13     277\n",
      "14     766\n",
      "15     798\n",
      "16     480\n",
      "17     772\n",
      "18     585\n",
      "19     728\n",
      "20     580\n",
      "21     452\n",
      "22     857\n",
      "23     580\n",
      "24    1327\n",
      "25     474\n",
      "26     696\n",
      "27     560\n",
      "28     372\n",
      "29     689\n",
      "30     379\n",
      "31     653\n",
      "32     461\n",
      "33     493\n",
      "34     396\n",
      "35     715\n",
      "36     369\n",
      "37     392\n",
      "Name: count, dtype: Int64\n",
      "Women HH7 counts:\n",
      " HH7\n",
      "1      917\n",
      "2     1573\n",
      "3     1046\n",
      "4      832\n",
      "5     1473\n",
      "6      846\n",
      "7     1076\n",
      "8     1358\n",
      "9      767\n",
      "10     800\n",
      "11    1074\n",
      "12     905\n",
      "13     606\n",
      "14     991\n",
      "15    1294\n",
      "16     764\n",
      "17    1308\n",
      "18    1162\n",
      "19    1483\n",
      "20    1311\n",
      "21    1378\n",
      "22    1014\n",
      "23    1049\n",
      "24     893\n",
      "25    1473\n",
      "26    1420\n",
      "27     861\n",
      "28     892\n",
      "29     694\n",
      "30     737\n",
      "31    1246\n",
      "32     636\n",
      "33    1134\n",
      "34    1245\n",
      "35    1315\n",
      "36    1155\n",
      "37    1256\n",
      "Name: count, dtype: Int64\n"
     ]
    }
   ],
   "source": [
    "# Unique values + frequency counts\n",
    "print(\"\\nMen Unique MWB17:\", sorted(men_filtered[\"MWB17\"].dropna().unique().tolist()))\n",
    "print(\"Men Unique HH7:\", sorted(men_filtered[\"HH7\"].dropna().unique().tolist()))\n",
    "print(\"Men MWB17 counts:\\n\", men_filtered[\"MWB17\"].value_counts().sort_index())\n",
    "print(\"Men HH7 counts:\\n\", men_filtered[\"HH7\"].value_counts().sort_index())\n",
    "\n",
    "print(\"\\nWomen Unique WB17:\", sorted(women_filtered[\"WB17\"].dropna().unique().tolist()))\n",
    "print(\"Women Unique HH7:\", sorted(women_filtered[\"HH7\"].dropna().unique().tolist()))\n",
    "print(\"Women WB17 counts:\\n\", women_filtered[\"WB17\"].value_counts().sort_index())\n",
    "print(\"Women HH7 counts:\\n\", women_filtered[\"HH7\"].value_counts().sort_index())"
   ]
  },
  {
   "cell_type": "markdown",
   "id": "a6c5cd14",
   "metadata": {},
   "source": [
    "##### 6. Migration Matrices"
   ]
  },
  {
   "cell_type": "code",
   "execution_count": 137,
   "id": "6be7ef56",
   "metadata": {},
   "outputs": [
    {
     "name": "stdout",
     "output_type": "stream",
     "text": [
      "\n",
      "Men Migration Matrix:\n",
      " HH7    1    2    3    4   5    6   7    8   9    10  ...  28   29   30  31  \\\n",
      "MWB17                                                ...                     \n",
      "1      76    1    2    5   0    4   0    0   2    0  ...   0    0    0   0   \n",
      "2       0  438    0    0   0    0   1    3   0    4  ...   0    0    1   0   \n",
      "3       4    1  136    1   0    3   0    0  13    1  ...   0    0    1   0   \n",
      "4       4    0    4  105   0    5   0    0   0    5  ...   0    0    0   0   \n",
      "5       0    1    0    0  27    0   0    1   0    0  ...   0    0    0   6   \n",
      "6       1    0    1    0   0  211   0    0   0    4  ...   0    0    0   0   \n",
      "7       0    0    0    0   0    3  97    1   0    0  ...   3    1    6   1   \n",
      "8       0    6    0    0   1    0   0  362   0    0  ...   0    1    0   1   \n",
      "9       0    0   14    0   0    2   0    0  50    1  ...   7    2    0   0   \n",
      "10      0    0    3    2   0   16   0    0   0  133  ...   1    0    0   1   \n",
      "11      2    0    1    5   0    0   1    0   2    3  ...   0    0    0   0   \n",
      "12      2    0    1    0   0    1   0    0   0    5  ...   3    1    2   0   \n",
      "13      0    0    0    0   0    0   0    0   0    0  ...   0    1    0   0   \n",
      "14      1    0    2   10   0    2   2    0   0    1  ...   1    0    1   0   \n",
      "15      0    0    0    0   1    0   0    1   0    0  ...   0    1    0   1   \n",
      "16     11    0    2   11   0    2   0    0   0    2  ...   0    0    0   1   \n",
      "17      0    0    0    0   0    0   0    4   1    0  ...   0    0    0   1   \n",
      "18      0    0    0    1   0    1   1    3   0    0  ...   1    0    0   0   \n",
      "19      0    0    1    1   2    0   0    2   0    0  ...   2    2    1   3   \n",
      "20      0    0    0    0   0    0   0    1   0    0  ...   1    0    0   2   \n",
      "21      0    0    0    0   0    0   0    0   0    4  ...   0    1    0   0   \n",
      "22      0    0    0    3   1    0   1    0   0    0  ...  12    3    1   0   \n",
      "23      0    0    0    0   0    0   0    0   0    0  ...   1    1   13   1   \n",
      "24      7    0   13    6   0    5   0    3   4   11  ...   7   10   16   2   \n",
      "25      0    0    0    0   1    0   0    0   0    0  ...   0    0    0   1   \n",
      "26      0    0    0    0   0    3   0    0   0    1  ...   0    0    1   0   \n",
      "27      0    0    1    0   0    0   0    0   0    0  ...   3    2    2   0   \n",
      "28      0    0    3    0   0    0   1    0   0    3  ...  81    0    0   0   \n",
      "29      0    0    0    0   0    1   1    0   0    2  ...   5  232    6   0   \n",
      "30      2    0    0    0   0    1   0    0   0    0  ...   5    5  157   0   \n",
      "31      0    0    0    1   1    0   0    1   0    0  ...   0    0    0  93   \n",
      "32      1    0   18    0   0   14   0    0   2    2  ...   0    2    0   3   \n",
      "33      0    0    0    2   0    0   0    0   0    0  ...   0    1    0   1   \n",
      "34      0    0    0    1   0    0   1    0   0    1  ...   4    0    0   2   \n",
      "35      0    1    0    0   2    0   0    3   0    1  ...   0    0    0   0   \n",
      "36      0    0    0    0   0    0   0    0   0    0  ...   0    0    1   0   \n",
      "37      0    0    0    0   0    1   2    1   1    3  ...   2    1    0   1   \n",
      "\n",
      "HH7    32   33   34   35   36   37  \n",
      "MWB17                               \n",
      "1       1    0    0    0    0    0  \n",
      "2       0    0    1    3    0    3  \n",
      "3      11    0    0    0    0    1  \n",
      "4       3    3    0    0    0    2  \n",
      "5       0    0    2    2    0    6  \n",
      "6       4    0    0    0    0    3  \n",
      "7       0    0    1    0    0   20  \n",
      "8       0    0    1   10    0   10  \n",
      "9       2    0    0    1    0   10  \n",
      "10      2    0    0    0    0    4  \n",
      "11      1    0    0    0    0    0  \n",
      "12      1    0    0    0    0    6  \n",
      "13      0    0    0    0    0    0  \n",
      "14      0    0    0    0    0    1  \n",
      "15      0    0    0    2    0    4  \n",
      "16      1    0    0    0    0    2  \n",
      "17      0    0    1    1    0    1  \n",
      "18      0    0    0    0    0   20  \n",
      "19      0    0    0    0    0    5  \n",
      "20      0    0    0    0    0    5  \n",
      "21      0    0    0    0    0    0  \n",
      "22      1    0    0    0    0   11  \n",
      "23      0    0    0    0    0    0  \n",
      "24      2    0    0    0    0    9  \n",
      "25      0    1    0    0    0   11  \n",
      "26      0    0    0    0    0   12  \n",
      "27      1    0    0    0    0    0  \n",
      "28      1    0    0    0    0    0  \n",
      "29      2    0    0    0    0    1  \n",
      "30      0    0    0    0    0    9  \n",
      "31      0    0    3    1    0    6  \n",
      "32     67    0    0    0    0    0  \n",
      "33      0  257    0    0    0    9  \n",
      "34      0    1  295    2    0    3  \n",
      "35      0    0    1  408    0    0  \n",
      "36      0    0    0    5  224    4  \n",
      "37      0    0    0    0    0  272  \n",
      "\n",
      "[37 rows x 37 columns]\n",
      "\n",
      "Women Migration Matrix:\n",
      " HH7    1    2    3    4    5    6    7    8    9    10  ...   28   29   30  \\\n",
      "WB17                                                    ...                  \n",
      "1     588    0    2   11    0    5    0    1    7    1  ...    1    0    0   \n",
      "2       6  838    3    2    3    0    1   14    0    1  ...    0    0    0   \n",
      "3       3    2  702    4    0    6    1    0   40    5  ...    3    0    0   \n",
      "4      11    2    2  402    4    0    2    0    4   16  ...    1    1    3   \n",
      "5       0    6    0    2  869    0    0    5    0    0  ...    0    0    0   \n",
      "6       0    1    2    0    0  407    0    0    0    6  ...    1    0    0   \n",
      "7       1    0    0    3    0    3  627    0    5    5  ...    7    2   11   \n",
      "8       1   26    0    0    3    0    2  408    0    0  ...    0    0    1   \n",
      "9       1    1   19    6    0    4    2    3  350    1  ...   12    1    1   \n",
      "10      3    0    4   11    0   39    1    1    2  399  ...    2    1    0   \n",
      "11      7    0    0   29    0    0    3    0    8    3  ...    3    0    0   \n",
      "12      0    0    2    3    0    2    0    0    5   21  ...    6    1    2   \n",
      "13      0    0    0    0    0    0    0    0    0    0  ...   18    1    4   \n",
      "14      9    2    3   38    0    1    4    0    3    6  ...    2    1    0   \n",
      "15      0   11    0    0   16    0    2    5    0    0  ...    0    0    0   \n",
      "16     24    0    4   30    0    1    0    2    1    2  ...    1    0    1   \n",
      "17      0    0    0    0   15    0    0    4    0    0  ...    0    0    1   \n",
      "18      0    0    0    2    2    1    3    5    2    0  ...    1    1    4   \n",
      "19      3    1    3    2   12    0    0    9    0    0  ...    2    0    0   \n",
      "20      1    0    1    0    5    0    0    0    0    0  ...    2    1    1   \n",
      "21      0    0    0    0    1    0    0    2    0    0  ...    3    0    1   \n",
      "22      0    1    0    3    0    1    2    1    0    1  ...   23    4    1   \n",
      "23      0    0    0    1    0    0    0    0    0    6  ...    7    5   19   \n",
      "24     22    1   21   26    2   11    4    2   10   34  ...   23   16   31   \n",
      "25      1    0    0    3    0    2    8    0    2    0  ...    0    0    1   \n",
      "26      0    0    0    1    0    0    1    0    1    1  ...    0    2    1   \n",
      "27      1    0    1    0    0    0    2    0    0    1  ...   10   11   10   \n",
      "28      0    1    1    0    0    0    2    0    1    8  ...  269   14    6   \n",
      "29      0    0    1    1    0    0    0    0    1    2  ...   36  550   20   \n",
      "30      0    0    0    1    1    1    1    0    0    1  ...   15   17  277   \n",
      "31      3    1    0    5   27    0    5    5    0    4  ...    0    0    1   \n",
      "32     16    0   29    5    1   28    0    0    4    7  ...    0    2    0   \n",
      "33      0    1    0    1    0    0    0    1    0    0  ...    1    1    0   \n",
      "34      0    4    0    2    2    0    6    0    1    0  ...    2    0    3   \n",
      "35      0    1    0    0    1    0    0   14    0    0  ...    0    0    0   \n",
      "36      1    0    0    0    0    0    0    0    1    0  ...    0    0    0   \n",
      "37      5    0    3    2    0    0    2    1    6    4  ...    0    0    1   \n",
      "\n",
      "HH7    31   32   33   34   35   36   37  \n",
      "WB17                                     \n",
      "1       0    8    1    1    0    0   10  \n",
      "2       0    0    0    6   17    0    2  \n",
      "3       0   19    0    0    0    0    5  \n",
      "4       1    2    2    0    0    1   14  \n",
      "5      11    0    1    1    4    1    9  \n",
      "6       0    7    0    0    0    0    4  \n",
      "7       1    0    0    9    1    1   43  \n",
      "8       1    0    1    1   24    0   15  \n",
      "9       0    1    4    0    0    0   15  \n",
      "10      0    4    0    0    0    0   12  \n",
      "11      3    2    0    0    0    0    8  \n",
      "12      1    0    0    0    0    0   16  \n",
      "13      0    0    0    0    0    0    3  \n",
      "14      0    0    0    0    0    0   15  \n",
      "15      0    0    0    0   14    1    5  \n",
      "16      0   10    0    0    0    0    6  \n",
      "17      1    0    2    0   14    0    6  \n",
      "18     10    2    3    1    0    2   48  \n",
      "19      9    0    2    4   14    0   23  \n",
      "20      5    0    3    4    6    2   11  \n",
      "21      1    0   12    0    2    0    8  \n",
      "22      0    0    0    0    0    1   42  \n",
      "23      0    0    0    0    0    0   10  \n",
      "24      4    6    0    0    0    1   13  \n",
      "25      7    0    0    0    2    0   59  \n",
      "26      0    0    2    0    0    1   31  \n",
      "27      0    0    0    0    0    0    2  \n",
      "28      1    0    0    0    0    1    7  \n",
      "29      0    3    2    0    0    0    5  \n",
      "30      0    1    0    0    0    0    7  \n",
      "31    534    0    0    2    2    1   17  \n",
      "32      8  322    2    0    0    0    5  \n",
      "33      1    0  442    4    6    2    5  \n",
      "34      5    0    0  344    5    0    5  \n",
      "35      1    0    0    1  680    0    5  \n",
      "36      1    0    7    1    6  340    5  \n",
      "37      4    3    0    2    0    1  304  \n",
      "\n",
      "[37 rows x 37 columns]\n"
     ]
    }
   ],
   "source": [
    "# Cross-tabulation: Previous state vs Current state\n",
    "men_matrix   = pd.crosstab(men_filtered[\"MWB17\"], men_filtered[\"HH7\"])\n",
    "women_matrix = pd.crosstab(women_filtered[\"WB17\"], women_filtered[\"HH7\"])\n",
    "\n",
    "print(\"\\nMen Migration Matrix:\\n\", men_matrix)\n",
    "print(\"\\nWomen Migration Matrix:\\n\", women_matrix)"
   ]
  },
  {
   "cell_type": "markdown",
   "id": "b79f1fd6",
   "metadata": {},
   "source": [
    "#### 7. Combine Men & Women"
   ]
  },
  {
   "cell_type": "code",
   "execution_count": 138,
   "id": "dcc6221f",
   "metadata": {},
   "outputs": [
    {
     "name": "stdout",
     "output_type": "stream",
     "text": [
      "\n",
      "Combined Dataset Shape: (30416, 2)\n",
      "Combined Unique PrevPlace: [1, 2, 3, 4, 5, 6, 7, 8, 9, 10, 11, 12, 13, 14, 15, 16, 17, 18, 19, 20, 21, 22, 23, 24, 25, 26, 27, 28, 29, 30, 31, 32, 33, 34, 35, 36, 37]\n",
      "Combined Unique CurrentPlace: [1, 2, 3, 4, 5, 6, 7, 8, 9, 10, 11, 12, 13, 14, 15, 16, 17, 18, 19, 20, 21, 22, 23, 24, 25, 26, 27, 28, 29, 30, 31, 32, 33, 34, 35, 36, 37]\n",
      "PrevPlace counts:\n",
      " PrevPlace\n",
      "1      787\n",
      "2     1395\n",
      "3      983\n",
      "4      721\n",
      "5     1030\n",
      "6      659\n",
      "7      935\n",
      "8      917\n",
      "9      545\n",
      "10     714\n",
      "11     569\n",
      "12     809\n",
      "13     406\n",
      "14     943\n",
      "15     913\n",
      "16     565\n",
      "17    1038\n",
      "18     687\n",
      "19    1039\n",
      "20     608\n",
      "21     486\n",
      "22    1317\n",
      "23     899\n",
      "24    1892\n",
      "25     535\n",
      "26    1040\n",
      "27     711\n",
      "28     482\n",
      "29     957\n",
      "30     573\n",
      "31     764\n",
      "32     576\n",
      "33     771\n",
      "34     716\n",
      "35    1135\n",
      "36     604\n",
      "37     695\n",
      "Name: count, dtype: Int64\n",
      "CurrentPlace counts:\n",
      " CurrentPlace\n",
      "1      818\n",
      "2     1348\n",
      "3     1005\n",
      "4      750\n",
      "5     1000\n",
      "6      787\n",
      "7      789\n",
      "8      869\n",
      "9      529\n",
      "10     722\n",
      "11     482\n",
      "12     896\n",
      "13     615\n",
      "14    1009\n",
      "15     916\n",
      "16     615\n",
      "17    1032\n",
      "18     529\n",
      "19     932\n",
      "20     574\n",
      "21     455\n",
      "22    1204\n",
      "23     960\n",
      "24    1207\n",
      "25     543\n",
      "26    1037\n",
      "27     977\n",
      "28     590\n",
      "29     899\n",
      "30     610\n",
      "31     731\n",
      "32     490\n",
      "33     748\n",
      "34     686\n",
      "35    1232\n",
      "36     580\n",
      "37    1250\n",
      "Name: count, dtype: Int64\n"
     ]
    }
   ],
   "source": [
    "# Rename columns so both datasets align\n",
    "men_filtered   = men_filtered.rename(columns={\"MWB17\": \"PrevPlace\", \"HH7\": \"CurrentPlace\"})\n",
    "women_filtered = women_filtered.rename(columns={\"WB17\": \"PrevPlace\", \"HH7\": \"CurrentPlace\"})\n",
    "\n",
    "# Concatenate into one combined dataset\n",
    "combined_df = pd.concat([men_filtered, women_filtered], ignore_index=True)\n",
    "combined_df = combined_df.dropna(subset=[\"PrevPlace\", \"CurrentPlace\"]).copy()\n",
    "\n",
    "# Show summary of combined dataset\n",
    "print(\"\\nCombined Dataset Shape:\", combined_df.shape)\n",
    "print(\"Combined Unique PrevPlace:\", sorted(combined_df[\"PrevPlace\"].dropna().unique().tolist()))\n",
    "print(\"Combined Unique CurrentPlace:\", sorted(combined_df[\"CurrentPlace\"].dropna().unique().tolist()))\n",
    "print(\"PrevPlace counts:\\n\", combined_df[\"PrevPlace\"].value_counts().sort_index())\n",
    "print(\"CurrentPlace counts:\\n\", combined_df[\"CurrentPlace\"].value_counts().sort_index())\n"
   ]
  },
  {
   "cell_type": "markdown",
   "id": "cd34ae45",
   "metadata": {},
   "source": [
    "#### 8. Build Combined Matrix with Numeric Codes"
   ]
  },
  {
   "cell_type": "code",
   "execution_count": 139,
   "id": "507fad09",
   "metadata": {},
   "outputs": [
    {
     "name": "stdout",
     "output_type": "stream",
     "text": [
      "Matrix shape: (37, 37)\n",
      "\n",
      "Combined Migration Matrix:\n",
      " CurrentPlace   1     2    3    4    5    6    7    8    9    10  ...   28  \\\n",
      "PrevPlace                                                        ...        \n",
      "1             664     1    4   16    0    9    0    1    9    1  ...    1   \n",
      "2               6  1276    3    2    3    0    2   17    0    5  ...    0   \n",
      "3               7     3  838    5    0    9    1    0   53    6  ...    3   \n",
      "4              15     2    6  507    4    5    2    0    4   21  ...    1   \n",
      "5               0     7    0    2  896    0    0    6    0    0  ...    0   \n",
      "6               1     1    3    0    0  618    0    0    0   10  ...    1   \n",
      "7               1     0    0    3    0    6  724    1    5    5  ...   10   \n",
      "8               1    32    0    0    4    0    2  770    0    0  ...    0   \n",
      "9               1     1   33    6    0    6    2    3  400    2  ...   19   \n",
      "10              3     0    7   13    0   55    1    1    2  532  ...    3   \n",
      "11              9     0    1   34    0    0    4    0   10    6  ...    3   \n",
      "12              2     0    3    3    0    3    0    0    5   26  ...    9   \n",
      "13              0     0    0    0    0    0    0    0    0    0  ...   18   \n",
      "14             10     2    5   48    0    3    6    0    3    7  ...    3   \n",
      "15              0    11    0    0   17    0    2    6    0    0  ...    0   \n",
      "16             35     0    6   41    0    3    0    2    1    4  ...    1   \n",
      "17              0     0    0    0   15    0    0    8    1    0  ...    0   \n",
      "18              0     0    0    3    2    2    4    8    2    0  ...    2   \n",
      "19              3     1    4    3   14    0    0   11    0    0  ...    4   \n",
      "20              1     0    1    0    5    0    0    1    0    0  ...    3   \n",
      "21              0     0    0    0    1    0    0    2    0    4  ...    3   \n",
      "22              0     1    0    6    1    1    3    1    0    1  ...   35   \n",
      "23              0     0    0    1    0    0    0    0    0    6  ...    8   \n",
      "24             29     1   34   32    2   16    4    5   14   45  ...   30   \n",
      "25              1     0    0    3    1    2    8    0    2    0  ...    0   \n",
      "26              0     0    0    1    0    3    1    0    1    2  ...    0   \n",
      "27              1     0    2    0    0    0    2    0    0    1  ...   13   \n",
      "28              0     1    4    0    0    0    3    0    1   11  ...  350   \n",
      "29              0     0    1    1    0    1    1    0    1    4  ...   41   \n",
      "30              2     0    0    1    1    2    1    0    0    1  ...   20   \n",
      "31              3     1    0    6   28    0    5    6    0    4  ...    0   \n",
      "32             17     0   47    5    1   42    0    0    6    9  ...    0   \n",
      "33              0     1    0    3    0    0    0    1    0    0  ...    1   \n",
      "34              0     4    0    3    2    0    7    0    1    1  ...    6   \n",
      "35              0     2    0    0    3    0    0   17    0    1  ...    0   \n",
      "36              1     0    0    0    0    0    0    0    1    0  ...    0   \n",
      "37              5     0    3    2    0    1    4    2    7    7  ...    2   \n",
      "\n",
      "CurrentPlace   29   30   31   32   33   34    35   36   37  \n",
      "PrevPlace                                                   \n",
      "1               0    0    0    9    1    1     0    0   10  \n",
      "2               0    1    0    0    0    7    20    0    5  \n",
      "3               0    1    0   30    0    0     0    0    6  \n",
      "4               1    3    1    5    5    0     0    1   16  \n",
      "5               0    0   17    0    1    3     6    1   15  \n",
      "6               0    0    0   11    0    0     0    0    7  \n",
      "7               3   17    2    0    0   10     1    1   63  \n",
      "8               1    1    2    0    1    2    34    0   25  \n",
      "9               3    1    0    3    4    0     1    0   25  \n",
      "10              1    0    1    6    0    0     0    0   16  \n",
      "11              0    0    3    3    0    0     0    0    8  \n",
      "12              2    4    1    1    0    0     0    0   22  \n",
      "13              2    4    0    0    0    0     0    0    3  \n",
      "14              1    1    0    0    0    0     0    0   16  \n",
      "15              1    0    1    0    0    0    16    1    9  \n",
      "16              0    1    1   11    0    0     0    0    8  \n",
      "17              0    1    2    0    2    1    15    0    7  \n",
      "18              1    4   10    2    3    1     0    2   68  \n",
      "19              2    1   12    0    2    4    14    0   28  \n",
      "20              1    1    7    0    3    4     6    2   16  \n",
      "21              1    1    1    0   12    0     2    0    8  \n",
      "22              7    2    0    1    0    0     0    1   53  \n",
      "23              6   32    1    0    0    0     0    0   10  \n",
      "24             26   47    6    8    0    0     0    1   22  \n",
      "25              0    1    8    0    1    0     2    0   70  \n",
      "26              2    2    0    0    2    0     0    1   43  \n",
      "27             13   12    0    1    0    0     0    0    2  \n",
      "28             14    6    1    1    0    0     0    1    7  \n",
      "29            782   26    0    5    2    0     0    0    6  \n",
      "30             22  434    0    1    0    0     0    0   16  \n",
      "31              0    1  627    0    0    5     3    1   23  \n",
      "32              4    0   11  389    2    0     0    0    5  \n",
      "33              2    0    2    0  699    4     6    2   14  \n",
      "34              0    3    7    0    1  639     7    0    8  \n",
      "35              0    0    1    0    0    2  1088    0    5  \n",
      "36              0    1    1    0    7    1    11  564    9  \n",
      "37              1    1    5    3    0    2     0    1  576  \n",
      "\n",
      "[37 rows x 37 columns]\n"
     ]
    }
   ],
   "source": [
    "combined_matrix = pd.crosstab(combined_df[\"PrevPlace\"], combined_df[\"CurrentPlace\"])\n",
    "print(\"Matrix shape:\", combined_matrix.shape)\n",
    "print(\"\\nCombined Migration Matrix:\\n\", combined_matrix)"
   ]
  },
  {
   "cell_type": "markdown",
   "id": "25a7333d",
   "metadata": {},
   "source": [
    "#### 9. State Mapping (1–37 codes)"
   ]
  },
  {
   "cell_type": "code",
   "execution_count": 140,
   "id": "5bf21df7",
   "metadata": {},
   "outputs": [],
   "source": [
    "# Mapping of SPSS codes (1–37) to Nigerian States + FCT\n",
    "state_mapping = {\n",
    "    1: \"Abia\", 2: \"Adamawa\", 3: \"Akwa Ibom\", 4: \"Anambra\", 5: \"Bauchi\", 6: \"Bayelsa\",\n",
    "    7: \"Benue\", 8: \"Borno\", 9: \"Cross River\", 10: \"Delta\", 11: \"Ebonyi\", 12: \"Edo\",\n",
    "    13: \"Ekiti\", 14: \"Enugu\", 15: \"Gombe\", 16: \"Imo\", 17: \"Jigawa\", 18: \"Kaduna\",\n",
    "    19: \"Kano\", 20: \"Katsina\", 21: \"Kebbi\", 22: \"Kogi\", 23: \"Kwara\", 24: \"Lagos\",\n",
    "    25: \"Nasarawa\", 26: \"Niger\", 27: \"Ogun\", 28: \"Ondo\", 29: \"Osun\", 30: \"Oyo\",\n",
    "    31: \"Plateau\", 32: \"Rivers\", 33: \"Sokoto\", 34: \"Taraba\", 35: \"Yobe\", 36: \"Zamfara\",\n",
    "    37: \"FCT\"\n",
    "}"
   ]
  },
  {
   "cell_type": "markdown",
   "id": "fcda9b2a",
   "metadata": {},
   "source": [
    "#### 10. Add State Names & Filter NaN"
   ]
  },
  {
   "cell_type": "code",
   "execution_count": 141,
   "id": "3dd7bd8b",
   "metadata": {},
   "outputs": [
    {
     "name": "stdout",
     "output_type": "stream",
     "text": [
      "   PrevPlace  CurrentPlace PrevPlaceName CurrentPlaceName\n",
      "1          1             1          Abia             Abia\n",
      "2          1             1          Abia             Abia\n",
      "3          1             1          Abia             Abia\n",
      "4          1             1          Abia             Abia\n",
      "5          1             1          Abia             Abia\n"
     ]
    }
   ],
   "source": [
    "combined_df[\"PrevPlaceName\"] = combined_df[\"PrevPlace\"].map(state_mapping)\n",
    "combined_df[\"CurrentPlaceName\"] = combined_df[\"CurrentPlace\"].map(state_mapping)\n",
    "\n",
    "# Drop rows with NaN in either PrevPlace or CurrentPlace\n",
    "combined_filtered_df = combined_df.dropna(subset=[\"PrevPlaceName\", \"CurrentPlaceName\"]).copy()\n",
    "print(combined_filtered_df.head())\n"
   ]
  },
  {
   "cell_type": "markdown",
   "id": "e3fe6c0b",
   "metadata": {},
   "source": [
    "#### 11. Combined Matrix with State Names"
   ]
  },
  {
   "cell_type": "code",
   "execution_count": 142,
   "id": "3dba6f53",
   "metadata": {},
   "outputs": [
    {
     "name": "stdout",
     "output_type": "stream",
     "text": [
      "Matrix shape (names): (37, 37)\n",
      "\n",
      "Combined Migration Matrix (names):\n",
      " CurrentPlaceName  Abia  Adamawa  Akwa Ibom  Anambra  Bauchi  Bayelsa  Benue  \\\n",
      "PrevPlaceName                                                                 \n",
      "Abia               664        1          4       16       0        9      0   \n",
      "Adamawa              6     1276          3        2       3        0      2   \n",
      "Akwa Ibom            7        3        838        5       0        9      1   \n",
      "Anambra             15        2          6      507       4        5      2   \n",
      "Bauchi               0        7          0        2     896        0      0   \n",
      "Bayelsa              1        1          3        0       0      618      0   \n",
      "Benue                1        0          0        3       0        6    724   \n",
      "Borno                1       32          0        0       4        0      2   \n",
      "Cross River          1        1         33        6       0        6      2   \n",
      "Delta                3        0          7       13       0       55      1   \n",
      "Ebonyi               9        0          1       34       0        0      4   \n",
      "Edo                  2        0          3        3       0        3      0   \n",
      "Ekiti                0        0          0        0       0        0      0   \n",
      "Enugu               10        2          5       48       0        3      6   \n",
      "FCT                  5        0          3        2       0        1      4   \n",
      "Gombe                0       11          0        0      17        0      2   \n",
      "Imo                 35        0          6       41       0        3      0   \n",
      "Jigawa               0        0          0        0      15        0      0   \n",
      "Kaduna               0        0          0        3       2        2      4   \n",
      "Kano                 3        1          4        3      14        0      0   \n",
      "Katsina              1        0          1        0       5        0      0   \n",
      "Kebbi                0        0          0        0       1        0      0   \n",
      "Kogi                 0        1          0        6       1        1      3   \n",
      "Kwara                0        0          0        1       0        0      0   \n",
      "Lagos               29        1         34       32       2       16      4   \n",
      "Nasarawa             1        0          0        3       1        2      8   \n",
      "Niger                0        0          0        1       0        3      1   \n",
      "Ogun                 1        0          2        0       0        0      2   \n",
      "Ondo                 0        1          4        0       0        0      3   \n",
      "Osun                 0        0          1        1       0        1      1   \n",
      "Oyo                  2        0          0        1       1        2      1   \n",
      "Plateau              3        1          0        6      28        0      5   \n",
      "Rivers              17        0         47        5       1       42      0   \n",
      "Sokoto               0        1          0        3       0        0      0   \n",
      "Taraba               0        4          0        3       2        0      7   \n",
      "Yobe                 0        2          0        0       3        0      0   \n",
      "Zamfara              1        0          0        0       0        0      0   \n",
      "\n",
      "CurrentPlaceName  Borno  Cross River  Delta  ...  Ogun  Ondo  Osun  Oyo  \\\n",
      "PrevPlaceName                                ...                          \n",
      "Abia                  1            9      1  ...     0     1     0    0   \n",
      "Adamawa              17            0      5  ...     1     0     0    1   \n",
      "Akwa Ibom             0           53      6  ...     2     3     0    1   \n",
      "Anambra               0            4     21  ...     1     1     1    3   \n",
      "Bauchi                6            0      0  ...     0     0     0    0   \n",
      "Bayelsa               0            0     10  ...     2     1     0    0   \n",
      "Benue                 1            5      5  ...    16    10     3   17   \n",
      "Borno               770            0      0  ...     0     0     1    1   \n",
      "Cross River           3          400      2  ...     2    19     3    1   \n",
      "Delta                 1            2    532  ...     6     3     1    0   \n",
      "Ebonyi                0           10      6  ...    10     3     0    0   \n",
      "Edo                   0            5     26  ...     0     9     2    4   \n",
      "Ekiti                 0            0      0  ...     2    18     2    4   \n",
      "Enugu                 0            3      7  ...     1     3     1    1   \n",
      "FCT                   2            7      7  ...     2     2     1    1   \n",
      "Gombe                 6            0      0  ...     0     0     1    0   \n",
      "Imo                   2            1      4  ...     1     1     0    1   \n",
      "Jigawa                8            1      0  ...     0     0     0    1   \n",
      "Kaduna                8            2      0  ...     2     2     1    4   \n",
      "Kano                 11            0      0  ...     1     4     2    1   \n",
      "Katsina               1            0      0  ...     1     3     1    1   \n",
      "Kebbi                 2            0      4  ...     1     3     1    1   \n",
      "Kogi                  1            0      1  ...     0    35     7    2   \n",
      "Kwara                 0            0      6  ...     3     8     6   32   \n",
      "Lagos                 5           14     45  ...   251    30    26   47   \n",
      "Nasarawa              0            2      0  ...     3     0     0    1   \n",
      "Niger                 0            1      2  ...     5     0     2    2   \n",
      "Ogun                  0            0      1  ...   620    13    13   12   \n",
      "Ondo                  0            1     11  ...     7   350    14    6   \n",
      "Osun                  0            1      4  ...    15    41   782   26   \n",
      "Oyo                   0            0      1  ...    14    20    22  434   \n",
      "Plateau               6            0      4  ...     0     0     0    1   \n",
      "Rivers                0            6      9  ...     1     0     4    0   \n",
      "Sokoto                1            0      0  ...     7     1     2    0   \n",
      "Taraba                0            1      1  ...     0     6     0    3   \n",
      "Yobe                 17            0      1  ...     0     0     0    0   \n",
      "Zamfara               0            1      0  ...     0     0     0    1   \n",
      "\n",
      "CurrentPlaceName  Plateau  Rivers  Sokoto  Taraba  Yobe  Zamfara  \n",
      "PrevPlaceName                                                     \n",
      "Abia                    0       9       1       1     0        0  \n",
      "Adamawa                 0       0       0       7    20        0  \n",
      "Akwa Ibom               0      30       0       0     0        0  \n",
      "Anambra                 1       5       5       0     0        1  \n",
      "Bauchi                 17       0       1       3     6        1  \n",
      "Bayelsa                 0      11       0       0     0        0  \n",
      "Benue                   2       0       0      10     1        1  \n",
      "Borno                   2       0       1       2    34        0  \n",
      "Cross River             0       3       4       0     1        0  \n",
      "Delta                   1       6       0       0     0        0  \n",
      "Ebonyi                  3       3       0       0     0        0  \n",
      "Edo                     1       1       0       0     0        0  \n",
      "Ekiti                   0       0       0       0     0        0  \n",
      "Enugu                   0       0       0       0     0        0  \n",
      "FCT                     5       3       0       2     0        1  \n",
      "Gombe                   1       0       0       0    16        1  \n",
      "Imo                     1      11       0       0     0        0  \n",
      "Jigawa                  2       0       2       1    15        0  \n",
      "Kaduna                 10       2       3       1     0        2  \n",
      "Kano                   12       0       2       4    14        0  \n",
      "Katsina                 7       0       3       4     6        2  \n",
      "Kebbi                   1       0      12       0     2        0  \n",
      "Kogi                    0       1       0       0     0        1  \n",
      "Kwara                   1       0       0       0     0        0  \n",
      "Lagos                   6       8       0       0     0        1  \n",
      "Nasarawa                8       0       1       0     2        0  \n",
      "Niger                   0       0       2       0     0        1  \n",
      "Ogun                    0       1       0       0     0        0  \n",
      "Ondo                    1       1       0       0     0        1  \n",
      "Osun                    0       5       2       0     0        0  \n",
      "Oyo                     0       1       0       0     0        0  \n",
      "Plateau               627       0       0       5     3        1  \n",
      "Rivers                 11     389       2       0     0        0  \n",
      "Sokoto                  2       0     699       4     6        2  \n",
      "Taraba                  7       0       1     639     7        0  \n",
      "Yobe                    1       0       0       2  1088        0  \n",
      "Zamfara                 1       0       7       1    11      564  \n",
      "\n",
      "[37 rows x 37 columns]\n"
     ]
    }
   ],
   "source": [
    "combined_migration_matrix = pd.crosstab(\n",
    "    combined_filtered_df[\"PrevPlaceName\"], \n",
    "    combined_filtered_df[\"CurrentPlaceName\"]\n",
    ")\n",
    "print(\"Matrix shape (names):\", combined_migration_matrix.shape)\n",
    "print(\"\\nCombined Migration Matrix (names):\\n\", combined_migration_matrix)\n"
   ]
  },
  {
   "cell_type": "markdown",
   "id": "ffd80d44",
   "metadata": {},
   "source": [
    "#### 12. Heatmap with Seaborn"
   ]
  },
  {
   "cell_type": "code",
   "execution_count": 150,
   "id": "1cbcaf1e",
   "metadata": {},
   "outputs": [
    {
     "data": {
      "image/png": "[encoded data removed]",
      "text/plain": [
       "<Figure size 1400x1200 with 2 Axes>"
      ]
     },
     "metadata": {},
     "output_type": "display_data"
    }
   ],
   "source": [
    "import seaborn as sns\n",
    "import matplotlib.pyplot as plt\n",
    "\n",
    "plt.figure(figsize=(14, 12))\n",
    "sns.heatmap(combined_migration_matrix, \n",
    "            cmap=\"Blues\", \n",
    "            linewidths=0.5, \n",
    "            linecolor=\"gray\")\n",
    "\n",
    "plt.title(\"Migration Matrix (Previous → Current Place)\", fontsize=14)\n",
    "plt.xlabel(\"Current Place\")\n",
    "plt.ylabel(\"Previous Place\")\n",
    "plt.show()\n"
   ]
  },
  {
   "cell_type": "markdown",
   "id": "ebe3fb5a",
   "metadata": {},
   "source": [
    "#### 13. Heatmap with Matplotlib (Checkerboard)"
   ]
  },
  {
   "cell_type": "code",
   "execution_count": 151,
   "id": "da849326",
   "metadata": {},
   "outputs": [
    {
     "data": {
      "image/png": "[encoded data removed]",
      "text/plain": [
       "<Figure size 1200x1000 with 2 Axes>"
      ]
     },
     "metadata": {},
     "output_type": "display_data"
    }
   ],
   "source": [
    "import matplotlib.pyplot as plt\n",
    "\n",
    "plt.figure(figsize=(12, 10))\n",
    "plt.imshow(combined_migration_matrix, cmap=\"Blues\", aspect=\"auto\")\n",
    "plt.colorbar(label=\"Number of migrations\")\n",
    "\n",
    "plt.xticks(\n",
    "    range(len(combined_migration_matrix.columns)), \n",
    "    combined_migration_matrix.columns, rotation=90, fontsize=8\n",
    ")\n",
    "plt.yticks(\n",
    "    range(len(combined_migration_matrix.index)), \n",
    "    combined_migration_matrix.index, fontsize=8\n",
    ")\n",
    "\n",
    "plt.xlabel(\"Current Place\")\n",
    "plt.ylabel(\"Previous Place\")\n",
    "plt.title(\"Migration Matrix between Nigerian States\", fontsize=14)\n",
    "plt.show()\n"
   ]
  },
  {
   "cell_type": "markdown",
   "id": "37a7c49f",
   "metadata": {},
   "source": [
    "#### 14. Sankey Diagram with Plotly"
   ]
  },
  {
   "cell_type": "code",
   "execution_count": 152,
   "id": "297ad0ba",
   "metadata": {},
   "outputs": [
    {
     "data": {
      "application/vnd.plotly.v1+json": {
       "config": {
        "plotlyServerURL": "https://plot.ly"
       },
       "data": [
        {
         "link": {
          "source": {
           "bdata": "AAAAAAAAAAAAAAAAAAAAAAAAAAAAAQEBAQEBAQEBAQEBAQEBAQEBAQEBAQEBAgICAgICAgICAgICAgICAgICAgIDAwMDAwMDAwMDAwMDAwMDAwMDAwMDAwMDAwMDBAQEBAQEBAQEBAQEBAQEBAQEBQUFBQUFBQUFBQUFBQYGBgYGBgYGBgYGBgYGBgYGBgYGBgYGBgYGBwcHBwcHBwcHBwcHBwcHBwcHBwcHBwcHCAgICAgICAgICAgICAgICAgICAgICAgICAgICQkJCQkJCQkJCQkJCQkJCQkJCQkJCQkJCQkJCQoKCgoKCgoKCgoKCgoKCgoKCgoKCwsLCwsLCwsLCwsLCwsLCwsLCwsLDAwMDAwMDAwMDAwMDAwMDQ0NDQ0NDQ0NDQ0NDQ0NDQ0NDQ0NDQ0kJCQkJCQkJCQkJCQkJCQkJCQkJCQkJCQkJCQkJCQkDg4ODg4ODg4ODg4ODg4ODg4PDw8PDw8PDw8PDw8PDw8PDw8PDw8PEBAQEBAQEBAQEBAQEBAQEBAQERERERERERERERERERERERERERERERERERERERERERESEhISEhISEhISEhISEhISEhISEhISEhISEhISExMTExMTExMTExMTExMTExMTExMTExMTExQUFBQUFBQUFBQUFBQUFBQUFBQUFRUVFRUVFRUVFRUVFRUVFRUVFRUVFRUVFhYWFhYWFhYWFhYWFhYWFhcXFxcXFxcXFxcXFxcXFxcXFxcXFxcXFxcXFxcXFxcYGBgYGBgYGBgYGBgYGBgYGBgYGBgYGBkZGRkZGRkZGRkZGRkZGRkZGRkZGRkZGRoaGhoaGhoaGhoaGhoaGhoaGhsbGxsbGxsbGxsbGxsbGxsbGxsbHBwcHBwcHBwcHBwcHBwcHBwcHBwcHR0dHR0dHR0dHR0dHR0dHR0dHR0dHR0dHh4eHh4eHh4eHh4eHh4eHh4eHh4eHh4eHh8fHx8fHx8fHx8fHx8fHx8fHx8fHyAgICAgICAgICAgICAgICAgICAgICEhISEhISEhISEhISEhISEhISEiIiIiIiIiIiIiIiIjIyMjIyMjIyMjIyMjIyM=",
           "dtype": "i1"
          },
          "target": {
           "bdata": "AAECAwUHCAkKCw0kDxEVFxgbHyAhAAECAwQGBwkLDSQODxAREhMVFxgaHSEiAAECAwUGCAkLDSQPExYXGRobHR8AAQIDBAUGCAkKCw0kDxMVFhcYGRobHB0eHyAjAQMEBwskDg8QERITGB4gISIjAAECBQkKDSQPFhobHwADBQYHCAkLDA0kDxEVFhcYGRobHB0eISIjAAEEBgcLDA0kDhAREhMUFRYYHB0eICEiAAECAwUGBwgJCgsNJA8RExUXGBkaGxwdHyAiAAIDBQYHCAkKCwwNJA4PERITFBUWFxkaGxweHwACAwYICQoLDA0kDxQWFxgaGx4fAAIDBQgJCgsMDSQPExUXGBscHR4fCgsMDSQPFRYXGBkaGxwdAAECAwUGCAkKCwwNJA4PEBEVFxobHB0AAgMFBgcICQoLDA0kDg8REhMVFhcYGRobHB0eHyEjAQQGBw0kDhESExYXGBweIiMAAgMFBwgJCgsMDSQODxYXGRobHR4fBAcIJA4PEBESExYYGR0eICEiAwQFBgcICgsMDSQODxAREhMUFRYXGBkaGxwdHh8gISMAAQIDBAcLDSQOEBESExQVFhcYGRobHB0eICEiAAIEByQOEBESExQVFhcYGRobHB0eICEiIwQHCQsMDSQSExQVFhkaGxwdHiAiAQMEBQYHCQsMDSQPEhQVFhcYGRscHR8jAwkLDA0kERUWFxkaGxwdHgABAgMEBQYHCAkKCwwNJA8RExQVFhcYGRobHB0eHyMAAwQFBggLDA0kDg8REhQXGBkaHR4gIgMFBggJCwwNJA4PERIUFRYXGBkaHB0gIwACBgkMDSQOEBMWFxkaGxwdHwECBggJCwwNJBEVFhcaGxwdHh8jAgMFBggJCgwNJBQVFhcZGhscHR8gAAMEBQYJCgsMDSQPERMUFhcYGRobHB0fAAEDBAYHCQsMDSQODxAREhMVFhgdHiEiIwACAwQFCAkKCw0kDxEVFhcaHB4fIAEDBwsMJA4REhQVFxkaGxweICEiIwEDBAYICQsNJA4PEhgbHR4gISIBBAcJJA4QEhceISIACAwkEhMUFhkdHiAhIiM=",
           "dtype": "i1"
          },
          "value": {
           "bdata": "mAIBAAQAEAAJAAEACQABAAEAAgAKAAoAIQACAAIACAACAAEACQABAAEABgD8BAMAAgADAAIAEQAFAAMAAQAFAA4AAQACAAIAAgAQAAEAAQAEAAEAAQAHABQABwADAEYDBQAJAAEANQAGAAkAAQAGAAMAAQABAAMAAQACAAMAAQAeAA8AAgAGAPsBBAAFAAIABAAVABQABwAsABAAHQABAAQAAgALAAEAAgABAAEAAQADAAEABQAFAAEABwACAIADBgACAA8AFwABABUABgAHAAgACAARAAEAAwAGAAEAAQABAAMAagIKAAEAAgAHAAEAAQACAAEACwABAAMABgDUAgEABQAFAAQACQAEAD8AAgABAAgABwAFABoAAQAQAAoAAwARAAIACgABAAEAAQAgAAQAAgACAwMAAQADABkACwAEAAQACAABAAIAAQACAAIAAQABAAIAAQACACIAAQABACEABgAGAAIAAwCQAQIABQAEAAcAGQAJAAEAAQABAAEAAwABAAIAEwADAAEAAwAEAAEAAwAHAA0ANwABAAEAAgAUAgMAHwAGAAMAEAABAAoAAQABAAEAAQAEAAEAAgACAAYAAwABAAEABgAJAAEAIgAEAAoABgCuAQkAAQAWAAgABgABAAEABgACAAoAAwADAAMAAgADAAMAAwAFABoAAQC/AggAAgAWAAIABQACAAQAAQAJAAIABAABAAEAAgABAGUBAgADAAEABQAFAAIAAQABAAIAEgACAAQACgACAAUAMAADAAYAAwAHAAUAAgAIACQDEAABAAQAAQACAAYABAABAAMAAQABAAUAAwACAAEABAACAAcABwACABEAAgAJAEACAQAFAAUAAQACAAkAAwACAAgABQACAAIAAQABAAUAAwACAAEACwARAAIABgADAAkARAMBAAEAAgACAAIAAgABAAEAEAABACMABgApAAMAAgABAAQAAwAFAAMACQAIAAIApgEBAAMAAgABAAEAAQABAAsADwAIAAEABwABAAEAugMCABQAAwABAAMAAQABAAIAAgABAA8AAwACAAIABAAIAAIAAQAHAAEAAQBEAAMAAQAIAMIBGQAKAAEABQAIAAQAHgAQAAIAAgABAAQACgACAAMAAQACAAMAAQAEAAMADgALAAkAAwAcAAQAHAANAEADDQADAAQABAACAA4ABgABAAQAAgABAAwAAgAEAA4AAQABAAUAAQAQAAEABQAFAA4A8wECAAEAAQABAAIAGQABAAMAAQABAAcAAwAEAAYAAgABAAIABAABAAIAAQAIAAEAAgCiAQgACgAHAAEAAwABAAEAAQAMAAIAAQAGAAEAAQADAAEAAQAIADAAAwA1AAEABQABAFMEBwAFAAkACgAjAAcAAgABAAEAAQAGAAcAEAACAAoAAgAFAAwDAwARAAMACAAGACAAAQAdAAEAIgAgAAIAEAAEAAUADgAtAAQAGgAeACkAFgAxAAMAAwABAAkAQAA5BAIABgD7AB4AGgAvAAYACAABAAEAAwABAAIACAACAAQAAgAHAEYAAQABAAIAAgABAAIAlAEHAAMAAQAIAAEAAgABAAMAAQABAAIABAABAAIAKwABAAEABwACAA4ABgAXAAMAAgCPAwUAAgACAAIAAQABAAIAAgABAAoABAACAAEAAQABAAIAFwACAGwCDQANAAwAAQABAAQAAwABAAsABwAzAAUABwABAAcAAQADAAcAXgEOAAYAAQABAAEAAQABAAEAAQABAAQAAQAtAAEABgABAAIACwAHAAMADwApAA4DGgAFAAIAAgABAAEAAgABAAEAAQAFAAoAAwAQAAIAAQABAAEAEwANAAEAAQAOABQAFgCyAQEAAwABAAYAHAAFAAYABAABAAEAAwAXAAIAAgABABAABQADAAQAAQAMAAEAcwIFAAMAAQARAC8ABQABACoABgAJAAIAAQABAAUAGwABAAEAAQADAAEABAALAIUBAgABAAMAAQAFAAIADgACAAEAAgAGAAIAAQAIAAcAAQACAAIAuwIEAAYAAgAEAAMAAgAHAAEAAQAJAAYACAAGAAEAAQAEAAYAAwAHAAEAfwIHAAIAAwARAAEABQAFAAcAAgACAAEAAgBABAEAAQABAAkAAQABAAIAAQACAAEAAQAHAAEACwA0Ag==",
           "dtype": "i2"
          }
         },
         "node": {
          "label": [
           "Abia",
           "Adamawa",
           "Akwa Ibom",
           "Anambra",
           "Bauchi",
           "Bayelsa",
           "Benue",
           "Borno",
           "Cross River",
           "Delta",
           "Ebonyi",
           "Edo",
           "Ekiti",
           "Enugu",
           "Gombe",
           "Imo",
           "Jigawa",
           "Kaduna",
           "Kano",
           "Katsina",
           "Kebbi",
           "Kogi",
           "Kwara",
           "Lagos",
           "Nasarawa",
           "Niger",
           "Ogun",
           "Ondo",
           "Osun",
           "Oyo",
           "Plateau",
           "Rivers",
           "Sokoto",
           "Taraba",
           "Yobe",
           "Zamfara",
           "FCT"
          ],
          "pad": 15,
          "thickness": 15
         },
         "type": "sankey"
        }
       ],
       "layout": {
        "font": {
         "size": 10
        },
        "template": {
         "data": {
          "bar": [
           {
            "error_x": {
             "color": "#2a3f5f"
            },
            "error_y": {
             "color": "#2a3f5f"
            },
            "marker": {
             "line": {
              "color": "#E5ECF6",
              "width": 0.5
             },
             "pattern": {
              "fillmode": "overlay",
              "size": 10,
              "solidity": 0.2
             }
            },
            "type": "bar"
           }
          ],
          "barpolar": [
           {
            "marker": {
             "line": {
              "color": "#E5ECF6",
              "width": 0.5
             },
             "pattern": {
              "fillmode": "overlay",
              "size": 10,
              "solidity": 0.2
             }
            },
            "type": "barpolar"
           }
          ],
          "carpet": [
           {
            "aaxis": {
             "endlinecolor": "#2a3f5f",
             "gridcolor": "white",
             "linecolor": "white",
             "minorgridcolor": "white",
             "startlinecolor": "#2a3f5f"
            },
            "baxis": {
             "endlinecolor": "#2a3f5f",
             "gridcolor": "white",
             "linecolor": "white",
             "minorgridcolor": "white",
             "startlinecolor": "#2a3f5f"
            },
            "type": "carpet"
           }
          ],
          "choropleth": [
           {
            "colorbar": {
             "outlinewidth": 0,
             "ticks": ""
            },
            "type": "choropleth"
           }
          ],
          "contour": [
           {
            "colorbar": {
             "outlinewidth": 0,
             "ticks": ""
            },
            "colorscale": [
             [
              0,
              "#0d0887"
             ],
             [
              0.1111111111111111,
              "#46039f"
             ],
             [
              0.2222222222222222,
              "#7201a8"
             ],
             [
              0.3333333333333333,
              "#9c179e"
             ],
             [
              0.4444444444444444,
              "#bd3786"
             ],
             [
              0.5555555555555556,
              "#d8576b"
             ],
             [
              0.6666666666666666,
              "#ed7953"
             ],
             [
              0.7777777777777778,
              "#fb9f3a"
             ],
             [
              0.8888888888888888,
              "#fdca26"
             ],
             [
              1,
              "#f0f921"
             ]
            ],
            "type": "contour"
           }
          ],
          "contourcarpet": [
           {
            "colorbar": {
             "outlinewidth": 0,
             "ticks": ""
            },
            "type": "contourcarpet"
           }
          ],
          "heatmap": [
           {
            "colorbar": {
             "outlinewidth": 0,
             "ticks": ""
            },
            "colorscale": [
             [
              0,
              "#0d0887"
             ],
             [
              0.1111111111111111,
              "#46039f"
             ],
             [
              0.2222222222222222,
              "#7201a8"
             ],
             [
              0.3333333333333333,
              "#9c179e"
             ],
             [
              0.4444444444444444,
              "#bd3786"
             ],
             [
              0.5555555555555556,
              "#d8576b"
             ],
             [
              0.6666666666666666,
              "#ed7953"
             ],
             [
              0.7777777777777778,
              "#fb9f3a"
             ],
             [
              0.8888888888888888,
              "#fdca26"
             ],
             [
              1,
              "#f0f921"
             ]
            ],
            "type": "heatmap"
           }
          ],
          "histogram": [
           {
            "marker": {
             "pattern": {
              "fillmode": "overlay",
              "size": 10,
              "solidity": 0.2
             }
            },
            "type": "histogram"
           }
          ],
          "histogram2d": [
           {
            "colorbar": {
             "outlinewidth": 0,
             "ticks": ""
            },
            "colorscale": [
             [
              0,
              "#0d0887"
             ],
             [
              0.1111111111111111,
              "#46039f"
             ],
             [
              0.2222222222222222,
              "#7201a8"
             ],
             [
              0.3333333333333333,
              "#9c179e"
             ],
             [
              0.4444444444444444,
              "#bd3786"
             ],
             [
              0.5555555555555556,
              "#d8576b"
             ],
             [
              0.6666666666666666,
              "#ed7953"
             ],
             [
              0.7777777777777778,
              "#fb9f3a"
             ],
             [
              0.8888888888888888,
              "#fdca26"
             ],
             [
              1,
              "#f0f921"
             ]
            ],
            "type": "histogram2d"
           }
          ],
          "histogram2dcontour": [
           {
            "colorbar": {
             "outlinewidth": 0,
             "ticks": ""
            },
            "colorscale": [
             [
              0,
              "#0d0887"
             ],
             [
              0.1111111111111111,
              "#46039f"
             ],
             [
              0.2222222222222222,
              "#7201a8"
             ],
             [
              0.3333333333333333,
              "#9c179e"
             ],
             [
              0.4444444444444444,
              "#bd3786"
             ],
             [
              0.5555555555555556,
              "#d8576b"
             ],
             [
              0.6666666666666666,
              "#ed7953"
             ],
             [
              0.7777777777777778,
              "#fb9f3a"
             ],
             [
              0.8888888888888888,
              "#fdca26"
             ],
             [
              1,
              "#f0f921"
             ]
            ],
            "type": "histogram2dcontour"
           }
          ],
          "mesh3d": [
           {
            "colorbar": {
             "outlinewidth": 0,
             "ticks": ""
            },
            "type": "mesh3d"
           }
          ],
          "parcoords": [
           {
            "line": {
             "colorbar": {
              "outlinewidth": 0,
              "ticks": ""
             }
            },
            "type": "parcoords"
           }
          ],
          "pie": [
           {
            "automargin": true,
            "type": "pie"
           }
          ],
          "scatter": [
           {
            "fillpattern": {
             "fillmode": "overlay",
             "size": 10,
             "solidity": 0.2
            },
            "type": "scatter"
           }
          ],
          "scatter3d": [
           {
            "line": {
             "colorbar": {
              "outlinewidth": 0,
              "ticks": ""
             }
            },
            "marker": {
             "colorbar": {
              "outlinewidth": 0,
              "ticks": ""
             }
            },
            "type": "scatter3d"
           }
          ],
          "scattercarpet": [
           {
            "marker": {
             "colorbar": {
              "outlinewidth": 0,
              "ticks": ""
             }
            },
            "type": "scattercarpet"
           }
          ],
          "scattergeo": [
           {
            "marker": {
             "colorbar": {
              "outlinewidth": 0,
              "ticks": ""
             }
            },
            "type": "scattergeo"
           }
          ],
          "scattergl": [
           {
            "marker": {
             "colorbar": {
              "outlinewidth": 0,
              "ticks": ""
             }
            },
            "type": "scattergl"
           }
          ],
          "scattermap": [
           {
            "marker": {
             "colorbar": {
              "outlinewidth": 0,
              "ticks": ""
             }
            },
            "type": "scattermap"
           }
          ],
          "scattermapbox": [
           {
            "marker": {
             "colorbar": {
              "outlinewidth": 0,
              "ticks": ""
             }
            },
            "type": "scattermapbox"
           }
          ],
          "scatterpolar": [
           {
            "marker": {
             "colorbar": {
              "outlinewidth": 0,
              "ticks": ""
             }
            },
            "type": "scatterpolar"
           }
          ],
          "scatterpolargl": [
           {
            "marker": {
             "colorbar": {
              "outlinewidth": 0,
              "ticks": ""
             }
            },
            "type": "scatterpolargl"
           }
          ],
          "scatterternary": [
           {
            "marker": {
             "colorbar": {
              "outlinewidth": 0,
              "ticks": ""
             }
            },
            "type": "scatterternary"
           }
          ],
          "surface": [
           {
            "colorbar": {
             "outlinewidth": 0,
             "ticks": ""
            },
            "colorscale": [
             [
              0,
              "#0d0887"
             ],
             [
              0.1111111111111111,
              "#46039f"
             ],
             [
              0.2222222222222222,
              "#7201a8"
             ],
             [
              0.3333333333333333,
              "#9c179e"
             ],
             [
              0.4444444444444444,
              "#bd3786"
             ],
             [
              0.5555555555555556,
              "#d8576b"
             ],
             [
              0.6666666666666666,
              "#ed7953"
             ],
             [
              0.7777777777777778,
              "#fb9f3a"
             ],
             [
              0.8888888888888888,
              "#fdca26"
             ],
             [
              1,
              "#f0f921"
             ]
            ],
            "type": "surface"
           }
          ],
          "table": [
           {
            "cells": {
             "fill": {
              "color": "#EBF0F8"
             },
             "line": {
              "color": "white"
             }
            },
            "header": {
             "fill": {
              "color": "#C8D4E3"
             },
             "line": {
              "color": "white"
             }
            },
            "type": "table"
           }
          ]
         },
         "layout": {
          "annotationdefaults": {
           "arrowcolor": "#2a3f5f",
           "arrowhead": 0,
           "arrowwidth": 1
          },
          "autotypenumbers": "strict",
          "coloraxis": {
           "colorbar": {
            "outlinewidth": 0,
            "ticks": ""
           }
          },
          "colorscale": {
           "diverging": [
            [
             0,
             "#8e0152"
            ],
            [
             0.1,
             "#c51b7d"
            ],
            [
             0.2,
             "#de77ae"
            ],
            [
             0.3,
             "#f1b6da"
            ],
            [
             0.4,
             "#fde0ef"
            ],
            [
             0.5,
             "#f7f7f7"
            ],
            [
             0.6,
             "#e6f5d0"
            ],
            [
             0.7,
             "#b8e186"
            ],
            [
             0.8,
             "#7fbc41"
            ],
            [
             0.9,
             "#4d9221"
            ],
            [
             1,
             "#276419"
            ]
           ],
           "sequential": [
            [
             0,
             "#0d0887"
            ],
            [
             0.1111111111111111,
             "#46039f"
            ],
            [
             0.2222222222222222,
             "#7201a8"
            ],
            [
             0.3333333333333333,
             "#9c179e"
            ],
            [
             0.4444444444444444,
             "#bd3786"
            ],
            [
             0.5555555555555556,
             "#d8576b"
            ],
            [
             0.6666666666666666,
             "#ed7953"
            ],
            [
             0.7777777777777778,
             "#fb9f3a"
            ],
            [
             0.8888888888888888,
             "#fdca26"
            ],
            [
             1,
             "#f0f921"
            ]
           ],
           "sequentialminus": [
            [
             0,
             "#0d0887"
            ],
            [
             0.1111111111111111,
             "#46039f"
            ],
            [
             0.2222222222222222,
             "#7201a8"
            ],
            [
             0.3333333333333333,
             "#9c179e"
            ],
            [
             0.4444444444444444,
             "#bd3786"
            ],
            [
             0.5555555555555556,
             "#d8576b"
            ],
            [
             0.6666666666666666,
             "#ed7953"
            ],
            [
             0.7777777777777778,
             "#fb9f3a"
            ],
            [
             0.8888888888888888,
             "#fdca26"
            ],
            [
             1,
             "#f0f921"
            ]
           ]
          },
          "colorway": [
           "#636efa",
           "#EF553B",
           "#00cc96",
           "#ab63fa",
           "#FFA15A",
           "#19d3f3",
           "#FF6692",
           "#B6E880",
           "#FF97FF",
           "#FECB52"
          ],
          "font": {
           "color": "#2a3f5f"
          },
          "geo": {
           "bgcolor": "white",
           "lakecolor": "white",
           "landcolor": "#E5ECF6",
           "showlakes": true,
           "showland": true,
           "subunitcolor": "white"
          },
          "hoverlabel": {
           "align": "left"
          },
          "hovermode": "closest",
          "mapbox": {
           "style": "light"
          },
          "paper_bgcolor": "white",
          "plot_bgcolor": "#E5ECF6",
          "polar": {
           "angularaxis": {
            "gridcolor": "white",
            "linecolor": "white",
            "ticks": ""
           },
           "bgcolor": "#E5ECF6",
           "radialaxis": {
            "gridcolor": "white",
            "linecolor": "white",
            "ticks": ""
           }
          },
          "scene": {
           "xaxis": {
            "backgroundcolor": "#E5ECF6",
            "gridcolor": "white",
            "gridwidth": 2,
            "linecolor": "white",
            "showbackground": true,
            "ticks": "",
            "zerolinecolor": "white"
           },
           "yaxis": {
            "backgroundcolor": "#E5ECF6",
            "gridcolor": "white",
            "gridwidth": 2,
            "linecolor": "white",
            "showbackground": true,
            "ticks": "",
            "zerolinecolor": "white"
           },
           "zaxis": {
            "backgroundcolor": "#E5ECF6",
            "gridcolor": "white",
            "gridwidth": 2,
            "linecolor": "white",
            "showbackground": true,
            "ticks": "",
            "zerolinecolor": "white"
           }
          },
          "shapedefaults": {
           "line": {
            "color": "#2a3f5f"
           }
          },
          "ternary": {
           "aaxis": {
            "gridcolor": "white",
            "linecolor": "white",
            "ticks": ""
           },
           "baxis": {
            "gridcolor": "white",
            "linecolor": "white",
            "ticks": ""
           },
           "bgcolor": "#E5ECF6",
           "caxis": {
            "gridcolor": "white",
            "linecolor": "white",
            "ticks": ""
           }
          },
          "title": {
           "x": 0.05
          },
          "xaxis": {
           "automargin": true,
           "gridcolor": "white",
           "linecolor": "white",
           "ticks": "",
           "title": {
            "standoff": 15
           },
           "zerolinecolor": "white",
           "zerolinewidth": 2
          },
          "yaxis": {
           "automargin": true,
           "gridcolor": "white",
           "linecolor": "white",
           "ticks": "",
           "title": {
            "standoff": 15
           },
           "zerolinecolor": "white",
           "zerolinewidth": 2
          }
         }
        },
        "title": {
         "text": "State-to-State Migration"
        }
       }
      }
     },
     "metadata": {},
     "output_type": "display_data"
    }
   ],
   "source": [
    "import plotly.graph_objects as go\n",
    "\n",
    "# Aggregate flows (from PrevPlaceName to CurrentPlaceName)\n",
    "flow = combined_filtered_df.groupby(\n",
    "    [\"PrevPlaceName\", \"CurrentPlaceName\"]\n",
    ").size().reset_index(name=\"count\")\n",
    "\n",
    "# Create mapping from state names to indices\n",
    "state_list = list(state_mapping.values())\n",
    "state_index = {state: i for i, state in enumerate(state_list)}\n",
    "\n",
    "# Build Sankey\n",
    "fig = go.Figure(data=[go.Sankey(\n",
    "    node=dict(label=state_list, pad=15, thickness=15),\n",
    "    link=dict(\n",
    "        source=flow[\"PrevPlaceName\"].map(state_index),\n",
    "        target=flow[\"CurrentPlaceName\"].map(state_index),\n",
    "        value=flow[\"count\"]\n",
    "    )\n",
    ")])\n",
    "fig.update_layout(title_text=\"State-to-State Migration\", font_size=10)\n",
    "fig.show()\n"
   ]
  },
  {
   "cell_type": "code",
   "execution_count": 153,
   "id": "7948dac6",
   "metadata": {},
   "outputs": [],
   "source": [
    "# Coordinates for Nigerian States\n",
    "state_coords = {\n",
    "    \"Abia\": (5.5320, 7.4860), \n",
    "    \"Adamawa\": (9.3265, 12.3984), \n",
    "    \"Akwa Ibom\": (4.9268, 7.8722), \n",
    "    \"Anambra\": (6.2100, 7.0700),\n",
    "    \"Bauchi\": (10.3103, 9.8439),\n",
    "    \"Bayelsa\": (4.9220, 6.2649),\n",
    "    \"Benue\": (7.1907, 8.1290),\n",
    "    \"Borno\": (11.8333, 13.1500),\n",
    "    \"Cross River\": (4.9517, 8.3220),\n",
    "    \"Delta\": (5.4650, 6.2019),\n",
    "    \"Ebonyi\": (6.3249, 8.1137),\n",
    "    \"Edo\": (6.3350, 5.6275),\n",
    "    \"Ekiti\": (7.6233, 5.2214),\n",
    "    \"Enugu\": (6.4527, 7.5103),\n",
    "    \"Gombe\": (10.2897, 11.1700),\n",
    "    \"Imo\": (5.4836, 7.0333),\n",
    "    \"Jigawa\": (12.0000, 9.7667),\n",
    "    \"Kaduna\": (10.5231, 7.4403),\n",
    "    \"Kano\": (12.0022, 8.5919),\n",
    "    \"Katsina\": (12.9889, 7.6000),\n",
    "    \"Kebbi\": (12.4500, 4.2000),\n",
    "    \"Kogi\": (7.8000, 6.7333),\n",
    "    \"Kwara\": (8.5000, 4.5500),\n",
    "    \"Lagos\": (6.5244, 3.3792),\n",
    "    \"Nasarawa\": (8.5333, 8.5333),\n",
    "    \"Niger\": (9.6000, 6.5500),\n",
    "    \"Ogun\": (7.0000, 3.5833),\n",
    "    \"Ondo\": (7.2500, 5.2000),\n",
    "    \"Osun\": (7.7833, 4.5667),\n",
    "    \"Oyo\": (7.3833, 3.9333),\n",
    "    \"Plateau\": (9.9333, 8.8833),\n",
    "    \"Rivers\": (4.8242, 7.0336),\n",
    "    \"Sokoto\": (13.0667, 5.2333),\n",
    "    \"Taraba\": (8.8833, 11.3667),\n",
    "    \"Yobe\": (12.0000, 11.7500),\n",
    "    \"Zamfara\": (12.1667, 6.2500),\n",
    "    \"FCT\": (9.0579, 7.4951)\n",
    "}\n"
   ]
  },
  {
   "cell_type": "code",
   "execution_count": 154,
   "id": "d016fb91",
   "metadata": {},
   "outputs": [],
   "source": [
    "# Aggregate flows from your migration dataset \n",
    "# Count flows from previous → current state\n",
    "flow_data = combined_filtered_df.groupby(\n",
    "    [\"PrevPlaceName\", \"CurrentPlaceName\"]\n",
    ").size().reset_index(name=\"count\")\n",
    "\n",
    "# Remove diagonal (people who stayed in same state)\n",
    "flow_data = flow_data[flow_data[\"PrevPlaceName\"] != flow_data[\"CurrentPlaceName\"]]\n"
   ]
  },
  {
   "cell_type": "code",
   "execution_count": null,
   "id": "9422725d",
   "metadata": {},
   "outputs": [
    {
     "data": {
      "application/vnd.plotly.v1+json": {
       "config": {
        "plotlyServerURL": "https://plot.ly"
       },
       "data": [
        {
         "hoverinfo": "text",
         "lat": [
          5.532,
          9.3265
         ],
         "legendgroup": "flows",
         "line": {
          "color": "blue",
          "width": 0.0398406374501992
         },
         "lon": [
          7.486,
          12.3984
         ],
         "mode": "lines",
         "opacity": 0.4,
         "showlegend": false,
         "text": "Abia → Adamawa: 1",
         "type": "scattergeo"
        },
        {
         "hoverinfo": "text",
         "lat": [
          5.532,
          4.9268
         ],
         "legendgroup": "flows",
         "line": {
          "color": "blue",
          "width": 0.1593625498007968
         },
         "lon": [
          7.486,
          7.8722
         ],
         "mode": "lines",
         "opacity": 0.4,
         "showlegend": false,
         "text": "Abia → Akwa Ibom: 4",
         "type": "scattergeo"
        },
        {
         "hoverinfo": "text",
         "lat": [
          5.532,
          6.21
         ],
         "legendgroup": "flows",
         "line": {
          "color": "blue",
          "width": 0.6374501992031872
         },
         "lon": [
          7.486,
          7.07
         ],
         "mode": "lines",
         "opacity": 0.4,
         "showlegend": false,
         "text": "Abia → Anambra: 16",
         "type": "scattergeo"
        },
        {
         "hoverinfo": "text",
         "lat": [
          5.532,
          4.922
         ],
         "legendgroup": "flows",
         "line": {
          "color": "blue",
          "width": 0.35856573705179284
         },
         "lon": [
          7.486,
          6.2649
         ],
         "mode": "lines",
         "opacity": 0.4,
         "showlegend": false,
         "text": "Abia → Bayelsa: 9",
         "type": "scattergeo"
        },
        {
         "hoverinfo": "text",
         "lat": [
          5.532,
          11.8333
         ],
         "legendgroup": "flows",
         "line": {
          "color": "blue",
          "width": 0.0398406374501992
         },
         "lon": [
          7.486,
          13.15
         ],
         "mode": "lines",
         "opacity": 0.4,
         "showlegend": false,
         "text": "Abia → Borno: 1",
         "type": "scattergeo"
        },
        {
         "hoverinfo": "text",
         "lat": [
          5.532,
          4.9517
         ],
         "legendgroup": "flows",
         "line": {
          "color": "blue",
          "width": 0.35856573705179284
         },
         "lon": [
          7.486,
          8.322
         ],
         "mode": "lines",
         "opacity": 0.4,
         "showlegend": false,
         "text": "Abia → Cross River: 9",
         "type": "scattergeo"
        },
        {
         "hoverinfo": "text",
         "lat": [
          5.532,
          5.465
         ],
         "legendgroup": "flows",
         "line": {
          "color": "blue",
          "width": 0.0398406374501992
         },
         "lon": [
          7.486,
          6.2019
         ],
         "mode": "lines",
         "opacity": 0.4,
         "showlegend": false,
         "text": "Abia → Delta: 1",
         "type": "scattergeo"
        },
        {
         "hoverinfo": "text",
         "lat": [
          5.532,
          6.3249
         ],
         "legendgroup": "flows",
         "line": {
          "color": "blue",
          "width": 0.0398406374501992
         },
         "lon": [
          7.486,
          8.1137
         ],
         "mode": "lines",
         "opacity": 0.4,
         "showlegend": false,
         "text": "Abia → Ebonyi: 1",
         "type": "scattergeo"
        },
        {
         "hoverinfo": "text",
         "lat": [
          5.532,
          6.335
         ],
         "legendgroup": "flows",
         "line": {
          "color": "blue",
          "width": 0.0796812749003984
         },
         "lon": [
          7.486,
          5.6275
         ],
         "mode": "lines",
         "opacity": 0.4,
         "showlegend": false,
         "text": "Abia → Edo: 2",
         "type": "scattergeo"
        },
        {
         "hoverinfo": "text",
         "lat": [
          5.532,
          6.4527
         ],
         "legendgroup": "flows",
         "line": {
          "color": "blue",
          "width": 0.398406374501992
         },
         "lon": [
          7.486,
          7.5103
         ],
         "mode": "lines",
         "opacity": 0.4,
         "showlegend": false,
         "text": "Abia → Enugu: 10",
         "type": "scattergeo"
        },
        {
         "hoverinfo": "text",
         "lat": [
          5.532,
          9.0579
         ],
         "legendgroup": "flows",
         "line": {
          "color": "blue",
          "width": 0.398406374501992
         },
         "lon": [
          7.486,
          7.4951
         ],
         "mode": "lines",
         "opacity": 0.4,
         "showlegend": false,
         "text": "Abia → FCT: 10",
         "type": "scattergeo"
        },
        {
         "hoverinfo": "text",
         "lat": [
          5.532,
          5.4836
         ],
         "legendgroup": "flows",
         "line": {
          "color": "blue",
          "width": 1.3147410358565736
         },
         "lon": [
          7.486,
          7.0333
         ],
         "mode": "lines",
         "opacity": 0.4,
         "showlegend": false,
         "text": "Abia → Imo: 33",
         "type": "scattergeo"
        },
        {
         "hoverinfo": "text",
         "lat": [
          5.532,
          10.5231
         ],
         "legendgroup": "flows",
         "line": {
          "color": "blue",
          "width": 0.0796812749003984
         },
         "lon": [
          7.486,
          7.4403
         ],
         "mode": "lines",
         "opacity": 0.4,
         "showlegend": false,
         "text": "Abia → Kaduna: 2",
         "type": "scattergeo"
        },
        {
         "hoverinfo": "text",
         "lat": [
          5.532,
          7.8
         ],
         "legendgroup": "flows",
         "line": {
          "color": "blue",
          "width": 0.0796812749003984
         },
         "lon": [
          7.486,
          6.7333
         ],
         "mode": "lines",
         "opacity": 0.4,
         "showlegend": false,
         "text": "Abia → Kogi: 2",
         "type": "scattergeo"
        },
        {
         "hoverinfo": "text",
         "lat": [
          5.532,
          6.5244
         ],
         "legendgroup": "flows",
         "line": {
          "color": "blue",
          "width": 0.3187250996015936
         },
         "lon": [
          7.486,
          3.3792
         ],
         "mode": "lines",
         "opacity": 0.4,
         "showlegend": false,
         "text": "Abia → Lagos: 8",
         "type": "scattergeo"
        },
        {
         "hoverinfo": "text",
         "lat": [
          5.532,
          8.5333
         ],
         "legendgroup": "flows",
         "line": {
          "color": "blue",
          "width": 0.0796812749003984
         },
         "lon": [
          7.486,
          8.5333
         ],
         "mode": "lines",
         "opacity": 0.4,
         "showlegend": false,
         "text": "Abia → Nasarawa: 2",
         "type": "scattergeo"
        },
        {
         "hoverinfo": "text",
         "lat": [
          5.532,
          7.25
         ],
         "legendgroup": "flows",
         "line": {
          "color": "blue",
          "width": 0.0398406374501992
         },
         "lon": [
          7.486,
          5.2
         ],
         "mode": "lines",
         "opacity": 0.4,
         "showlegend": false,
         "text": "Abia → Ondo: 1",
         "type": "scattergeo"
        },
        {
         "hoverinfo": "text",
         "lat": [
          5.532,
          4.8242
         ],
         "legendgroup": "flows",
         "line": {
          "color": "blue",
          "width": 0.35856573705179284
         },
         "lon": [
          7.486,
          7.0336
         ],
         "mode": "lines",
         "opacity": 0.4,
         "showlegend": false,
         "text": "Abia → Rivers: 9",
         "type": "scattergeo"
        },
        {
         "hoverinfo": "text",
         "lat": [
          5.532,
          13.0667
         ],
         "legendgroup": "flows",
         "line": {
          "color": "blue",
          "width": 0.0398406374501992
         },
         "lon": [
          7.486,
          5.2333
         ],
         "mode": "lines",
         "opacity": 0.4,
         "showlegend": false,
         "text": "Abia → Sokoto: 1",
         "type": "scattergeo"
        },
        {
         "hoverinfo": "text",
         "lat": [
          5.532,
          8.8833
         ],
         "legendgroup": "flows",
         "line": {
          "color": "blue",
          "width": 0.0398406374501992
         },
         "lon": [
          7.486,
          11.3667
         ],
         "mode": "lines",
         "opacity": 0.4,
         "showlegend": false,
         "text": "Abia → Taraba: 1",
         "type": "scattergeo"
        },
        {
         "hoverinfo": "text",
         "lat": [
          9.3265,
          5.532
         ],
         "legendgroup": "flows",
         "line": {
          "color": "blue",
          "width": 0.23904382470119523
         },
         "lon": [
          12.3984,
          7.486
         ],
         "mode": "lines",
         "opacity": 0.4,
         "showlegend": false,
         "text": "Adamawa → Abia: 6",
         "type": "scattergeo"
        },
        {
         "hoverinfo": "text",
         "lat": [
          9.3265,
          4.9268
         ],
         "legendgroup": "flows",
         "line": {
          "color": "blue",
          "width": 0.11952191235059761
         },
         "lon": [
          12.3984,
          7.8722
         ],
         "mode": "lines",
         "opacity": 0.4,
         "showlegend": false,
         "text": "Adamawa → Akwa Ibom: 3",
         "type": "scattergeo"
        },
        {
         "hoverinfo": "text",
         "lat": [
          9.3265,
          6.21
         ],
         "legendgroup": "flows",
         "line": {
          "color": "blue",
          "width": 0.0796812749003984
         },
         "lon": [
          12.3984,
          7.07
         ],
         "mode": "lines",
         "opacity": 0.4,
         "showlegend": false,
         "text": "Adamawa → Anambra: 2",
         "type": "scattergeo"
        },
        {
         "hoverinfo": "text",
         "lat": [
          9.3265,
          10.3103
         ],
         "legendgroup": "flows",
         "line": {
          "color": "blue",
          "width": 0.11952191235059761
         },
         "lon": [
          12.3984,
          9.8439
         ],
         "mode": "lines",
         "opacity": 0.4,
         "showlegend": false,
         "text": "Adamawa → Bauchi: 3",
         "type": "scattergeo"
        },
        {
         "hoverinfo": "text",
         "lat": [
          9.3265,
          7.1907
         ],
         "legendgroup": "flows",
         "line": {
          "color": "blue",
          "width": 0.0796812749003984
         },
         "lon": [
          12.3984,
          8.129
         ],
         "mode": "lines",
         "opacity": 0.4,
         "showlegend": false,
         "text": "Adamawa → Benue: 2",
         "type": "scattergeo"
        },
        {
         "hoverinfo": "text",
         "lat": [
          9.3265,
          11.8333
         ],
         "legendgroup": "flows",
         "line": {
          "color": "blue",
          "width": 0.6772908366533864
         },
         "lon": [
          12.3984,
          13.15
         ],
         "mode": "lines",
         "opacity": 0.4,
         "showlegend": false,
         "text": "Adamawa → Borno: 17",
         "type": "scattergeo"
        },
        {
         "hoverinfo": "text",
         "lat": [
          9.3265,
          5.465
         ],
         "legendgroup": "flows",
         "line": {
          "color": "blue",
          "width": 0.199203187250996
         },
         "lon": [
          12.3984,
          6.2019
         ],
         "mode": "lines",
         "opacity": 0.4,
         "showlegend": false,
         "text": "Adamawa → Delta: 5",
         "type": "scattergeo"
        },
        {
         "hoverinfo": "text",
         "lat": [
          9.3265,
          6.335
         ],
         "legendgroup": "flows",
         "line": {
          "color": "blue",
          "width": 0.11952191235059761
         },
         "lon": [
          12.3984,
          5.6275
         ],
         "mode": "lines",
         "opacity": 0.4,
         "showlegend": false,
         "text": "Adamawa → Edo: 3",
         "type": "scattergeo"
        },
        {
         "hoverinfo": "text",
         "lat": [
          9.3265,
          6.4527
         ],
         "legendgroup": "flows",
         "line": {
          "color": "blue",
          "width": 0.0398406374501992
         },
         "lon": [
          12.3984,
          7.5103
         ],
         "mode": "lines",
         "opacity": 0.4,
         "showlegend": false,
         "text": "Adamawa → Enugu: 1",
         "type": "scattergeo"
        },
        {
         "hoverinfo": "text",
         "lat": [
          9.3265,
          9.0579
         ],
         "legendgroup": "flows",
         "line": {
          "color": "blue",
          "width": 0.199203187250996
         },
         "lon": [
          12.3984,
          7.4951
         ],
         "mode": "lines",
         "opacity": 0.4,
         "showlegend": false,
         "text": "Adamawa → FCT: 5",
         "type": "scattergeo"
        },
        {
         "hoverinfo": "text",
         "lat": [
          9.3265,
          10.2897
         ],
         "legendgroup": "flows",
         "line": {
          "color": "blue",
          "width": 0.5577689243027888
         },
         "lon": [
          12.3984,
          11.17
         ],
         "mode": "lines",
         "opacity": 0.4,
         "showlegend": false,
         "text": "Adamawa → Gombe: 14",
         "type": "scattergeo"
        },
        {
         "hoverinfo": "text",
         "lat": [
          9.3265,
          5.4836
         ],
         "legendgroup": "flows",
         "line": {
          "color": "blue",
          "width": 0.0398406374501992
         },
         "lon": [
          12.3984,
          7.0333
         ],
         "mode": "lines",
         "opacity": 0.4,
         "showlegend": false,
         "text": "Adamawa → Imo: 1",
         "type": "scattergeo"
        },
        {
         "hoverinfo": "text",
         "lat": [
          9.3265,
          12
         ],
         "legendgroup": "flows",
         "line": {
          "color": "blue",
          "width": 0.0796812749003984
         },
         "lon": [
          12.3984,
          9.7667
         ],
         "mode": "lines",
         "opacity": 0.4,
         "showlegend": false,
         "text": "Adamawa → Jigawa: 2",
         "type": "scattergeo"
        },
        {
         "hoverinfo": "text",
         "lat": [
          9.3265,
          10.5231
         ],
         "legendgroup": "flows",
         "line": {
          "color": "blue",
          "width": 0.0796812749003984
         },
         "lon": [
          12.3984,
          7.4403
         ],
         "mode": "lines",
         "opacity": 0.4,
         "showlegend": false,
         "text": "Adamawa → Kaduna: 2",
         "type": "scattergeo"
        },
        {
         "hoverinfo": "text",
         "lat": [
          9.3265,
          12.0022
         ],
         "legendgroup": "flows",
         "line": {
          "color": "blue",
          "width": 0.0796812749003984
         },
         "lon": [
          12.3984,
          8.5919
         ],
         "mode": "lines",
         "opacity": 0.4,
         "showlegend": false,
         "text": "Adamawa → Kano: 2",
         "type": "scattergeo"
        },
        {
         "hoverinfo": "text",
         "lat": [
          9.3265,
          12.9889
         ],
         "legendgroup": "flows",
         "line": {
          "color": "blue",
          "width": 0.6374501992031872
         },
         "lon": [
          12.3984,
          7.6
         ],
         "mode": "lines",
         "opacity": 0.4,
         "showlegend": false,
         "text": "Adamawa → Katsina: 16",
         "type": "scattergeo"
        },
        {
         "hoverinfo": "text",
         "lat": [
          9.3265,
          7.8
         ],
         "legendgroup": "flows",
         "line": {
          "color": "blue",
          "width": 0.0398406374501992
         },
         "lon": [
          12.3984,
          6.7333
         ],
         "mode": "lines",
         "opacity": 0.4,
         "showlegend": false,
         "text": "Adamawa → Kogi: 1",
         "type": "scattergeo"
        },
        {
         "hoverinfo": "text",
         "lat": [
          9.3265,
          6.5244
         ],
         "legendgroup": "flows",
         "line": {
          "color": "blue",
          "width": 0.0398406374501992
         },
         "lon": [
          12.3984,
          3.3792
         ],
         "mode": "lines",
         "opacity": 0.4,
         "showlegend": false,
         "text": "Adamawa → Lagos: 1",
         "type": "scattergeo"
        },
        {
         "hoverinfo": "text",
         "lat": [
          9.3265,
          8.5333
         ],
         "legendgroup": "flows",
         "line": {
          "color": "blue",
          "width": 0.1593625498007968
         },
         "lon": [
          12.3984,
          8.5333
         ],
         "mode": "lines",
         "opacity": 0.4,
         "showlegend": false,
         "text": "Adamawa → Nasarawa: 4",
         "type": "scattergeo"
        },
        {
         "hoverinfo": "text",
         "lat": [
          9.3265,
          7
         ],
         "legendgroup": "flows",
         "line": {
          "color": "blue",
          "width": 0.0398406374501992
         },
         "lon": [
          12.3984,
          3.5833
         ],
         "mode": "lines",
         "opacity": 0.4,
         "showlegend": false,
         "text": "Adamawa → Ogun: 1",
         "type": "scattergeo"
        },
        {
         "hoverinfo": "text",
         "lat": [
          9.3265,
          7.3833
         ],
         "legendgroup": "flows",
         "line": {
          "color": "blue",
          "width": 0.0398406374501992
         },
         "lon": [
          12.3984,
          3.9333
         ],
         "mode": "lines",
         "opacity": 0.4,
         "showlegend": false,
         "text": "Adamawa → Oyo: 1",
         "type": "scattergeo"
        },
        {
         "hoverinfo": "text",
         "lat": [
          9.3265,
          8.8833
         ],
         "legendgroup": "flows",
         "line": {
          "color": "blue",
          "width": 0.2788844621513944
         },
         "lon": [
          12.3984,
          11.3667
         ],
         "mode": "lines",
         "opacity": 0.4,
         "showlegend": false,
         "text": "Adamawa → Taraba: 7",
         "type": "scattergeo"
        },
        {
         "hoverinfo": "text",
         "lat": [
          9.3265,
          12
         ],
         "legendgroup": "flows",
         "line": {
          "color": "blue",
          "width": 0.796812749003984
         },
         "lon": [
          12.3984,
          11.75
         ],
         "mode": "lines",
         "opacity": 0.4,
         "showlegend": false,
         "text": "Adamawa → Yobe: 20",
         "type": "scattergeo"
        },
        {
         "hoverinfo": "text",
         "lat": [
          4.9268,
          5.532
         ],
         "legendgroup": "flows",
         "line": {
          "color": "blue",
          "width": 0.2788844621513944
         },
         "lon": [
          7.8722,
          7.486
         ],
         "mode": "lines",
         "opacity": 0.4,
         "showlegend": false,
         "text": "Akwa Ibom → Abia: 7",
         "type": "scattergeo"
        },
        {
         "hoverinfo": "text",
         "lat": [
          4.9268,
          9.3265
         ],
         "legendgroup": "flows",
         "line": {
          "color": "blue",
          "width": 0.11952191235059761
         },
         "lon": [
          7.8722,
          12.3984
         ],
         "mode": "lines",
         "opacity": 0.4,
         "showlegend": false,
         "text": "Akwa Ibom → Adamawa: 3",
         "type": "scattergeo"
        },
        {
         "hoverinfo": "text",
         "lat": [
          4.9268,
          6.21
         ],
         "legendgroup": "flows",
         "line": {
          "color": "blue",
          "width": 0.199203187250996
         },
         "lon": [
          7.8722,
          7.07
         ],
         "mode": "lines",
         "opacity": 0.4,
         "showlegend": false,
         "text": "Akwa Ibom → Anambra: 5",
         "type": "scattergeo"
        },
        {
         "hoverinfo": "text",
         "lat": [
          4.9268,
          4.922
         ],
         "legendgroup": "flows",
         "line": {
          "color": "blue",
          "width": 0.35856573705179284
         },
         "lon": [
          7.8722,
          6.2649
         ],
         "mode": "lines",
         "opacity": 0.4,
         "showlegend": false,
         "text": "Akwa Ibom → Bayelsa: 9",
         "type": "scattergeo"
        },
        {
         "hoverinfo": "text",
         "lat": [
          4.9268,
          7.1907
         ],
         "legendgroup": "flows",
         "line": {
          "color": "blue",
          "width": 0.0398406374501992
         },
         "lon": [
          7.8722,
          8.129
         ],
         "mode": "lines",
         "opacity": 0.4,
         "showlegend": false,
         "text": "Akwa Ibom → Benue: 1",
         "type": "scattergeo"
        },
        {
         "hoverinfo": "text",
         "lat": [
          4.9268,
          4.9517
         ],
         "legendgroup": "flows",
         "line": {
          "color": "blue",
          "width": 2.1115537848605577
         },
         "lon": [
          7.8722,
          8.322
         ],
         "mode": "lines",
         "opacity": 0.4,
         "showlegend": false,
         "text": "Akwa Ibom → Cross River: 53",
         "type": "scattergeo"
        },
        {
         "hoverinfo": "text",
         "lat": [
          4.9268,
          5.465
         ],
         "legendgroup": "flows",
         "line": {
          "color": "blue",
          "width": 0.23904382470119523
         },
         "lon": [
          7.8722,
          6.2019
         ],
         "mode": "lines",
         "opacity": 0.4,
         "showlegend": false,
         "text": "Akwa Ibom → Delta: 6",
         "type": "scattergeo"
        },
        {
         "hoverinfo": "text",
         "lat": [
          4.9268,
          6.335
         ],
         "legendgroup": "flows",
         "line": {
          "color": "blue",
          "width": 0.35856573705179284
         },
         "lon": [
          7.8722,
          5.6275
         ],
         "mode": "lines",
         "opacity": 0.4,
         "showlegend": false,
         "text": "Akwa Ibom → Edo: 9",
         "type": "scattergeo"
        },
        {
         "hoverinfo": "text",
         "lat": [
          4.9268,
          6.4527
         ],
         "legendgroup": "flows",
         "line": {
          "color": "blue",
          "width": 0.0398406374501992
         },
         "lon": [
          7.8722,
          7.5103
         ],
         "mode": "lines",
         "opacity": 0.4,
         "showlegend": false,
         "text": "Akwa Ibom → Enugu: 1",
         "type": "scattergeo"
        },
        {
         "hoverinfo": "text",
         "lat": [
          4.9268,
          9.0579
         ],
         "legendgroup": "flows",
         "line": {
          "color": "blue",
          "width": 0.23904382470119523
         },
         "lon": [
          7.8722,
          7.4951
         ],
         "mode": "lines",
         "opacity": 0.4,
         "showlegend": false,
         "text": "Akwa Ibom → FCT: 6",
         "type": "scattergeo"
        },
        {
         "hoverinfo": "text",
         "lat": [
          4.9268,
          5.4836
         ],
         "legendgroup": "flows",
         "line": {
          "color": "blue",
          "width": 0.11952191235059761
         },
         "lon": [
          7.8722,
          7.0333
         ],
         "mode": "lines",
         "opacity": 0.4,
         "showlegend": false,
         "text": "Akwa Ibom → Imo: 3",
         "type": "scattergeo"
        },
        {
         "hoverinfo": "text",
         "lat": [
          4.9268,
          12.9889
         ],
         "legendgroup": "flows",
         "line": {
          "color": "blue",
          "width": 0.0398406374501992
         },
         "lon": [
          7.8722,
          7.6
         ],
         "mode": "lines",
         "opacity": 0.4,
         "showlegend": false,
         "text": "Akwa Ibom → Katsina: 1",
         "type": "scattergeo"
        },
        {
         "hoverinfo": "text",
         "lat": [
          4.9268,
          8.5
         ],
         "legendgroup": "flows",
         "line": {
          "color": "blue",
          "width": 0.0398406374501992
         },
         "lon": [
          7.8722,
          4.55
         ],
         "mode": "lines",
         "opacity": 0.4,
         "showlegend": false,
         "text": "Akwa Ibom → Kwara: 1",
         "type": "scattergeo"
        },
        {
         "hoverinfo": "text",
         "lat": [
          4.9268,
          6.5244
         ],
         "legendgroup": "flows",
         "line": {
          "color": "blue",
          "width": 0.11952191235059761
         },
         "lon": [
          7.8722,
          3.3792
         ],
         "mode": "lines",
         "opacity": 0.4,
         "showlegend": false,
         "text": "Akwa Ibom → Lagos: 3",
         "type": "scattergeo"
        },
        {
         "hoverinfo": "text",
         "lat": [
          4.9268,
          9.6
         ],
         "legendgroup": "flows",
         "line": {
          "color": "blue",
          "width": 0.0398406374501992
         },
         "lon": [
          7.8722,
          6.55
         ],
         "mode": "lines",
         "opacity": 0.4,
         "showlegend": false,
         "text": "Akwa Ibom → Niger: 1",
         "type": "scattergeo"
        },
        {
         "hoverinfo": "text",
         "lat": [
          4.9268,
          7
         ],
         "legendgroup": "flows",
         "line": {
          "color": "blue",
          "width": 0.0796812749003984
         },
         "lon": [
          7.8722,
          3.5833
         ],
         "mode": "lines",
         "opacity": 0.4,
         "showlegend": false,
         "text": "Akwa Ibom → Ogun: 2",
         "type": "scattergeo"
        },
        {
         "hoverinfo": "text",
         "lat": [
          4.9268,
          7.25
         ],
         "legendgroup": "flows",
         "line": {
          "color": "blue",
          "width": 0.11952191235059761
         },
         "lon": [
          7.8722,
          5.2
         ],
         "mode": "lines",
         "opacity": 0.4,
         "showlegend": false,
         "text": "Akwa Ibom → Ondo: 3",
         "type": "scattergeo"
        },
        {
         "hoverinfo": "text",
         "lat": [
          4.9268,
          7.3833
         ],
         "legendgroup": "flows",
         "line": {
          "color": "blue",
          "width": 0.0398406374501992
         },
         "lon": [
          7.8722,
          3.9333
         ],
         "mode": "lines",
         "opacity": 0.4,
         "showlegend": false,
         "text": "Akwa Ibom → Oyo: 1",
         "type": "scattergeo"
        },
        {
         "hoverinfo": "text",
         "lat": [
          4.9268,
          4.8242
         ],
         "legendgroup": "flows",
         "line": {
          "color": "blue",
          "width": 1.1952191235059761
         },
         "lon": [
          7.8722,
          7.0336
         ],
         "mode": "lines",
         "opacity": 0.4,
         "showlegend": false,
         "text": "Akwa Ibom → Rivers: 30",
         "type": "scattergeo"
        },
        {
         "hoverinfo": "text",
         "lat": [
          6.21,
          5.532
         ],
         "legendgroup": "flows",
         "line": {
          "color": "blue",
          "width": 0.5976095617529881
         },
         "lon": [
          7.07,
          7.486
         ],
         "mode": "lines",
         "opacity": 0.4,
         "showlegend": false,
         "text": "Anambra → Abia: 15",
         "type": "scattergeo"
        },
        {
         "hoverinfo": "text",
         "lat": [
          6.21,
          9.3265
         ],
         "legendgroup": "flows",
         "line": {
          "color": "blue",
          "width": 0.0796812749003984
         },
         "lon": [
          7.07,
          12.3984
         ],
         "mode": "lines",
         "opacity": 0.4,
         "showlegend": false,
         "text": "Anambra → Adamawa: 2",
         "type": "scattergeo"
        },
        {
         "hoverinfo": "text",
         "lat": [
          6.21,
          4.9268
         ],
         "legendgroup": "flows",
         "line": {
          "color": "blue",
          "width": 0.23904382470119523
         },
         "lon": [
          7.07,
          7.8722
         ],
         "mode": "lines",
         "opacity": 0.4,
         "showlegend": false,
         "text": "Anambra → Akwa Ibom: 6",
         "type": "scattergeo"
        },
        {
         "hoverinfo": "text",
         "lat": [
          6.21,
          10.3103
         ],
         "legendgroup": "flows",
         "line": {
          "color": "blue",
          "width": 0.1593625498007968
         },
         "lon": [
          7.07,
          9.8439
         ],
         "mode": "lines",
         "opacity": 0.4,
         "showlegend": false,
         "text": "Anambra → Bauchi: 4",
         "type": "scattergeo"
        },
        {
         "hoverinfo": "text",
         "lat": [
          6.21,
          4.922
         ],
         "legendgroup": "flows",
         "line": {
          "color": "blue",
          "width": 0.199203187250996
         },
         "lon": [
          7.07,
          6.2649
         ],
         "mode": "lines",
         "opacity": 0.4,
         "showlegend": false,
         "text": "Anambra → Bayelsa: 5",
         "type": "scattergeo"
        },
        {
         "hoverinfo": "text",
         "lat": [
          6.21,
          7.1907
         ],
         "legendgroup": "flows",
         "line": {
          "color": "blue",
          "width": 0.0796812749003984
         },
         "lon": [
          7.07,
          8.129
         ],
         "mode": "lines",
         "opacity": 0.4,
         "showlegend": false,
         "text": "Anambra → Benue: 2",
         "type": "scattergeo"
        },
        {
         "hoverinfo": "text",
         "lat": [
          6.21,
          4.9517
         ],
         "legendgroup": "flows",
         "line": {
          "color": "blue",
          "width": 0.1593625498007968
         },
         "lon": [
          7.07,
          8.322
         ],
         "mode": "lines",
         "opacity": 0.4,
         "showlegend": false,
         "text": "Anambra → Cross River: 4",
         "type": "scattergeo"
        },
        {
         "hoverinfo": "text",
         "lat": [
          6.21,
          5.465
         ],
         "legendgroup": "flows",
         "line": {
          "color": "blue",
          "width": 0.8366533864541832
         },
         "lon": [
          7.07,
          6.2019
         ],
         "mode": "lines",
         "opacity": 0.4,
         "showlegend": false,
         "text": "Anambra → Delta: 21",
         "type": "scattergeo"
        },
        {
         "hoverinfo": "text",
         "lat": [
          6.21,
          6.3249
         ],
         "legendgroup": "flows",
         "line": {
          "color": "blue",
          "width": 0.796812749003984
         },
         "lon": [
          7.07,
          8.1137
         ],
         "mode": "lines",
         "opacity": 0.4,
         "showlegend": false,
         "text": "Anambra → Ebonyi: 20",
         "type": "scattergeo"
        },
        {
         "hoverinfo": "text",
         "lat": [
          6.21,
          6.335
         ],
         "legendgroup": "flows",
         "line": {
          "color": "blue",
          "width": 0.2788844621513944
         },
         "lon": [
          7.07,
          5.6275
         ],
         "mode": "lines",
         "opacity": 0.4,
         "showlegend": false,
         "text": "Anambra → Edo: 7",
         "type": "scattergeo"
        },
        {
         "hoverinfo": "text",
         "lat": [
          6.21,
          6.4527
         ],
         "legendgroup": "flows",
         "line": {
          "color": "blue",
          "width": 1.7529880478087652
         },
         "lon": [
          7.07,
          7.5103
         ],
         "mode": "lines",
         "opacity": 0.4,
         "showlegend": false,
         "text": "Anambra → Enugu: 44",
         "type": "scattergeo"
        },
        {
         "hoverinfo": "text",
         "lat": [
          6.21,
          9.0579
         ],
         "legendgroup": "flows",
         "line": {
          "color": "blue",
          "width": 0.6374501992031872
         },
         "lon": [
          7.07,
          7.4951
         ],
         "mode": "lines",
         "opacity": 0.4,
         "showlegend": false,
         "text": "Anambra → FCT: 16",
         "type": "scattergeo"
        },
        {
         "hoverinfo": "text",
         "lat": [
          6.21,
          5.4836
         ],
         "legendgroup": "flows",
         "line": {
          "color": "blue",
          "width": 1.1553784860557768
         },
         "lon": [
          7.07,
          7.0333
         ],
         "mode": "lines",
         "opacity": 0.4,
         "showlegend": false,
         "text": "Anambra → Imo: 29",
         "type": "scattergeo"
        },
        {
         "hoverinfo": "text",
         "lat": [
          6.21,
          12.9889
         ],
         "legendgroup": "flows",
         "line": {
          "color": "blue",
          "width": 0.0398406374501992
         },
         "lon": [
          7.07,
          7.6
         ],
         "mode": "lines",
         "opacity": 0.4,
         "showlegend": false,
         "text": "Anambra → Katsina: 1",
         "type": "scattergeo"
        },
        {
         "hoverinfo": "text",
         "lat": [
          6.21,
          7.8
         ],
         "legendgroup": "flows",
         "line": {
          "color": "blue",
          "width": 0.1593625498007968
         },
         "lon": [
          7.07,
          6.7333
         ],
         "mode": "lines",
         "opacity": 0.4,
         "showlegend": false,
         "text": "Anambra → Kogi: 4",
         "type": "scattergeo"
        },
        {
         "hoverinfo": "text",
         "lat": [
          6.21,
          8.5
         ],
         "legendgroup": "flows",
         "line": {
          "color": "blue",
          "width": 0.0796812749003984
         },
         "lon": [
          7.07,
          4.55
         ],
         "mode": "lines",
         "opacity": 0.4,
         "showlegend": false,
         "text": "Anambra → Kwara: 2",
         "type": "scattergeo"
        },
        {
         "hoverinfo": "text",
         "lat": [
          6.21,
          6.5244
         ],
         "legendgroup": "flows",
         "line": {
          "color": "blue",
          "width": 0.4382470119521913
         },
         "lon": [
          7.07,
          3.3792
         ],
         "mode": "lines",
         "opacity": 0.4,
         "showlegend": false,
         "text": "Anambra → Lagos: 11",
         "type": "scattergeo"
        },
        {
         "hoverinfo": "text",
         "lat": [
          6.21,
          8.5333
         ],
         "legendgroup": "flows",
         "line": {
          "color": "blue",
          "width": 0.0398406374501992
         },
         "lon": [
          7.07,
          8.5333
         ],
         "mode": "lines",
         "opacity": 0.4,
         "showlegend": false,
         "text": "Anambra → Nasarawa: 1",
         "type": "scattergeo"
        },
        {
         "hoverinfo": "text",
         "lat": [
          6.21,
          9.6
         ],
         "legendgroup": "flows",
         "line": {
          "color": "blue",
          "width": 0.0796812749003984
         },
         "lon": [
          7.07,
          6.55
         ],
         "mode": "lines",
         "opacity": 0.4,
         "showlegend": false,
         "text": "Anambra → Niger: 2",
         "type": "scattergeo"
        },
        {
         "hoverinfo": "text",
         "lat": [
          6.21,
          7
         ],
         "legendgroup": "flows",
         "line": {
          "color": "blue",
          "width": 0.0398406374501992
         },
         "lon": [
          7.07,
          3.5833
         ],
         "mode": "lines",
         "opacity": 0.4,
         "showlegend": false,
         "text": "Anambra → Ogun: 1",
         "type": "scattergeo"
        },
        {
         "hoverinfo": "text",
         "lat": [
          6.21,
          7.25
         ],
         "legendgroup": "flows",
         "line": {
          "color": "blue",
          "width": 0.0398406374501992
         },
         "lon": [
          7.07,
          5.2
         ],
         "mode": "lines",
         "opacity": 0.4,
         "showlegend": false,
         "text": "Anambra → Ondo: 1",
         "type": "scattergeo"
        },
        {
         "hoverinfo": "text",
         "lat": [
          6.21,
          7.7833
         ],
         "legendgroup": "flows",
         "line": {
          "color": "blue",
          "width": 0.0398406374501992
         },
         "lon": [
          7.07,
          4.5667
         ],
         "mode": "lines",
         "opacity": 0.4,
         "showlegend": false,
         "text": "Anambra → Osun: 1",
         "type": "scattergeo"
        },
        {
         "hoverinfo": "text",
         "lat": [
          6.21,
          7.3833
         ],
         "legendgroup": "flows",
         "line": {
          "color": "blue",
          "width": 0.11952191235059761
         },
         "lon": [
          7.07,
          3.9333
         ],
         "mode": "lines",
         "opacity": 0.4,
         "showlegend": false,
         "text": "Anambra → Oyo: 3",
         "type": "scattergeo"
        },
        {
         "hoverinfo": "text",
         "lat": [
          6.21,
          9.9333
         ],
         "legendgroup": "flows",
         "line": {
          "color": "blue",
          "width": 0.0398406374501992
         },
         "lon": [
          7.07,
          8.8833
         ],
         "mode": "lines",
         "opacity": 0.4,
         "showlegend": false,
         "text": "Anambra → Plateau: 1",
         "type": "scattergeo"
        },
        {
         "hoverinfo": "text",
         "lat": [
          6.21,
          4.8242
         ],
         "legendgroup": "flows",
         "line": {
          "color": "blue",
          "width": 0.199203187250996
         },
         "lon": [
          7.07,
          7.0336
         ],
         "mode": "lines",
         "opacity": 0.4,
         "showlegend": false,
         "text": "Anambra → Rivers: 5",
         "type": "scattergeo"
        },
        {
         "hoverinfo": "text",
         "lat": [
          6.21,
          13.0667
         ],
         "legendgroup": "flows",
         "line": {
          "color": "blue",
          "width": 0.199203187250996
         },
         "lon": [
          7.07,
          5.2333
         ],
         "mode": "lines",
         "opacity": 0.4,
         "showlegend": false,
         "text": "Anambra → Sokoto: 5",
         "type": "scattergeo"
        },
        {
         "hoverinfo": "text",
         "lat": [
          6.21,
          12.1667
         ],
         "legendgroup": "flows",
         "line": {
          "color": "blue",
          "width": 0.0398406374501992
         },
         "lon": [
          7.07,
          6.25
         ],
         "mode": "lines",
         "opacity": 0.4,
         "showlegend": false,
         "text": "Anambra → Zamfara: 1",
         "type": "scattergeo"
        },
        {
         "hoverinfo": "text",
         "lat": [
          10.3103,
          9.3265
         ],
         "legendgroup": "flows",
         "line": {
          "color": "blue",
          "width": 0.2788844621513944
         },
         "lon": [
          9.8439,
          12.3984
         ],
         "mode": "lines",
         "opacity": 0.4,
         "showlegend": false,
         "text": "Bauchi → Adamawa: 7",
         "type": "scattergeo"
        },
        {
         "hoverinfo": "text",
         "lat": [
          10.3103,
          6.21
         ],
         "legendgroup": "flows",
         "line": {
          "color": "blue",
          "width": 0.0796812749003984
         },
         "lon": [
          9.8439,
          7.07
         ],
         "mode": "lines",
         "opacity": 0.4,
         "showlegend": false,
         "text": "Bauchi → Anambra: 2",
         "type": "scattergeo"
        },
        {
         "hoverinfo": "text",
         "lat": [
          10.3103,
          11.8333
         ],
         "legendgroup": "flows",
         "line": {
          "color": "blue",
          "width": 0.23904382470119523
         },
         "lon": [
          9.8439,
          13.15
         ],
         "mode": "lines",
         "opacity": 0.4,
         "showlegend": false,
         "text": "Bauchi → Borno: 6",
         "type": "scattergeo"
        },
        {
         "hoverinfo": "text",
         "lat": [
          10.3103,
          6.335
         ],
         "legendgroup": "flows",
         "line": {
          "color": "blue",
          "width": 0.0796812749003984
         },
         "lon": [
          9.8439,
          5.6275
         ],
         "mode": "lines",
         "opacity": 0.4,
         "showlegend": false,
         "text": "Bauchi → Edo: 2",
         "type": "scattergeo"
        },
        {
         "hoverinfo": "text",
         "lat": [
          10.3103,
          9.0579
         ],
         "legendgroup": "flows",
         "line": {
          "color": "blue",
          "width": 0.5976095617529881
         },
         "lon": [
          9.8439,
          7.4951
         ],
         "mode": "lines",
         "opacity": 0.4,
         "showlegend": false,
         "text": "Bauchi → FCT: 15",
         "type": "scattergeo"
        },
        {
         "hoverinfo": "text",
         "lat": [
          10.3103,
          10.2897
         ],
         "legendgroup": "flows",
         "line": {
          "color": "blue",
          "width": 0.9163346613545817
         },
         "lon": [
          9.8439,
          11.17
         ],
         "mode": "lines",
         "opacity": 0.4,
         "showlegend": false,
         "text": "Bauchi → Gombe: 23",
         "type": "scattergeo"
        },
        {
         "hoverinfo": "text",
         "lat": [
          10.3103,
          5.4836
         ],
         "legendgroup": "flows",
         "line": {
          "color": "blue",
          "width": 0.0398406374501992
         },
         "lon": [
          9.8439,
          7.0333
         ],
         "mode": "lines",
         "opacity": 0.4,
         "showlegend": false,
         "text": "Bauchi → Imo: 1",
         "type": "scattergeo"
        },
        {
         "hoverinfo": "text",
         "lat": [
          10.3103,
          12
         ],
         "legendgroup": "flows",
         "line": {
          "color": "blue",
          "width": 0.8366533864541832
         },
         "lon": [
          9.8439,
          9.7667
         ],
         "mode": "lines",
         "opacity": 0.4,
         "showlegend": false,
         "text": "Bauchi → Jigawa: 21",
         "type": "scattergeo"
        },
        {
         "hoverinfo": "text",
         "lat": [
          10.3103,
          10.5231
         ],
         "legendgroup": "flows",
         "line": {
          "color": "blue",
          "width": 0.23904382470119523
         },
         "lon": [
          9.8439,
          7.4403
         ],
         "mode": "lines",
         "opacity": 0.4,
         "showlegend": false,
         "text": "Bauchi → Kaduna: 6",
         "type": "scattergeo"
        },
        {
         "hoverinfo": "text",
         "lat": [
          10.3103,
          12.0022
         ],
         "legendgroup": "flows",
         "line": {
          "color": "blue",
          "width": 0.2788844621513944
         },
         "lon": [
          9.8439,
          8.5919
         ],
         "mode": "lines",
         "opacity": 0.4,
         "showlegend": false,
         "text": "Bauchi → Kano: 7",
         "type": "scattergeo"
        },
        {
         "hoverinfo": "text",
         "lat": [
          10.3103,
          12.9889
         ],
         "legendgroup": "flows",
         "line": {
          "color": "blue",
          "width": 0.3187250996015936
         },
         "lon": [
          9.8439,
          7.6
         ],
         "mode": "lines",
         "opacity": 0.4,
         "showlegend": false,
         "text": "Bauchi → Katsina: 8",
         "type": "scattergeo"
        },
        {
         "hoverinfo": "text",
         "lat": [
          10.3103,
          8.5333
         ],
         "legendgroup": "flows",
         "line": {
          "color": "blue",
          "width": 0.3187250996015936
         },
         "lon": [
          9.8439,
          8.5333
         ],
         "mode": "lines",
         "opacity": 0.4,
         "showlegend": false,
         "text": "Bauchi → Nasarawa: 8",
         "type": "scattergeo"
        },
        {
         "hoverinfo": "text",
         "lat": [
          10.3103,
          9.9333
         ],
         "legendgroup": "flows",
         "line": {
          "color": "blue",
          "width": 0.6772908366533864
         },
         "lon": [
          9.8439,
          8.8833
         ],
         "mode": "lines",
         "opacity": 0.4,
         "showlegend": false,
         "text": "Bauchi → Plateau: 17",
         "type": "scattergeo"
        },
        {
         "hoverinfo": "text",
         "lat": [
          10.3103,
          13.0667
         ],
         "legendgroup": "flows",
         "line": {
          "color": "blue",
          "width": 0.0398406374501992
         },
         "lon": [
          9.8439,
          5.2333
         ],
         "mode": "lines",
         "opacity": 0.4,
         "showlegend": false,
         "text": "Bauchi → Sokoto: 1",
         "type": "scattergeo"
        },
        {
         "hoverinfo": "text",
         "lat": [
          10.3103,
          8.8833
         ],
         "legendgroup": "flows",
         "line": {
          "color": "blue",
          "width": 0.11952191235059761
         },
         "lon": [
          9.8439,
          11.3667
         ],
         "mode": "lines",
         "opacity": 0.4,
         "showlegend": false,
         "text": "Bauchi → Taraba: 3",
         "type": "scattergeo"
        },
        {
         "hoverinfo": "text",
         "lat": [
          10.3103,
          12
         ],
         "legendgroup": "flows",
         "line": {
          "color": "blue",
          "width": 0.23904382470119523
         },
         "lon": [
          9.8439,
          11.75
         ],
         "mode": "lines",
         "opacity": 0.4,
         "showlegend": false,
         "text": "Bauchi → Yobe: 6",
         "type": "scattergeo"
        },
        {
         "hoverinfo": "text",
         "lat": [
          10.3103,
          12.1667
         ],
         "legendgroup": "flows",
         "line": {
          "color": "blue",
          "width": 0.0398406374501992
         },
         "lon": [
          9.8439,
          6.25
         ],
         "mode": "lines",
         "opacity": 0.4,
         "showlegend": false,
         "text": "Bauchi → Zamfara: 1",
         "type": "scattergeo"
        },
        {
         "hoverinfo": "text",
         "lat": [
          4.922,
          5.532
         ],
         "legendgroup": "flows",
         "line": {
          "color": "blue",
          "width": 0.0398406374501992
         },
         "lon": [
          6.2649,
          7.486
         ],
         "mode": "lines",
         "opacity": 0.4,
         "showlegend": false,
         "text": "Bayelsa → Abia: 1",
         "type": "scattergeo"
        },
        {
         "hoverinfo": "text",
         "lat": [
          4.922,
          9.3265
         ],
         "legendgroup": "flows",
         "line": {
          "color": "blue",
          "width": 0.0398406374501992
         },
         "lon": [
          6.2649,
          12.3984
         ],
         "mode": "lines",
         "opacity": 0.4,
         "showlegend": false,
         "text": "Bayelsa → Adamawa: 1",
         "type": "scattergeo"
        },
        {
         "hoverinfo": "text",
         "lat": [
          4.922,
          4.9268
         ],
         "legendgroup": "flows",
         "line": {
          "color": "blue",
          "width": 0.11952191235059761
         },
         "lon": [
          6.2649,
          7.8722
         ],
         "mode": "lines",
         "opacity": 0.4,
         "showlegend": false,
         "text": "Bayelsa → Akwa Ibom: 3",
         "type": "scattergeo"
        },
        {
         "hoverinfo": "text",
         "lat": [
          4.922,
          5.465
         ],
         "legendgroup": "flows",
         "line": {
          "color": "blue",
          "width": 0.398406374501992
         },
         "lon": [
          6.2649,
          6.2019
         ],
         "mode": "lines",
         "opacity": 0.4,
         "showlegend": false,
         "text": "Bayelsa → Delta: 10",
         "type": "scattergeo"
        },
        {
         "hoverinfo": "text",
         "lat": [
          4.922,
          6.3249
         ],
         "legendgroup": "flows",
         "line": {
          "color": "blue",
          "width": 0.0398406374501992
         },
         "lon": [
          6.2649,
          8.1137
         ],
         "mode": "lines",
         "opacity": 0.4,
         "showlegend": false,
         "text": "Bayelsa → Ebonyi: 1",
         "type": "scattergeo"
        },
        {
         "hoverinfo": "text",
         "lat": [
          4.922,
          6.4527
         ],
         "legendgroup": "flows",
         "line": {
          "color": "blue",
          "width": 0.0796812749003984
         },
         "lon": [
          6.2649,
          7.5103
         ],
         "mode": "lines",
         "opacity": 0.4,
         "showlegend": false,
         "text": "Bayelsa → Enugu: 2",
         "type": "scattergeo"
        },
        {
         "hoverinfo": "text",
         "lat": [
          4.922,
          9.0579
         ],
         "legendgroup": "flows",
         "line": {
          "color": "blue",
          "width": 0.2788844621513944
         },
         "lon": [
          6.2649,
          7.4951
         ],
         "mode": "lines",
         "opacity": 0.4,
         "showlegend": false,
         "text": "Bayelsa → FCT: 7",
         "type": "scattergeo"
        },
        {
         "hoverinfo": "text",
         "lat": [
          4.922,
          5.4836
         ],
         "legendgroup": "flows",
         "line": {
          "color": "blue",
          "width": 0.0398406374501992
         },
         "lon": [
          6.2649,
          7.0333
         ],
         "mode": "lines",
         "opacity": 0.4,
         "showlegend": false,
         "text": "Bayelsa → Imo: 1",
         "type": "scattergeo"
        },
        {
         "hoverinfo": "text",
         "lat": [
          4.922,
          8.5
         ],
         "legendgroup": "flows",
         "line": {
          "color": "blue",
          "width": 0.0398406374501992
         },
         "lon": [
          6.2649,
          4.55
         ],
         "mode": "lines",
         "opacity": 0.4,
         "showlegend": false,
         "text": "Bayelsa → Kwara: 1",
         "type": "scattergeo"
        },
        {
         "hoverinfo": "text",
         "lat": [
          4.922,
          7
         ],
         "legendgroup": "flows",
         "line": {
          "color": "blue",
          "width": 0.0796812749003984
         },
         "lon": [
          6.2649,
          3.5833
         ],
         "mode": "lines",
         "opacity": 0.4,
         "showlegend": false,
         "text": "Bayelsa → Ogun: 2",
         "type": "scattergeo"
        },
        {
         "hoverinfo": "text",
         "lat": [
          4.922,
          7.25
         ],
         "legendgroup": "flows",
         "line": {
          "color": "blue",
          "width": 0.0398406374501992
         },
         "lon": [
          6.2649,
          5.2
         ],
         "mode": "lines",
         "opacity": 0.4,
         "showlegend": false,
         "text": "Bayelsa → Ondo: 1",
         "type": "scattergeo"
        },
        {
         "hoverinfo": "text",
         "lat": [
          4.922,
          4.8242
         ],
         "legendgroup": "flows",
         "line": {
          "color": "blue",
          "width": 0.4382470119521913
         },
         "lon": [
          6.2649,
          7.0336
         ],
         "mode": "lines",
         "opacity": 0.4,
         "showlegend": false,
         "text": "Bayelsa → Rivers: 11",
         "type": "scattergeo"
        },
        {
         "hoverinfo": "text",
         "lat": [
          7.1907,
          5.532
         ],
         "legendgroup": "flows",
         "line": {
          "color": "blue",
          "width": 0.0398406374501992
         },
         "lon": [
          8.129,
          7.486
         ],
         "mode": "lines",
         "opacity": 0.4,
         "showlegend": false,
         "text": "Benue → Abia: 1",
         "type": "scattergeo"
        },
        {
         "hoverinfo": "text",
         "lat": [
          7.1907,
          6.21
         ],
         "legendgroup": "flows",
         "line": {
          "color": "blue",
          "width": 0.11952191235059761
         },
         "lon": [
          8.129,
          7.07
         ],
         "mode": "lines",
         "opacity": 0.4,
         "showlegend": false,
         "text": "Benue → Anambra: 3",
         "type": "scattergeo"
        },
        {
         "hoverinfo": "text",
         "lat": [
          7.1907,
          4.922
         ],
         "legendgroup": "flows",
         "line": {
          "color": "blue",
          "width": 0.23904382470119523
         },
         "lon": [
          8.129,
          6.2649
         ],
         "mode": "lines",
         "opacity": 0.4,
         "showlegend": false,
         "text": "Benue → Bayelsa: 6",
         "type": "scattergeo"
        },
        {
         "hoverinfo": "text",
         "lat": [
          7.1907,
          11.8333
         ],
         "legendgroup": "flows",
         "line": {
          "color": "blue",
          "width": 0.0398406374501992
         },
         "lon": [
          8.129,
          13.15
         ],
         "mode": "lines",
         "opacity": 0.4,
         "showlegend": false,
         "text": "Benue → Borno: 1",
         "type": "scattergeo"
        },
        {
         "hoverinfo": "text",
         "lat": [
          7.1907,
          4.9517
         ],
         "legendgroup": "flows",
         "line": {
          "color": "blue",
          "width": 0.199203187250996
         },
         "lon": [
          8.129,
          8.322
         ],
         "mode": "lines",
         "opacity": 0.4,
         "showlegend": false,
         "text": "Benue → Cross River: 5",
         "type": "scattergeo"
        },
        {
         "hoverinfo": "text",
         "lat": [
          7.1907,
          5.465
         ],
         "legendgroup": "flows",
         "line": {
          "color": "blue",
          "width": 0.199203187250996
         },
         "lon": [
          8.129,
          6.2019
         ],
         "mode": "lines",
         "opacity": 0.4,
         "showlegend": false,
         "text": "Benue → Delta: 5",
         "type": "scattergeo"
        },
        {
         "hoverinfo": "text",
         "lat": [
          7.1907,
          6.335
         ],
         "legendgroup": "flows",
         "line": {
          "color": "blue",
          "width": 0.1593625498007968
         },
         "lon": [
          8.129,
          5.6275
         ],
         "mode": "lines",
         "opacity": 0.4,
         "showlegend": false,
         "text": "Benue → Edo: 4",
         "type": "scattergeo"
        },
        {
         "hoverinfo": "text",
         "lat": [
          7.1907,
          7.6233
         ],
         "legendgroup": "flows",
         "line": {
          "color": "blue",
          "width": 0.35856573705179284
         },
         "lon": [
          8.129,
          5.2214
         ],
         "mode": "lines",
         "opacity": 0.4,
         "showlegend": false,
         "text": "Benue → Ekiti: 9",
         "type": "scattergeo"
        },
        {
         "hoverinfo": "text",
         "lat": [
          7.1907,
          6.4527
         ],
         "legendgroup": "flows",
         "line": {
          "color": "blue",
          "width": 0.1593625498007968
         },
         "lon": [
          8.129,
          7.5103
         ],
         "mode": "lines",
         "opacity": 0.4,
         "showlegend": false,
         "text": "Benue → Enugu: 4",
         "type": "scattergeo"
        },
        {
         "hoverinfo": "text",
         "lat": [
          7.1907,
          9.0579
         ],
         "legendgroup": "flows",
         "line": {
          "color": "blue",
          "width": 2.50996015936255
         },
         "lon": [
          8.129,
          7.4951
         ],
         "mode": "lines",
         "opacity": 0.4,
         "showlegend": false,
         "text": "Benue → FCT: 63",
         "type": "scattergeo"
        },
        {
         "hoverinfo": "text",
         "lat": [
          7.1907,
          5.4836
         ],
         "legendgroup": "flows",
         "line": {
          "color": "blue",
          "width": 0.0796812749003984
         },
         "lon": [
          8.129,
          7.0333
         ],
         "mode": "lines",
         "opacity": 0.4,
         "showlegend": false,
         "text": "Benue → Imo: 2",
         "type": "scattergeo"
        },
        {
         "hoverinfo": "text",
         "lat": [
          7.1907,
          10.5231
         ],
         "legendgroup": "flows",
         "line": {
          "color": "blue",
          "width": 0.0398406374501992
         },
         "lon": [
          8.129,
          7.4403
         ],
         "mode": "lines",
         "opacity": 0.4,
         "showlegend": false,
         "text": "Benue → Kaduna: 1",
         "type": "scattergeo"
        },
        {
         "hoverinfo": "text",
         "lat": [
          7.1907,
          7.8
         ],
         "legendgroup": "flows",
         "line": {
          "color": "blue",
          "width": 0.3187250996015936
         },
         "lon": [
          8.129,
          6.7333
         ],
         "mode": "lines",
         "opacity": 0.4,
         "showlegend": false,
         "text": "Benue → Kogi: 8",
         "type": "scattergeo"
        },
        {
         "hoverinfo": "text",
         "lat": [
          7.1907,
          8.5
         ],
         "legendgroup": "flows",
         "line": {
          "color": "blue",
          "width": 0.2788844621513944
         },
         "lon": [
          8.129,
          4.55
         ],
         "mode": "lines",
         "opacity": 0.4,
         "showlegend": false,
         "text": "Benue → Kwara: 7",
         "type": "scattergeo"
        },
        {
         "hoverinfo": "text",
         "lat": [
          7.1907,
          6.5244
         ],
         "legendgroup": "flows",
         "line": {
          "color": "blue",
          "width": 0.199203187250996
         },
         "lon": [
          8.129,
          3.3792
         ],
         "mode": "lines",
         "opacity": 0.4,
         "showlegend": false,
         "text": "Benue → Lagos: 5",
         "type": "scattergeo"
        },
        {
         "hoverinfo": "text",
         "lat": [
          7.1907,
          8.5333
         ],
         "legendgroup": "flows",
         "line": {
          "color": "blue",
          "width": 1.0358565737051793
         },
         "lon": [
          8.129,
          8.5333
         ],
         "mode": "lines",
         "opacity": 0.4,
         "showlegend": false,
         "text": "Benue → Nasarawa: 26",
         "type": "scattergeo"
        },
        {
         "hoverinfo": "text",
         "lat": [
          7.1907,
          9.6
         ],
         "legendgroup": "flows",
         "line": {
          "color": "blue",
          "width": 0.0398406374501992
         },
         "lon": [
          8.129,
          6.55
         ],
         "mode": "lines",
         "opacity": 0.4,
         "showlegend": false,
         "text": "Benue → Niger: 1",
         "type": "scattergeo"
        },
        {
         "hoverinfo": "text",
         "lat": [
          7.1907,
          7
         ],
         "legendgroup": "flows",
         "line": {
          "color": "blue",
          "width": 0.6374501992031872
         },
         "lon": [
          8.129,
          3.5833
         ],
         "mode": "lines",
         "opacity": 0.4,
         "showlegend": false,
         "text": "Benue → Ogun: 16",
         "type": "scattergeo"
        },
        {
         "hoverinfo": "text",
         "lat": [
          7.1907,
          7.25
         ],
         "legendgroup": "flows",
         "line": {
          "color": "blue",
          "width": 0.398406374501992
         },
         "lon": [
          8.129,
          5.2
         ],
         "mode": "lines",
         "opacity": 0.4,
         "showlegend": false,
         "text": "Benue → Ondo: 10",
         "type": "scattergeo"
        },
        {
         "hoverinfo": "text",
         "lat": [
          7.1907,
          7.7833
         ],
         "legendgroup": "flows",
         "line": {
          "color": "blue",
          "width": 0.11952191235059761
         },
         "lon": [
          8.129,
          4.5667
         ],
         "mode": "lines",
         "opacity": 0.4,
         "showlegend": false,
         "text": "Benue → Osun: 3",
         "type": "scattergeo"
        },
        {
         "hoverinfo": "text",
         "lat": [
          7.1907,
          7.3833
         ],
         "legendgroup": "flows",
         "line": {
          "color": "blue",
          "width": 0.6772908366533864
         },
         "lon": [
          8.129,
          3.9333
         ],
         "mode": "lines",
         "opacity": 0.4,
         "showlegend": false,
         "text": "Benue → Oyo: 17",
         "type": "scattergeo"
        },
        {
         "hoverinfo": "text",
         "lat": [
          7.1907,
          9.9333
         ],
         "legendgroup": "flows",
         "line": {
          "color": "blue",
          "width": 0.0796812749003984
         },
         "lon": [
          8.129,
          8.8833
         ],
         "mode": "lines",
         "opacity": 0.4,
         "showlegend": false,
         "text": "Benue → Plateau: 2",
         "type": "scattergeo"
        },
        {
         "hoverinfo": "text",
         "lat": [
          7.1907,
          8.8833
         ],
         "legendgroup": "flows",
         "line": {
          "color": "blue",
          "width": 0.398406374501992
         },
         "lon": [
          8.129,
          11.3667
         ],
         "mode": "lines",
         "opacity": 0.4,
         "showlegend": false,
         "text": "Benue → Taraba: 10",
         "type": "scattergeo"
        },
        {
         "hoverinfo": "text",
         "lat": [
          7.1907,
          12
         ],
         "legendgroup": "flows",
         "line": {
          "color": "blue",
          "width": 0.0398406374501992
         },
         "lon": [
          8.129,
          11.75
         ],
         "mode": "lines",
         "opacity": 0.4,
         "showlegend": false,
         "text": "Benue → Yobe: 1",
         "type": "scattergeo"
        },
        {
         "hoverinfo": "text",
         "lat": [
          7.1907,
          12.1667
         ],
         "legendgroup": "flows",
         "line": {
          "color": "blue",
          "width": 0.0398406374501992
         },
         "lon": [
          8.129,
          6.25
         ],
         "mode": "lines",
         "opacity": 0.4,
         "showlegend": false,
         "text": "Benue → Zamfara: 1",
         "type": "scattergeo"
        },
        {
         "hoverinfo": "text",
         "lat": [
          11.8333,
          5.532
         ],
         "legendgroup": "flows",
         "line": {
          "color": "blue",
          "width": 0.0398406374501992
         },
         "lon": [
          13.15,
          7.486
         ],
         "mode": "lines",
         "opacity": 0.4,
         "showlegend": false,
         "text": "Borno → Abia: 1",
         "type": "scattergeo"
        },
        {
         "hoverinfo": "text",
         "lat": [
          11.8333,
          9.3265
         ],
         "legendgroup": "flows",
         "line": {
          "color": "blue",
          "width": 1.2749003984063745
         },
         "lon": [
          13.15,
          12.3984
         ],
         "mode": "lines",
         "opacity": 0.4,
         "showlegend": false,
         "text": "Borno → Adamawa: 32",
         "type": "scattergeo"
        },
        {
         "hoverinfo": "text",
         "lat": [
          11.8333,
          10.3103
         ],
         "legendgroup": "flows",
         "line": {
          "color": "blue",
          "width": 0.1593625498007968
         },
         "lon": [
          13.15,
          9.8439
         ],
         "mode": "lines",
         "opacity": 0.4,
         "showlegend": false,
         "text": "Borno → Bauchi: 4",
         "type": "scattergeo"
        },
        {
         "hoverinfo": "text",
         "lat": [
          11.8333,
          7.1907
         ],
         "legendgroup": "flows",
         "line": {
          "color": "blue",
          "width": 0.0796812749003984
         },
         "lon": [
          13.15,
          8.129
         ],
         "mode": "lines",
         "opacity": 0.4,
         "showlegend": false,
         "text": "Borno → Benue: 2",
         "type": "scattergeo"
        },
        {
         "hoverinfo": "text",
         "lat": [
          11.8333,
          6.335
         ],
         "legendgroup": "flows",
         "line": {
          "color": "blue",
          "width": 0.11952191235059761
         },
         "lon": [
          13.15,
          5.6275
         ],
         "mode": "lines",
         "opacity": 0.4,
         "showlegend": false,
         "text": "Borno → Edo: 3",
         "type": "scattergeo"
        },
        {
         "hoverinfo": "text",
         "lat": [
          11.8333,
          7.6233
         ],
         "legendgroup": "flows",
         "line": {
          "color": "blue",
          "width": 0.0398406374501992
         },
         "lon": [
          13.15,
          5.2214
         ],
         "mode": "lines",
         "opacity": 0.4,
         "showlegend": false,
         "text": "Borno → Ekiti: 1",
         "type": "scattergeo"
        },
        {
         "hoverinfo": "text",
         "lat": [
          11.8333,
          6.4527
         ],
         "legendgroup": "flows",
         "line": {
          "color": "blue",
          "width": 0.11952191235059761
         },
         "lon": [
          13.15,
          7.5103
         ],
         "mode": "lines",
         "opacity": 0.4,
         "showlegend": false,
         "text": "Borno → Enugu: 3",
         "type": "scattergeo"
        },
        {
         "hoverinfo": "text",
         "lat": [
          11.8333,
          9.0579
         ],
         "legendgroup": "flows",
         "line": {
          "color": "blue",
          "width": 0.9960159362549801
         },
         "lon": [
          13.15,
          7.4951
         ],
         "mode": "lines",
         "opacity": 0.4,
         "showlegend": false,
         "text": "Borno → FCT: 25",
         "type": "scattergeo"
        },
        {
         "hoverinfo": "text",
         "lat": [
          11.8333,
          10.2897
         ],
         "legendgroup": "flows",
         "line": {
          "color": "blue",
          "width": 0.4382470119521913
         },
         "lon": [
          13.15,
          11.17
         ],
         "mode": "lines",
         "opacity": 0.4,
         "showlegend": false,
         "text": "Borno → Gombe: 11",
         "type": "scattergeo"
        },
        {
         "hoverinfo": "text",
         "lat": [
          11.8333,
          12
         ],
         "legendgroup": "flows",
         "line": {
          "color": "blue",
          "width": 0.1593625498007968
         },
         "lon": [
          13.15,
          9.7667
         ],
         "mode": "lines",
         "opacity": 0.4,
         "showlegend": false,
         "text": "Borno → Jigawa: 4",
         "type": "scattergeo"
        },
        {
         "hoverinfo": "text",
         "lat": [
          11.8333,
          10.5231
         ],
         "legendgroup": "flows",
         "line": {
          "color": "blue",
          "width": 0.1593625498007968
         },
         "lon": [
          13.15,
          7.4403
         ],
         "mode": "lines",
         "opacity": 0.4,
         "showlegend": false,
         "text": "Borno → Kaduna: 4",
         "type": "scattergeo"
        },
        {
         "hoverinfo": "text",
         "lat": [
          11.8333,
          12.0022
         ],
         "legendgroup": "flows",
         "line": {
          "color": "blue",
          "width": 0.3187250996015936
         },
         "lon": [
          13.15,
          8.5919
         ],
         "mode": "lines",
         "opacity": 0.4,
         "showlegend": false,
         "text": "Borno → Kano: 8",
         "type": "scattergeo"
        },
        {
         "hoverinfo": "text",
         "lat": [
          11.8333,
          12.9889
         ],
         "legendgroup": "flows",
         "line": {
          "color": "blue",
          "width": 0.0398406374501992
         },
         "lon": [
          13.15,
          7.6
         ],
         "mode": "lines",
         "opacity": 0.4,
         "showlegend": false,
         "text": "Borno → Katsina: 1",
         "type": "scattergeo"
        },
        {
         "hoverinfo": "text",
         "lat": [
          11.8333,
          12.45
         ],
         "legendgroup": "flows",
         "line": {
          "color": "blue",
          "width": 0.0796812749003984
         },
         "lon": [
          13.15,
          4.2
         ],
         "mode": "lines",
         "opacity": 0.4,
         "showlegend": false,
         "text": "Borno → Kebbi: 2",
         "type": "scattergeo"
        },
        {
         "hoverinfo": "text",
         "lat": [
          11.8333,
          7.8
         ],
         "legendgroup": "flows",
         "line": {
          "color": "blue",
          "width": 0.0398406374501992
         },
         "lon": [
          13.15,
          6.7333
         ],
         "mode": "lines",
         "opacity": 0.4,
         "showlegend": false,
         "text": "Borno → Kogi: 1",
         "type": "scattergeo"
        },
        {
         "hoverinfo": "text",
         "lat": [
          11.8333,
          8.5
         ],
         "legendgroup": "flows",
         "line": {
          "color": "blue",
          "width": 0.0796812749003984
         },
         "lon": [
          13.15,
          4.55
         ],
         "mode": "lines",
         "opacity": 0.4,
         "showlegend": false,
         "text": "Borno → Kwara: 2",
         "type": "scattergeo"
        },
        {
         "hoverinfo": "text",
         "lat": [
          11.8333,
          8.5333
         ],
         "legendgroup": "flows",
         "line": {
          "color": "blue",
          "width": 0.0796812749003984
         },
         "lon": [
          13.15,
          8.5333
         ],
         "mode": "lines",
         "opacity": 0.4,
         "showlegend": false,
         "text": "Borno → Nasarawa: 2",
         "type": "scattergeo"
        },
        {
         "hoverinfo": "text",
         "lat": [
          11.8333,
          7.7833
         ],
         "legendgroup": "flows",
         "line": {
          "color": "blue",
          "width": 0.0398406374501992
         },
         "lon": [
          13.15,
          4.5667
         ],
         "mode": "lines",
         "opacity": 0.4,
         "showlegend": false,
         "text": "Borno → Osun: 1",
         "type": "scattergeo"
        },
        {
         "hoverinfo": "text",
         "lat": [
          11.8333,
          7.3833
         ],
         "legendgroup": "flows",
         "line": {
          "color": "blue",
          "width": 0.0398406374501992
         },
         "lon": [
          13.15,
          3.9333
         ],
         "mode": "lines",
         "opacity": 0.4,
         "showlegend": false,
         "text": "Borno → Oyo: 1",
         "type": "scattergeo"
        },
        {
         "hoverinfo": "text",
         "lat": [
          11.8333,
          9.9333
         ],
         "legendgroup": "flows",
         "line": {
          "color": "blue",
          "width": 0.0796812749003984
         },
         "lon": [
          13.15,
          8.8833
         ],
         "mode": "lines",
         "opacity": 0.4,
         "showlegend": false,
         "text": "Borno → Plateau: 2",
         "type": "scattergeo"
        },
        {
         "hoverinfo": "text",
         "lat": [
          11.8333,
          13.0667
         ],
         "legendgroup": "flows",
         "line": {
          "color": "blue",
          "width": 0.0398406374501992
         },
         "lon": [
          13.15,
          5.2333
         ],
         "mode": "lines",
         "opacity": 0.4,
         "showlegend": false,
         "text": "Borno → Sokoto: 1",
         "type": "scattergeo"
        },
        {
         "hoverinfo": "text",
         "lat": [
          11.8333,
          8.8833
         ],
         "legendgroup": "flows",
         "line": {
          "color": "blue",
          "width": 0.0796812749003984
         },
         "lon": [
          13.15,
          11.3667
         ],
         "mode": "lines",
         "opacity": 0.4,
         "showlegend": false,
         "text": "Borno → Taraba: 2",
         "type": "scattergeo"
        },
        {
         "hoverinfo": "text",
         "lat": [
          11.8333,
          12
         ],
         "legendgroup": "flows",
         "line": {
          "color": "blue",
          "width": 1.3545816733067728
         },
         "lon": [
          13.15,
          11.75
         ],
         "mode": "lines",
         "opacity": 0.4,
         "showlegend": false,
         "text": "Borno → Yobe: 34",
         "type": "scattergeo"
        },
        {
         "hoverinfo": "text",
         "lat": [
          4.9517,
          5.532
         ],
         "legendgroup": "flows",
         "line": {
          "color": "blue",
          "width": 0.0398406374501992
         },
         "lon": [
          8.322,
          7.486
         ],
         "mode": "lines",
         "opacity": 0.4,
         "showlegend": false,
         "text": "Cross River → Abia: 1",
         "type": "scattergeo"
        },
        {
         "hoverinfo": "text",
         "lat": [
          4.9517,
          9.3265
         ],
         "legendgroup": "flows",
         "line": {
          "color": "blue",
          "width": 0.0398406374501992
         },
         "lon": [
          8.322,
          12.3984
         ],
         "mode": "lines",
         "opacity": 0.4,
         "showlegend": false,
         "text": "Cross River → Adamawa: 1",
         "type": "scattergeo"
        },
        {
         "hoverinfo": "text",
         "lat": [
          4.9517,
          4.9268
         ],
         "legendgroup": "flows",
         "line": {
          "color": "blue",
          "width": 1.3147410358565736
         },
         "lon": [
          8.322,
          7.8722
         ],
         "mode": "lines",
         "opacity": 0.4,
         "showlegend": false,
         "text": "Cross River → Akwa Ibom: 33",
         "type": "scattergeo"
        },
        {
         "hoverinfo": "text",
         "lat": [
          4.9517,
          6.21
         ],
         "legendgroup": "flows",
         "line": {
          "color": "blue",
          "width": 0.23904382470119523
         },
         "lon": [
          8.322,
          7.07
         ],
         "mode": "lines",
         "opacity": 0.4,
         "showlegend": false,
         "text": "Cross River → Anambra: 6",
         "type": "scattergeo"
        },
        {
         "hoverinfo": "text",
         "lat": [
          4.9517,
          4.922
         ],
         "legendgroup": "flows",
         "line": {
          "color": "blue",
          "width": 0.23904382470119523
         },
         "lon": [
          8.322,
          6.2649
         ],
         "mode": "lines",
         "opacity": 0.4,
         "showlegend": false,
         "text": "Cross River → Bayelsa: 6",
         "type": "scattergeo"
        },
        {
         "hoverinfo": "text",
         "lat": [
          4.9517,
          7.1907
         ],
         "legendgroup": "flows",
         "line": {
          "color": "blue",
          "width": 0.0796812749003984
         },
         "lon": [
          8.322,
          8.129
         ],
         "mode": "lines",
         "opacity": 0.4,
         "showlegend": false,
         "text": "Cross River → Benue: 2",
         "type": "scattergeo"
        },
        {
         "hoverinfo": "text",
         "lat": [
          4.9517,
          11.8333
         ],
         "legendgroup": "flows",
         "line": {
          "color": "blue",
          "width": 0.11952191235059761
         },
         "lon": [
          8.322,
          13.15
         ],
         "mode": "lines",
         "opacity": 0.4,
         "showlegend": false,
         "text": "Cross River → Borno: 3",
         "type": "scattergeo"
        },
        {
         "hoverinfo": "text",
         "lat": [
          4.9517,
          5.465
         ],
         "legendgroup": "flows",
         "line": {
          "color": "blue",
          "width": 0.0796812749003984
         },
         "lon": [
          8.322,
          6.2019
         ],
         "mode": "lines",
         "opacity": 0.4,
         "showlegend": false,
         "text": "Cross River → Delta: 2",
         "type": "scattergeo"
        },
        {
         "hoverinfo": "text",
         "lat": [
          4.9517,
          6.3249
         ],
         "legendgroup": "flows",
         "line": {
          "color": "blue",
          "width": 0.199203187250996
         },
         "lon": [
          8.322,
          8.1137
         ],
         "mode": "lines",
         "opacity": 0.4,
         "showlegend": false,
         "text": "Cross River → Ebonyi: 5",
         "type": "scattergeo"
        },
        {
         "hoverinfo": "text",
         "lat": [
          4.9517,
          6.335
         ],
         "legendgroup": "flows",
         "line": {
          "color": "blue",
          "width": 0.1593625498007968
         },
         "lon": [
          8.322,
          5.6275
         ],
         "mode": "lines",
         "opacity": 0.4,
         "showlegend": false,
         "text": "Cross River → Edo: 4",
         "type": "scattergeo"
        },
        {
         "hoverinfo": "text",
         "lat": [
          4.9517,
          6.4527
         ],
         "legendgroup": "flows",
         "line": {
          "color": "blue",
          "width": 0.2788844621513944
         },
         "lon": [
          8.322,
          7.5103
         ],
         "mode": "lines",
         "opacity": 0.4,
         "showlegend": false,
         "text": "Cross River → Enugu: 7",
         "type": "scattergeo"
        },
        {
         "hoverinfo": "text",
         "lat": [
          4.9517,
          9.0579
         ],
         "legendgroup": "flows",
         "line": {
          "color": "blue",
          "width": 0.9960159362549801
         },
         "lon": [
          8.322,
          7.4951
         ],
         "mode": "lines",
         "opacity": 0.4,
         "showlegend": false,
         "text": "Cross River → FCT: 25",
         "type": "scattergeo"
        },
        {
         "hoverinfo": "text",
         "lat": [
          4.9517,
          5.4836
         ],
         "legendgroup": "flows",
         "line": {
          "color": "blue",
          "width": 0.35856573705179284
         },
         "lon": [
          8.322,
          7.0333
         ],
         "mode": "lines",
         "opacity": 0.4,
         "showlegend": false,
         "text": "Cross River → Imo: 9",
         "type": "scattergeo"
        },
        {
         "hoverinfo": "text",
         "lat": [
          4.9517,
          10.5231
         ],
         "legendgroup": "flows",
         "line": {
          "color": "blue",
          "width": 0.0398406374501992
         },
         "lon": [
          8.322,
          7.4403
         ],
         "mode": "lines",
         "opacity": 0.4,
         "showlegend": false,
         "text": "Cross River → Kaduna: 1",
         "type": "scattergeo"
        },
        {
         "hoverinfo": "text",
         "lat": [
          4.9517,
          12.9889
         ],
         "legendgroup": "flows",
         "line": {
          "color": "blue",
          "width": 0.0398406374501992
         },
         "lon": [
          8.322,
          7.6
         ],
         "mode": "lines",
         "opacity": 0.4,
         "showlegend": false,
         "text": "Cross River → Katsina: 1",
         "type": "scattergeo"
        },
        {
         "hoverinfo": "text",
         "lat": [
          4.9517,
          7.8
         ],
         "legendgroup": "flows",
         "line": {
          "color": "blue",
          "width": 0.0398406374501992
         },
         "lon": [
          8.322,
          6.7333
         ],
         "mode": "lines",
         "opacity": 0.4,
         "showlegend": false,
         "text": "Cross River → Kogi: 1",
         "type": "scattergeo"
        },
        {
         "hoverinfo": "text",
         "lat": [
          4.9517,
          6.5244
         ],
         "legendgroup": "flows",
         "line": {
          "color": "blue",
          "width": 0.0398406374501992
         },
         "lon": [
          8.322,
          3.3792
         ],
         "mode": "lines",
         "opacity": 0.4,
         "showlegend": false,
         "text": "Cross River → Lagos: 1",
         "type": "scattergeo"
        },
        {
         "hoverinfo": "text",
         "lat": [
          4.9517,
          8.5333
         ],
         "legendgroup": "flows",
         "line": {
          "color": "blue",
          "width": 0.11952191235059761
         },
         "lon": [
          8.322,
          8.5333
         ],
         "mode": "lines",
         "opacity": 0.4,
         "showlegend": false,
         "text": "Cross River → Nasarawa: 3",
         "type": "scattergeo"
        },
        {
         "hoverinfo": "text",
         "lat": [
          4.9517,
          9.6
         ],
         "legendgroup": "flows",
         "line": {
          "color": "blue",
          "width": 0.0398406374501992
         },
         "lon": [
          8.322,
          6.55
         ],
         "mode": "lines",
         "opacity": 0.4,
         "showlegend": false,
         "text": "Cross River → Niger: 1",
         "type": "scattergeo"
        },
        {
         "hoverinfo": "text",
         "lat": [
          4.9517,
          7
         ],
         "legendgroup": "flows",
         "line": {
          "color": "blue",
          "width": 0.0796812749003984
         },
         "lon": [
          8.322,
          3.5833
         ],
         "mode": "lines",
         "opacity": 0.4,
         "showlegend": false,
         "text": "Cross River → Ogun: 2",
         "type": "scattergeo"
        },
        {
         "hoverinfo": "text",
         "lat": [
          4.9517,
          7.25
         ],
         "legendgroup": "flows",
         "line": {
          "color": "blue",
          "width": 0.7569721115537849
         },
         "lon": [
          8.322,
          5.2
         ],
         "mode": "lines",
         "opacity": 0.4,
         "showlegend": false,
         "text": "Cross River → Ondo: 19",
         "type": "scattergeo"
        },
        {
         "hoverinfo": "text",
         "lat": [
          4.9517,
          7.7833
         ],
         "legendgroup": "flows",
         "line": {
          "color": "blue",
          "width": 0.11952191235059761
         },
         "lon": [
          8.322,
          4.5667
         ],
         "mode": "lines",
         "opacity": 0.4,
         "showlegend": false,
         "text": "Cross River → Osun: 3",
         "type": "scattergeo"
        },
        {
         "hoverinfo": "text",
         "lat": [
          4.9517,
          7.3833
         ],
         "legendgroup": "flows",
         "line": {
          "color": "blue",
          "width": 0.0398406374501992
         },
         "lon": [
          8.322,
          3.9333
         ],
         "mode": "lines",
         "opacity": 0.4,
         "showlegend": false,
         "text": "Cross River → Oyo: 1",
         "type": "scattergeo"
        },
        {
         "hoverinfo": "text",
         "lat": [
          4.9517,
          4.8242
         ],
         "legendgroup": "flows",
         "line": {
          "color": "blue",
          "width": 0.11952191235059761
         },
         "lon": [
          8.322,
          7.0336
         ],
         "mode": "lines",
         "opacity": 0.4,
         "showlegend": false,
         "text": "Cross River → Rivers: 3",
         "type": "scattergeo"
        },
        {
         "hoverinfo": "text",
         "lat": [
          4.9517,
          13.0667
         ],
         "legendgroup": "flows",
         "line": {
          "color": "blue",
          "width": 0.1593625498007968
         },
         "lon": [
          8.322,
          5.2333
         ],
         "mode": "lines",
         "opacity": 0.4,
         "showlegend": false,
         "text": "Cross River → Sokoto: 4",
         "type": "scattergeo"
        },
        {
         "hoverinfo": "text",
         "lat": [
          4.9517,
          12
         ],
         "legendgroup": "flows",
         "line": {
          "color": "blue",
          "width": 0.0398406374501992
         },
         "lon": [
          8.322,
          11.75
         ],
         "mode": "lines",
         "opacity": 0.4,
         "showlegend": false,
         "text": "Cross River → Yobe: 1",
         "type": "scattergeo"
        },
        {
         "hoverinfo": "text",
         "lat": [
          5.465,
          5.532
         ],
         "legendgroup": "flows",
         "line": {
          "color": "blue",
          "width": 0.11952191235059761
         },
         "lon": [
          6.2019,
          7.486
         ],
         "mode": "lines",
         "opacity": 0.4,
         "showlegend": false,
         "text": "Delta → Abia: 3",
         "type": "scattergeo"
        },
        {
         "hoverinfo": "text",
         "lat": [
          5.465,
          4.9268
         ],
         "legendgroup": "flows",
         "line": {
          "color": "blue",
          "width": 0.2788844621513944
         },
         "lon": [
          6.2019,
          7.8722
         ],
         "mode": "lines",
         "opacity": 0.4,
         "showlegend": false,
         "text": "Delta → Akwa Ibom: 7",
         "type": "scattergeo"
        },
        {
         "hoverinfo": "text",
         "lat": [
          5.465,
          6.21
         ],
         "legendgroup": "flows",
         "line": {
          "color": "blue",
          "width": 0.5179282868525896
         },
         "lon": [
          6.2019,
          7.07
         ],
         "mode": "lines",
         "opacity": 0.4,
         "showlegend": false,
         "text": "Delta → Anambra: 13",
         "type": "scattergeo"
        },
        {
         "hoverinfo": "text",
         "lat": [
          5.465,
          4.922
         ],
         "legendgroup": "flows",
         "line": {
          "color": "blue",
          "width": 2.191235059760956
         },
         "lon": [
          6.2019,
          6.2649
         ],
         "mode": "lines",
         "opacity": 0.4,
         "showlegend": false,
         "text": "Delta → Bayelsa: 55",
         "type": "scattergeo"
        },
        {
         "hoverinfo": "text",
         "lat": [
          5.465,
          7.1907
         ],
         "legendgroup": "flows",
         "line": {
          "color": "blue",
          "width": 0.0398406374501992
         },
         "lon": [
          6.2019,
          8.129
         ],
         "mode": "lines",
         "opacity": 0.4,
         "showlegend": false,
         "text": "Delta → Benue: 1",
         "type": "scattergeo"
        },
        {
         "hoverinfo": "text",
         "lat": [
          5.465,
          11.8333
         ],
         "legendgroup": "flows",
         "line": {
          "color": "blue",
          "width": 0.0398406374501992
         },
         "lon": [
          6.2019,
          13.15
         ],
         "mode": "lines",
         "opacity": 0.4,
         "showlegend": false,
         "text": "Delta → Borno: 1",
         "type": "scattergeo"
        },
        {
         "hoverinfo": "text",
         "lat": [
          5.465,
          4.9517
         ],
         "legendgroup": "flows",
         "line": {
          "color": "blue",
          "width": 0.0796812749003984
         },
         "lon": [
          6.2019,
          8.322
         ],
         "mode": "lines",
         "opacity": 0.4,
         "showlegend": false,
         "text": "Delta → Cross River: 2",
         "type": "scattergeo"
        },
        {
         "hoverinfo": "text",
         "lat": [
          5.465,
          6.3249
         ],
         "legendgroup": "flows",
         "line": {
          "color": "blue",
          "width": 0.11952191235059761
         },
         "lon": [
          6.2019,
          8.1137
         ],
         "mode": "lines",
         "opacity": 0.4,
         "showlegend": false,
         "text": "Delta → Ebonyi: 3",
         "type": "scattergeo"
        },
        {
         "hoverinfo": "text",
         "lat": [
          5.465,
          6.335
         ],
         "legendgroup": "flows",
         "line": {
          "color": "blue",
          "width": 1.2350597609561753
         },
         "lon": [
          6.2019,
          5.6275
         ],
         "mode": "lines",
         "opacity": 0.4,
         "showlegend": false,
         "text": "Delta → Edo: 31",
         "type": "scattergeo"
        },
        {
         "hoverinfo": "text",
         "lat": [
          5.465,
          7.6233
         ],
         "legendgroup": "flows",
         "line": {
          "color": "blue",
          "width": 0.23904382470119523
         },
         "lon": [
          6.2019,
          5.2214
         ],
         "mode": "lines",
         "opacity": 0.4,
         "showlegend": false,
         "text": "Delta → Ekiti: 6",
         "type": "scattergeo"
        },
        {
         "hoverinfo": "text",
         "lat": [
          5.465,
          6.4527
         ],
         "legendgroup": "flows",
         "line": {
          "color": "blue",
          "width": 0.11952191235059761
         },
         "lon": [
          6.2019,
          7.5103
         ],
         "mode": "lines",
         "opacity": 0.4,
         "showlegend": false,
         "text": "Delta → Enugu: 3",
         "type": "scattergeo"
        },
        {
         "hoverinfo": "text",
         "lat": [
          5.465,
          9.0579
         ],
         "legendgroup": "flows",
         "line": {
          "color": "blue",
          "width": 0.6374501992031872
         },
         "lon": [
          6.2019,
          7.4951
         ],
         "mode": "lines",
         "opacity": 0.4,
         "showlegend": false,
         "text": "Delta → FCT: 16",
         "type": "scattergeo"
        },
        {
         "hoverinfo": "text",
         "lat": [
          5.465,
          10.2897
         ],
         "legendgroup": "flows",
         "line": {
          "color": "blue",
          "width": 0.0398406374501992
         },
         "lon": [
          6.2019,
          11.17
         ],
         "mode": "lines",
         "opacity": 0.4,
         "showlegend": false,
         "text": "Delta → Gombe: 1",
         "type": "scattergeo"
        },
        {
         "hoverinfo": "text",
         "lat": [
          5.465,
          5.4836
         ],
         "legendgroup": "flows",
         "line": {
          "color": "blue",
          "width": 0.398406374501992
         },
         "lon": [
          6.2019,
          7.0333
         ],
         "mode": "lines",
         "opacity": 0.4,
         "showlegend": false,
         "text": "Delta → Imo: 10",
         "type": "scattergeo"
        },
        {
         "hoverinfo": "text",
         "lat": [
          5.465,
          10.5231
         ],
         "legendgroup": "flows",
         "line": {
          "color": "blue",
          "width": 0.0398406374501992
         },
         "lon": [
          6.2019,
          7.4403
         ],
         "mode": "lines",
         "opacity": 0.4,
         "showlegend": false,
         "text": "Delta → Kaduna: 1",
         "type": "scattergeo"
        },
        {
         "hoverinfo": "text",
         "lat": [
          5.465,
          12.0022
         ],
         "legendgroup": "flows",
         "line": {
          "color": "blue",
          "width": 0.0398406374501992
         },
         "lon": [
          6.2019,
          8.5919
         ],
         "mode": "lines",
         "opacity": 0.4,
         "showlegend": false,
         "text": "Delta → Kano: 1",
         "type": "scattergeo"
        },
        {
         "hoverinfo": "text",
         "lat": [
          5.465,
          12.9889
         ],
         "legendgroup": "flows",
         "line": {
          "color": "blue",
          "width": 0.0398406374501992
         },
         "lon": [
          6.2019,
          7.6
         ],
         "mode": "lines",
         "opacity": 0.4,
         "showlegend": false,
         "text": "Delta → Katsina: 1",
         "type": "scattergeo"
        },
        {
         "hoverinfo": "text",
         "lat": [
          5.465,
          12.45
         ],
         "legendgroup": "flows",
         "line": {
          "color": "blue",
          "width": 0.0398406374501992
         },
         "lon": [
          6.2019,
          4.2
         ],
         "mode": "lines",
         "opacity": 0.4,
         "showlegend": false,
         "text": "Delta → Kebbi: 1",
         "type": "scattergeo"
        },
        {
         "hoverinfo": "text",
         "lat": [
          5.465,
          7.8
         ],
         "legendgroup": "flows",
         "line": {
          "color": "blue",
          "width": 0.1593625498007968
         },
         "lon": [
          6.2019,
          6.7333
         ],
         "mode": "lines",
         "opacity": 0.4,
         "showlegend": false,
         "text": "Delta → Kogi: 4",
         "type": "scattergeo"
        },
        {
         "hoverinfo": "text",
         "lat": [
          5.465,
          8.5
         ],
         "legendgroup": "flows",
         "line": {
          "color": "blue",
          "width": 0.0398406374501992
         },
         "lon": [
          6.2019,
          4.55
         ],
         "mode": "lines",
         "opacity": 0.4,
         "showlegend": false,
         "text": "Delta → Kwara: 1",
         "type": "scattergeo"
        },
        {
         "hoverinfo": "text",
         "lat": [
          5.465,
          6.5244
         ],
         "legendgroup": "flows",
         "line": {
          "color": "blue",
          "width": 0.0796812749003984
         },
         "lon": [
          6.2019,
          3.3792
         ],
         "mode": "lines",
         "opacity": 0.4,
         "showlegend": false,
         "text": "Delta → Lagos: 2",
         "type": "scattergeo"
        },
        {
         "hoverinfo": "text",
         "lat": [
          5.465,
          9.6
         ],
         "legendgroup": "flows",
         "line": {
          "color": "blue",
          "width": 0.0796812749003984
         },
         "lon": [
          6.2019,
          6.55
         ],
         "mode": "lines",
         "opacity": 0.4,
         "showlegend": false,
         "text": "Delta → Niger: 2",
         "type": "scattergeo"
        },
        {
         "hoverinfo": "text",
         "lat": [
          5.465,
          7
         ],
         "legendgroup": "flows",
         "line": {
          "color": "blue",
          "width": 0.23904382470119523
         },
         "lon": [
          6.2019,
          3.5833
         ],
         "mode": "lines",
         "opacity": 0.4,
         "showlegend": false,
         "text": "Delta → Ogun: 6",
         "type": "scattergeo"
        },
        {
         "hoverinfo": "text",
         "lat": [
          5.465,
          7.25
         ],
         "legendgroup": "flows",
         "line": {
          "color": "blue",
          "width": 0.11952191235059761
         },
         "lon": [
          6.2019,
          5.2
         ],
         "mode": "lines",
         "opacity": 0.4,
         "showlegend": false,
         "text": "Delta → Ondo: 3",
         "type": "scattergeo"
        },
        {
         "hoverinfo": "text",
         "lat": [
          5.465,
          7.7833
         ],
         "legendgroup": "flows",
         "line": {
          "color": "blue",
          "width": 0.0398406374501992
         },
         "lon": [
          6.2019,
          4.5667
         ],
         "mode": "lines",
         "opacity": 0.4,
         "showlegend": false,
         "text": "Delta → Osun: 1",
         "type": "scattergeo"
        },
        {
         "hoverinfo": "text",
         "lat": [
          5.465,
          9.9333
         ],
         "legendgroup": "flows",
         "line": {
          "color": "blue",
          "width": 0.0398406374501992
         },
         "lon": [
          6.2019,
          8.8833
         ],
         "mode": "lines",
         "opacity": 0.4,
         "showlegend": false,
         "text": "Delta → Plateau: 1",
         "type": "scattergeo"
        },
        {
         "hoverinfo": "text",
         "lat": [
          5.465,
          4.8242
         ],
         "legendgroup": "flows",
         "line": {
          "color": "blue",
          "width": 0.23904382470119523
         },
         "lon": [
          6.2019,
          7.0336
         ],
         "mode": "lines",
         "opacity": 0.4,
         "showlegend": false,
         "text": "Delta → Rivers: 6",
         "type": "scattergeo"
        },
        {
         "hoverinfo": "text",
         "lat": [
          6.3249,
          5.532
         ],
         "legendgroup": "flows",
         "line": {
          "color": "blue",
          "width": 0.35856573705179284
         },
         "lon": [
          8.1137,
          7.486
         ],
         "mode": "lines",
         "opacity": 0.4,
         "showlegend": false,
         "text": "Ebonyi → Abia: 9",
         "type": "scattergeo"
        },
        {
         "hoverinfo": "text",
         "lat": [
          6.3249,
          4.9268
         ],
         "legendgroup": "flows",
         "line": {
          "color": "blue",
          "width": 0.0398406374501992
         },
         "lon": [
          8.1137,
          7.8722
         ],
         "mode": "lines",
         "opacity": 0.4,
         "showlegend": false,
         "text": "Ebonyi → Akwa Ibom: 1",
         "type": "scattergeo"
        },
        {
         "hoverinfo": "text",
         "lat": [
          6.3249,
          6.21
         ],
         "legendgroup": "flows",
         "line": {
          "color": "blue",
          "width": 1.3545816733067728
         },
         "lon": [
          8.1137,
          7.07
         ],
         "mode": "lines",
         "opacity": 0.4,
         "showlegend": false,
         "text": "Ebonyi → Anambra: 34",
         "type": "scattergeo"
        },
        {
         "hoverinfo": "text",
         "lat": [
          6.3249,
          7.1907
         ],
         "legendgroup": "flows",
         "line": {
          "color": "blue",
          "width": 0.1593625498007968
         },
         "lon": [
          8.1137,
          8.129
         ],
         "mode": "lines",
         "opacity": 0.4,
         "showlegend": false,
         "text": "Ebonyi → Benue: 4",
         "type": "scattergeo"
        },
        {
         "hoverinfo": "text",
         "lat": [
          6.3249,
          4.9517
         ],
         "legendgroup": "flows",
         "line": {
          "color": "blue",
          "width": 0.398406374501992
         },
         "lon": [
          8.1137,
          8.322
         ],
         "mode": "lines",
         "opacity": 0.4,
         "showlegend": false,
         "text": "Ebonyi → Cross River: 10",
         "type": "scattergeo"
        },
        {
         "hoverinfo": "text",
         "lat": [
          6.3249,
          5.465
         ],
         "legendgroup": "flows",
         "line": {
          "color": "blue",
          "width": 0.23904382470119523
         },
         "lon": [
          8.1137,
          6.2019
         ],
         "mode": "lines",
         "opacity": 0.4,
         "showlegend": false,
         "text": "Ebonyi → Delta: 6",
         "type": "scattergeo"
        },
        {
         "hoverinfo": "text",
         "lat": [
          6.3249,
          6.335
         ],
         "legendgroup": "flows",
         "line": {
          "color": "blue",
          "width": 0.35856573705179284
         },
         "lon": [
          8.1137,
          5.6275
         ],
         "mode": "lines",
         "opacity": 0.4,
         "showlegend": false,
         "text": "Ebonyi → Edo: 9",
         "type": "scattergeo"
        },
        {
         "hoverinfo": "text",
         "lat": [
          6.3249,
          7.6233
         ],
         "legendgroup": "flows",
         "line": {
          "color": "blue",
          "width": 0.0398406374501992
         },
         "lon": [
          8.1137,
          5.2214
         ],
         "mode": "lines",
         "opacity": 0.4,
         "showlegend": false,
         "text": "Ebonyi → Ekiti: 1",
         "type": "scattergeo"
        },
        {
         "hoverinfo": "text",
         "lat": [
          6.3249,
          6.4527
         ],
         "legendgroup": "flows",
         "line": {
          "color": "blue",
          "width": 0.8764940239043826
         },
         "lon": [
          8.1137,
          7.5103
         ],
         "mode": "lines",
         "opacity": 0.4,
         "showlegend": false,
         "text": "Ebonyi → Enugu: 22",
         "type": "scattergeo"
        },
        {
         "hoverinfo": "text",
         "lat": [
          6.3249,
          9.0579
         ],
         "legendgroup": "flows",
         "line": {
          "color": "blue",
          "width": 0.3187250996015936
         },
         "lon": [
          8.1137,
          7.4951
         ],
         "mode": "lines",
         "opacity": 0.4,
         "showlegend": false,
         "text": "Ebonyi → FCT: 8",
         "type": "scattergeo"
        },
        {
         "hoverinfo": "text",
         "lat": [
          6.3249,
          5.4836
         ],
         "legendgroup": "flows",
         "line": {
          "color": "blue",
          "width": 0.23904382470119523
         },
         "lon": [
          8.1137,
          7.0333
         ],
         "mode": "lines",
         "opacity": 0.4,
         "showlegend": false,
         "text": "Ebonyi → Imo: 6",
         "type": "scattergeo"
        },
        {
         "hoverinfo": "text",
         "lat": [
          6.3249,
          12.45
         ],
         "legendgroup": "flows",
         "line": {
          "color": "blue",
          "width": 0.0398406374501992
         },
         "lon": [
          8.1137,
          4.2
         ],
         "mode": "lines",
         "opacity": 0.4,
         "showlegend": false,
         "text": "Ebonyi → Kebbi: 1",
         "type": "scattergeo"
        },
        {
         "hoverinfo": "text",
         "lat": [
          6.3249,
          8.5
         ],
         "legendgroup": "flows",
         "line": {
          "color": "blue",
          "width": 0.0398406374501992
         },
         "lon": [
          8.1137,
          4.55
         ],
         "mode": "lines",
         "opacity": 0.4,
         "showlegend": false,
         "text": "Ebonyi → Kwara: 1",
         "type": "scattergeo"
        },
        {
         "hoverinfo": "text",
         "lat": [
          6.3249,
          6.5244
         ],
         "legendgroup": "flows",
         "line": {
          "color": "blue",
          "width": 0.23904382470119523
         },
         "lon": [
          8.1137,
          3.3792
         ],
         "mode": "lines",
         "opacity": 0.4,
         "showlegend": false,
         "text": "Ebonyi → Lagos: 6",
         "type": "scattergeo"
        },
        {
         "hoverinfo": "text",
         "lat": [
          6.3249,
          8.5333
         ],
         "legendgroup": "flows",
         "line": {
          "color": "blue",
          "width": 0.0796812749003984
         },
         "lon": [
          8.1137,
          8.5333
         ],
         "mode": "lines",
         "opacity": 0.4,
         "showlegend": false,
         "text": "Ebonyi → Nasarawa: 2",
         "type": "scattergeo"
        },
        {
         "hoverinfo": "text",
         "lat": [
          6.3249,
          7
         ],
         "legendgroup": "flows",
         "line": {
          "color": "blue",
          "width": 0.398406374501992
         },
         "lon": [
          8.1137,
          3.5833
         ],
         "mode": "lines",
         "opacity": 0.4,
         "showlegend": false,
         "text": "Ebonyi → Ogun: 10",
         "type": "scattergeo"
        },
        {
         "hoverinfo": "text",
         "lat": [
          6.3249,
          7.25
         ],
         "legendgroup": "flows",
         "line": {
          "color": "blue",
          "width": 0.11952191235059761
         },
         "lon": [
          8.1137,
          5.2
         ],
         "mode": "lines",
         "opacity": 0.4,
         "showlegend": false,
         "text": "Ebonyi → Ondo: 3",
         "type": "scattergeo"
        },
        {
         "hoverinfo": "text",
         "lat": [
          6.3249,
          9.9333
         ],
         "legendgroup": "flows",
         "line": {
          "color": "blue",
          "width": 0.11952191235059761
         },
         "lon": [
          8.1137,
          8.8833
         ],
         "mode": "lines",
         "opacity": 0.4,
         "showlegend": false,
         "text": "Ebonyi → Plateau: 3",
         "type": "scattergeo"
        },
        {
         "hoverinfo": "text",
         "lat": [
          6.3249,
          4.8242
         ],
         "legendgroup": "flows",
         "line": {
          "color": "blue",
          "width": 0.11952191235059761
         },
         "lon": [
          8.1137,
          7.0336
         ],
         "mode": "lines",
         "opacity": 0.4,
         "showlegend": false,
         "text": "Ebonyi → Rivers: 3",
         "type": "scattergeo"
        },
        {
         "hoverinfo": "text",
         "lat": [
          6.335,
          5.532
         ],
         "legendgroup": "flows",
         "line": {
          "color": "blue",
          "width": 0.0796812749003984
         },
         "lon": [
          5.6275,
          7.486
         ],
         "mode": "lines",
         "opacity": 0.4,
         "showlegend": false,
         "text": "Edo → Abia: 2",
         "type": "scattergeo"
        },
        {
         "hoverinfo": "text",
         "lat": [
          6.335,
          4.9268
         ],
         "legendgroup": "flows",
         "line": {
          "color": "blue",
          "width": 0.11952191235059761
         },
         "lon": [
          5.6275,
          7.8722
         ],
         "mode": "lines",
         "opacity": 0.4,
         "showlegend": false,
         "text": "Edo → Akwa Ibom: 3",
         "type": "scattergeo"
        },
        {
         "hoverinfo": "text",
         "lat": [
          6.335,
          6.21
         ],
         "legendgroup": "flows",
         "line": {
          "color": "blue",
          "width": 0.11952191235059761
         },
         "lon": [
          5.6275,
          7.07
         ],
         "mode": "lines",
         "opacity": 0.4,
         "showlegend": false,
         "text": "Edo → Anambra: 3",
         "type": "scattergeo"
        },
        {
         "hoverinfo": "text",
         "lat": [
          6.335,
          4.922
         ],
         "legendgroup": "flows",
         "line": {
          "color": "blue",
          "width": 0.11952191235059761
         },
         "lon": [
          5.6275,
          6.2649
         ],
         "mode": "lines",
         "opacity": 0.4,
         "showlegend": false,
         "text": "Edo → Bayelsa: 3",
         "type": "scattergeo"
        },
        {
         "hoverinfo": "text",
         "lat": [
          6.335,
          4.9517
         ],
         "legendgroup": "flows",
         "line": {
          "color": "blue",
          "width": 0.199203187250996
         },
         "lon": [
          5.6275,
          8.322
         ],
         "mode": "lines",
         "opacity": 0.4,
         "showlegend": false,
         "text": "Edo → Cross River: 5",
         "type": "scattergeo"
        },
        {
         "hoverinfo": "text",
         "lat": [
          6.335,
          5.465
         ],
         "legendgroup": "flows",
         "line": {
          "color": "blue",
          "width": 1.0358565737051793
         },
         "lon": [
          5.6275,
          6.2019
         ],
         "mode": "lines",
         "opacity": 0.4,
         "showlegend": false,
         "text": "Edo → Delta: 26",
         "type": "scattergeo"
        },
        {
         "hoverinfo": "text",
         "lat": [
          6.335,
          6.3249
         ],
         "legendgroup": "flows",
         "line": {
          "color": "blue",
          "width": 0.0398406374501992
         },
         "lon": [
          5.6275,
          8.1137
         ],
         "mode": "lines",
         "opacity": 0.4,
         "showlegend": false,
         "text": "Edo → Ebonyi: 1",
         "type": "scattergeo"
        },
        {
         "hoverinfo": "text",
         "lat": [
          6.335,
          7.6233
         ],
         "legendgroup": "flows",
         "line": {
          "color": "blue",
          "width": 0.3187250996015936
         },
         "lon": [
          5.6275,
          5.2214
         ],
         "mode": "lines",
         "opacity": 0.4,
         "showlegend": false,
         "text": "Edo → Ekiti: 8",
         "type": "scattergeo"
        },
        {
         "hoverinfo": "text",
         "lat": [
          6.335,
          6.4527
         ],
         "legendgroup": "flows",
         "line": {
          "color": "blue",
          "width": 0.0796812749003984
         },
         "lon": [
          5.6275,
          7.5103
         ],
         "mode": "lines",
         "opacity": 0.4,
         "showlegend": false,
         "text": "Edo → Enugu: 2",
         "type": "scattergeo"
        },
        {
         "hoverinfo": "text",
         "lat": [
          6.335,
          9.0579
         ],
         "legendgroup": "flows",
         "line": {
          "color": "blue",
          "width": 0.8764940239043826
         },
         "lon": [
          5.6275,
          7.4951
         ],
         "mode": "lines",
         "opacity": 0.4,
         "showlegend": false,
         "text": "Edo → FCT: 22",
         "type": "scattergeo"
        },
        {
         "hoverinfo": "text",
         "lat": [
          6.335,
          5.4836
         ],
         "legendgroup": "flows",
         "line": {
          "color": "blue",
          "width": 0.0796812749003984
         },
         "lon": [
          5.6275,
          7.0333
         ],
         "mode": "lines",
         "opacity": 0.4,
         "showlegend": false,
         "text": "Edo → Imo: 2",
         "type": "scattergeo"
        },
        {
         "hoverinfo": "text",
         "lat": [
          6.335,
          12.9889
         ],
         "legendgroup": "flows",
         "line": {
          "color": "blue",
          "width": 0.199203187250996
         },
         "lon": [
          5.6275,
          7.6
         ],
         "mode": "lines",
         "opacity": 0.4,
         "showlegend": false,
         "text": "Edo → Katsina: 5",
         "type": "scattergeo"
        },
        {
         "hoverinfo": "text",
         "lat": [
          6.335,
          7.8
         ],
         "legendgroup": "flows",
         "line": {
          "color": "blue",
          "width": 0.0796812749003984
         },
         "lon": [
          5.6275,
          6.7333
         ],
         "mode": "lines",
         "opacity": 0.4,
         "showlegend": false,
         "text": "Edo → Kogi: 2",
         "type": "scattergeo"
        },
        {
         "hoverinfo": "text",
         "lat": [
          6.335,
          6.5244
         ],
         "legendgroup": "flows",
         "line": {
          "color": "blue",
          "width": 0.1593625498007968
         },
         "lon": [
          5.6275,
          3.3792
         ],
         "mode": "lines",
         "opacity": 0.4,
         "showlegend": false,
         "text": "Edo → Lagos: 4",
         "type": "scattergeo"
        },
        {
         "hoverinfo": "text",
         "lat": [
          6.335,
          8.5333
         ],
         "legendgroup": "flows",
         "line": {
          "color": "blue",
          "width": 0.0398406374501992
         },
         "lon": [
          5.6275,
          8.5333
         ],
         "mode": "lines",
         "opacity": 0.4,
         "showlegend": false,
         "text": "Edo → Nasarawa: 1",
         "type": "scattergeo"
        },
        {
         "hoverinfo": "text",
         "lat": [
          6.335,
          7.25
         ],
         "legendgroup": "flows",
         "line": {
          "color": "blue",
          "width": 0.35856573705179284
         },
         "lon": [
          5.6275,
          5.2
         ],
         "mode": "lines",
         "opacity": 0.4,
         "showlegend": false,
         "text": "Edo → Ondo: 9",
         "type": "scattergeo"
        },
        {
         "hoverinfo": "text",
         "lat": [
          6.335,
          7.7833
         ],
         "legendgroup": "flows",
         "line": {
          "color": "blue",
          "width": 0.0796812749003984
         },
         "lon": [
          5.6275,
          4.5667
         ],
         "mode": "lines",
         "opacity": 0.4,
         "showlegend": false,
         "text": "Edo → Osun: 2",
         "type": "scattergeo"
        },
        {
         "hoverinfo": "text",
         "lat": [
          6.335,
          7.3833
         ],
         "legendgroup": "flows",
         "line": {
          "color": "blue",
          "width": 0.1593625498007968
         },
         "lon": [
          5.6275,
          3.9333
         ],
         "mode": "lines",
         "opacity": 0.4,
         "showlegend": false,
         "text": "Edo → Oyo: 4",
         "type": "scattergeo"
        },
        {
         "hoverinfo": "text",
         "lat": [
          6.335,
          9.9333
         ],
         "legendgroup": "flows",
         "line": {
          "color": "blue",
          "width": 0.0398406374501992
         },
         "lon": [
          5.6275,
          8.8833
         ],
         "mode": "lines",
         "opacity": 0.4,
         "showlegend": false,
         "text": "Edo → Plateau: 1",
         "type": "scattergeo"
        },
        {
         "hoverinfo": "text",
         "lat": [
          6.335,
          4.8242
         ],
         "legendgroup": "flows",
         "line": {
          "color": "blue",
          "width": 0.0398406374501992
         },
         "lon": [
          5.6275,
          7.0336
         ],
         "mode": "lines",
         "opacity": 0.4,
         "showlegend": false,
         "text": "Edo → Rivers: 1",
         "type": "scattergeo"
        },
        {
         "hoverinfo": "text",
         "lat": [
          7.6233,
          6.3249
         ],
         "legendgroup": "flows",
         "line": {
          "color": "blue",
          "width": 0.0796812749003984
         },
         "lon": [
          5.2214,
          8.1137
         ],
         "mode": "lines",
         "opacity": 0.4,
         "showlegend": false,
         "text": "Ekiti → Ebonyi: 2",
         "type": "scattergeo"
        },
        {
         "hoverinfo": "text",
         "lat": [
          7.6233,
          6.335
         ],
         "legendgroup": "flows",
         "line": {
          "color": "blue",
          "width": 0.0398406374501992
         },
         "lon": [
          5.2214,
          5.6275
         ],
         "mode": "lines",
         "opacity": 0.4,
         "showlegend": false,
         "text": "Ekiti → Edo: 1",
         "type": "scattergeo"
        },
        {
         "hoverinfo": "text",
         "lat": [
          7.6233,
          6.4527
         ],
         "legendgroup": "flows",
         "line": {
          "color": "blue",
          "width": 0.0796812749003984
         },
         "lon": [
          5.2214,
          7.5103
         ],
         "mode": "lines",
         "opacity": 0.4,
         "showlegend": false,
         "text": "Ekiti → Enugu: 2",
         "type": "scattergeo"
        },
        {
         "hoverinfo": "text",
         "lat": [
          7.6233,
          9.0579
         ],
         "legendgroup": "flows",
         "line": {
          "color": "blue",
          "width": 0.11952191235059761
         },
         "lon": [
          5.2214,
          7.4951
         ],
         "mode": "lines",
         "opacity": 0.4,
         "showlegend": false,
         "text": "Ekiti → FCT: 3",
         "type": "scattergeo"
        },
        {
         "hoverinfo": "text",
         "lat": [
          7.6233,
          5.4836
         ],
         "legendgroup": "flows",
         "line": {
          "color": "blue",
          "width": 0.0398406374501992
         },
         "lon": [
          5.2214,
          7.0333
         ],
         "mode": "lines",
         "opacity": 0.4,
         "showlegend": false,
         "text": "Ekiti → Imo: 1",
         "type": "scattergeo"
        },
        {
         "hoverinfo": "text",
         "lat": [
          7.6233,
          7.8
         ],
         "legendgroup": "flows",
         "line": {
          "color": "blue",
          "width": 0.199203187250996
         },
         "lon": [
          5.2214,
          6.7333
         ],
         "mode": "lines",
         "opacity": 0.4,
         "showlegend": false,
         "text": "Ekiti → Kogi: 5",
         "type": "scattergeo"
        },
        {
         "hoverinfo": "text",
         "lat": [
          7.6233,
          8.5
         ],
         "legendgroup": "flows",
         "line": {
          "color": "blue",
          "width": 0.199203187250996
         },
         "lon": [
          5.2214,
          4.55
         ],
         "mode": "lines",
         "opacity": 0.4,
         "showlegend": false,
         "text": "Ekiti → Kwara: 5",
         "type": "scattergeo"
        },
        {
         "hoverinfo": "text",
         "lat": [
          7.6233,
          6.5244
         ],
         "legendgroup": "flows",
         "line": {
          "color": "blue",
          "width": 0.0796812749003984
         },
         "lon": [
          5.2214,
          3.3792
         ],
         "mode": "lines",
         "opacity": 0.4,
         "showlegend": false,
         "text": "Ekiti → Lagos: 2",
         "type": "scattergeo"
        },
        {
         "hoverinfo": "text",
         "lat": [
          7.6233,
          8.5333
         ],
         "legendgroup": "flows",
         "line": {
          "color": "blue",
          "width": 0.0398406374501992
         },
         "lon": [
          5.2214,
          8.5333
         ],
         "mode": "lines",
         "opacity": 0.4,
         "showlegend": false,
         "text": "Ekiti → Nasarawa: 1",
         "type": "scattergeo"
        },
        {
         "hoverinfo": "text",
         "lat": [
          7.6233,
          9.6
         ],
         "legendgroup": "flows",
         "line": {
          "color": "blue",
          "width": 0.0398406374501992
         },
         "lon": [
          5.2214,
          6.55
         ],
         "mode": "lines",
         "opacity": 0.4,
         "showlegend": false,
         "text": "Ekiti → Niger: 1",
         "type": "scattergeo"
        },
        {
         "hoverinfo": "text",
         "lat": [
          7.6233,
          7
         ],
         "legendgroup": "flows",
         "line": {
          "color": "blue",
          "width": 0.0796812749003984
         },
         "lon": [
          5.2214,
          3.5833
         ],
         "mode": "lines",
         "opacity": 0.4,
         "showlegend": false,
         "text": "Ekiti → Ogun: 2",
         "type": "scattergeo"
        },
        {
         "hoverinfo": "text",
         "lat": [
          7.6233,
          7.25
         ],
         "legendgroup": "flows",
         "line": {
          "color": "blue",
          "width": 0.7171314741035857
         },
         "lon": [
          5.2214,
          5.2
         ],
         "mode": "lines",
         "opacity": 0.4,
         "showlegend": false,
         "text": "Ekiti → Ondo: 18",
         "type": "scattergeo"
        },
        {
         "hoverinfo": "text",
         "lat": [
          7.6233,
          7.7833
         ],
         "legendgroup": "flows",
         "line": {
          "color": "blue",
          "width": 0.0796812749003984
         },
         "lon": [
          5.2214,
          4.5667
         ],
         "mode": "lines",
         "opacity": 0.4,
         "showlegend": false,
         "text": "Ekiti → Osun: 2",
         "type": "scattergeo"
        },
        {
         "hoverinfo": "text",
         "lat": [
          7.6233,
          7.3833
         ],
         "legendgroup": "flows",
         "line": {
          "color": "blue",
          "width": 0.1593625498007968
         },
         "lon": [
          5.2214,
          3.9333
         ],
         "mode": "lines",
         "opacity": 0.4,
         "showlegend": false,
         "text": "Ekiti → Oyo: 4",
         "type": "scattergeo"
        },
        {
         "hoverinfo": "text",
         "lat": [
          6.4527,
          5.532
         ],
         "legendgroup": "flows",
         "line": {
          "color": "blue",
          "width": 0.398406374501992
         },
         "lon": [
          7.5103,
          7.486
         ],
         "mode": "lines",
         "opacity": 0.4,
         "showlegend": false,
         "text": "Enugu → Abia: 10",
         "type": "scattergeo"
        },
        {
         "hoverinfo": "text",
         "lat": [
          6.4527,
          9.3265
         ],
         "legendgroup": "flows",
         "line": {
          "color": "blue",
          "width": 0.0796812749003984
         },
         "lon": [
          7.5103,
          12.3984
         ],
         "mode": "lines",
         "opacity": 0.4,
         "showlegend": false,
         "text": "Enugu → Adamawa: 2",
         "type": "scattergeo"
        },
        {
         "hoverinfo": "text",
         "lat": [
          6.4527,
          4.9268
         ],
         "legendgroup": "flows",
         "line": {
          "color": "blue",
          "width": 0.199203187250996
         },
         "lon": [
          7.5103,
          7.8722
         ],
         "mode": "lines",
         "opacity": 0.4,
         "showlegend": false,
         "text": "Enugu → Akwa Ibom: 5",
         "type": "scattergeo"
        },
        {
         "hoverinfo": "text",
         "lat": [
          6.4527,
          6.21
         ],
         "legendgroup": "flows",
         "line": {
          "color": "blue",
          "width": 1.9123505976095618
         },
         "lon": [
          7.5103,
          7.07
         ],
         "mode": "lines",
         "opacity": 0.4,
         "showlegend": false,
         "text": "Enugu → Anambra: 48",
         "type": "scattergeo"
        },
        {
         "hoverinfo": "text",
         "lat": [
          6.4527,
          4.922
         ],
         "legendgroup": "flows",
         "line": {
          "color": "blue",
          "width": 0.11952191235059761
         },
         "lon": [
          7.5103,
          6.2649
         ],
         "mode": "lines",
         "opacity": 0.4,
         "showlegend": false,
         "text": "Enugu → Bayelsa: 3",
         "type": "scattergeo"
        },
        {
         "hoverinfo": "text",
         "lat": [
          6.4527,
          7.1907
         ],
         "legendgroup": "flows",
         "line": {
          "color": "blue",
          "width": 0.23904382470119523
         },
         "lon": [
          7.5103,
          8.129
         ],
         "mode": "lines",
         "opacity": 0.4,
         "showlegend": false,
         "text": "Enugu → Benue: 6",
         "type": "scattergeo"
        },
        {
         "hoverinfo": "text",
         "lat": [
          6.4527,
          4.9517
         ],
         "legendgroup": "flows",
         "line": {
          "color": "blue",
          "width": 0.11952191235059761
         },
         "lon": [
          7.5103,
          8.322
         ],
         "mode": "lines",
         "opacity": 0.4,
         "showlegend": false,
         "text": "Enugu → Cross River: 3",
         "type": "scattergeo"
        },
        {
         "hoverinfo": "text",
         "lat": [
          6.4527,
          5.465
         ],
         "legendgroup": "flows",
         "line": {
          "color": "blue",
          "width": 0.2788844621513944
         },
         "lon": [
          7.5103,
          6.2019
         ],
         "mode": "lines",
         "opacity": 0.4,
         "showlegend": false,
         "text": "Enugu → Delta: 7",
         "type": "scattergeo"
        },
        {
         "hoverinfo": "text",
         "lat": [
          6.4527,
          6.3249
         ],
         "legendgroup": "flows",
         "line": {
          "color": "blue",
          "width": 0.199203187250996
         },
         "lon": [
          7.5103,
          8.1137
         ],
         "mode": "lines",
         "opacity": 0.4,
         "showlegend": false,
         "text": "Enugu → Ebonyi: 5",
         "type": "scattergeo"
        },
        {
         "hoverinfo": "text",
         "lat": [
          6.4527,
          6.335
         ],
         "legendgroup": "flows",
         "line": {
          "color": "blue",
          "width": 0.0796812749003984
         },
         "lon": [
          7.5103,
          5.6275
         ],
         "mode": "lines",
         "opacity": 0.4,
         "showlegend": false,
         "text": "Enugu → Edo: 2",
         "type": "scattergeo"
        },
        {
         "hoverinfo": "text",
         "lat": [
          6.4527,
          7.6233
         ],
         "legendgroup": "flows",
         "line": {
          "color": "blue",
          "width": 0.3187250996015936
         },
         "lon": [
          7.5103,
          5.2214
         ],
         "mode": "lines",
         "opacity": 0.4,
         "showlegend": false,
         "text": "Enugu → Ekiti: 8",
         "type": "scattergeo"
        },
        {
         "hoverinfo": "text",
         "lat": [
          6.4527,
          9.0579
         ],
         "legendgroup": "flows",
         "line": {
          "color": "blue",
          "width": 0.6374501992031872
         },
         "lon": [
          7.5103,
          7.4951
         ],
         "mode": "lines",
         "opacity": 0.4,
         "showlegend": false,
         "text": "Enugu → FCT: 16",
         "type": "scattergeo"
        },
        {
         "hoverinfo": "text",
         "lat": [
          6.4527,
          10.2897
         ],
         "legendgroup": "flows",
         "line": {
          "color": "blue",
          "width": 0.0398406374501992
         },
         "lon": [
          7.5103,
          11.17
         ],
         "mode": "lines",
         "opacity": 0.4,
         "showlegend": false,
         "text": "Enugu → Gombe: 1",
         "type": "scattergeo"
        },
        {
         "hoverinfo": "text",
         "lat": [
          6.4527,
          5.4836
         ],
         "legendgroup": "flows",
         "line": {
          "color": "blue",
          "width": 0.1593625498007968
         },
         "lon": [
          7.5103,
          7.0333
         ],
         "mode": "lines",
         "opacity": 0.4,
         "showlegend": false,
         "text": "Enugu → Imo: 4",
         "type": "scattergeo"
        },
        {
         "hoverinfo": "text",
         "lat": [
          6.4527,
          12
         ],
         "legendgroup": "flows",
         "line": {
          "color": "blue",
          "width": 0.0398406374501992
         },
         "lon": [
          7.5103,
          9.7667
         ],
         "mode": "lines",
         "opacity": 0.4,
         "showlegend": false,
         "text": "Enugu → Jigawa: 1",
         "type": "scattergeo"
        },
        {
         "hoverinfo": "text",
         "lat": [
          6.4527,
          10.5231
         ],
         "legendgroup": "flows",
         "line": {
          "color": "blue",
          "width": 0.0796812749003984
         },
         "lon": [
          7.5103,
          7.4403
         ],
         "mode": "lines",
         "opacity": 0.4,
         "showlegend": false,
         "text": "Enugu → Kaduna: 2",
         "type": "scattergeo"
        },
        {
         "hoverinfo": "text",
         "lat": [
          6.4527,
          7.8
         ],
         "legendgroup": "flows",
         "line": {
          "color": "blue",
          "width": 0.23904382470119523
         },
         "lon": [
          7.5103,
          6.7333
         ],
         "mode": "lines",
         "opacity": 0.4,
         "showlegend": false,
         "text": "Enugu → Kogi: 6",
         "type": "scattergeo"
        },
        {
         "hoverinfo": "text",
         "lat": [
          6.4527,
          6.5244
         ],
         "legendgroup": "flows",
         "line": {
          "color": "blue",
          "width": 0.1593625498007968
         },
         "lon": [
          7.5103,
          3.3792
         ],
         "mode": "lines",
         "opacity": 0.4,
         "showlegend": false,
         "text": "Enugu → Lagos: 4",
         "type": "scattergeo"
        },
        {
         "hoverinfo": "text",
         "lat": [
          6.4527,
          7
         ],
         "legendgroup": "flows",
         "line": {
          "color": "blue",
          "width": 0.0398406374501992
         },
         "lon": [
          7.5103,
          3.5833
         ],
         "mode": "lines",
         "opacity": 0.4,
         "showlegend": false,
         "text": "Enugu → Ogun: 1",
         "type": "scattergeo"
        },
        {
         "hoverinfo": "text",
         "lat": [
          6.4527,
          7.25
         ],
         "legendgroup": "flows",
         "line": {
          "color": "blue",
          "width": 0.11952191235059761
         },
         "lon": [
          7.5103,
          5.2
         ],
         "mode": "lines",
         "opacity": 0.4,
         "showlegend": false,
         "text": "Enugu → Ondo: 3",
         "type": "scattergeo"
        },
        {
         "hoverinfo": "text",
         "lat": [
          6.4527,
          7.7833
         ],
         "legendgroup": "flows",
         "line": {
          "color": "blue",
          "width": 0.0398406374501992
         },
         "lon": [
          7.5103,
          4.5667
         ],
         "mode": "lines",
         "opacity": 0.4,
         "showlegend": false,
         "text": "Enugu → Osun: 1",
         "type": "scattergeo"
        },
        {
         "hoverinfo": "text",
         "lat": [
          6.4527,
          7.3833
         ],
         "legendgroup": "flows",
         "line": {
          "color": "blue",
          "width": 0.0398406374501992
         },
         "lon": [
          7.5103,
          3.9333
         ],
         "mode": "lines",
         "opacity": 0.4,
         "showlegend": false,
         "text": "Enugu → Oyo: 1",
         "type": "scattergeo"
        },
        {
         "hoverinfo": "text",
         "lat": [
          9.0579,
          5.532
         ],
         "legendgroup": "flows",
         "line": {
          "color": "blue",
          "width": 0.199203187250996
         },
         "lon": [
          7.4951,
          7.486
         ],
         "mode": "lines",
         "opacity": 0.4,
         "showlegend": false,
         "text": "FCT → Abia: 5",
         "type": "scattergeo"
        },
        {
         "hoverinfo": "text",
         "lat": [
          9.0579,
          4.9268
         ],
         "legendgroup": "flows",
         "line": {
          "color": "blue",
          "width": 0.11952191235059761
         },
         "lon": [
          7.4951,
          7.8722
         ],
         "mode": "lines",
         "opacity": 0.4,
         "showlegend": false,
         "text": "FCT → Akwa Ibom: 3",
         "type": "scattergeo"
        },
        {
         "hoverinfo": "text",
         "lat": [
          9.0579,
          6.21
         ],
         "legendgroup": "flows",
         "line": {
          "color": "blue",
          "width": 0.0796812749003984
         },
         "lon": [
          7.4951,
          7.07
         ],
         "mode": "lines",
         "opacity": 0.4,
         "showlegend": false,
         "text": "FCT → Anambra: 2",
         "type": "scattergeo"
        },
        {
         "hoverinfo": "text",
         "lat": [
          9.0579,
          4.922
         ],
         "legendgroup": "flows",
         "line": {
          "color": "blue",
          "width": 0.0398406374501992
         },
         "lon": [
          7.4951,
          6.2649
         ],
         "mode": "lines",
         "opacity": 0.4,
         "showlegend": false,
         "text": "FCT → Bayelsa: 1",
         "type": "scattergeo"
        },
        {
         "hoverinfo": "text",
         "lat": [
          9.0579,
          7.1907
         ],
         "legendgroup": "flows",
         "line": {
          "color": "blue",
          "width": 0.1593625498007968
         },
         "lon": [
          7.4951,
          8.129
         ],
         "mode": "lines",
         "opacity": 0.4,
         "showlegend": false,
         "text": "FCT → Benue: 4",
         "type": "scattergeo"
        },
        {
         "hoverinfo": "text",
         "lat": [
          9.0579,
          11.8333
         ],
         "legendgroup": "flows",
         "line": {
          "color": "blue",
          "width": 0.0796812749003984
         },
         "lon": [
          7.4951,
          13.15
         ],
         "mode": "lines",
         "opacity": 0.4,
         "showlegend": false,
         "text": "FCT → Borno: 2",
         "type": "scattergeo"
        },
        {
         "hoverinfo": "text",
         "lat": [
          9.0579,
          4.9517
         ],
         "legendgroup": "flows",
         "line": {
          "color": "blue",
          "width": 0.2788844621513944
         },
         "lon": [
          7.4951,
          8.322
         ],
         "mode": "lines",
         "opacity": 0.4,
         "showlegend": false,
         "text": "FCT → Cross River: 7",
         "type": "scattergeo"
        },
        {
         "hoverinfo": "text",
         "lat": [
          9.0579,
          5.465
         ],
         "legendgroup": "flows",
         "line": {
          "color": "blue",
          "width": 0.2788844621513944
         },
         "lon": [
          7.4951,
          6.2019
         ],
         "mode": "lines",
         "opacity": 0.4,
         "showlegend": false,
         "text": "FCT → Delta: 7",
         "type": "scattergeo"
        },
        {
         "hoverinfo": "text",
         "lat": [
          9.0579,
          6.3249
         ],
         "legendgroup": "flows",
         "line": {
          "color": "blue",
          "width": 0.0796812749003984
         },
         "lon": [
          7.4951,
          8.1137
         ],
         "mode": "lines",
         "opacity": 0.4,
         "showlegend": false,
         "text": "FCT → Ebonyi: 2",
         "type": "scattergeo"
        },
        {
         "hoverinfo": "text",
         "lat": [
          9.0579,
          6.335
         ],
         "legendgroup": "flows",
         "line": {
          "color": "blue",
          "width": 0.6772908366533864
         },
         "lon": [
          7.4951,
          5.6275
         ],
         "mode": "lines",
         "opacity": 0.4,
         "showlegend": false,
         "text": "FCT → Edo: 17",
         "type": "scattergeo"
        },
        {
         "hoverinfo": "text",
         "lat": [
          9.0579,
          7.6233
         ],
         "legendgroup": "flows",
         "line": {
          "color": "blue",
          "width": 0.0796812749003984
         },
         "lon": [
          7.4951,
          5.2214
         ],
         "mode": "lines",
         "opacity": 0.4,
         "showlegend": false,
         "text": "FCT → Ekiti: 2",
         "type": "scattergeo"
        },
        {
         "hoverinfo": "text",
         "lat": [
          9.0579,
          6.4527
         ],
         "legendgroup": "flows",
         "line": {
          "color": "blue",
          "width": 0.35856573705179284
         },
         "lon": [
          7.4951,
          7.5103
         ],
         "mode": "lines",
         "opacity": 0.4,
         "showlegend": false,
         "text": "FCT → Enugu: 9",
         "type": "scattergeo"
        },
        {
         "hoverinfo": "text",
         "lat": [
          9.0579,
          10.2897
         ],
         "legendgroup": "flows",
         "line": {
          "color": "blue",
          "width": 0.0398406374501992
         },
         "lon": [
          7.4951,
          11.17
         ],
         "mode": "lines",
         "opacity": 0.4,
         "showlegend": false,
         "text": "FCT → Gombe: 1",
         "type": "scattergeo"
        },
        {
         "hoverinfo": "text",
         "lat": [
          9.0579,
          5.4836
         ],
         "legendgroup": "flows",
         "line": {
          "color": "blue",
          "width": 0.199203187250996
         },
         "lon": [
          7.4951,
          7.0333
         ],
         "mode": "lines",
         "opacity": 0.4,
         "showlegend": false,
         "text": "FCT → Imo: 5",
         "type": "scattergeo"
        },
        {
         "hoverinfo": "text",
         "lat": [
          9.0579,
          10.5231
         ],
         "legendgroup": "flows",
         "line": {
          "color": "blue",
          "width": 0.199203187250996
         },
         "lon": [
          7.4951,
          7.4403
         ],
         "mode": "lines",
         "opacity": 0.4,
         "showlegend": false,
         "text": "FCT → Kaduna: 5",
         "type": "scattergeo"
        },
        {
         "hoverinfo": "text",
         "lat": [
          9.0579,
          12.0022
         ],
         "legendgroup": "flows",
         "line": {
          "color": "blue",
          "width": 0.0398406374501992
         },
         "lon": [
          7.4951,
          8.5919
         ],
         "mode": "lines",
         "opacity": 0.4,
         "showlegend": false,
         "text": "FCT → Kano: 1",
         "type": "scattergeo"
        },
        {
         "hoverinfo": "text",
         "lat": [
          9.0579,
          12.9889
         ],
         "legendgroup": "flows",
         "line": {
          "color": "blue",
          "width": 0.0796812749003984
         },
         "lon": [
          7.4951,
          7.6
         ],
         "mode": "lines",
         "opacity": 0.4,
         "showlegend": false,
         "text": "FCT → Katsina: 2",
         "type": "scattergeo"
        },
        {
         "hoverinfo": "text",
         "lat": [
          9.0579,
          7.8
         ],
         "legendgroup": "flows",
         "line": {
          "color": "blue",
          "width": 0.35856573705179284
         },
         "lon": [
          7.4951,
          6.7333
         ],
         "mode": "lines",
         "opacity": 0.4,
         "showlegend": false,
         "text": "FCT → Kogi: 9",
         "type": "scattergeo"
        },
        {
         "hoverinfo": "text",
         "lat": [
          9.0579,
          8.5
         ],
         "legendgroup": "flows",
         "line": {
          "color": "blue",
          "width": 0.11952191235059761
         },
         "lon": [
          7.4951,
          4.55
         ],
         "mode": "lines",
         "opacity": 0.4,
         "showlegend": false,
         "text": "FCT → Kwara: 3",
         "type": "scattergeo"
        },
        {
         "hoverinfo": "text",
         "lat": [
          9.0579,
          6.5244
         ],
         "legendgroup": "flows",
         "line": {
          "color": "blue",
          "width": 0.0796812749003984
         },
         "lon": [
          7.4951,
          3.3792
         ],
         "mode": "lines",
         "opacity": 0.4,
         "showlegend": false,
         "text": "FCT → Lagos: 2",
         "type": "scattergeo"
        },
        {
         "hoverinfo": "text",
         "lat": [
          9.0579,
          8.5333
         ],
         "legendgroup": "flows",
         "line": {
          "color": "blue",
          "width": 0.3187250996015936
         },
         "lon": [
          7.4951,
          8.5333
         ],
         "mode": "lines",
         "opacity": 0.4,
         "showlegend": false,
         "text": "FCT → Nasarawa: 8",
         "type": "scattergeo"
        },
        {
         "hoverinfo": "text",
         "lat": [
          9.0579,
          9.6
         ],
         "legendgroup": "flows",
         "line": {
          "color": "blue",
          "width": 0.199203187250996
         },
         "lon": [
          7.4951,
          6.55
         ],
         "mode": "lines",
         "opacity": 0.4,
         "showlegend": false,
         "text": "FCT → Niger: 5",
         "type": "scattergeo"
        },
        {
         "hoverinfo": "text",
         "lat": [
          9.0579,
          7
         ],
         "legendgroup": "flows",
         "line": {
          "color": "blue",
          "width": 0.0796812749003984
         },
         "lon": [
          7.4951,
          3.5833
         ],
         "mode": "lines",
         "opacity": 0.4,
         "showlegend": false,
         "text": "FCT → Ogun: 2",
         "type": "scattergeo"
        },
        {
         "hoverinfo": "text",
         "lat": [
          9.0579,
          7.25
         ],
         "legendgroup": "flows",
         "line": {
          "color": "blue",
          "width": 0.0796812749003984
         },
         "lon": [
          7.4951,
          5.2
         ],
         "mode": "lines",
         "opacity": 0.4,
         "showlegend": false,
         "text": "FCT → Ondo: 2",
         "type": "scattergeo"
        },
        {
         "hoverinfo": "text",
         "lat": [
          9.0579,
          7.7833
         ],
         "legendgroup": "flows",
         "line": {
          "color": "blue",
          "width": 0.0398406374501992
         },
         "lon": [
          7.4951,
          4.5667
         ],
         "mode": "lines",
         "opacity": 0.4,
         "showlegend": false,
         "text": "FCT → Osun: 1",
         "type": "scattergeo"
        },
        {
         "hoverinfo": "text",
         "lat": [
          9.0579,
          7.3833
         ],
         "legendgroup": "flows",
         "line": {
          "color": "blue",
          "width": 0.0398406374501992
         },
         "lon": [
          7.4951,
          3.9333
         ],
         "mode": "lines",
         "opacity": 0.4,
         "showlegend": false,
         "text": "FCT → Oyo: 1",
         "type": "scattergeo"
        },
        {
         "hoverinfo": "text",
         "lat": [
          9.0579,
          9.9333
         ],
         "legendgroup": "flows",
         "line": {
          "color": "blue",
          "width": 0.199203187250996
         },
         "lon": [
          7.4951,
          8.8833
         ],
         "mode": "lines",
         "opacity": 0.4,
         "showlegend": false,
         "text": "FCT → Plateau: 5",
         "type": "scattergeo"
        },
        {
         "hoverinfo": "text",
         "lat": [
          9.0579,
          4.8242
         ],
         "legendgroup": "flows",
         "line": {
          "color": "blue",
          "width": 0.11952191235059761
         },
         "lon": [
          7.4951,
          7.0336
         ],
         "mode": "lines",
         "opacity": 0.4,
         "showlegend": false,
         "text": "FCT → Rivers: 3",
         "type": "scattergeo"
        },
        {
         "hoverinfo": "text",
         "lat": [
          9.0579,
          8.8833
         ],
         "legendgroup": "flows",
         "line": {
          "color": "blue",
          "width": 0.0796812749003984
         },
         "lon": [
          7.4951,
          11.3667
         ],
         "mode": "lines",
         "opacity": 0.4,
         "showlegend": false,
         "text": "FCT → Taraba: 2",
         "type": "scattergeo"
        },
        {
         "hoverinfo": "text",
         "lat": [
          9.0579,
          12.1667
         ],
         "legendgroup": "flows",
         "line": {
          "color": "blue",
          "width": 0.0398406374501992
         },
         "lon": [
          7.4951,
          6.25
         ],
         "mode": "lines",
         "opacity": 0.4,
         "showlegend": false,
         "text": "FCT → Zamfara: 1",
         "type": "scattergeo"
        },
        {
         "hoverinfo": "text",
         "lat": [
          10.2897,
          9.3265
         ],
         "legendgroup": "flows",
         "line": {
          "color": "blue",
          "width": 0.4382470119521913
         },
         "lon": [
          11.17,
          12.3984
         ],
         "mode": "lines",
         "opacity": 0.4,
         "showlegend": false,
         "text": "Gombe → Adamawa: 11",
         "type": "scattergeo"
        },
        {
         "hoverinfo": "text",
         "lat": [
          10.2897,
          10.3103
         ],
         "legendgroup": "flows",
         "line": {
          "color": "blue",
          "width": 0.6772908366533864
         },
         "lon": [
          11.17,
          9.8439
         ],
         "mode": "lines",
         "opacity": 0.4,
         "showlegend": false,
         "text": "Gombe → Bauchi: 17",
         "type": "scattergeo"
        },
        {
         "hoverinfo": "text",
         "lat": [
          10.2897,
          7.1907
         ],
         "legendgroup": "flows",
         "line": {
          "color": "blue",
          "width": 0.0796812749003984
         },
         "lon": [
          11.17,
          8.129
         ],
         "mode": "lines",
         "opacity": 0.4,
         "showlegend": false,
         "text": "Gombe → Benue: 2",
         "type": "scattergeo"
        },
        {
         "hoverinfo": "text",
         "lat": [
          10.2897,
          11.8333
         ],
         "legendgroup": "flows",
         "line": {
          "color": "blue",
          "width": 0.23904382470119523
         },
         "lon": [
          11.17,
          13.15
         ],
         "mode": "lines",
         "opacity": 0.4,
         "showlegend": false,
         "text": "Gombe → Borno: 6",
         "type": "scattergeo"
        },
        {
         "hoverinfo": "text",
         "lat": [
          10.2897,
          6.4527
         ],
         "legendgroup": "flows",
         "line": {
          "color": "blue",
          "width": 0.11952191235059761
         },
         "lon": [
          11.17,
          7.5103
         ],
         "mode": "lines",
         "opacity": 0.4,
         "showlegend": false,
         "text": "Gombe → Enugu: 3",
         "type": "scattergeo"
        },
        {
         "hoverinfo": "text",
         "lat": [
          10.2897,
          9.0579
         ],
         "legendgroup": "flows",
         "line": {
          "color": "blue",
          "width": 0.35856573705179284
         },
         "lon": [
          11.17,
          7.4951
         ],
         "mode": "lines",
         "opacity": 0.4,
         "showlegend": false,
         "text": "Gombe → FCT: 9",
         "type": "scattergeo"
        },
        {
         "hoverinfo": "text",
         "lat": [
          10.2897,
          10.5231
         ],
         "legendgroup": "flows",
         "line": {
          "color": "blue",
          "width": 0.0398406374501992
         },
         "lon": [
          11.17,
          7.4403
         ],
         "mode": "lines",
         "opacity": 0.4,
         "showlegend": false,
         "text": "Gombe → Kaduna: 1",
         "type": "scattergeo"
        },
        {
         "hoverinfo": "text",
         "lat": [
          10.2897,
          12.0022
         ],
         "legendgroup": "flows",
         "line": {
          "color": "blue",
          "width": 0.0398406374501992
         },
         "lon": [
          11.17,
          8.5919
         ],
         "mode": "lines",
         "opacity": 0.4,
         "showlegend": false,
         "text": "Gombe → Kano: 1",
         "type": "scattergeo"
        },
        {
         "hoverinfo": "text",
         "lat": [
          10.2897,
          12.9889
         ],
         "legendgroup": "flows",
         "line": {
          "color": "blue",
          "width": 0.0796812749003984
         },
         "lon": [
          11.17,
          7.6
         ],
         "mode": "lines",
         "opacity": 0.4,
         "showlegend": false,
         "text": "Gombe → Katsina: 2",
         "type": "scattergeo"
        },
        {
         "hoverinfo": "text",
         "lat": [
          10.2897,
          8.5
         ],
         "legendgroup": "flows",
         "line": {
          "color": "blue",
          "width": 0.0796812749003984
         },
         "lon": [
          11.17,
          4.55
         ],
         "mode": "lines",
         "opacity": 0.4,
         "showlegend": false,
         "text": "Gombe → Kwara: 2",
         "type": "scattergeo"
        },
        {
         "hoverinfo": "text",
         "lat": [
          10.2897,
          6.5244
         ],
         "legendgroup": "flows",
         "line": {
          "color": "blue",
          "width": 0.0796812749003984
         },
         "lon": [
          11.17,
          3.3792
         ],
         "mode": "lines",
         "opacity": 0.4,
         "showlegend": false,
         "text": "Gombe → Lagos: 2",
         "type": "scattergeo"
        },
        {
         "hoverinfo": "text",
         "lat": [
          10.2897,
          8.5333
         ],
         "legendgroup": "flows",
         "line": {
          "color": "blue",
          "width": 0.0796812749003984
         },
         "lon": [
          11.17,
          8.5333
         ],
         "mode": "lines",
         "opacity": 0.4,
         "showlegend": false,
         "text": "Gombe → Nasarawa: 2",
         "type": "scattergeo"
        },
        {
         "hoverinfo": "text",
         "lat": [
          10.2897,
          7.7833
         ],
         "legendgroup": "flows",
         "line": {
          "color": "blue",
          "width": 0.0398406374501992
         },
         "lon": [
          11.17,
          4.5667
         ],
         "mode": "lines",
         "opacity": 0.4,
         "showlegend": false,
         "text": "Gombe → Osun: 1",
         "type": "scattergeo"
        },
        {
         "hoverinfo": "text",
         "lat": [
          10.2897,
          9.9333
         ],
         "legendgroup": "flows",
         "line": {
          "color": "blue",
          "width": 0.0398406374501992
         },
         "lon": [
          11.17,
          8.8833
         ],
         "mode": "lines",
         "opacity": 0.4,
         "showlegend": false,
         "text": "Gombe → Plateau: 1",
         "type": "scattergeo"
        },
        {
         "hoverinfo": "text",
         "lat": [
          10.2897,
          12
         ],
         "legendgroup": "flows",
         "line": {
          "color": "blue",
          "width": 0.6374501992031872
         },
         "lon": [
          11.17,
          11.75
         ],
         "mode": "lines",
         "opacity": 0.4,
         "showlegend": false,
         "text": "Gombe → Yobe: 16",
         "type": "scattergeo"
        },
        {
         "hoverinfo": "text",
         "lat": [
          10.2897,
          12.1667
         ],
         "legendgroup": "flows",
         "line": {
          "color": "blue",
          "width": 0.0398406374501992
         },
         "lon": [
          11.17,
          6.25
         ],
         "mode": "lines",
         "opacity": 0.4,
         "showlegend": false,
         "text": "Gombe → Zamfara: 1",
         "type": "scattergeo"
        },
        {
         "hoverinfo": "text",
         "lat": [
          5.4836,
          5.532
         ],
         "legendgroup": "flows",
         "line": {
          "color": "blue",
          "width": 1.394422310756972
         },
         "lon": [
          7.0333,
          7.486
         ],
         "mode": "lines",
         "opacity": 0.4,
         "showlegend": false,
         "text": "Imo → Abia: 35",
         "type": "scattergeo"
        },
        {
         "hoverinfo": "text",
         "lat": [
          5.4836,
          4.9268
         ],
         "legendgroup": "flows",
         "line": {
          "color": "blue",
          "width": 0.23904382470119523
         },
         "lon": [
          7.0333,
          7.8722
         ],
         "mode": "lines",
         "opacity": 0.4,
         "showlegend": false,
         "text": "Imo → Akwa Ibom: 6",
         "type": "scattergeo"
        },
        {
         "hoverinfo": "text",
         "lat": [
          5.4836,
          6.21
         ],
         "legendgroup": "flows",
         "line": {
          "color": "blue",
          "width": 1.6334661354581672
         },
         "lon": [
          7.0333,
          7.07
         ],
         "mode": "lines",
         "opacity": 0.4,
         "showlegend": false,
         "text": "Imo → Anambra: 41",
         "type": "scattergeo"
        },
        {
         "hoverinfo": "text",
         "lat": [
          5.4836,
          4.922
         ],
         "legendgroup": "flows",
         "line": {
          "color": "blue",
          "width": 0.11952191235059761
         },
         "lon": [
          7.0333,
          6.2649
         ],
         "mode": "lines",
         "opacity": 0.4,
         "showlegend": false,
         "text": "Imo → Bayelsa: 3",
         "type": "scattergeo"
        },
        {
         "hoverinfo": "text",
         "lat": [
          5.4836,
          11.8333
         ],
         "legendgroup": "flows",
         "line": {
          "color": "blue",
          "width": 0.0796812749003984
         },
         "lon": [
          7.0333,
          13.15
         ],
         "mode": "lines",
         "opacity": 0.4,
         "showlegend": false,
         "text": "Imo → Borno: 2",
         "type": "scattergeo"
        },
        {
         "hoverinfo": "text",
         "lat": [
          5.4836,
          4.9517
         ],
         "legendgroup": "flows",
         "line": {
          "color": "blue",
          "width": 0.0398406374501992
         },
         "lon": [
          7.0333,
          8.322
         ],
         "mode": "lines",
         "opacity": 0.4,
         "showlegend": false,
         "text": "Imo → Cross River: 1",
         "type": "scattergeo"
        },
        {
         "hoverinfo": "text",
         "lat": [
          5.4836,
          5.465
         ],
         "legendgroup": "flows",
         "line": {
          "color": "blue",
          "width": 0.1593625498007968
         },
         "lon": [
          7.0333,
          6.2019
         ],
         "mode": "lines",
         "opacity": 0.4,
         "showlegend": false,
         "text": "Imo → Delta: 4",
         "type": "scattergeo"
        },
        {
         "hoverinfo": "text",
         "lat": [
          5.4836,
          6.3249
         ],
         "legendgroup": "flows",
         "line": {
          "color": "blue",
          "width": 0.11952191235059761
         },
         "lon": [
          7.0333,
          8.1137
         ],
         "mode": "lines",
         "opacity": 0.4,
         "showlegend": false,
         "text": "Imo → Ebonyi: 3",
         "type": "scattergeo"
        },
        {
         "hoverinfo": "text",
         "lat": [
          5.4836,
          6.335
         ],
         "legendgroup": "flows",
         "line": {
          "color": "blue",
          "width": 0.199203187250996
         },
         "lon": [
          7.0333,
          5.6275
         ],
         "mode": "lines",
         "opacity": 0.4,
         "showlegend": false,
         "text": "Imo → Edo: 5",
         "type": "scattergeo"
        },
        {
         "hoverinfo": "text",
         "lat": [
          5.4836,
          7.6233
         ],
         "legendgroup": "flows",
         "line": {
          "color": "blue",
          "width": 0.11952191235059761
         },
         "lon": [
          7.0333,
          5.2214
         ],
         "mode": "lines",
         "opacity": 0.4,
         "showlegend": false,
         "text": "Imo → Ekiti: 3",
         "type": "scattergeo"
        },
        {
         "hoverinfo": "text",
         "lat": [
          5.4836,
          6.4527
         ],
         "legendgroup": "flows",
         "line": {
          "color": "blue",
          "width": 0.35856573705179284
         },
         "lon": [
          7.0333,
          7.5103
         ],
         "mode": "lines",
         "opacity": 0.4,
         "showlegend": false,
         "text": "Imo → Enugu: 9",
         "type": "scattergeo"
        },
        {
         "hoverinfo": "text",
         "lat": [
          5.4836,
          9.0579
         ],
         "legendgroup": "flows",
         "line": {
          "color": "blue",
          "width": 0.3187250996015936
         },
         "lon": [
          7.0333,
          7.4951
         ],
         "mode": "lines",
         "opacity": 0.4,
         "showlegend": false,
         "text": "Imo → FCT: 8",
         "type": "scattergeo"
        },
        {
         "hoverinfo": "text",
         "lat": [
          5.4836,
          10.2897
         ],
         "legendgroup": "flows",
         "line": {
          "color": "blue",
          "width": 0.0796812749003984
         },
         "lon": [
          7.0333,
          11.17
         ],
         "mode": "lines",
         "opacity": 0.4,
         "showlegend": false,
         "text": "Imo → Gombe: 2",
         "type": "scattergeo"
        },
        {
         "hoverinfo": "text",
         "lat": [
          5.4836,
          8.5
         ],
         "legendgroup": "flows",
         "line": {
          "color": "blue",
          "width": 0.0398406374501992
         },
         "lon": [
          7.0333,
          4.55
         ],
         "mode": "lines",
         "opacity": 0.4,
         "showlegend": false,
         "text": "Imo → Kwara: 1",
         "type": "scattergeo"
        },
        {
         "hoverinfo": "text",
         "lat": [
          5.4836,
          6.5244
         ],
         "legendgroup": "flows",
         "line": {
          "color": "blue",
          "width": 0.11952191235059761
         },
         "lon": [
          7.0333,
          3.3792
         ],
         "mode": "lines",
         "opacity": 0.4,
         "showlegend": false,
         "text": "Imo → Lagos: 3",
         "type": "scattergeo"
        },
        {
         "hoverinfo": "text",
         "lat": [
          5.4836,
          9.6
         ],
         "legendgroup": "flows",
         "line": {
          "color": "blue",
          "width": 0.0796812749003984
         },
         "lon": [
          7.0333,
          6.55
         ],
         "mode": "lines",
         "opacity": 0.4,
         "showlegend": false,
         "text": "Imo → Niger: 2",
         "type": "scattergeo"
        },
        {
         "hoverinfo": "text",
         "lat": [
          5.4836,
          7
         ],
         "legendgroup": "flows",
         "line": {
          "color": "blue",
          "width": 0.0398406374501992
         },
         "lon": [
          7.0333,
          3.5833
         ],
         "mode": "lines",
         "opacity": 0.4,
         "showlegend": false,
         "text": "Imo → Ogun: 1",
         "type": "scattergeo"
        },
        {
         "hoverinfo": "text",
         "lat": [
          5.4836,
          7.25
         ],
         "legendgroup": "flows",
         "line": {
          "color": "blue",
          "width": 0.0398406374501992
         },
         "lon": [
          7.0333,
          5.2
         ],
         "mode": "lines",
         "opacity": 0.4,
         "showlegend": false,
         "text": "Imo → Ondo: 1",
         "type": "scattergeo"
        },
        {
         "hoverinfo": "text",
         "lat": [
          5.4836,
          7.3833
         ],
         "legendgroup": "flows",
         "line": {
          "color": "blue",
          "width": 0.0398406374501992
         },
         "lon": [
          7.0333,
          3.9333
         ],
         "mode": "lines",
         "opacity": 0.4,
         "showlegend": false,
         "text": "Imo → Oyo: 1",
         "type": "scattergeo"
        },
        {
         "hoverinfo": "text",
         "lat": [
          5.4836,
          9.9333
         ],
         "legendgroup": "flows",
         "line": {
          "color": "blue",
          "width": 0.0398406374501992
         },
         "lon": [
          7.0333,
          8.8833
         ],
         "mode": "lines",
         "opacity": 0.4,
         "showlegend": false,
         "text": "Imo → Plateau: 1",
         "type": "scattergeo"
        },
        {
         "hoverinfo": "text",
         "lat": [
          5.4836,
          4.8242
         ],
         "legendgroup": "flows",
         "line": {
          "color": "blue",
          "width": 0.4382470119521913
         },
         "lon": [
          7.0333,
          7.0336
         ],
         "mode": "lines",
         "opacity": 0.4,
         "showlegend": false,
         "text": "Imo → Rivers: 11",
         "type": "scattergeo"
        },
        {
         "hoverinfo": "text",
         "lat": [
          12,
          10.3103
         ],
         "legendgroup": "flows",
         "line": {
          "color": "blue",
          "width": 0.5976095617529881
         },
         "lon": [
          9.7667,
          9.8439
         ],
         "mode": "lines",
         "opacity": 0.4,
         "showlegend": false,
         "text": "Jigawa → Bauchi: 15",
         "type": "scattergeo"
        },
        {
         "hoverinfo": "text",
         "lat": [
          12,
          11.8333
         ],
         "legendgroup": "flows",
         "line": {
          "color": "blue",
          "width": 0.3187250996015936
         },
         "lon": [
          9.7667,
          13.15
         ],
         "mode": "lines",
         "opacity": 0.4,
         "showlegend": false,
         "text": "Jigawa → Borno: 8",
         "type": "scattergeo"
        },
        {
         "hoverinfo": "text",
         "lat": [
          12,
          4.9517
         ],
         "legendgroup": "flows",
         "line": {
          "color": "blue",
          "width": 0.0398406374501992
         },
         "lon": [
          9.7667,
          8.322
         ],
         "mode": "lines",
         "opacity": 0.4,
         "showlegend": false,
         "text": "Jigawa → Cross River: 1",
         "type": "scattergeo"
        },
        {
         "hoverinfo": "text",
         "lat": [
          12,
          9.0579
         ],
         "legendgroup": "flows",
         "line": {
          "color": "blue",
          "width": 0.2788844621513944
         },
         "lon": [
          9.7667,
          7.4951
         ],
         "mode": "lines",
         "opacity": 0.4,
         "showlegend": false,
         "text": "Jigawa → FCT: 7",
         "type": "scattergeo"
        },
        {
         "hoverinfo": "text",
         "lat": [
          12,
          10.2897
         ],
         "legendgroup": "flows",
         "line": {
          "color": "blue",
          "width": 0.0398406374501992
         },
         "lon": [
          9.7667,
          11.17
         ],
         "mode": "lines",
         "opacity": 0.4,
         "showlegend": false,
         "text": "Jigawa → Gombe: 1",
         "type": "scattergeo"
        },
        {
         "hoverinfo": "text",
         "lat": [
          12,
          5.4836
         ],
         "legendgroup": "flows",
         "line": {
          "color": "blue",
          "width": 0.0398406374501992
         },
         "lon": [
          9.7667,
          7.0333
         ],
         "mode": "lines",
         "opacity": 0.4,
         "showlegend": false,
         "text": "Jigawa → Imo: 1",
         "type": "scattergeo"
        },
        {
         "hoverinfo": "text",
         "lat": [
          12,
          10.5231
         ],
         "legendgroup": "flows",
         "line": {
          "color": "blue",
          "width": 0.0796812749003984
         },
         "lon": [
          9.7667,
          7.4403
         ],
         "mode": "lines",
         "opacity": 0.4,
         "showlegend": false,
         "text": "Jigawa → Kaduna: 2",
         "type": "scattergeo"
        },
        {
         "hoverinfo": "text",
         "lat": [
          12,
          12.0022
         ],
         "legendgroup": "flows",
         "line": {
          "color": "blue",
          "width": 0.796812749003984
         },
         "lon": [
          9.7667,
          8.5919
         ],
         "mode": "lines",
         "opacity": 0.4,
         "showlegend": false,
         "text": "Jigawa → Kano: 20",
         "type": "scattergeo"
        },
        {
         "hoverinfo": "text",
         "lat": [
          12,
          12.9889
         ],
         "legendgroup": "flows",
         "line": {
          "color": "blue",
          "width": 0.11952191235059761
         },
         "lon": [
          9.7667,
          7.6
         ],
         "mode": "lines",
         "opacity": 0.4,
         "showlegend": false,
         "text": "Jigawa → Katsina: 3",
         "type": "scattergeo"
        },
        {
         "hoverinfo": "text",
         "lat": [
          12,
          8.5
         ],
         "legendgroup": "flows",
         "line": {
          "color": "blue",
          "width": 0.0398406374501992
         },
         "lon": [
          9.7667,
          4.55
         ],
         "mode": "lines",
         "opacity": 0.4,
         "showlegend": false,
         "text": "Jigawa → Kwara: 1",
         "type": "scattergeo"
        },
        {
         "hoverinfo": "text",
         "lat": [
          12,
          8.5333
         ],
         "legendgroup": "flows",
         "line": {
          "color": "blue",
          "width": 0.11952191235059761
         },
         "lon": [
          9.7667,
          8.5333
         ],
         "mode": "lines",
         "opacity": 0.4,
         "showlegend": false,
         "text": "Jigawa → Nasarawa: 3",
         "type": "scattergeo"
        },
        {
         "hoverinfo": "text",
         "lat": [
          12,
          9.6
         ],
         "legendgroup": "flows",
         "line": {
          "color": "blue",
          "width": 0.0398406374501992
         },
         "lon": [
          9.7667,
          6.55
         ],
         "mode": "lines",
         "opacity": 0.4,
         "showlegend": false,
         "text": "Jigawa → Niger: 1",
         "type": "scattergeo"
        },
        {
         "hoverinfo": "text",
         "lat": [
          12,
          7.3833
         ],
         "legendgroup": "flows",
         "line": {
          "color": "blue",
          "width": 0.0398406374501992
         },
         "lon": [
          9.7667,
          3.9333
         ],
         "mode": "lines",
         "opacity": 0.4,
         "showlegend": false,
         "text": "Jigawa → Oyo: 1",
         "type": "scattergeo"
        },
        {
         "hoverinfo": "text",
         "lat": [
          12,
          9.9333
         ],
         "legendgroup": "flows",
         "line": {
          "color": "blue",
          "width": 0.0796812749003984
         },
         "lon": [
          9.7667,
          8.8833
         ],
         "mode": "lines",
         "opacity": 0.4,
         "showlegend": false,
         "text": "Jigawa → Plateau: 2",
         "type": "scattergeo"
        },
        {
         "hoverinfo": "text",
         "lat": [
          12,
          13.0667
         ],
         "legendgroup": "flows",
         "line": {
          "color": "blue",
          "width": 0.0796812749003984
         },
         "lon": [
          9.7667,
          5.2333
         ],
         "mode": "lines",
         "opacity": 0.4,
         "showlegend": false,
         "text": "Jigawa → Sokoto: 2",
         "type": "scattergeo"
        },
        {
         "hoverinfo": "text",
         "lat": [
          12,
          8.8833
         ],
         "legendgroup": "flows",
         "line": {
          "color": "blue",
          "width": 0.0398406374501992
         },
         "lon": [
          9.7667,
          11.3667
         ],
         "mode": "lines",
         "opacity": 0.4,
         "showlegend": false,
         "text": "Jigawa → Taraba: 1",
         "type": "scattergeo"
        },
        {
         "hoverinfo": "text",
         "lat": [
          12,
          12
         ],
         "legendgroup": "flows",
         "line": {
          "color": "blue",
          "width": 0.5976095617529881
         },
         "lon": [
          9.7667,
          11.75
         ],
         "mode": "lines",
         "opacity": 0.4,
         "showlegend": false,
         "text": "Jigawa → Yobe: 15",
         "type": "scattergeo"
        },
        {
         "hoverinfo": "text",
         "lat": [
          10.5231,
          6.21
         ],
         "legendgroup": "flows",
         "line": {
          "color": "blue",
          "width": 0.11952191235059761
         },
         "lon": [
          7.4403,
          7.07
         ],
         "mode": "lines",
         "opacity": 0.4,
         "showlegend": false,
         "text": "Kaduna → Anambra: 3",
         "type": "scattergeo"
        },
        {
         "hoverinfo": "text",
         "lat": [
          10.5231,
          10.3103
         ],
         "legendgroup": "flows",
         "line": {
          "color": "blue",
          "width": 0.0796812749003984
         },
         "lon": [
          7.4403,
          9.8439
         ],
         "mode": "lines",
         "opacity": 0.4,
         "showlegend": false,
         "text": "Kaduna → Bauchi: 2",
         "type": "scattergeo"
        },
        {
         "hoverinfo": "text",
         "lat": [
          10.5231,
          4.922
         ],
         "legendgroup": "flows",
         "line": {
          "color": "blue",
          "width": 0.0796812749003984
         },
         "lon": [
          7.4403,
          6.2649
         ],
         "mode": "lines",
         "opacity": 0.4,
         "showlegend": false,
         "text": "Kaduna → Bayelsa: 2",
         "type": "scattergeo"
        },
        {
         "hoverinfo": "text",
         "lat": [
          10.5231,
          7.1907
         ],
         "legendgroup": "flows",
         "line": {
          "color": "blue",
          "width": 0.1593625498007968
         },
         "lon": [
          7.4403,
          8.129
         ],
         "mode": "lines",
         "opacity": 0.4,
         "showlegend": false,
         "text": "Kaduna → Benue: 4",
         "type": "scattergeo"
        },
        {
         "hoverinfo": "text",
         "lat": [
          10.5231,
          11.8333
         ],
         "legendgroup": "flows",
         "line": {
          "color": "blue",
          "width": 0.3187250996015936
         },
         "lon": [
          7.4403,
          13.15
         ],
         "mode": "lines",
         "opacity": 0.4,
         "showlegend": false,
         "text": "Kaduna → Borno: 8",
         "type": "scattergeo"
        },
        {
         "hoverinfo": "text",
         "lat": [
          10.5231,
          4.9517
         ],
         "legendgroup": "flows",
         "line": {
          "color": "blue",
          "width": 0.0796812749003984
         },
         "lon": [
          7.4403,
          8.322
         ],
         "mode": "lines",
         "opacity": 0.4,
         "showlegend": false,
         "text": "Kaduna → Cross River: 2",
         "type": "scattergeo"
        },
        {
         "hoverinfo": "text",
         "lat": [
          10.5231,
          6.3249
         ],
         "legendgroup": "flows",
         "line": {
          "color": "blue",
          "width": 0.0398406374501992
         },
         "lon": [
          7.4403,
          8.1137
         ],
         "mode": "lines",
         "opacity": 0.4,
         "showlegend": false,
         "text": "Kaduna → Ebonyi: 1",
         "type": "scattergeo"
        },
        {
         "hoverinfo": "text",
         "lat": [
          10.5231,
          6.335
         ],
         "legendgroup": "flows",
         "line": {
          "color": "blue",
          "width": 0.2788844621513944
         },
         "lon": [
          7.4403,
          5.6275
         ],
         "mode": "lines",
         "opacity": 0.4,
         "showlegend": false,
         "text": "Kaduna → Edo: 7",
         "type": "scattergeo"
        },
        {
         "hoverinfo": "text",
         "lat": [
          10.5231,
          7.6233
         ],
         "legendgroup": "flows",
         "line": {
          "color": "blue",
          "width": 0.0398406374501992
         },
         "lon": [
          7.4403,
          5.2214
         ],
         "mode": "lines",
         "opacity": 0.4,
         "showlegend": false,
         "text": "Kaduna → Ekiti: 1",
         "type": "scattergeo"
        },
        {
         "hoverinfo": "text",
         "lat": [
          10.5231,
          6.4527
         ],
         "legendgroup": "flows",
         "line": {
          "color": "blue",
          "width": 0.0398406374501992
         },
         "lon": [
          7.4403,
          7.5103
         ],
         "mode": "lines",
         "opacity": 0.4,
         "showlegend": false,
         "text": "Kaduna → Enugu: 1",
         "type": "scattergeo"
        },
        {
         "hoverinfo": "text",
         "lat": [
          10.5231,
          9.0579
         ],
         "legendgroup": "flows",
         "line": {
          "color": "blue",
          "width": 2.7091633466135456
         },
         "lon": [
          7.4403,
          7.4951
         ],
         "mode": "lines",
         "opacity": 0.4,
         "showlegend": false,
         "text": "Kaduna → FCT: 68",
         "type": "scattergeo"
        },
        {
         "hoverinfo": "text",
         "lat": [
          10.5231,
          10.2897
         ],
         "legendgroup": "flows",
         "line": {
          "color": "blue",
          "width": 0.11952191235059761
         },
         "lon": [
          7.4403,
          11.17
         ],
         "mode": "lines",
         "opacity": 0.4,
         "showlegend": false,
         "text": "Kaduna → Gombe: 3",
         "type": "scattergeo"
        },
        {
         "hoverinfo": "text",
         "lat": [
          10.5231,
          5.4836
         ],
         "legendgroup": "flows",
         "line": {
          "color": "blue",
          "width": 0.0398406374501992
         },
         "lon": [
          7.4403,
          7.0333
         ],
         "mode": "lines",
         "opacity": 0.4,
         "showlegend": false,
         "text": "Kaduna → Imo: 1",
         "type": "scattergeo"
        },
        {
         "hoverinfo": "text",
         "lat": [
          10.5231,
          12
         ],
         "legendgroup": "flows",
         "line": {
          "color": "blue",
          "width": 0.3187250996015936
         },
         "lon": [
          7.4403,
          9.7667
         ],
         "mode": "lines",
         "opacity": 0.4,
         "showlegend": false,
         "text": "Kaduna → Jigawa: 8",
         "type": "scattergeo"
        },
        {
         "hoverinfo": "text",
         "lat": [
          10.5231,
          12.0022
         ],
         "legendgroup": "flows",
         "line": {
          "color": "blue",
          "width": 0.9960159362549801
         },
         "lon": [
          7.4403,
          8.5919
         ],
         "mode": "lines",
         "opacity": 0.4,
         "showlegend": false,
         "text": "Kaduna → Kano: 25",
         "type": "scattergeo"
        },
        {
         "hoverinfo": "text",
         "lat": [
          10.5231,
          12.9889
         ],
         "legendgroup": "flows",
         "line": {
          "color": "blue",
          "width": 0.398406374501992
         },
         "lon": [
          7.4403,
          7.6
         ],
         "mode": "lines",
         "opacity": 0.4,
         "showlegend": false,
         "text": "Kaduna → Katsina: 10",
         "type": "scattergeo"
        },
        {
         "hoverinfo": "text",
         "lat": [
          10.5231,
          12.45
         ],
         "legendgroup": "flows",
         "line": {
          "color": "blue",
          "width": 0.0398406374501992
         },
         "lon": [
          7.4403,
          4.2
         ],
         "mode": "lines",
         "opacity": 0.4,
         "showlegend": false,
         "text": "Kaduna → Kebbi: 1",
         "type": "scattergeo"
        },
        {
         "hoverinfo": "text",
         "lat": [
          10.5231,
          7.8
         ],
         "legendgroup": "flows",
         "line": {
          "color": "blue",
          "width": 0.199203187250996
         },
         "lon": [
          7.4403,
          6.7333
         ],
         "mode": "lines",
         "opacity": 0.4,
         "showlegend": false,
         "text": "Kaduna → Kogi: 5",
         "type": "scattergeo"
        },
        {
         "hoverinfo": "text",
         "lat": [
          10.5231,
          8.5
         ],
         "legendgroup": "flows",
         "line": {
          "color": "blue",
          "width": 0.3187250996015936
         },
         "lon": [
          7.4403,
          4.55
         ],
         "mode": "lines",
         "opacity": 0.4,
         "showlegend": false,
         "text": "Kaduna → Kwara: 8",
         "type": "scattergeo"
        },
        {
         "hoverinfo": "text",
         "lat": [
          10.5231,
          6.5244
         ],
         "legendgroup": "flows",
         "line": {
          "color": "blue",
          "width": 0.1593625498007968
         },
         "lon": [
          7.4403,
          3.3792
         ],
         "mode": "lines",
         "opacity": 0.4,
         "showlegend": false,
         "text": "Kaduna → Lagos: 4",
         "type": "scattergeo"
        },
        {
         "hoverinfo": "text",
         "lat": [
          10.5231,
          8.5333
         ],
         "legendgroup": "flows",
         "line": {
          "color": "blue",
          "width": 1.1952191235059761
         },
         "lon": [
          7.4403,
          8.5333
         ],
         "mode": "lines",
         "opacity": 0.4,
         "showlegend": false,
         "text": "Kaduna → Nasarawa: 30",
         "type": "scattergeo"
        },
        {
         "hoverinfo": "text",
         "lat": [
          10.5231,
          9.6
         ],
         "legendgroup": "flows",
         "line": {
          "color": "blue",
          "width": 0.6374501992031872
         },
         "lon": [
          7.4403,
          6.55
         ],
         "mode": "lines",
         "opacity": 0.4,
         "showlegend": false,
         "text": "Kaduna → Niger: 16",
         "type": "scattergeo"
        },
        {
         "hoverinfo": "text",
         "lat": [
          10.5231,
          7
         ],
         "legendgroup": "flows",
         "line": {
          "color": "blue",
          "width": 0.0796812749003984
         },
         "lon": [
          7.4403,
          3.5833
         ],
         "mode": "lines",
         "opacity": 0.4,
         "showlegend": false,
         "text": "Kaduna → Ogun: 2",
         "type": "scattergeo"
        },
        {
         "hoverinfo": "text",
         "lat": [
          10.5231,
          7.25
         ],
         "legendgroup": "flows",
         "line": {
          "color": "blue",
          "width": 0.0796812749003984
         },
         "lon": [
          7.4403,
          5.2
         ],
         "mode": "lines",
         "opacity": 0.4,
         "showlegend": false,
         "text": "Kaduna → Ondo: 2",
         "type": "scattergeo"
        },
        {
         "hoverinfo": "text",
         "lat": [
          10.5231,
          7.7833
         ],
         "legendgroup": "flows",
         "line": {
          "color": "blue",
          "width": 0.0398406374501992
         },
         "lon": [
          7.4403,
          4.5667
         ],
         "mode": "lines",
         "opacity": 0.4,
         "showlegend": false,
         "text": "Kaduna → Osun: 1",
         "type": "scattergeo"
        },
        {
         "hoverinfo": "text",
         "lat": [
          10.5231,
          7.3833
         ],
         "legendgroup": "flows",
         "line": {
          "color": "blue",
          "width": 0.1593625498007968
         },
         "lon": [
          7.4403,
          3.9333
         ],
         "mode": "lines",
         "opacity": 0.4,
         "showlegend": false,
         "text": "Kaduna → Oyo: 4",
         "type": "scattergeo"
        },
        {
         "hoverinfo": "text",
         "lat": [
          10.5231,
          9.9333
         ],
         "legendgroup": "flows",
         "line": {
          "color": "blue",
          "width": 0.398406374501992
         },
         "lon": [
          7.4403,
          8.8833
         ],
         "mode": "lines",
         "opacity": 0.4,
         "showlegend": false,
         "text": "Kaduna → Plateau: 10",
         "type": "scattergeo"
        },
        {
         "hoverinfo": "text",
         "lat": [
          10.5231,
          4.8242
         ],
         "legendgroup": "flows",
         "line": {
          "color": "blue",
          "width": 0.0796812749003984
         },
         "lon": [
          7.4403,
          7.0336
         ],
         "mode": "lines",
         "opacity": 0.4,
         "showlegend": false,
         "text": "Kaduna → Rivers: 2",
         "type": "scattergeo"
        },
        {
         "hoverinfo": "text",
         "lat": [
          10.5231,
          13.0667
         ],
         "legendgroup": "flows",
         "line": {
          "color": "blue",
          "width": 0.11952191235059761
         },
         "lon": [
          7.4403,
          5.2333
         ],
         "mode": "lines",
         "opacity": 0.4,
         "showlegend": false,
         "text": "Kaduna → Sokoto: 3",
         "type": "scattergeo"
        },
        {
         "hoverinfo": "text",
         "lat": [
          10.5231,
          8.8833
         ],
         "legendgroup": "flows",
         "line": {
          "color": "blue",
          "width": 0.0398406374501992
         },
         "lon": [
          7.4403,
          11.3667
         ],
         "mode": "lines",
         "opacity": 0.4,
         "showlegend": false,
         "text": "Kaduna → Taraba: 1",
         "type": "scattergeo"
        },
        {
         "hoverinfo": "text",
         "lat": [
          10.5231,
          12.1667
         ],
         "legendgroup": "flows",
         "line": {
          "color": "blue",
          "width": 0.0796812749003984
         },
         "lon": [
          7.4403,
          6.25
         ],
         "mode": "lines",
         "opacity": 0.4,
         "showlegend": false,
         "text": "Kaduna → Zamfara: 2",
         "type": "scattergeo"
        },
        {
         "hoverinfo": "text",
         "lat": [
          12.0022,
          5.532
         ],
         "legendgroup": "flows",
         "line": {
          "color": "blue",
          "width": 0.11952191235059761
         },
         "lon": [
          8.5919,
          7.486
         ],
         "mode": "lines",
         "opacity": 0.4,
         "showlegend": false,
         "text": "Kano → Abia: 3",
         "type": "scattergeo"
        },
        {
         "hoverinfo": "text",
         "lat": [
          12.0022,
          9.3265
         ],
         "legendgroup": "flows",
         "line": {
          "color": "blue",
          "width": 0.0398406374501992
         },
         "lon": [
          8.5919,
          12.3984
         ],
         "mode": "lines",
         "opacity": 0.4,
         "showlegend": false,
         "text": "Kano → Adamawa: 1",
         "type": "scattergeo"
        },
        {
         "hoverinfo": "text",
         "lat": [
          12.0022,
          4.9268
         ],
         "legendgroup": "flows",
         "line": {
          "color": "blue",
          "width": 0.1593625498007968
         },
         "lon": [
          8.5919,
          7.8722
         ],
         "mode": "lines",
         "opacity": 0.4,
         "showlegend": false,
         "text": "Kano → Akwa Ibom: 4",
         "type": "scattergeo"
        },
        {
         "hoverinfo": "text",
         "lat": [
          12.0022,
          6.21
         ],
         "legendgroup": "flows",
         "line": {
          "color": "blue",
          "width": 0.11952191235059761
         },
         "lon": [
          8.5919,
          7.07
         ],
         "mode": "lines",
         "opacity": 0.4,
         "showlegend": false,
         "text": "Kano → Anambra: 3",
         "type": "scattergeo"
        },
        {
         "hoverinfo": "text",
         "lat": [
          12.0022,
          10.3103
         ],
         "legendgroup": "flows",
         "line": {
          "color": "blue",
          "width": 0.5577689243027888
         },
         "lon": [
          8.5919,
          9.8439
         ],
         "mode": "lines",
         "opacity": 0.4,
         "showlegend": false,
         "text": "Kano → Bauchi: 14",
         "type": "scattergeo"
        },
        {
         "hoverinfo": "text",
         "lat": [
          12.0022,
          11.8333
         ],
         "legendgroup": "flows",
         "line": {
          "color": "blue",
          "width": 0.4382470119521913
         },
         "lon": [
          8.5919,
          13.15
         ],
         "mode": "lines",
         "opacity": 0.4,
         "showlegend": false,
         "text": "Kano → Borno: 11",
         "type": "scattergeo"
        },
        {
         "hoverinfo": "text",
         "lat": [
          12.0022,
          6.335
         ],
         "legendgroup": "flows",
         "line": {
          "color": "blue",
          "width": 0.35856573705179284
         },
         "lon": [
          8.5919,
          5.6275
         ],
         "mode": "lines",
         "opacity": 0.4,
         "showlegend": false,
         "text": "Kano → Edo: 9",
         "type": "scattergeo"
        },
        {
         "hoverinfo": "text",
         "lat": [
          12.0022,
          6.4527
         ],
         "legendgroup": "flows",
         "line": {
          "color": "blue",
          "width": 0.11952191235059761
         },
         "lon": [
          8.5919,
          7.5103
         ],
         "mode": "lines",
         "opacity": 0.4,
         "showlegend": false,
         "text": "Kano → Enugu: 3",
         "type": "scattergeo"
        },
        {
         "hoverinfo": "text",
         "lat": [
          12.0022,
          9.0579
         ],
         "legendgroup": "flows",
         "line": {
          "color": "blue",
          "width": 1.1155378486055776
         },
         "lon": [
          8.5919,
          7.4951
         ],
         "mode": "lines",
         "opacity": 0.4,
         "showlegend": false,
         "text": "Kano → FCT: 28",
         "type": "scattergeo"
        },
        {
         "hoverinfo": "text",
         "lat": [
          12.0022,
          10.2897
         ],
         "legendgroup": "flows",
         "line": {
          "color": "blue",
          "width": 0.1593625498007968
         },
         "lon": [
          8.5919,
          11.17
         ],
         "mode": "lines",
         "opacity": 0.4,
         "showlegend": false,
         "text": "Kano → Gombe: 4",
         "type": "scattergeo"
        },
        {
         "hoverinfo": "text",
         "lat": [
          12.0022,
          12
         ],
         "legendgroup": "flows",
         "line": {
          "color": "blue",
          "width": 1.1155378486055776
         },
         "lon": [
          8.5919,
          9.7667
         ],
         "mode": "lines",
         "opacity": 0.4,
         "showlegend": false,
         "text": "Kano → Jigawa: 28",
         "type": "scattergeo"
        },
        {
         "hoverinfo": "text",
         "lat": [
          12.0022,
          10.5231
         ],
         "legendgroup": "flows",
         "line": {
          "color": "blue",
          "width": 0.5179282868525896
         },
         "lon": [
          8.5919,
          7.4403
         ],
         "mode": "lines",
         "opacity": 0.4,
         "showlegend": false,
         "text": "Kano → Kaduna: 13",
         "type": "scattergeo"
        },
        {
         "hoverinfo": "text",
         "lat": [
          12.0022,
          12.9889
         ],
         "legendgroup": "flows",
         "line": {
          "color": "blue",
          "width": 0.5179282868525896
         },
         "lon": [
          8.5919,
          7.6
         ],
         "mode": "lines",
         "opacity": 0.4,
         "showlegend": false,
         "text": "Kano → Katsina: 13",
         "type": "scattergeo"
        },
        {
         "hoverinfo": "text",
         "lat": [
          12.0022,
          12.45
         ],
         "legendgroup": "flows",
         "line": {
          "color": "blue",
          "width": 0.11952191235059761
         },
         "lon": [
          8.5919,
          4.2
         ],
         "mode": "lines",
         "opacity": 0.4,
         "showlegend": false,
         "text": "Kano → Kebbi: 3",
         "type": "scattergeo"
        },
        {
         "hoverinfo": "text",
         "lat": [
          12.0022,
          7.8
         ],
         "legendgroup": "flows",
         "line": {
          "color": "blue",
          "width": 0.1593625498007968
         },
         "lon": [
          8.5919,
          6.7333
         ],
         "mode": "lines",
         "opacity": 0.4,
         "showlegend": false,
         "text": "Kano → Kogi: 4",
         "type": "scattergeo"
        },
        {
         "hoverinfo": "text",
         "lat": [
          12.0022,
          8.5
         ],
         "legendgroup": "flows",
         "line": {
          "color": "blue",
          "width": 0.1593625498007968
         },
         "lon": [
          8.5919,
          4.55
         ],
         "mode": "lines",
         "opacity": 0.4,
         "showlegend": false,
         "text": "Kano → Kwara: 4",
         "type": "scattergeo"
        },
        {
         "hoverinfo": "text",
         "lat": [
          12.0022,
          6.5244
         ],
         "legendgroup": "flows",
         "line": {
          "color": "blue",
          "width": 0.0796812749003984
         },
         "lon": [
          8.5919,
          3.3792
         ],
         "mode": "lines",
         "opacity": 0.4,
         "showlegend": false,
         "text": "Kano → Lagos: 2",
         "type": "scattergeo"
        },
        {
         "hoverinfo": "text",
         "lat": [
          12.0022,
          8.5333
         ],
         "legendgroup": "flows",
         "line": {
          "color": "blue",
          "width": 0.5577689243027888
         },
         "lon": [
          8.5919,
          8.5333
         ],
         "mode": "lines",
         "opacity": 0.4,
         "showlegend": false,
         "text": "Kano → Nasarawa: 14",
         "type": "scattergeo"
        },
        {
         "hoverinfo": "text",
         "lat": [
          12.0022,
          9.6
         ],
         "legendgroup": "flows",
         "line": {
          "color": "blue",
          "width": 0.23904382470119523
         },
         "lon": [
          8.5919,
          6.55
         ],
         "mode": "lines",
         "opacity": 0.4,
         "showlegend": false,
         "text": "Kano → Niger: 6",
         "type": "scattergeo"
        },
        {
         "hoverinfo": "text",
         "lat": [
          12.0022,
          7
         ],
         "legendgroup": "flows",
         "line": {
          "color": "blue",
          "width": 0.0398406374501992
         },
         "lon": [
          8.5919,
          3.5833
         ],
         "mode": "lines",
         "opacity": 0.4,
         "showlegend": false,
         "text": "Kano → Ogun: 1",
         "type": "scattergeo"
        },
        {
         "hoverinfo": "text",
         "lat": [
          12.0022,
          7.25
         ],
         "legendgroup": "flows",
         "line": {
          "color": "blue",
          "width": 0.1593625498007968
         },
         "lon": [
          8.5919,
          5.2
         ],
         "mode": "lines",
         "opacity": 0.4,
         "showlegend": false,
         "text": "Kano → Ondo: 4",
         "type": "scattergeo"
        },
        {
         "hoverinfo": "text",
         "lat": [
          12.0022,
          7.7833
         ],
         "legendgroup": "flows",
         "line": {
          "color": "blue",
          "width": 0.0796812749003984
         },
         "lon": [
          8.5919,
          4.5667
         ],
         "mode": "lines",
         "opacity": 0.4,
         "showlegend": false,
         "text": "Kano → Osun: 2",
         "type": "scattergeo"
        },
        {
         "hoverinfo": "text",
         "lat": [
          12.0022,
          7.3833
         ],
         "legendgroup": "flows",
         "line": {
          "color": "blue",
          "width": 0.0398406374501992
         },
         "lon": [
          8.5919,
          3.9333
         ],
         "mode": "lines",
         "opacity": 0.4,
         "showlegend": false,
         "text": "Kano → Oyo: 1",
         "type": "scattergeo"
        },
        {
         "hoverinfo": "text",
         "lat": [
          12.0022,
          9.9333
         ],
         "legendgroup": "flows",
         "line": {
          "color": "blue",
          "width": 0.47808764940239046
         },
         "lon": [
          8.5919,
          8.8833
         ],
         "mode": "lines",
         "opacity": 0.4,
         "showlegend": false,
         "text": "Kano → Plateau: 12",
         "type": "scattergeo"
        },
        {
         "hoverinfo": "text",
         "lat": [
          12.0022,
          13.0667
         ],
         "legendgroup": "flows",
         "line": {
          "color": "blue",
          "width": 0.0796812749003984
         },
         "lon": [
          8.5919,
          5.2333
         ],
         "mode": "lines",
         "opacity": 0.4,
         "showlegend": false,
         "text": "Kano → Sokoto: 2",
         "type": "scattergeo"
        },
        {
         "hoverinfo": "text",
         "lat": [
          12.0022,
          8.8833
         ],
         "legendgroup": "flows",
         "line": {
          "color": "blue",
          "width": 0.1593625498007968
         },
         "lon": [
          8.5919,
          11.3667
         ],
         "mode": "lines",
         "opacity": 0.4,
         "showlegend": false,
         "text": "Kano → Taraba: 4",
         "type": "scattergeo"
        },
        {
         "hoverinfo": "text",
         "lat": [
          12.0022,
          12
         ],
         "legendgroup": "flows",
         "line": {
          "color": "blue",
          "width": 0.5577689243027888
         },
         "lon": [
          8.5919,
          11.75
         ],
         "mode": "lines",
         "opacity": 0.4,
         "showlegend": false,
         "text": "Kano → Yobe: 14",
         "type": "scattergeo"
        },
        {
         "hoverinfo": "text",
         "lat": [
          12.9889,
          5.532
         ],
         "legendgroup": "flows",
         "line": {
          "color": "blue",
          "width": 0.0398406374501992
         },
         "lon": [
          7.6,
          7.486
         ],
         "mode": "lines",
         "opacity": 0.4,
         "showlegend": false,
         "text": "Katsina → Abia: 1",
         "type": "scattergeo"
        },
        {
         "hoverinfo": "text",
         "lat": [
          12.9889,
          4.9268
         ],
         "legendgroup": "flows",
         "line": {
          "color": "blue",
          "width": 0.0398406374501992
         },
         "lon": [
          7.6,
          7.8722
         ],
         "mode": "lines",
         "opacity": 0.4,
         "showlegend": false,
         "text": "Katsina → Akwa Ibom: 1",
         "type": "scattergeo"
        },
        {
         "hoverinfo": "text",
         "lat": [
          12.9889,
          10.3103
         ],
         "legendgroup": "flows",
         "line": {
          "color": "blue",
          "width": 0.199203187250996
         },
         "lon": [
          7.6,
          9.8439
         ],
         "mode": "lines",
         "opacity": 0.4,
         "showlegend": false,
         "text": "Katsina → Bauchi: 5",
         "type": "scattergeo"
        },
        {
         "hoverinfo": "text",
         "lat": [
          12.9889,
          11.8333
         ],
         "legendgroup": "flows",
         "line": {
          "color": "blue",
          "width": 0.0398406374501992
         },
         "lon": [
          7.6,
          13.15
         ],
         "mode": "lines",
         "opacity": 0.4,
         "showlegend": false,
         "text": "Katsina → Borno: 1",
         "type": "scattergeo"
        },
        {
         "hoverinfo": "text",
         "lat": [
          12.9889,
          9.0579
         ],
         "legendgroup": "flows",
         "line": {
          "color": "blue",
          "width": 0.6374501992031872
         },
         "lon": [
          7.6,
          7.4951
         ],
         "mode": "lines",
         "opacity": 0.4,
         "showlegend": false,
         "text": "Katsina → FCT: 16",
         "type": "scattergeo"
        },
        {
         "hoverinfo": "text",
         "lat": [
          12.9889,
          10.2897
         ],
         "legendgroup": "flows",
         "line": {
          "color": "blue",
          "width": 0.0398406374501992
         },
         "lon": [
          7.6,
          11.17
         ],
         "mode": "lines",
         "opacity": 0.4,
         "showlegend": false,
         "text": "Katsina → Gombe: 1",
         "type": "scattergeo"
        },
        {
         "hoverinfo": "text",
         "lat": [
          12.9889,
          12
         ],
         "legendgroup": "flows",
         "line": {
          "color": "blue",
          "width": 0.199203187250996
         },
         "lon": [
          7.6,
          9.7667
         ],
         "mode": "lines",
         "opacity": 0.4,
         "showlegend": false,
         "text": "Katsina → Jigawa: 5",
         "type": "scattergeo"
        },
        {
         "hoverinfo": "text",
         "lat": [
          12.9889,
          10.5231
         ],
         "legendgroup": "flows",
         "line": {
          "color": "blue",
          "width": 0.199203187250996
         },
         "lon": [
          7.6,
          7.4403
         ],
         "mode": "lines",
         "opacity": 0.4,
         "showlegend": false,
         "text": "Katsina → Kaduna: 5",
         "type": "scattergeo"
        },
        {
         "hoverinfo": "text",
         "lat": [
          12.9889,
          12.0022
         ],
         "legendgroup": "flows",
         "line": {
          "color": "blue",
          "width": 0.5577689243027888
         },
         "lon": [
          7.6,
          8.5919
         ],
         "mode": "lines",
         "opacity": 0.4,
         "showlegend": false,
         "text": "Katsina → Kano: 14",
         "type": "scattergeo"
        },
        {
         "hoverinfo": "text",
         "lat": [
          12.9889,
          12.45
         ],
         "legendgroup": "flows",
         "line": {
          "color": "blue",
          "width": 0.0796812749003984
         },
         "lon": [
          7.6,
          4.2
         ],
         "mode": "lines",
         "opacity": 0.4,
         "showlegend": false,
         "text": "Katsina → Kebbi: 2",
         "type": "scattergeo"
        },
        {
         "hoverinfo": "text",
         "lat": [
          12.9889,
          7.8
         ],
         "legendgroup": "flows",
         "line": {
          "color": "blue",
          "width": 0.0398406374501992
         },
         "lon": [
          7.6,
          6.7333
         ],
         "mode": "lines",
         "opacity": 0.4,
         "showlegend": false,
         "text": "Katsina → Kogi: 1",
         "type": "scattergeo"
        },
        {
         "hoverinfo": "text",
         "lat": [
          12.9889,
          8.5
         ],
         "legendgroup": "flows",
         "line": {
          "color": "blue",
          "width": 0.0398406374501992
         },
         "lon": [
          7.6,
          4.55
         ],
         "mode": "lines",
         "opacity": 0.4,
         "showlegend": false,
         "text": "Katsina → Kwara: 1",
         "type": "scattergeo"
        },
        {
         "hoverinfo": "text",
         "lat": [
          12.9889,
          6.5244
         ],
         "legendgroup": "flows",
         "line": {
          "color": "blue",
          "width": 0.0398406374501992
         },
         "lon": [
          7.6,
          3.3792
         ],
         "mode": "lines",
         "opacity": 0.4,
         "showlegend": false,
         "text": "Katsina → Lagos: 1",
         "type": "scattergeo"
        },
        {
         "hoverinfo": "text",
         "lat": [
          12.9889,
          8.5333
         ],
         "legendgroup": "flows",
         "line": {
          "color": "blue",
          "width": 0.0796812749003984
         },
         "lon": [
          7.6,
          8.5333
         ],
         "mode": "lines",
         "opacity": 0.4,
         "showlegend": false,
         "text": "Katsina → Nasarawa: 2",
         "type": "scattergeo"
        },
        {
         "hoverinfo": "text",
         "lat": [
          12.9889,
          9.6
         ],
         "legendgroup": "flows",
         "line": {
          "color": "blue",
          "width": 0.9960159362549801
         },
         "lon": [
          7.6,
          6.55
         ],
         "mode": "lines",
         "opacity": 0.4,
         "showlegend": false,
         "text": "Katsina → Niger: 25",
         "type": "scattergeo"
        },
        {
         "hoverinfo": "text",
         "lat": [
          12.9889,
          7
         ],
         "legendgroup": "flows",
         "line": {
          "color": "blue",
          "width": 0.0398406374501992
         },
         "lon": [
          7.6,
          3.5833
         ],
         "mode": "lines",
         "opacity": 0.4,
         "showlegend": false,
         "text": "Katsina → Ogun: 1",
         "type": "scattergeo"
        },
        {
         "hoverinfo": "text",
         "lat": [
          12.9889,
          7.25
         ],
         "legendgroup": "flows",
         "line": {
          "color": "blue",
          "width": 0.11952191235059761
         },
         "lon": [
          7.6,
          5.2
         ],
         "mode": "lines",
         "opacity": 0.4,
         "showlegend": false,
         "text": "Katsina → Ondo: 3",
         "type": "scattergeo"
        },
        {
         "hoverinfo": "text",
         "lat": [
          12.9889,
          7.7833
         ],
         "legendgroup": "flows",
         "line": {
          "color": "blue",
          "width": 0.0398406374501992
         },
         "lon": [
          7.6,
          4.5667
         ],
         "mode": "lines",
         "opacity": 0.4,
         "showlegend": false,
         "text": "Katsina → Osun: 1",
         "type": "scattergeo"
        },
        {
         "hoverinfo": "text",
         "lat": [
          12.9889,
          7.3833
         ],
         "legendgroup": "flows",
         "line": {
          "color": "blue",
          "width": 0.0398406374501992
         },
         "lon": [
          7.6,
          3.9333
         ],
         "mode": "lines",
         "opacity": 0.4,
         "showlegend": false,
         "text": "Katsina → Oyo: 1",
         "type": "scattergeo"
        },
        {
         "hoverinfo": "text",
         "lat": [
          12.9889,
          9.9333
         ],
         "legendgroup": "flows",
         "line": {
          "color": "blue",
          "width": 0.2788844621513944
         },
         "lon": [
          7.6,
          8.8833
         ],
         "mode": "lines",
         "opacity": 0.4,
         "showlegend": false,
         "text": "Katsina → Plateau: 7",
         "type": "scattergeo"
        },
        {
         "hoverinfo": "text",
         "lat": [
          12.9889,
          13.0667
         ],
         "legendgroup": "flows",
         "line": {
          "color": "blue",
          "width": 0.11952191235059761
         },
         "lon": [
          7.6,
          5.2333
         ],
         "mode": "lines",
         "opacity": 0.4,
         "showlegend": false,
         "text": "Katsina → Sokoto: 3",
         "type": "scattergeo"
        },
        {
         "hoverinfo": "text",
         "lat": [
          12.9889,
          8.8833
         ],
         "legendgroup": "flows",
         "line": {
          "color": "blue",
          "width": 0.1593625498007968
         },
         "lon": [
          7.6,
          11.3667
         ],
         "mode": "lines",
         "opacity": 0.4,
         "showlegend": false,
         "text": "Katsina → Taraba: 4",
         "type": "scattergeo"
        },
        {
         "hoverinfo": "text",
         "lat": [
          12.9889,
          12
         ],
         "legendgroup": "flows",
         "line": {
          "color": "blue",
          "width": 0.23904382470119523
         },
         "lon": [
          7.6,
          11.75
         ],
         "mode": "lines",
         "opacity": 0.4,
         "showlegend": false,
         "text": "Katsina → Yobe: 6",
         "type": "scattergeo"
        },
        {
         "hoverinfo": "text",
         "lat": [
          12.9889,
          12.1667
         ],
         "legendgroup": "flows",
         "line": {
          "color": "blue",
          "width": 0.0796812749003984
         },
         "lon": [
          7.6,
          6.25
         ],
         "mode": "lines",
         "opacity": 0.4,
         "showlegend": false,
         "text": "Katsina → Zamfara: 2",
         "type": "scattergeo"
        },
        {
         "hoverinfo": "text",
         "lat": [
          12.45,
          10.3103
         ],
         "legendgroup": "flows",
         "line": {
          "color": "blue",
          "width": 0.0398406374501992
         },
         "lon": [
          4.2,
          9.8439
         ],
         "mode": "lines",
         "opacity": 0.4,
         "showlegend": false,
         "text": "Kebbi → Bauchi: 1",
         "type": "scattergeo"
        },
        {
         "hoverinfo": "text",
         "lat": [
          12.45,
          11.8333
         ],
         "legendgroup": "flows",
         "line": {
          "color": "blue",
          "width": 0.0796812749003984
         },
         "lon": [
          4.2,
          13.15
         ],
         "mode": "lines",
         "opacity": 0.4,
         "showlegend": false,
         "text": "Kebbi → Borno: 2",
         "type": "scattergeo"
        },
        {
         "hoverinfo": "text",
         "lat": [
          12.45,
          5.465
         ],
         "legendgroup": "flows",
         "line": {
          "color": "blue",
          "width": 0.1593625498007968
         },
         "lon": [
          4.2,
          6.2019
         ],
         "mode": "lines",
         "opacity": 0.4,
         "showlegend": false,
         "text": "Kebbi → Delta: 4",
         "type": "scattergeo"
        },
        {
         "hoverinfo": "text",
         "lat": [
          12.45,
          6.335
         ],
         "legendgroup": "flows",
         "line": {
          "color": "blue",
          "width": 0.0398406374501992
         },
         "lon": [
          4.2,
          5.6275
         ],
         "mode": "lines",
         "opacity": 0.4,
         "showlegend": false,
         "text": "Kebbi → Edo: 1",
         "type": "scattergeo"
        },
        {
         "hoverinfo": "text",
         "lat": [
          12.45,
          7.6233
         ],
         "legendgroup": "flows",
         "line": {
          "color": "blue",
          "width": 0.0796812749003984
         },
         "lon": [
          4.2,
          5.2214
         ],
         "mode": "lines",
         "opacity": 0.4,
         "showlegend": false,
         "text": "Kebbi → Ekiti: 2",
         "type": "scattergeo"
        },
        {
         "hoverinfo": "text",
         "lat": [
          12.45,
          6.4527
         ],
         "legendgroup": "flows",
         "line": {
          "color": "blue",
          "width": 0.0398406374501992
         },
         "lon": [
          4.2,
          7.5103
         ],
         "mode": "lines",
         "opacity": 0.4,
         "showlegend": false,
         "text": "Kebbi → Enugu: 1",
         "type": "scattergeo"
        },
        {
         "hoverinfo": "text",
         "lat": [
          12.45,
          9.0579
         ],
         "legendgroup": "flows",
         "line": {
          "color": "blue",
          "width": 0.3187250996015936
         },
         "lon": [
          4.2,
          7.4951
         ],
         "mode": "lines",
         "opacity": 0.4,
         "showlegend": false,
         "text": "Kebbi → FCT: 8",
         "type": "scattergeo"
        },
        {
         "hoverinfo": "text",
         "lat": [
          12.45,
          12.0022
         ],
         "legendgroup": "flows",
         "line": {
          "color": "blue",
          "width": 0.0398406374501992
         },
         "lon": [
          4.2,
          8.5919
         ],
         "mode": "lines",
         "opacity": 0.4,
         "showlegend": false,
         "text": "Kebbi → Kano: 1",
         "type": "scattergeo"
        },
        {
         "hoverinfo": "text",
         "lat": [
          12.45,
          12.9889
         ],
         "legendgroup": "flows",
         "line": {
          "color": "blue",
          "width": 0.0796812749003984
         },
         "lon": [
          4.2,
          7.6
         ],
         "mode": "lines",
         "opacity": 0.4,
         "showlegend": false,
         "text": "Kebbi → Katsina: 2",
         "type": "scattergeo"
        },
        {
         "hoverinfo": "text",
         "lat": [
          12.45,
          7.8
         ],
         "legendgroup": "flows",
         "line": {
          "color": "blue",
          "width": 0.3187250996015936
         },
         "lon": [
          4.2,
          6.7333
         ],
         "mode": "lines",
         "opacity": 0.4,
         "showlegend": false,
         "text": "Kebbi → Kogi: 8",
         "type": "scattergeo"
        },
        {
         "hoverinfo": "text",
         "lat": [
          12.45,
          8.5
         ],
         "legendgroup": "flows",
         "line": {
          "color": "blue",
          "width": 0.398406374501992
         },
         "lon": [
          4.2,
          4.55
         ],
         "mode": "lines",
         "opacity": 0.4,
         "showlegend": false,
         "text": "Kebbi → Kwara: 10",
         "type": "scattergeo"
        },
        {
         "hoverinfo": "text",
         "lat": [
          12.45,
          9.6
         ],
         "legendgroup": "flows",
         "line": {
          "color": "blue",
          "width": 0.2788844621513944
         },
         "lon": [
          4.2,
          6.55
         ],
         "mode": "lines",
         "opacity": 0.4,
         "showlegend": false,
         "text": "Kebbi → Niger: 7",
         "type": "scattergeo"
        },
        {
         "hoverinfo": "text",
         "lat": [
          12.45,
          7
         ],
         "legendgroup": "flows",
         "line": {
          "color": "blue",
          "width": 0.0398406374501992
         },
         "lon": [
          4.2,
          3.5833
         ],
         "mode": "lines",
         "opacity": 0.4,
         "showlegend": false,
         "text": "Kebbi → Ogun: 1",
         "type": "scattergeo"
        },
        {
         "hoverinfo": "text",
         "lat": [
          12.45,
          7.25
         ],
         "legendgroup": "flows",
         "line": {
          "color": "blue",
          "width": 0.11952191235059761
         },
         "lon": [
          4.2,
          5.2
         ],
         "mode": "lines",
         "opacity": 0.4,
         "showlegend": false,
         "text": "Kebbi → Ondo: 3",
         "type": "scattergeo"
        },
        {
         "hoverinfo": "text",
         "lat": [
          12.45,
          7.7833
         ],
         "legendgroup": "flows",
         "line": {
          "color": "blue",
          "width": 0.0398406374501992
         },
         "lon": [
          4.2,
          4.5667
         ],
         "mode": "lines",
         "opacity": 0.4,
         "showlegend": false,
         "text": "Kebbi → Osun: 1",
         "type": "scattergeo"
        },
        {
         "hoverinfo": "text",
         "lat": [
          12.45,
          7.3833
         ],
         "legendgroup": "flows",
         "line": {
          "color": "blue",
          "width": 0.0398406374501992
         },
         "lon": [
          4.2,
          3.9333
         ],
         "mode": "lines",
         "opacity": 0.4,
         "showlegend": false,
         "text": "Kebbi → Oyo: 1",
         "type": "scattergeo"
        },
        {
         "hoverinfo": "text",
         "lat": [
          12.45,
          9.9333
         ],
         "legendgroup": "flows",
         "line": {
          "color": "blue",
          "width": 0.0398406374501992
         },
         "lon": [
          4.2,
          8.8833
         ],
         "mode": "lines",
         "opacity": 0.4,
         "showlegend": false,
         "text": "Kebbi → Plateau: 1",
         "type": "scattergeo"
        },
        {
         "hoverinfo": "text",
         "lat": [
          12.45,
          13.0667
         ],
         "legendgroup": "flows",
         "line": {
          "color": "blue",
          "width": 0.47808764940239046
         },
         "lon": [
          4.2,
          5.2333
         ],
         "mode": "lines",
         "opacity": 0.4,
         "showlegend": false,
         "text": "Kebbi → Sokoto: 12",
         "type": "scattergeo"
        },
        {
         "hoverinfo": "text",
         "lat": [
          12.45,
          12
         ],
         "legendgroup": "flows",
         "line": {
          "color": "blue",
          "width": 0.0796812749003984
         },
         "lon": [
          4.2,
          11.75
         ],
         "mode": "lines",
         "opacity": 0.4,
         "showlegend": false,
         "text": "Kebbi → Yobe: 2",
         "type": "scattergeo"
        },
        {
         "hoverinfo": "text",
         "lat": [
          7.8,
          9.3265
         ],
         "legendgroup": "flows",
         "line": {
          "color": "blue",
          "width": 0.0398406374501992
         },
         "lon": [
          6.7333,
          12.3984
         ],
         "mode": "lines",
         "opacity": 0.4,
         "showlegend": false,
         "text": "Kogi → Adamawa: 1",
         "type": "scattergeo"
        },
        {
         "hoverinfo": "text",
         "lat": [
          7.8,
          6.21
         ],
         "legendgroup": "flows",
         "line": {
          "color": "blue",
          "width": 0.23904382470119523
         },
         "lon": [
          6.7333,
          7.07
         ],
         "mode": "lines",
         "opacity": 0.4,
         "showlegend": false,
         "text": "Kogi → Anambra: 6",
         "type": "scattergeo"
        },
        {
         "hoverinfo": "text",
         "lat": [
          7.8,
          10.3103
         ],
         "legendgroup": "flows",
         "line": {
          "color": "blue",
          "width": 0.0398406374501992
         },
         "lon": [
          6.7333,
          9.8439
         ],
         "mode": "lines",
         "opacity": 0.4,
         "showlegend": false,
         "text": "Kogi → Bauchi: 1",
         "type": "scattergeo"
        },
        {
         "hoverinfo": "text",
         "lat": [
          7.8,
          4.922
         ],
         "legendgroup": "flows",
         "line": {
          "color": "blue",
          "width": 0.0398406374501992
         },
         "lon": [
          6.7333,
          6.2649
         ],
         "mode": "lines",
         "opacity": 0.4,
         "showlegend": false,
         "text": "Kogi → Bayelsa: 1",
         "type": "scattergeo"
        },
        {
         "hoverinfo": "text",
         "lat": [
          7.8,
          7.1907
         ],
         "legendgroup": "flows",
         "line": {
          "color": "blue",
          "width": 0.11952191235059761
         },
         "lon": [
          6.7333,
          8.129
         ],
         "mode": "lines",
         "opacity": 0.4,
         "showlegend": false,
         "text": "Kogi → Benue: 3",
         "type": "scattergeo"
        },
        {
         "hoverinfo": "text",
         "lat": [
          7.8,
          11.8333
         ],
         "legendgroup": "flows",
         "line": {
          "color": "blue",
          "width": 0.0398406374501992
         },
         "lon": [
          6.7333,
          13.15
         ],
         "mode": "lines",
         "opacity": 0.4,
         "showlegend": false,
         "text": "Kogi → Borno: 1",
         "type": "scattergeo"
        },
        {
         "hoverinfo": "text",
         "lat": [
          7.8,
          5.465
         ],
         "legendgroup": "flows",
         "line": {
          "color": "blue",
          "width": 0.0398406374501992
         },
         "lon": [
          6.7333,
          6.2019
         ],
         "mode": "lines",
         "opacity": 0.4,
         "showlegend": false,
         "text": "Kogi → Delta: 1",
         "type": "scattergeo"
        },
        {
         "hoverinfo": "text",
         "lat": [
          7.8,
          6.335
         ],
         "legendgroup": "flows",
         "line": {
          "color": "blue",
          "width": 0.3187250996015936
         },
         "lon": [
          6.7333,
          5.6275
         ],
         "mode": "lines",
         "opacity": 0.4,
         "showlegend": false,
         "text": "Kogi → Edo: 8",
         "type": "scattergeo"
        },
        {
         "hoverinfo": "text",
         "lat": [
          7.8,
          7.6233
         ],
         "legendgroup": "flows",
         "line": {
          "color": "blue",
          "width": 1.9123505976095618
         },
         "lon": [
          6.7333,
          5.2214
         ],
         "mode": "lines",
         "opacity": 0.4,
         "showlegend": false,
         "text": "Kogi → Ekiti: 48",
         "type": "scattergeo"
        },
        {
         "hoverinfo": "text",
         "lat": [
          7.8,
          6.4527
         ],
         "legendgroup": "flows",
         "line": {
          "color": "blue",
          "width": 0.11952191235059761
         },
         "lon": [
          6.7333,
          7.5103
         ],
         "mode": "lines",
         "opacity": 0.4,
         "showlegend": false,
         "text": "Kogi → Enugu: 3",
         "type": "scattergeo"
        },
        {
         "hoverinfo": "text",
         "lat": [
          7.8,
          9.0579
         ],
         "legendgroup": "flows",
         "line": {
          "color": "blue",
          "width": 2.1115537848605577
         },
         "lon": [
          6.7333,
          7.4951
         ],
         "mode": "lines",
         "opacity": 0.4,
         "showlegend": false,
         "text": "Kogi → FCT: 53",
         "type": "scattergeo"
        },
        {
         "hoverinfo": "text",
         "lat": [
          7.8,
          5.4836
         ],
         "legendgroup": "flows",
         "line": {
          "color": "blue",
          "width": 0.0398406374501992
         },
         "lon": [
          6.7333,
          7.0333
         ],
         "mode": "lines",
         "opacity": 0.4,
         "showlegend": false,
         "text": "Kogi → Imo: 1",
         "type": "scattergeo"
        },
        {
         "hoverinfo": "text",
         "lat": [
          7.8,
          12.0022
         ],
         "legendgroup": "flows",
         "line": {
          "color": "blue",
          "width": 0.199203187250996
         },
         "lon": [
          6.7333,
          8.5919
         ],
         "mode": "lines",
         "opacity": 0.4,
         "showlegend": false,
         "text": "Kogi → Kano: 5",
         "type": "scattergeo"
        },
        {
         "hoverinfo": "text",
         "lat": [
          7.8,
          12.45
         ],
         "legendgroup": "flows",
         "line": {
          "color": "blue",
          "width": 0.0398406374501992
         },
         "lon": [
          6.7333,
          4.2
         ],
         "mode": "lines",
         "opacity": 0.4,
         "showlegend": false,
         "text": "Kogi → Kebbi: 1",
         "type": "scattergeo"
        },
        {
         "hoverinfo": "text",
         "lat": [
          7.8,
          8.5
         ],
         "legendgroup": "flows",
         "line": {
          "color": "blue",
          "width": 0.2788844621513944
         },
         "lon": [
          6.7333,
          4.55
         ],
         "mode": "lines",
         "opacity": 0.4,
         "showlegend": false,
         "text": "Kogi → Kwara: 7",
         "type": "scattergeo"
        },
        {
         "hoverinfo": "text",
         "lat": [
          7.8,
          6.5244
         ],
         "legendgroup": "flows",
         "line": {
          "color": "blue",
          "width": 0.199203187250996
         },
         "lon": [
          6.7333,
          3.3792
         ],
         "mode": "lines",
         "opacity": 0.4,
         "showlegend": false,
         "text": "Kogi → Lagos: 5",
         "type": "scattergeo"
        },
        {
         "hoverinfo": "text",
         "lat": [
          7.8,
          8.5333
         ],
         "legendgroup": "flows",
         "line": {
          "color": "blue",
          "width": 0.35856573705179284
         },
         "lon": [
          6.7333,
          8.5333
         ],
         "mode": "lines",
         "opacity": 0.4,
         "showlegend": false,
         "text": "Kogi → Nasarawa: 9",
         "type": "scattergeo"
        },
        {
         "hoverinfo": "text",
         "lat": [
          7.8,
          9.6
         ],
         "legendgroup": "flows",
         "line": {
          "color": "blue",
          "width": 0.398406374501992
         },
         "lon": [
          6.7333,
          6.55
         ],
         "mode": "lines",
         "opacity": 0.4,
         "showlegend": false,
         "text": "Kogi → Niger: 10",
         "type": "scattergeo"
        },
        {
         "hoverinfo": "text",
         "lat": [
          7.8,
          7.25
         ],
         "legendgroup": "flows",
         "line": {
          "color": "blue",
          "width": 1.394422310756972
         },
         "lon": [
          6.7333,
          5.2
         ],
         "mode": "lines",
         "opacity": 0.4,
         "showlegend": false,
         "text": "Kogi → Ondo: 35",
         "type": "scattergeo"
        },
        {
         "hoverinfo": "text",
         "lat": [
          7.8,
          7.7833
         ],
         "legendgroup": "flows",
         "line": {
          "color": "blue",
          "width": 0.2788844621513944
         },
         "lon": [
          6.7333,
          4.5667
         ],
         "mode": "lines",
         "opacity": 0.4,
         "showlegend": false,
         "text": "Kogi → Osun: 7",
         "type": "scattergeo"
        },
        {
         "hoverinfo": "text",
         "lat": [
          7.8,
          7.3833
         ],
         "legendgroup": "flows",
         "line": {
          "color": "blue",
          "width": 0.0796812749003984
         },
         "lon": [
          6.7333,
          3.9333
         ],
         "mode": "lines",
         "opacity": 0.4,
         "showlegend": false,
         "text": "Kogi → Oyo: 2",
         "type": "scattergeo"
        },
        {
         "hoverinfo": "text",
         "lat": [
          7.8,
          4.8242
         ],
         "legendgroup": "flows",
         "line": {
          "color": "blue",
          "width": 0.0398406374501992
         },
         "lon": [
          6.7333,
          7.0336
         ],
         "mode": "lines",
         "opacity": 0.4,
         "showlegend": false,
         "text": "Kogi → Rivers: 1",
         "type": "scattergeo"
        },
        {
         "hoverinfo": "text",
         "lat": [
          7.8,
          12.1667
         ],
         "legendgroup": "flows",
         "line": {
          "color": "blue",
          "width": 0.0398406374501992
         },
         "lon": [
          6.7333,
          6.25
         ],
         "mode": "lines",
         "opacity": 0.4,
         "showlegend": false,
         "text": "Kogi → Zamfara: 1",
         "type": "scattergeo"
        },
        {
         "hoverinfo": "text",
         "lat": [
          8.5,
          6.21
         ],
         "legendgroup": "flows",
         "line": {
          "color": "blue",
          "width": 0.0398406374501992
         },
         "lon": [
          4.55,
          7.07
         ],
         "mode": "lines",
         "opacity": 0.4,
         "showlegend": false,
         "text": "Kwara → Anambra: 1",
         "type": "scattergeo"
        },
        {
         "hoverinfo": "text",
         "lat": [
          8.5,
          5.465
         ],
         "legendgroup": "flows",
         "line": {
          "color": "blue",
          "width": 0.23904382470119523
         },
         "lon": [
          4.55,
          6.2019
         ],
         "mode": "lines",
         "opacity": 0.4,
         "showlegend": false,
         "text": "Kwara → Delta: 6",
         "type": "scattergeo"
        },
        {
         "hoverinfo": "text",
         "lat": [
          8.5,
          6.335
         ],
         "legendgroup": "flows",
         "line": {
          "color": "blue",
          "width": 0.2788844621513944
         },
         "lon": [
          4.55,
          5.6275
         ],
         "mode": "lines",
         "opacity": 0.4,
         "showlegend": false,
         "text": "Kwara → Edo: 7",
         "type": "scattergeo"
        },
        {
         "hoverinfo": "text",
         "lat": [
          8.5,
          7.6233
         ],
         "legendgroup": "flows",
         "line": {
          "color": "blue",
          "width": 0.6374501992031872
         },
         "lon": [
          4.55,
          5.2214
         ],
         "mode": "lines",
         "opacity": 0.4,
         "showlegend": false,
         "text": "Kwara → Ekiti: 16",
         "type": "scattergeo"
        },
        {
         "hoverinfo": "text",
         "lat": [
          8.5,
          6.4527
         ],
         "legendgroup": "flows",
         "line": {
          "color": "blue",
          "width": 0.0796812749003984
         },
         "lon": [
          4.55,
          7.5103
         ],
         "mode": "lines",
         "opacity": 0.4,
         "showlegend": false,
         "text": "Kwara → Enugu: 2",
         "type": "scattergeo"
        },
        {
         "hoverinfo": "text",
         "lat": [
          8.5,
          9.0579
         ],
         "legendgroup": "flows",
         "line": {
          "color": "blue",
          "width": 0.398406374501992
         },
         "lon": [
          4.55,
          7.4951
         ],
         "mode": "lines",
         "opacity": 0.4,
         "showlegend": false,
         "text": "Kwara → FCT: 10",
         "type": "scattergeo"
        },
        {
         "hoverinfo": "text",
         "lat": [
          8.5,
          10.5231
         ],
         "legendgroup": "flows",
         "line": {
          "color": "blue",
          "width": 0.0796812749003984
         },
         "lon": [
          4.55,
          7.4403
         ],
         "mode": "lines",
         "opacity": 0.4,
         "showlegend": false,
         "text": "Kwara → Kaduna: 2",
         "type": "scattergeo"
        },
        {
         "hoverinfo": "text",
         "lat": [
          8.5,
          7.8
         ],
         "legendgroup": "flows",
         "line": {
          "color": "blue",
          "width": 0.199203187250996
         },
         "lon": [
          4.55,
          6.7333
         ],
         "mode": "lines",
         "opacity": 0.4,
         "showlegend": false,
         "text": "Kwara → Kogi: 5",
         "type": "scattergeo"
        },
        {
         "hoverinfo": "text",
         "lat": [
          8.5,
          6.5244
         ],
         "legendgroup": "flows",
         "line": {
          "color": "blue",
          "width": 0.11952191235059761
         },
         "lon": [
          4.55,
          3.3792
         ],
         "mode": "lines",
         "opacity": 0.4,
         "showlegend": false,
         "text": "Kwara → Lagos: 3",
         "type": "scattergeo"
        },
        {
         "hoverinfo": "text",
         "lat": [
          8.5,
          9.6
         ],
         "legendgroup": "flows",
         "line": {
          "color": "blue",
          "width": 0.6772908366533864
         },
         "lon": [
          4.55,
          6.55
         ],
         "mode": "lines",
         "opacity": 0.4,
         "showlegend": false,
         "text": "Kwara → Niger: 17",
         "type": "scattergeo"
        },
        {
         "hoverinfo": "text",
         "lat": [
          8.5,
          7
         ],
         "legendgroup": "flows",
         "line": {
          "color": "blue",
          "width": 0.11952191235059761
         },
         "lon": [
          4.55,
          3.5833
         ],
         "mode": "lines",
         "opacity": 0.4,
         "showlegend": false,
         "text": "Kwara → Ogun: 3",
         "type": "scattergeo"
        },
        {
         "hoverinfo": "text",
         "lat": [
          8.5,
          7.25
         ],
         "legendgroup": "flows",
         "line": {
          "color": "blue",
          "width": 0.3187250996015936
         },
         "lon": [
          4.55,
          5.2
         ],
         "mode": "lines",
         "opacity": 0.4,
         "showlegend": false,
         "text": "Kwara → Ondo: 8",
         "type": "scattergeo"
        },
        {
         "hoverinfo": "text",
         "lat": [
          8.5,
          7.7833
         ],
         "legendgroup": "flows",
         "line": {
          "color": "blue",
          "width": 0.23904382470119523
         },
         "lon": [
          4.55,
          4.5667
         ],
         "mode": "lines",
         "opacity": 0.4,
         "showlegend": false,
         "text": "Kwara → Osun: 6",
         "type": "scattergeo"
        },
        {
         "hoverinfo": "text",
         "lat": [
          8.5,
          7.3833
         ],
         "legendgroup": "flows",
         "line": {
          "color": "blue",
          "width": 1.2749003984063745
         },
         "lon": [
          4.55,
          3.9333
         ],
         "mode": "lines",
         "opacity": 0.4,
         "showlegend": false,
         "text": "Kwara → Oyo: 32",
         "type": "scattergeo"
        },
        {
         "hoverinfo": "text",
         "lat": [
          8.5,
          9.9333
         ],
         "legendgroup": "flows",
         "line": {
          "color": "blue",
          "width": 0.0398406374501992
         },
         "lon": [
          4.55,
          8.8833
         ],
         "mode": "lines",
         "opacity": 0.4,
         "showlegend": false,
         "text": "Kwara → Plateau: 1",
         "type": "scattergeo"
        },
        {
         "hoverinfo": "text",
         "lat": [
          6.5244,
          5.532
         ],
         "legendgroup": "flows",
         "line": {
          "color": "blue",
          "width": 1.1553784860557768
         },
         "lon": [
          3.3792,
          7.486
         ],
         "mode": "lines",
         "opacity": 0.4,
         "showlegend": false,
         "text": "Lagos → Abia: 29",
         "type": "scattergeo"
        },
        {
         "hoverinfo": "text",
         "lat": [
          6.5244,
          9.3265
         ],
         "legendgroup": "flows",
         "line": {
          "color": "blue",
          "width": 0.0398406374501992
         },
         "lon": [
          3.3792,
          12.3984
         ],
         "mode": "lines",
         "opacity": 0.4,
         "showlegend": false,
         "text": "Lagos → Adamawa: 1",
         "type": "scattergeo"
        },
        {
         "hoverinfo": "text",
         "lat": [
          6.5244,
          4.9268
         ],
         "legendgroup": "flows",
         "line": {
          "color": "blue",
          "width": 1.3545816733067728
         },
         "lon": [
          3.3792,
          7.8722
         ],
         "mode": "lines",
         "opacity": 0.4,
         "showlegend": false,
         "text": "Lagos → Akwa Ibom: 34",
         "type": "scattergeo"
        },
        {
         "hoverinfo": "text",
         "lat": [
          6.5244,
          6.21
         ],
         "legendgroup": "flows",
         "line": {
          "color": "blue",
          "width": 1.2749003984063745
         },
         "lon": [
          3.3792,
          7.07
         ],
         "mode": "lines",
         "opacity": 0.4,
         "showlegend": false,
         "text": "Lagos → Anambra: 32",
         "type": "scattergeo"
        },
        {
         "hoverinfo": "text",
         "lat": [
          6.5244,
          10.3103
         ],
         "legendgroup": "flows",
         "line": {
          "color": "blue",
          "width": 0.0796812749003984
         },
         "lon": [
          3.3792,
          9.8439
         ],
         "mode": "lines",
         "opacity": 0.4,
         "showlegend": false,
         "text": "Lagos → Bauchi: 2",
         "type": "scattergeo"
        },
        {
         "hoverinfo": "text",
         "lat": [
          6.5244,
          4.922
         ],
         "legendgroup": "flows",
         "line": {
          "color": "blue",
          "width": 0.6374501992031872
         },
         "lon": [
          3.3792,
          6.2649
         ],
         "mode": "lines",
         "opacity": 0.4,
         "showlegend": false,
         "text": "Lagos → Bayelsa: 16",
         "type": "scattergeo"
        },
        {
         "hoverinfo": "text",
         "lat": [
          6.5244,
          7.1907
         ],
         "legendgroup": "flows",
         "line": {
          "color": "blue",
          "width": 0.1593625498007968
         },
         "lon": [
          3.3792,
          8.129
         ],
         "mode": "lines",
         "opacity": 0.4,
         "showlegend": false,
         "text": "Lagos → Benue: 4",
         "type": "scattergeo"
        },
        {
         "hoverinfo": "text",
         "lat": [
          6.5244,
          11.8333
         ],
         "legendgroup": "flows",
         "line": {
          "color": "blue",
          "width": 0.199203187250996
         },
         "lon": [
          3.3792,
          13.15
         ],
         "mode": "lines",
         "opacity": 0.4,
         "showlegend": false,
         "text": "Lagos → Borno: 5",
         "type": "scattergeo"
        },
        {
         "hoverinfo": "text",
         "lat": [
          6.5244,
          4.9517
         ],
         "legendgroup": "flows",
         "line": {
          "color": "blue",
          "width": 0.5577689243027888
         },
         "lon": [
          3.3792,
          8.322
         ],
         "mode": "lines",
         "opacity": 0.4,
         "showlegend": false,
         "text": "Lagos → Cross River: 14",
         "type": "scattergeo"
        },
        {
         "hoverinfo": "text",
         "lat": [
          6.5244,
          5.465
         ],
         "legendgroup": "flows",
         "line": {
          "color": "blue",
          "width": 1.7928286852589643
         },
         "lon": [
          3.3792,
          6.2019
         ],
         "mode": "lines",
         "opacity": 0.4,
         "showlegend": false,
         "text": "Lagos → Delta: 45",
         "type": "scattergeo"
        },
        {
         "hoverinfo": "text",
         "lat": [
          6.5244,
          6.3249
         ],
         "legendgroup": "flows",
         "line": {
          "color": "blue",
          "width": 0.1593625498007968
         },
         "lon": [
          3.3792,
          8.1137
         ],
         "mode": "lines",
         "opacity": 0.4,
         "showlegend": false,
         "text": "Lagos → Ebonyi: 4",
         "type": "scattergeo"
        },
        {
         "hoverinfo": "text",
         "lat": [
          6.5244,
          6.335
         ],
         "legendgroup": "flows",
         "line": {
          "color": "blue",
          "width": 1.0358565737051793
         },
         "lon": [
          3.3792,
          5.6275
         ],
         "mode": "lines",
         "opacity": 0.4,
         "showlegend": false,
         "text": "Lagos → Edo: 26",
         "type": "scattergeo"
        },
        {
         "hoverinfo": "text",
         "lat": [
          6.5244,
          7.6233
         ],
         "legendgroup": "flows",
         "line": {
          "color": "blue",
          "width": 1.1952191235059761
         },
         "lon": [
          3.3792,
          5.2214
         ],
         "mode": "lines",
         "opacity": 0.4,
         "showlegend": false,
         "text": "Lagos → Ekiti: 30",
         "type": "scattergeo"
        },
        {
         "hoverinfo": "text",
         "lat": [
          6.5244,
          6.4527
         ],
         "legendgroup": "flows",
         "line": {
          "color": "blue",
          "width": 1.6334661354581672
         },
         "lon": [
          3.3792,
          7.5103
         ],
         "mode": "lines",
         "opacity": 0.4,
         "showlegend": false,
         "text": "Lagos → Enugu: 41",
         "type": "scattergeo"
        },
        {
         "hoverinfo": "text",
         "lat": [
          6.5244,
          9.0579
         ],
         "legendgroup": "flows",
         "line": {
          "color": "blue",
          "width": 0.8764940239043826
         },
         "lon": [
          3.3792,
          7.4951
         ],
         "mode": "lines",
         "opacity": 0.4,
         "showlegend": false,
         "text": "Lagos → FCT: 22",
         "type": "scattergeo"
        },
        {
         "hoverinfo": "text",
         "lat": [
          6.5244,
          5.4836
         ],
         "legendgroup": "flows",
         "line": {
          "color": "blue",
          "width": 1.952191235059761
         },
         "lon": [
          3.3792,
          7.0333
         ],
         "mode": "lines",
         "opacity": 0.4,
         "showlegend": false,
         "text": "Lagos → Imo: 49",
         "type": "scattergeo"
        },
        {
         "hoverinfo": "text",
         "lat": [
          6.5244,
          10.5231
         ],
         "legendgroup": "flows",
         "line": {
          "color": "blue",
          "width": 0.11952191235059761
         },
         "lon": [
          3.3792,
          7.4403
         ],
         "mode": "lines",
         "opacity": 0.4,
         "showlegend": false,
         "text": "Lagos → Kaduna: 3",
         "type": "scattergeo"
        },
        {
         "hoverinfo": "text",
         "lat": [
          6.5244,
          12.9889
         ],
         "legendgroup": "flows",
         "line": {
          "color": "blue",
          "width": 0.11952191235059761
         },
         "lon": [
          3.3792,
          7.6
         ],
         "mode": "lines",
         "opacity": 0.4,
         "showlegend": false,
         "text": "Lagos → Katsina: 3",
         "type": "scattergeo"
        },
        {
         "hoverinfo": "text",
         "lat": [
          6.5244,
          12.45
         ],
         "legendgroup": "flows",
         "line": {
          "color": "blue",
          "width": 0.0398406374501992
         },
         "lon": [
          3.3792,
          4.2
         ],
         "mode": "lines",
         "opacity": 0.4,
         "showlegend": false,
         "text": "Lagos → Kebbi: 1",
         "type": "scattergeo"
        },
        {
         "hoverinfo": "text",
         "lat": [
          6.5244,
          7.8
         ],
         "legendgroup": "flows",
         "line": {
          "color": "blue",
          "width": 0.35856573705179284
         },
         "lon": [
          3.3792,
          6.7333
         ],
         "mode": "lines",
         "opacity": 0.4,
         "showlegend": false,
         "text": "Lagos → Kogi: 9",
         "type": "scattergeo"
        },
        {
         "hoverinfo": "text",
         "lat": [
          6.5244,
          8.5
         ],
         "legendgroup": "flows",
         "line": {
          "color": "blue",
          "width": 2.549800796812749
         },
         "lon": [
          3.3792,
          4.55
         ],
         "mode": "lines",
         "opacity": 0.4,
         "showlegend": false,
         "text": "Lagos → Kwara: 64",
         "type": "scattergeo"
        },
        {
         "hoverinfo": "text",
         "lat": [
          6.5244,
          8.5333
         ],
         "legendgroup": "flows",
         "line": {
          "color": "blue",
          "width": 0.0796812749003984
         },
         "lon": [
          3.3792,
          8.5333
         ],
         "mode": "lines",
         "opacity": 0.4,
         "showlegend": false,
         "text": "Lagos → Nasarawa: 2",
         "type": "scattergeo"
        },
        {
         "hoverinfo": "text",
         "lat": [
          6.5244,
          9.6
         ],
         "legendgroup": "flows",
         "line": {
          "color": "blue",
          "width": 0.23904382470119523
         },
         "lon": [
          3.3792,
          6.55
         ],
         "mode": "lines",
         "opacity": 0.4,
         "showlegend": false,
         "text": "Lagos → Niger: 6",
         "type": "scattergeo"
        },
        {
         "hoverinfo": "text",
         "lat": [
          6.5244,
          7
         ],
         "legendgroup": "flows",
         "line": {
          "color": "blue",
          "width": 10
         },
         "lon": [
          3.3792,
          3.5833
         ],
         "mode": "lines",
         "opacity": 0.4,
         "showlegend": false,
         "text": "Lagos → Ogun: 251",
         "type": "scattergeo"
        },
        {
         "hoverinfo": "text",
         "lat": [
          6.5244,
          7.25
         ],
         "legendgroup": "flows",
         "line": {
          "color": "blue",
          "width": 1.1952191235059761
         },
         "lon": [
          3.3792,
          5.2
         ],
         "mode": "lines",
         "opacity": 0.4,
         "showlegend": false,
         "text": "Lagos → Ondo: 30",
         "type": "scattergeo"
        },
        {
         "hoverinfo": "text",
         "lat": [
          6.5244,
          7.7833
         ],
         "legendgroup": "flows",
         "line": {
          "color": "blue",
          "width": 1.0358565737051793
         },
         "lon": [
          3.3792,
          4.5667
         ],
         "mode": "lines",
         "opacity": 0.4,
         "showlegend": false,
         "text": "Lagos → Osun: 26",
         "type": "scattergeo"
        },
        {
         "hoverinfo": "text",
         "lat": [
          6.5244,
          7.3833
         ],
         "legendgroup": "flows",
         "line": {
          "color": "blue",
          "width": 1.8725099601593627
         },
         "lon": [
          3.3792,
          3.9333
         ],
         "mode": "lines",
         "opacity": 0.4,
         "showlegend": false,
         "text": "Lagos → Oyo: 47",
         "type": "scattergeo"
        },
        {
         "hoverinfo": "text",
         "lat": [
          6.5244,
          9.9333
         ],
         "legendgroup": "flows",
         "line": {
          "color": "blue",
          "width": 0.23904382470119523
         },
         "lon": [
          3.3792,
          8.8833
         ],
         "mode": "lines",
         "opacity": 0.4,
         "showlegend": false,
         "text": "Lagos → Plateau: 6",
         "type": "scattergeo"
        },
        {
         "hoverinfo": "text",
         "lat": [
          6.5244,
          4.8242
         ],
         "legendgroup": "flows",
         "line": {
          "color": "blue",
          "width": 0.3187250996015936
         },
         "lon": [
          3.3792,
          7.0336
         ],
         "mode": "lines",
         "opacity": 0.4,
         "showlegend": false,
         "text": "Lagos → Rivers: 8",
         "type": "scattergeo"
        },
        {
         "hoverinfo": "text",
         "lat": [
          6.5244,
          12.1667
         ],
         "legendgroup": "flows",
         "line": {
          "color": "blue",
          "width": 0.0398406374501992
         },
         "lon": [
          3.3792,
          6.25
         ],
         "mode": "lines",
         "opacity": 0.4,
         "showlegend": false,
         "text": "Lagos → Zamfara: 1",
         "type": "scattergeo"
        },
        {
         "hoverinfo": "text",
         "lat": [
          8.5333,
          5.532
         ],
         "legendgroup": "flows",
         "line": {
          "color": "blue",
          "width": 0.0398406374501992
         },
         "lon": [
          8.5333,
          7.486
         ],
         "mode": "lines",
         "opacity": 0.4,
         "showlegend": false,
         "text": "Nasarawa → Abia: 1",
         "type": "scattergeo"
        },
        {
         "hoverinfo": "text",
         "lat": [
          8.5333,
          6.21
         ],
         "legendgroup": "flows",
         "line": {
          "color": "blue",
          "width": 0.11952191235059761
         },
         "lon": [
          8.5333,
          7.07
         ],
         "mode": "lines",
         "opacity": 0.4,
         "showlegend": false,
         "text": "Nasarawa → Anambra: 3",
         "type": "scattergeo"
        },
        {
         "hoverinfo": "text",
         "lat": [
          8.5333,
          10.3103
         ],
         "legendgroup": "flows",
         "line": {
          "color": "blue",
          "width": 0.0398406374501992
         },
         "lon": [
          8.5333,
          9.8439
         ],
         "mode": "lines",
         "opacity": 0.4,
         "showlegend": false,
         "text": "Nasarawa → Bauchi: 1",
         "type": "scattergeo"
        },
        {
         "hoverinfo": "text",
         "lat": [
          8.5333,
          4.922
         ],
         "legendgroup": "flows",
         "line": {
          "color": "blue",
          "width": 0.0796812749003984
         },
         "lon": [
          8.5333,
          6.2649
         ],
         "mode": "lines",
         "opacity": 0.4,
         "showlegend": false,
         "text": "Nasarawa → Bayelsa: 2",
         "type": "scattergeo"
        },
        {
         "hoverinfo": "text",
         "lat": [
          8.5333,
          7.1907
         ],
         "legendgroup": "flows",
         "line": {
          "color": "blue",
          "width": 0.3187250996015936
         },
         "lon": [
          8.5333,
          8.129
         ],
         "mode": "lines",
         "opacity": 0.4,
         "showlegend": false,
         "text": "Nasarawa → Benue: 8",
         "type": "scattergeo"
        },
        {
         "hoverinfo": "text",
         "lat": [
          8.5333,
          4.9517
         ],
         "legendgroup": "flows",
         "line": {
          "color": "blue",
          "width": 0.0796812749003984
         },
         "lon": [
          8.5333,
          8.322
         ],
         "mode": "lines",
         "opacity": 0.4,
         "showlegend": false,
         "text": "Nasarawa → Cross River: 2",
         "type": "scattergeo"
        },
        {
         "hoverinfo": "text",
         "lat": [
          8.5333,
          6.335
         ],
         "legendgroup": "flows",
         "line": {
          "color": "blue",
          "width": 0.1593625498007968
         },
         "lon": [
          8.5333,
          5.6275
         ],
         "mode": "lines",
         "opacity": 0.4,
         "showlegend": false,
         "text": "Nasarawa → Edo: 4",
         "type": "scattergeo"
        },
        {
         "hoverinfo": "text",
         "lat": [
          8.5333,
          7.6233
         ],
         "legendgroup": "flows",
         "line": {
          "color": "blue",
          "width": 0.0796812749003984
         },
         "lon": [
          8.5333,
          5.2214
         ],
         "mode": "lines",
         "opacity": 0.4,
         "showlegend": false,
         "text": "Nasarawa → Ekiti: 2",
         "type": "scattergeo"
        },
        {
         "hoverinfo": "text",
         "lat": [
          8.5333,
          6.4527
         ],
         "legendgroup": "flows",
         "line": {
          "color": "blue",
          "width": 0.2788844621513944
         },
         "lon": [
          8.5333,
          7.5103
         ],
         "mode": "lines",
         "opacity": 0.4,
         "showlegend": false,
         "text": "Nasarawa → Enugu: 7",
         "type": "scattergeo"
        },
        {
         "hoverinfo": "text",
         "lat": [
          8.5333,
          9.0579
         ],
         "legendgroup": "flows",
         "line": {
          "color": "blue",
          "width": 2.788844621513944
         },
         "lon": [
          8.5333,
          7.4951
         ],
         "mode": "lines",
         "opacity": 0.4,
         "showlegend": false,
         "text": "Nasarawa → FCT: 70",
         "type": "scattergeo"
        },
        {
         "hoverinfo": "text",
         "lat": [
          8.5333,
          10.2897
         ],
         "legendgroup": "flows",
         "line": {
          "color": "blue",
          "width": 0.0398406374501992
         },
         "lon": [
          8.5333,
          11.17
         ],
         "mode": "lines",
         "opacity": 0.4,
         "showlegend": false,
         "text": "Nasarawa → Gombe: 1",
         "type": "scattergeo"
        },
        {
         "hoverinfo": "text",
         "lat": [
          8.5333,
          5.4836
         ],
         "legendgroup": "flows",
         "line": {
          "color": "blue",
          "width": 0.0398406374501992
         },
         "lon": [
          8.5333,
          7.0333
         ],
         "mode": "lines",
         "opacity": 0.4,
         "showlegend": false,
         "text": "Nasarawa → Imo: 1",
         "type": "scattergeo"
        },
        {
         "hoverinfo": "text",
         "lat": [
          8.5333,
          10.5231
         ],
         "legendgroup": "flows",
         "line": {
          "color": "blue",
          "width": 0.0796812749003984
         },
         "lon": [
          8.5333,
          7.4403
         ],
         "mode": "lines",
         "opacity": 0.4,
         "showlegend": false,
         "text": "Nasarawa → Kaduna: 2",
         "type": "scattergeo"
        },
        {
         "hoverinfo": "text",
         "lat": [
          8.5333,
          12.0022
         ],
         "legendgroup": "flows",
         "line": {
          "color": "blue",
          "width": 0.0796812749003984
         },
         "lon": [
          8.5333,
          8.5919
         ],
         "mode": "lines",
         "opacity": 0.4,
         "showlegend": false,
         "text": "Nasarawa → Kano: 2",
         "type": "scattergeo"
        },
        {
         "hoverinfo": "text",
         "lat": [
          8.5333,
          12.45
         ],
         "legendgroup": "flows",
         "line": {
          "color": "blue",
          "width": 0.0398406374501992
         },
         "lon": [
          8.5333,
          4.2
         ],
         "mode": "lines",
         "opacity": 0.4,
         "showlegend": false,
         "text": "Nasarawa → Kebbi: 1",
         "type": "scattergeo"
        },
        {
         "hoverinfo": "text",
         "lat": [
          8.5333,
          6.5244
         ],
         "legendgroup": "flows",
         "line": {
          "color": "blue",
          "width": 0.0796812749003984
         },
         "lon": [
          8.5333,
          3.3792
         ],
         "mode": "lines",
         "opacity": 0.4,
         "showlegend": false,
         "text": "Nasarawa → Lagos: 2",
         "type": "scattergeo"
        },
        {
         "hoverinfo": "text",
         "lat": [
          8.5333,
          9.6
         ],
         "legendgroup": "flows",
         "line": {
          "color": "blue",
          "width": 0.2788844621513944
         },
         "lon": [
          8.5333,
          6.55
         ],
         "mode": "lines",
         "opacity": 0.4,
         "showlegend": false,
         "text": "Nasarawa → Niger: 7",
         "type": "scattergeo"
        },
        {
         "hoverinfo": "text",
         "lat": [
          8.5333,
          7
         ],
         "legendgroup": "flows",
         "line": {
          "color": "blue",
          "width": 0.11952191235059761
         },
         "lon": [
          8.5333,
          3.5833
         ],
         "mode": "lines",
         "opacity": 0.4,
         "showlegend": false,
         "text": "Nasarawa → Ogun: 3",
         "type": "scattergeo"
        },
        {
         "hoverinfo": "text",
         "lat": [
          8.5333,
          7.3833
         ],
         "legendgroup": "flows",
         "line": {
          "color": "blue",
          "width": 0.0398406374501992
         },
         "lon": [
          8.5333,
          3.9333
         ],
         "mode": "lines",
         "opacity": 0.4,
         "showlegend": false,
         "text": "Nasarawa → Oyo: 1",
         "type": "scattergeo"
        },
        {
         "hoverinfo": "text",
         "lat": [
          8.5333,
          9.9333
         ],
         "legendgroup": "flows",
         "line": {
          "color": "blue",
          "width": 0.3187250996015936
         },
         "lon": [
          8.5333,
          8.8833
         ],
         "mode": "lines",
         "opacity": 0.4,
         "showlegend": false,
         "text": "Nasarawa → Plateau: 8",
         "type": "scattergeo"
        },
        {
         "hoverinfo": "text",
         "lat": [
          8.5333,
          13.0667
         ],
         "legendgroup": "flows",
         "line": {
          "color": "blue",
          "width": 0.0398406374501992
         },
         "lon": [
          8.5333,
          5.2333
         ],
         "mode": "lines",
         "opacity": 0.4,
         "showlegend": false,
         "text": "Nasarawa → Sokoto: 1",
         "type": "scattergeo"
        },
        {
         "hoverinfo": "text",
         "lat": [
          8.5333,
          12
         ],
         "legendgroup": "flows",
         "line": {
          "color": "blue",
          "width": 0.0796812749003984
         },
         "lon": [
          8.5333,
          11.75
         ],
         "mode": "lines",
         "opacity": 0.4,
         "showlegend": false,
         "text": "Nasarawa → Yobe: 2",
         "type": "scattergeo"
        },
        {
         "hoverinfo": "text",
         "lat": [
          9.6,
          6.21
         ],
         "legendgroup": "flows",
         "line": {
          "color": "blue",
          "width": 0.0398406374501992
         },
         "lon": [
          6.55,
          7.07
         ],
         "mode": "lines",
         "opacity": 0.4,
         "showlegend": false,
         "text": "Niger → Anambra: 1",
         "type": "scattergeo"
        },
        {
         "hoverinfo": "text",
         "lat": [
          9.6,
          4.922
         ],
         "legendgroup": "flows",
         "line": {
          "color": "blue",
          "width": 0.11952191235059761
         },
         "lon": [
          6.55,
          6.2649
         ],
         "mode": "lines",
         "opacity": 0.4,
         "showlegend": false,
         "text": "Niger → Bayelsa: 3",
         "type": "scattergeo"
        },
        {
         "hoverinfo": "text",
         "lat": [
          9.6,
          7.1907
         ],
         "legendgroup": "flows",
         "line": {
          "color": "blue",
          "width": 0.0398406374501992
         },
         "lon": [
          6.55,
          8.129
         ],
         "mode": "lines",
         "opacity": 0.4,
         "showlegend": false,
         "text": "Niger → Benue: 1",
         "type": "scattergeo"
        },
        {
         "hoverinfo": "text",
         "lat": [
          9.6,
          4.9517
         ],
         "legendgroup": "flows",
         "line": {
          "color": "blue",
          "width": 0.0398406374501992
         },
         "lon": [
          6.55,
          8.322
         ],
         "mode": "lines",
         "opacity": 0.4,
         "showlegend": false,
         "text": "Niger → Cross River: 1",
         "type": "scattergeo"
        },
        {
         "hoverinfo": "text",
         "lat": [
          9.6,
          5.465
         ],
         "legendgroup": "flows",
         "line": {
          "color": "blue",
          "width": 0.0796812749003984
         },
         "lon": [
          6.55,
          6.2019
         ],
         "mode": "lines",
         "opacity": 0.4,
         "showlegend": false,
         "text": "Niger → Delta: 2",
         "type": "scattergeo"
        },
        {
         "hoverinfo": "text",
         "lat": [
          9.6,
          6.335
         ],
         "legendgroup": "flows",
         "line": {
          "color": "blue",
          "width": 0.1593625498007968
         },
         "lon": [
          6.55,
          5.6275
         ],
         "mode": "lines",
         "opacity": 0.4,
         "showlegend": false,
         "text": "Niger → Edo: 4",
         "type": "scattergeo"
        },
        {
         "hoverinfo": "text",
         "lat": [
          9.6,
          7.6233
         ],
         "legendgroup": "flows",
         "line": {
          "color": "blue",
          "width": 0.0398406374501992
         },
         "lon": [
          6.55,
          5.2214
         ],
         "mode": "lines",
         "opacity": 0.4,
         "showlegend": false,
         "text": "Niger → Ekiti: 1",
         "type": "scattergeo"
        },
        {
         "hoverinfo": "text",
         "lat": [
          9.6,
          6.4527
         ],
         "legendgroup": "flows",
         "line": {
          "color": "blue",
          "width": 0.0796812749003984
         },
         "lon": [
          6.55,
          7.5103
         ],
         "mode": "lines",
         "opacity": 0.4,
         "showlegend": false,
         "text": "Niger → Enugu: 2",
         "type": "scattergeo"
        },
        {
         "hoverinfo": "text",
         "lat": [
          9.6,
          9.0579
         ],
         "legendgroup": "flows",
         "line": {
          "color": "blue",
          "width": 1.7131474103585655
         },
         "lon": [
          6.55,
          7.4951
         ],
         "mode": "lines",
         "opacity": 0.4,
         "showlegend": false,
         "text": "Niger → FCT: 43",
         "type": "scattergeo"
        },
        {
         "hoverinfo": "text",
         "lat": [
          9.6,
          10.2897
         ],
         "legendgroup": "flows",
         "line": {
          "color": "blue",
          "width": 0.0398406374501992
         },
         "lon": [
          6.55,
          11.17
         ],
         "mode": "lines",
         "opacity": 0.4,
         "showlegend": false,
         "text": "Niger → Gombe: 1",
         "type": "scattergeo"
        },
        {
         "hoverinfo": "text",
         "lat": [
          9.6,
          5.4836
         ],
         "legendgroup": "flows",
         "line": {
          "color": "blue",
          "width": 0.0398406374501992
         },
         "lon": [
          6.55,
          7.0333
         ],
         "mode": "lines",
         "opacity": 0.4,
         "showlegend": false,
         "text": "Niger → Imo: 1",
         "type": "scattergeo"
        },
        {
         "hoverinfo": "text",
         "lat": [
          9.6,
          10.5231
         ],
         "legendgroup": "flows",
         "line": {
          "color": "blue",
          "width": 0.2788844621513944
         },
         "lon": [
          6.55,
          7.4403
         ],
         "mode": "lines",
         "opacity": 0.4,
         "showlegend": false,
         "text": "Niger → Kaduna: 7",
         "type": "scattergeo"
        },
        {
         "hoverinfo": "text",
         "lat": [
          9.6,
          12.0022
         ],
         "legendgroup": "flows",
         "line": {
          "color": "blue",
          "width": 0.0796812749003984
         },
         "lon": [
          6.55,
          8.5919
         ],
         "mode": "lines",
         "opacity": 0.4,
         "showlegend": false,
         "text": "Niger → Kano: 2",
         "type": "scattergeo"
        },
        {
         "hoverinfo": "text",
         "lat": [
          9.6,
          12.45
         ],
         "legendgroup": "flows",
         "line": {
          "color": "blue",
          "width": 0.5577689243027888
         },
         "lon": [
          6.55,
          4.2
         ],
         "mode": "lines",
         "opacity": 0.4,
         "showlegend": false,
         "text": "Niger → Kebbi: 14",
         "type": "scattergeo"
        },
        {
         "hoverinfo": "text",
         "lat": [
          9.6,
          7.8
         ],
         "legendgroup": "flows",
         "line": {
          "color": "blue",
          "width": 0.23904382470119523
         },
         "lon": [
          6.55,
          6.7333
         ],
         "mode": "lines",
         "opacity": 0.4,
         "showlegend": false,
         "text": "Niger → Kogi: 6",
         "type": "scattergeo"
        },
        {
         "hoverinfo": "text",
         "lat": [
          9.6,
          8.5
         ],
         "legendgroup": "flows",
         "line": {
          "color": "blue",
          "width": 0.9163346613545817
         },
         "lon": [
          6.55,
          4.55
         ],
         "mode": "lines",
         "opacity": 0.4,
         "showlegend": false,
         "text": "Niger → Kwara: 23",
         "type": "scattergeo"
        },
        {
         "hoverinfo": "text",
         "lat": [
          9.6,
          6.5244
         ],
         "legendgroup": "flows",
         "line": {
          "color": "blue",
          "width": 0.11952191235059761
         },
         "lon": [
          6.55,
          3.3792
         ],
         "mode": "lines",
         "opacity": 0.4,
         "showlegend": false,
         "text": "Niger → Lagos: 3",
         "type": "scattergeo"
        },
        {
         "hoverinfo": "text",
         "lat": [
          9.6,
          8.5333
         ],
         "legendgroup": "flows",
         "line": {
          "color": "blue",
          "width": 0.0796812749003984
         },
         "lon": [
          6.55,
          8.5333
         ],
         "mode": "lines",
         "opacity": 0.4,
         "showlegend": false,
         "text": "Niger → Nasarawa: 2",
         "type": "scattergeo"
        },
        {
         "hoverinfo": "text",
         "lat": [
          9.6,
          7
         ],
         "legendgroup": "flows",
         "line": {
          "color": "blue",
          "width": 0.199203187250996
         },
         "lon": [
          6.55,
          3.5833
         ],
         "mode": "lines",
         "opacity": 0.4,
         "showlegend": false,
         "text": "Niger → Ogun: 5",
         "type": "scattergeo"
        },
        {
         "hoverinfo": "text",
         "lat": [
          9.6,
          7.7833
         ],
         "legendgroup": "flows",
         "line": {
          "color": "blue",
          "width": 0.0796812749003984
         },
         "lon": [
          6.55,
          4.5667
         ],
         "mode": "lines",
         "opacity": 0.4,
         "showlegend": false,
         "text": "Niger → Osun: 2",
         "type": "scattergeo"
        },
        {
         "hoverinfo": "text",
         "lat": [
          9.6,
          7.3833
         ],
         "legendgroup": "flows",
         "line": {
          "color": "blue",
          "width": 0.0796812749003984
         },
         "lon": [
          6.55,
          3.9333
         ],
         "mode": "lines",
         "opacity": 0.4,
         "showlegend": false,
         "text": "Niger → Oyo: 2",
         "type": "scattergeo"
        },
        {
         "hoverinfo": "text",
         "lat": [
          9.6,
          13.0667
         ],
         "legendgroup": "flows",
         "line": {
          "color": "blue",
          "width": 0.0796812749003984
         },
         "lon": [
          6.55,
          5.2333
         ],
         "mode": "lines",
         "opacity": 0.4,
         "showlegend": false,
         "text": "Niger → Sokoto: 2",
         "type": "scattergeo"
        },
        {
         "hoverinfo": "text",
         "lat": [
          9.6,
          12.1667
         ],
         "legendgroup": "flows",
         "line": {
          "color": "blue",
          "width": 0.0398406374501992
         },
         "lon": [
          6.55,
          6.25
         ],
         "mode": "lines",
         "opacity": 0.4,
         "showlegend": false,
         "text": "Niger → Zamfara: 1",
         "type": "scattergeo"
        },
        {
         "hoverinfo": "text",
         "lat": [
          7,
          5.532
         ],
         "legendgroup": "flows",
         "line": {
          "color": "blue",
          "width": 0.0398406374501992
         },
         "lon": [
          3.5833,
          7.486
         ],
         "mode": "lines",
         "opacity": 0.4,
         "showlegend": false,
         "text": "Ogun → Abia: 1",
         "type": "scattergeo"
        },
        {
         "hoverinfo": "text",
         "lat": [
          7,
          4.9268
         ],
         "legendgroup": "flows",
         "line": {
          "color": "blue",
          "width": 0.0796812749003984
         },
         "lon": [
          3.5833,
          7.8722
         ],
         "mode": "lines",
         "opacity": 0.4,
         "showlegend": false,
         "text": "Ogun → Akwa Ibom: 2",
         "type": "scattergeo"
        },
        {
         "hoverinfo": "text",
         "lat": [
          7,
          7.1907
         ],
         "legendgroup": "flows",
         "line": {
          "color": "blue",
          "width": 0.0796812749003984
         },
         "lon": [
          3.5833,
          8.129
         ],
         "mode": "lines",
         "opacity": 0.4,
         "showlegend": false,
         "text": "Ogun → Benue: 2",
         "type": "scattergeo"
        },
        {
         "hoverinfo": "text",
         "lat": [
          7,
          5.465
         ],
         "legendgroup": "flows",
         "line": {
          "color": "blue",
          "width": 0.0398406374501992
         },
         "lon": [
          3.5833,
          6.2019
         ],
         "mode": "lines",
         "opacity": 0.4,
         "showlegend": false,
         "text": "Ogun → Delta: 1",
         "type": "scattergeo"
        },
        {
         "hoverinfo": "text",
         "lat": [
          7,
          7.6233
         ],
         "legendgroup": "flows",
         "line": {
          "color": "blue",
          "width": 0.398406374501992
         },
         "lon": [
          3.5833,
          5.2214
         ],
         "mode": "lines",
         "opacity": 0.4,
         "showlegend": false,
         "text": "Ogun → Ekiti: 10",
         "type": "scattergeo"
        },
        {
         "hoverinfo": "text",
         "lat": [
          7,
          6.4527
         ],
         "legendgroup": "flows",
         "line": {
          "color": "blue",
          "width": 0.1593625498007968
         },
         "lon": [
          3.5833,
          7.5103
         ],
         "mode": "lines",
         "opacity": 0.4,
         "showlegend": false,
         "text": "Ogun → Enugu: 4",
         "type": "scattergeo"
        },
        {
         "hoverinfo": "text",
         "lat": [
          7,
          9.0579
         ],
         "legendgroup": "flows",
         "line": {
          "color": "blue",
          "width": 0.0796812749003984
         },
         "lon": [
          3.5833,
          7.4951
         ],
         "mode": "lines",
         "opacity": 0.4,
         "showlegend": false,
         "text": "Ogun → FCT: 2",
         "type": "scattergeo"
        },
        {
         "hoverinfo": "text",
         "lat": [
          7,
          10.2897
         ],
         "legendgroup": "flows",
         "line": {
          "color": "blue",
          "width": 0.0398406374501992
         },
         "lon": [
          3.5833,
          11.17
         ],
         "mode": "lines",
         "opacity": 0.4,
         "showlegend": false,
         "text": "Ogun → Gombe: 1",
         "type": "scattergeo"
        },
        {
         "hoverinfo": "text",
         "lat": [
          7,
          12
         ],
         "legendgroup": "flows",
         "line": {
          "color": "blue",
          "width": 0.0398406374501992
         },
         "lon": [
          3.5833,
          9.7667
         ],
         "mode": "lines",
         "opacity": 0.4,
         "showlegend": false,
         "text": "Ogun → Jigawa: 1",
         "type": "scattergeo"
        },
        {
         "hoverinfo": "text",
         "lat": [
          7,
          12.9889
         ],
         "legendgroup": "flows",
         "line": {
          "color": "blue",
          "width": 0.0398406374501992
         },
         "lon": [
          3.5833,
          7.6
         ],
         "mode": "lines",
         "opacity": 0.4,
         "showlegend": false,
         "text": "Ogun → Katsina: 1",
         "type": "scattergeo"
        },
        {
         "hoverinfo": "text",
         "lat": [
          7,
          8.5
         ],
         "legendgroup": "flows",
         "line": {
          "color": "blue",
          "width": 0.0796812749003984
         },
         "lon": [
          3.5833,
          4.55
         ],
         "mode": "lines",
         "opacity": 0.4,
         "showlegend": false,
         "text": "Ogun → Kwara: 2",
         "type": "scattergeo"
        },
        {
         "hoverinfo": "text",
         "lat": [
          7,
          6.5244
         ],
         "legendgroup": "flows",
         "line": {
          "color": "blue",
          "width": 0.9163346613545817
         },
         "lon": [
          3.5833,
          3.3792
         ],
         "mode": "lines",
         "opacity": 0.4,
         "showlegend": false,
         "text": "Ogun → Lagos: 23",
         "type": "scattergeo"
        },
        {
         "hoverinfo": "text",
         "lat": [
          7,
          9.6
         ],
         "legendgroup": "flows",
         "line": {
          "color": "blue",
          "width": 0.0796812749003984
         },
         "lon": [
          3.5833,
          6.55
         ],
         "mode": "lines",
         "opacity": 0.4,
         "showlegend": false,
         "text": "Ogun → Niger: 2",
         "type": "scattergeo"
        },
        {
         "hoverinfo": "text",
         "lat": [
          7,
          7.25
         ],
         "legendgroup": "flows",
         "line": {
          "color": "blue",
          "width": 0.5179282868525896
         },
         "lon": [
          3.5833,
          5.2
         ],
         "mode": "lines",
         "opacity": 0.4,
         "showlegend": false,
         "text": "Ogun → Ondo: 13",
         "type": "scattergeo"
        },
        {
         "hoverinfo": "text",
         "lat": [
          7,
          7.7833
         ],
         "legendgroup": "flows",
         "line": {
          "color": "blue",
          "width": 0.5179282868525896
         },
         "lon": [
          3.5833,
          4.5667
         ],
         "mode": "lines",
         "opacity": 0.4,
         "showlegend": false,
         "text": "Ogun → Osun: 13",
         "type": "scattergeo"
        },
        {
         "hoverinfo": "text",
         "lat": [
          7,
          7.3833
         ],
         "legendgroup": "flows",
         "line": {
          "color": "blue",
          "width": 0.47808764940239046
         },
         "lon": [
          3.5833,
          3.9333
         ],
         "mode": "lines",
         "opacity": 0.4,
         "showlegend": false,
         "text": "Ogun → Oyo: 12",
         "type": "scattergeo"
        },
        {
         "hoverinfo": "text",
         "lat": [
          7,
          4.8242
         ],
         "legendgroup": "flows",
         "line": {
          "color": "blue",
          "width": 0.0398406374501992
         },
         "lon": [
          3.5833,
          7.0336
         ],
         "mode": "lines",
         "opacity": 0.4,
         "showlegend": false,
         "text": "Ogun → Rivers: 1",
         "type": "scattergeo"
        },
        {
         "hoverinfo": "text",
         "lat": [
          7.25,
          9.3265
         ],
         "legendgroup": "flows",
         "line": {
          "color": "blue",
          "width": 0.0398406374501992
         },
         "lon": [
          5.2,
          12.3984
         ],
         "mode": "lines",
         "opacity": 0.4,
         "showlegend": false,
         "text": "Ondo → Adamawa: 1",
         "type": "scattergeo"
        },
        {
         "hoverinfo": "text",
         "lat": [
          7.25,
          4.9268
         ],
         "legendgroup": "flows",
         "line": {
          "color": "blue",
          "width": 0.1593625498007968
         },
         "lon": [
          5.2,
          7.8722
         ],
         "mode": "lines",
         "opacity": 0.4,
         "showlegend": false,
         "text": "Ondo → Akwa Ibom: 4",
         "type": "scattergeo"
        },
        {
         "hoverinfo": "text",
         "lat": [
          7.25,
          7.1907
         ],
         "legendgroup": "flows",
         "line": {
          "color": "blue",
          "width": 0.11952191235059761
         },
         "lon": [
          5.2,
          8.129
         ],
         "mode": "lines",
         "opacity": 0.4,
         "showlegend": false,
         "text": "Ondo → Benue: 3",
         "type": "scattergeo"
        },
        {
         "hoverinfo": "text",
         "lat": [
          7.25,
          4.9517
         ],
         "legendgroup": "flows",
         "line": {
          "color": "blue",
          "width": 0.0398406374501992
         },
         "lon": [
          5.2,
          8.322
         ],
         "mode": "lines",
         "opacity": 0.4,
         "showlegend": false,
         "text": "Ondo → Cross River: 1",
         "type": "scattergeo"
        },
        {
         "hoverinfo": "text",
         "lat": [
          7.25,
          5.465
         ],
         "legendgroup": "flows",
         "line": {
          "color": "blue",
          "width": 0.4382470119521913
         },
         "lon": [
          5.2,
          6.2019
         ],
         "mode": "lines",
         "opacity": 0.4,
         "showlegend": false,
         "text": "Ondo → Delta: 11",
         "type": "scattergeo"
        },
        {
         "hoverinfo": "text",
         "lat": [
          7.25,
          6.335
         ],
         "legendgroup": "flows",
         "line": {
          "color": "blue",
          "width": 0.2788844621513944
         },
         "lon": [
          5.2,
          5.6275
         ],
         "mode": "lines",
         "opacity": 0.4,
         "showlegend": false,
         "text": "Ondo → Edo: 7",
         "type": "scattergeo"
        },
        {
         "hoverinfo": "text",
         "lat": [
          7.25,
          7.6233
         ],
         "legendgroup": "flows",
         "line": {
          "color": "blue",
          "width": 2.0318725099601593
         },
         "lon": [
          5.2,
          5.2214
         ],
         "mode": "lines",
         "opacity": 0.4,
         "showlegend": false,
         "text": "Ondo → Ekiti: 51",
         "type": "scattergeo"
        },
        {
         "hoverinfo": "text",
         "lat": [
          7.25,
          6.4527
         ],
         "legendgroup": "flows",
         "line": {
          "color": "blue",
          "width": 0.199203187250996
         },
         "lon": [
          5.2,
          7.5103
         ],
         "mode": "lines",
         "opacity": 0.4,
         "showlegend": false,
         "text": "Ondo → Enugu: 5",
         "type": "scattergeo"
        },
        {
         "hoverinfo": "text",
         "lat": [
          7.25,
          9.0579
         ],
         "legendgroup": "flows",
         "line": {
          "color": "blue",
          "width": 0.2788844621513944
         },
         "lon": [
          5.2,
          7.4951
         ],
         "mode": "lines",
         "opacity": 0.4,
         "showlegend": false,
         "text": "Ondo → FCT: 7",
         "type": "scattergeo"
        },
        {
         "hoverinfo": "text",
         "lat": [
          7.25,
          10.5231
         ],
         "legendgroup": "flows",
         "line": {
          "color": "blue",
          "width": 0.0398406374501992
         },
         "lon": [
          5.2,
          7.4403
         ],
         "mode": "lines",
         "opacity": 0.4,
         "showlegend": false,
         "text": "Ondo → Kaduna: 1",
         "type": "scattergeo"
        },
        {
         "hoverinfo": "text",
         "lat": [
          7.25,
          7.8
         ],
         "legendgroup": "flows",
         "line": {
          "color": "blue",
          "width": 0.2788844621513944
         },
         "lon": [
          5.2,
          6.7333
         ],
         "mode": "lines",
         "opacity": 0.4,
         "showlegend": false,
         "text": "Ondo → Kogi: 7",
         "type": "scattergeo"
        },
        {
         "hoverinfo": "text",
         "lat": [
          7.25,
          8.5
         ],
         "legendgroup": "flows",
         "line": {
          "color": "blue",
          "width": 0.0398406374501992
         },
         "lon": [
          5.2,
          4.55
         ],
         "mode": "lines",
         "opacity": 0.4,
         "showlegend": false,
         "text": "Ondo → Kwara: 1",
         "type": "scattergeo"
        },
        {
         "hoverinfo": "text",
         "lat": [
          7.25,
          6.5244
         ],
         "legendgroup": "flows",
         "line": {
          "color": "blue",
          "width": 0.11952191235059761
         },
         "lon": [
          5.2,
          3.3792
         ],
         "mode": "lines",
         "opacity": 0.4,
         "showlegend": false,
         "text": "Ondo → Lagos: 3",
         "type": "scattergeo"
        },
        {
         "hoverinfo": "text",
         "lat": [
          7.25,
          7
         ],
         "legendgroup": "flows",
         "line": {
          "color": "blue",
          "width": 0.2788844621513944
         },
         "lon": [
          5.2,
          3.5833
         ],
         "mode": "lines",
         "opacity": 0.4,
         "showlegend": false,
         "text": "Ondo → Ogun: 7",
         "type": "scattergeo"
        },
        {
         "hoverinfo": "text",
         "lat": [
          7.25,
          7.7833
         ],
         "legendgroup": "flows",
         "line": {
          "color": "blue",
          "width": 0.5577689243027888
         },
         "lon": [
          5.2,
          4.5667
         ],
         "mode": "lines",
         "opacity": 0.4,
         "showlegend": false,
         "text": "Ondo → Osun: 14",
         "type": "scattergeo"
        },
        {
         "hoverinfo": "text",
         "lat": [
          7.25,
          7.3833
         ],
         "legendgroup": "flows",
         "line": {
          "color": "blue",
          "width": 0.23904382470119523
         },
         "lon": [
          5.2,
          3.9333
         ],
         "mode": "lines",
         "opacity": 0.4,
         "showlegend": false,
         "text": "Ondo → Oyo: 6",
         "type": "scattergeo"
        },
        {
         "hoverinfo": "text",
         "lat": [
          7.25,
          9.9333
         ],
         "legendgroup": "flows",
         "line": {
          "color": "blue",
          "width": 0.0398406374501992
         },
         "lon": [
          5.2,
          8.8833
         ],
         "mode": "lines",
         "opacity": 0.4,
         "showlegend": false,
         "text": "Ondo → Plateau: 1",
         "type": "scattergeo"
        },
        {
         "hoverinfo": "text",
         "lat": [
          7.25,
          4.8242
         ],
         "legendgroup": "flows",
         "line": {
          "color": "blue",
          "width": 0.0398406374501992
         },
         "lon": [
          5.2,
          7.0336
         ],
         "mode": "lines",
         "opacity": 0.4,
         "showlegend": false,
         "text": "Ondo → Rivers: 1",
         "type": "scattergeo"
        },
        {
         "hoverinfo": "text",
         "lat": [
          7.25,
          12.1667
         ],
         "legendgroup": "flows",
         "line": {
          "color": "blue",
          "width": 0.0398406374501992
         },
         "lon": [
          5.2,
          6.25
         ],
         "mode": "lines",
         "opacity": 0.4,
         "showlegend": false,
         "text": "Ondo → Zamfara: 1",
         "type": "scattergeo"
        },
        {
         "hoverinfo": "text",
         "lat": [
          7.7833,
          4.9268
         ],
         "legendgroup": "flows",
         "line": {
          "color": "blue",
          "width": 0.0398406374501992
         },
         "lon": [
          4.5667,
          7.8722
         ],
         "mode": "lines",
         "opacity": 0.4,
         "showlegend": false,
         "text": "Osun → Akwa Ibom: 1",
         "type": "scattergeo"
        },
        {
         "hoverinfo": "text",
         "lat": [
          7.7833,
          6.21
         ],
         "legendgroup": "flows",
         "line": {
          "color": "blue",
          "width": 0.0398406374501992
         },
         "lon": [
          4.5667,
          7.07
         ],
         "mode": "lines",
         "opacity": 0.4,
         "showlegend": false,
         "text": "Osun → Anambra: 1",
         "type": "scattergeo"
        },
        {
         "hoverinfo": "text",
         "lat": [
          7.7833,
          4.922
         ],
         "legendgroup": "flows",
         "line": {
          "color": "blue",
          "width": 0.0398406374501992
         },
         "lon": [
          4.5667,
          6.2649
         ],
         "mode": "lines",
         "opacity": 0.4,
         "showlegend": false,
         "text": "Osun → Bayelsa: 1",
         "type": "scattergeo"
        },
        {
         "hoverinfo": "text",
         "lat": [
          7.7833,
          7.1907
         ],
         "legendgroup": "flows",
         "line": {
          "color": "blue",
          "width": 0.0398406374501992
         },
         "lon": [
          4.5667,
          8.129
         ],
         "mode": "lines",
         "opacity": 0.4,
         "showlegend": false,
         "text": "Osun → Benue: 1",
         "type": "scattergeo"
        },
        {
         "hoverinfo": "text",
         "lat": [
          7.7833,
          4.9517
         ],
         "legendgroup": "flows",
         "line": {
          "color": "blue",
          "width": 0.0398406374501992
         },
         "lon": [
          4.5667,
          8.322
         ],
         "mode": "lines",
         "opacity": 0.4,
         "showlegend": false,
         "text": "Osun → Cross River: 1",
         "type": "scattergeo"
        },
        {
         "hoverinfo": "text",
         "lat": [
          7.7833,
          5.465
         ],
         "legendgroup": "flows",
         "line": {
          "color": "blue",
          "width": 0.1593625498007968
         },
         "lon": [
          4.5667,
          6.2019
         ],
         "mode": "lines",
         "opacity": 0.4,
         "showlegend": false,
         "text": "Osun → Delta: 4",
         "type": "scattergeo"
        },
        {
         "hoverinfo": "text",
         "lat": [
          7.7833,
          6.3249
         ],
         "legendgroup": "flows",
         "line": {
          "color": "blue",
          "width": 0.0398406374501992
         },
         "lon": [
          4.5667,
          8.1137
         ],
         "mode": "lines",
         "opacity": 0.4,
         "showlegend": false,
         "text": "Osun → Ebonyi: 1",
         "type": "scattergeo"
        },
        {
         "hoverinfo": "text",
         "lat": [
          7.7833,
          7.6233
         ],
         "legendgroup": "flows",
         "line": {
          "color": "blue",
          "width": 1.7928286852589643
         },
         "lon": [
          4.5667,
          5.2214
         ],
         "mode": "lines",
         "opacity": 0.4,
         "showlegend": false,
         "text": "Osun → Ekiti: 45",
         "type": "scattergeo"
        },
        {
         "hoverinfo": "text",
         "lat": [
          7.7833,
          6.4527
         ],
         "legendgroup": "flows",
         "line": {
          "color": "blue",
          "width": 0.0398406374501992
         },
         "lon": [
          4.5667,
          7.5103
         ],
         "mode": "lines",
         "opacity": 0.4,
         "showlegend": false,
         "text": "Osun → Enugu: 1",
         "type": "scattergeo"
        },
        {
         "hoverinfo": "text",
         "lat": [
          7.7833,
          9.0579
         ],
         "legendgroup": "flows",
         "line": {
          "color": "blue",
          "width": 0.23904382470119523
         },
         "lon": [
          4.5667,
          7.4951
         ],
         "mode": "lines",
         "opacity": 0.4,
         "showlegend": false,
         "text": "Osun → FCT: 6",
         "type": "scattergeo"
        },
        {
         "hoverinfo": "text",
         "lat": [
          7.7833,
          12.45
         ],
         "legendgroup": "flows",
         "line": {
          "color": "blue",
          "width": 0.0398406374501992
         },
         "lon": [
          4.5667,
          4.2
         ],
         "mode": "lines",
         "opacity": 0.4,
         "showlegend": false,
         "text": "Osun → Kebbi: 1",
         "type": "scattergeo"
        },
        {
         "hoverinfo": "text",
         "lat": [
          7.7833,
          7.8
         ],
         "legendgroup": "flows",
         "line": {
          "color": "blue",
          "width": 0.0796812749003984
         },
         "lon": [
          4.5667,
          6.7333
         ],
         "mode": "lines",
         "opacity": 0.4,
         "showlegend": false,
         "text": "Osun → Kogi: 2",
         "type": "scattergeo"
        },
        {
         "hoverinfo": "text",
         "lat": [
          7.7833,
          8.5
         ],
         "legendgroup": "flows",
         "line": {
          "color": "blue",
          "width": 0.4382470119521913
         },
         "lon": [
          4.5667,
          4.55
         ],
         "mode": "lines",
         "opacity": 0.4,
         "showlegend": false,
         "text": "Osun → Kwara: 11",
         "type": "scattergeo"
        },
        {
         "hoverinfo": "text",
         "lat": [
          7.7833,
          6.5244
         ],
         "legendgroup": "flows",
         "line": {
          "color": "blue",
          "width": 0.2788844621513944
         },
         "lon": [
          4.5667,
          3.3792
         ],
         "mode": "lines",
         "opacity": 0.4,
         "showlegend": false,
         "text": "Osun → Lagos: 7",
         "type": "scattergeo"
        },
        {
         "hoverinfo": "text",
         "lat": [
          7.7833,
          9.6
         ],
         "legendgroup": "flows",
         "line": {
          "color": "blue",
          "width": 0.11952191235059761
         },
         "lon": [
          4.5667,
          6.55
         ],
         "mode": "lines",
         "opacity": 0.4,
         "showlegend": false,
         "text": "Osun → Niger: 3",
         "type": "scattergeo"
        },
        {
         "hoverinfo": "text",
         "lat": [
          7.7833,
          7
         ],
         "legendgroup": "flows",
         "line": {
          "color": "blue",
          "width": 0.5976095617529881
         },
         "lon": [
          4.5667,
          3.5833
         ],
         "mode": "lines",
         "opacity": 0.4,
         "showlegend": false,
         "text": "Osun → Ogun: 15",
         "type": "scattergeo"
        },
        {
         "hoverinfo": "text",
         "lat": [
          7.7833,
          7.25
         ],
         "legendgroup": "flows",
         "line": {
          "color": "blue",
          "width": 1.6334661354581672
         },
         "lon": [
          4.5667,
          5.2
         ],
         "mode": "lines",
         "opacity": 0.4,
         "showlegend": false,
         "text": "Osun → Ondo: 41",
         "type": "scattergeo"
        },
        {
         "hoverinfo": "text",
         "lat": [
          7.7833,
          7.3833
         ],
         "legendgroup": "flows",
         "line": {
          "color": "blue",
          "width": 1.0358565737051793
         },
         "lon": [
          4.5667,
          3.9333
         ],
         "mode": "lines",
         "opacity": 0.4,
         "showlegend": false,
         "text": "Osun → Oyo: 26",
         "type": "scattergeo"
        },
        {
         "hoverinfo": "text",
         "lat": [
          7.7833,
          4.8242
         ],
         "legendgroup": "flows",
         "line": {
          "color": "blue",
          "width": 0.199203187250996
         },
         "lon": [
          4.5667,
          7.0336
         ],
         "mode": "lines",
         "opacity": 0.4,
         "showlegend": false,
         "text": "Osun → Rivers: 5",
         "type": "scattergeo"
        },
        {
         "hoverinfo": "text",
         "lat": [
          7.7833,
          13.0667
         ],
         "legendgroup": "flows",
         "line": {
          "color": "blue",
          "width": 0.0796812749003984
         },
         "lon": [
          4.5667,
          5.2333
         ],
         "mode": "lines",
         "opacity": 0.4,
         "showlegend": false,
         "text": "Osun → Sokoto: 2",
         "type": "scattergeo"
        },
        {
         "hoverinfo": "text",
         "lat": [
          7.3833,
          5.532
         ],
         "legendgroup": "flows",
         "line": {
          "color": "blue",
          "width": 0.0796812749003984
         },
         "lon": [
          3.9333,
          7.486
         ],
         "mode": "lines",
         "opacity": 0.4,
         "showlegend": false,
         "text": "Oyo → Abia: 2",
         "type": "scattergeo"
        },
        {
         "hoverinfo": "text",
         "lat": [
          7.3833,
          6.21
         ],
         "legendgroup": "flows",
         "line": {
          "color": "blue",
          "width": 0.0398406374501992
         },
         "lon": [
          3.9333,
          7.07
         ],
         "mode": "lines",
         "opacity": 0.4,
         "showlegend": false,
         "text": "Oyo → Anambra: 1",
         "type": "scattergeo"
        },
        {
         "hoverinfo": "text",
         "lat": [
          7.3833,
          10.3103
         ],
         "legendgroup": "flows",
         "line": {
          "color": "blue",
          "width": 0.0398406374501992
         },
         "lon": [
          3.9333,
          9.8439
         ],
         "mode": "lines",
         "opacity": 0.4,
         "showlegend": false,
         "text": "Oyo → Bauchi: 1",
         "type": "scattergeo"
        },
        {
         "hoverinfo": "text",
         "lat": [
          7.3833,
          4.922
         ],
         "legendgroup": "flows",
         "line": {
          "color": "blue",
          "width": 0.0796812749003984
         },
         "lon": [
          3.9333,
          6.2649
         ],
         "mode": "lines",
         "opacity": 0.4,
         "showlegend": false,
         "text": "Oyo → Bayelsa: 2",
         "type": "scattergeo"
        },
        {
         "hoverinfo": "text",
         "lat": [
          7.3833,
          7.1907
         ],
         "legendgroup": "flows",
         "line": {
          "color": "blue",
          "width": 0.0398406374501992
         },
         "lon": [
          3.9333,
          8.129
         ],
         "mode": "lines",
         "opacity": 0.4,
         "showlegend": false,
         "text": "Oyo → Benue: 1",
         "type": "scattergeo"
        },
        {
         "hoverinfo": "text",
         "lat": [
          7.3833,
          5.465
         ],
         "legendgroup": "flows",
         "line": {
          "color": "blue",
          "width": 0.0398406374501992
         },
         "lon": [
          3.9333,
          6.2019
         ],
         "mode": "lines",
         "opacity": 0.4,
         "showlegend": false,
         "text": "Oyo → Delta: 1",
         "type": "scattergeo"
        },
        {
         "hoverinfo": "text",
         "lat": [
          7.3833,
          6.3249
         ],
         "legendgroup": "flows",
         "line": {
          "color": "blue",
          "width": 0.0398406374501992
         },
         "lon": [
          3.9333,
          8.1137
         ],
         "mode": "lines",
         "opacity": 0.4,
         "showlegend": false,
         "text": "Oyo → Ebonyi: 1",
         "type": "scattergeo"
        },
        {
         "hoverinfo": "text",
         "lat": [
          7.3833,
          6.335
         ],
         "legendgroup": "flows",
         "line": {
          "color": "blue",
          "width": 0.199203187250996
         },
         "lon": [
          3.9333,
          5.6275
         ],
         "mode": "lines",
         "opacity": 0.4,
         "showlegend": false,
         "text": "Oyo → Edo: 5",
         "type": "scattergeo"
        },
        {
         "hoverinfo": "text",
         "lat": [
          7.3833,
          7.6233
         ],
         "legendgroup": "flows",
         "line": {
          "color": "blue",
          "width": 0.398406374501992
         },
         "lon": [
          3.9333,
          5.2214
         ],
         "mode": "lines",
         "opacity": 0.4,
         "showlegend": false,
         "text": "Oyo → Ekiti: 10",
         "type": "scattergeo"
        },
        {
         "hoverinfo": "text",
         "lat": [
          7.3833,
          6.4527
         ],
         "legendgroup": "flows",
         "line": {
          "color": "blue",
          "width": 0.11952191235059761
         },
         "lon": [
          3.9333,
          7.5103
         ],
         "mode": "lines",
         "opacity": 0.4,
         "showlegend": false,
         "text": "Oyo → Enugu: 3",
         "type": "scattergeo"
        },
        {
         "hoverinfo": "text",
         "lat": [
          7.3833,
          9.0579
         ],
         "legendgroup": "flows",
         "line": {
          "color": "blue",
          "width": 0.6374501992031872
         },
         "lon": [
          3.9333,
          7.4951
         ],
         "mode": "lines",
         "opacity": 0.4,
         "showlegend": false,
         "text": "Oyo → FCT: 16",
         "type": "scattergeo"
        },
        {
         "hoverinfo": "text",
         "lat": [
          7.3833,
          5.4836
         ],
         "legendgroup": "flows",
         "line": {
          "color": "blue",
          "width": 0.0796812749003984
         },
         "lon": [
          3.9333,
          7.0333
         ],
         "mode": "lines",
         "opacity": 0.4,
         "showlegend": false,
         "text": "Oyo → Imo: 2",
         "type": "scattergeo"
        },
        {
         "hoverinfo": "text",
         "lat": [
          7.3833,
          10.5231
         ],
         "legendgroup": "flows",
         "line": {
          "color": "blue",
          "width": 0.0398406374501992
         },
         "lon": [
          3.9333,
          7.4403
         ],
         "mode": "lines",
         "opacity": 0.4,
         "showlegend": false,
         "text": "Oyo → Kaduna: 1",
         "type": "scattergeo"
        },
        {
         "hoverinfo": "text",
         "lat": [
          7.3833,
          12.9889
         ],
         "legendgroup": "flows",
         "line": {
          "color": "blue",
          "width": 0.0398406374501992
         },
         "lon": [
          3.9333,
          7.6
         ],
         "mode": "lines",
         "opacity": 0.4,
         "showlegend": false,
         "text": "Oyo → Katsina: 1",
         "type": "scattergeo"
        },
        {
         "hoverinfo": "text",
         "lat": [
          7.3833,
          12.45
         ],
         "legendgroup": "flows",
         "line": {
          "color": "blue",
          "width": 0.0398406374501992
         },
         "lon": [
          3.9333,
          4.2
         ],
         "mode": "lines",
         "opacity": 0.4,
         "showlegend": false,
         "text": "Oyo → Kebbi: 1",
         "type": "scattergeo"
        },
        {
         "hoverinfo": "text",
         "lat": [
          7.3833,
          8.5
         ],
         "legendgroup": "flows",
         "line": {
          "color": "blue",
          "width": 0.7569721115537849
         },
         "lon": [
          3.9333,
          4.55
         ],
         "mode": "lines",
         "opacity": 0.4,
         "showlegend": false,
         "text": "Oyo → Kwara: 19",
         "type": "scattergeo"
        },
        {
         "hoverinfo": "text",
         "lat": [
          7.3833,
          6.5244
         ],
         "legendgroup": "flows",
         "line": {
          "color": "blue",
          "width": 0.5179282868525896
         },
         "lon": [
          3.9333,
          3.3792
         ],
         "mode": "lines",
         "opacity": 0.4,
         "showlegend": false,
         "text": "Oyo → Lagos: 13",
         "type": "scattergeo"
        },
        {
         "hoverinfo": "text",
         "lat": [
          7.3833,
          8.5333
         ],
         "legendgroup": "flows",
         "line": {
          "color": "blue",
          "width": 0.0398406374501992
         },
         "lon": [
          3.9333,
          8.5333
         ],
         "mode": "lines",
         "opacity": 0.4,
         "showlegend": false,
         "text": "Oyo → Nasarawa: 1",
         "type": "scattergeo"
        },
        {
         "hoverinfo": "text",
         "lat": [
          7.3833,
          9.6
         ],
         "legendgroup": "flows",
         "line": {
          "color": "blue",
          "width": 0.0398406374501992
         },
         "lon": [
          3.9333,
          6.55
         ],
         "mode": "lines",
         "opacity": 0.4,
         "showlegend": false,
         "text": "Oyo → Niger: 1",
         "type": "scattergeo"
        },
        {
         "hoverinfo": "text",
         "lat": [
          7.3833,
          7
         ],
         "legendgroup": "flows",
         "line": {
          "color": "blue",
          "width": 0.5577689243027888
         },
         "lon": [
          3.9333,
          3.5833
         ],
         "mode": "lines",
         "opacity": 0.4,
         "showlegend": false,
         "text": "Oyo → Ogun: 14",
         "type": "scattergeo"
        },
        {
         "hoverinfo": "text",
         "lat": [
          7.3833,
          7.25
         ],
         "legendgroup": "flows",
         "line": {
          "color": "blue",
          "width": 0.796812749003984
         },
         "lon": [
          3.9333,
          5.2
         ],
         "mode": "lines",
         "opacity": 0.4,
         "showlegend": false,
         "text": "Oyo → Ondo: 20",
         "type": "scattergeo"
        },
        {
         "hoverinfo": "text",
         "lat": [
          7.3833,
          7.7833
         ],
         "legendgroup": "flows",
         "line": {
          "color": "blue",
          "width": 0.8764940239043826
         },
         "lon": [
          3.9333,
          4.5667
         ],
         "mode": "lines",
         "opacity": 0.4,
         "showlegend": false,
         "text": "Oyo → Osun: 22",
         "type": "scattergeo"
        },
        {
         "hoverinfo": "text",
         "lat": [
          7.3833,
          4.8242
         ],
         "legendgroup": "flows",
         "line": {
          "color": "blue",
          "width": 0.0398406374501992
         },
         "lon": [
          3.9333,
          7.0336
         ],
         "mode": "lines",
         "opacity": 0.4,
         "showlegend": false,
         "text": "Oyo → Rivers: 1",
         "type": "scattergeo"
        },
        {
         "hoverinfo": "text",
         "lat": [
          9.9333,
          5.532
         ],
         "legendgroup": "flows",
         "line": {
          "color": "blue",
          "width": 0.11952191235059761
         },
         "lon": [
          8.8833,
          7.486
         ],
         "mode": "lines",
         "opacity": 0.4,
         "showlegend": false,
         "text": "Plateau → Abia: 3",
         "type": "scattergeo"
        },
        {
         "hoverinfo": "text",
         "lat": [
          9.9333,
          9.3265
         ],
         "legendgroup": "flows",
         "line": {
          "color": "blue",
          "width": 0.0398406374501992
         },
         "lon": [
          8.8833,
          12.3984
         ],
         "mode": "lines",
         "opacity": 0.4,
         "showlegend": false,
         "text": "Plateau → Adamawa: 1",
         "type": "scattergeo"
        },
        {
         "hoverinfo": "text",
         "lat": [
          9.9333,
          6.21
         ],
         "legendgroup": "flows",
         "line": {
          "color": "blue",
          "width": 0.23904382470119523
         },
         "lon": [
          8.8833,
          7.07
         ],
         "mode": "lines",
         "opacity": 0.4,
         "showlegend": false,
         "text": "Plateau → Anambra: 6",
         "type": "scattergeo"
        },
        {
         "hoverinfo": "text",
         "lat": [
          9.9333,
          10.3103
         ],
         "legendgroup": "flows",
         "line": {
          "color": "blue",
          "width": 1.1155378486055776
         },
         "lon": [
          8.8833,
          9.8439
         ],
         "mode": "lines",
         "opacity": 0.4,
         "showlegend": false,
         "text": "Plateau → Bauchi: 28",
         "type": "scattergeo"
        },
        {
         "hoverinfo": "text",
         "lat": [
          9.9333,
          7.1907
         ],
         "legendgroup": "flows",
         "line": {
          "color": "blue",
          "width": 0.199203187250996
         },
         "lon": [
          8.8833,
          8.129
         ],
         "mode": "lines",
         "opacity": 0.4,
         "showlegend": false,
         "text": "Plateau → Benue: 5",
         "type": "scattergeo"
        },
        {
         "hoverinfo": "text",
         "lat": [
          9.9333,
          11.8333
         ],
         "legendgroup": "flows",
         "line": {
          "color": "blue",
          "width": 0.23904382470119523
         },
         "lon": [
          8.8833,
          13.15
         ],
         "mode": "lines",
         "opacity": 0.4,
         "showlegend": false,
         "text": "Plateau → Borno: 6",
         "type": "scattergeo"
        },
        {
         "hoverinfo": "text",
         "lat": [
          9.9333,
          5.465
         ],
         "legendgroup": "flows",
         "line": {
          "color": "blue",
          "width": 0.1593625498007968
         },
         "lon": [
          8.8833,
          6.2019
         ],
         "mode": "lines",
         "opacity": 0.4,
         "showlegend": false,
         "text": "Plateau → Delta: 4",
         "type": "scattergeo"
        },
        {
         "hoverinfo": "text",
         "lat": [
          9.9333,
          6.335
         ],
         "legendgroup": "flows",
         "line": {
          "color": "blue",
          "width": 0.0398406374501992
         },
         "lon": [
          8.8833,
          5.6275
         ],
         "mode": "lines",
         "opacity": 0.4,
         "showlegend": false,
         "text": "Plateau → Edo: 1",
         "type": "scattergeo"
        },
        {
         "hoverinfo": "text",
         "lat": [
          9.9333,
          7.6233
         ],
         "legendgroup": "flows",
         "line": {
          "color": "blue",
          "width": 0.0398406374501992
         },
         "lon": [
          8.8833,
          5.2214
         ],
         "mode": "lines",
         "opacity": 0.4,
         "showlegend": false,
         "text": "Plateau → Ekiti: 1",
         "type": "scattergeo"
        },
        {
         "hoverinfo": "text",
         "lat": [
          9.9333,
          6.4527
         ],
         "legendgroup": "flows",
         "line": {
          "color": "blue",
          "width": 0.11952191235059761
         },
         "lon": [
          8.8833,
          7.5103
         ],
         "mode": "lines",
         "opacity": 0.4,
         "showlegend": false,
         "text": "Plateau → Enugu: 3",
         "type": "scattergeo"
        },
        {
         "hoverinfo": "text",
         "lat": [
          9.9333,
          9.0579
         ],
         "legendgroup": "flows",
         "line": {
          "color": "blue",
          "width": 0.9163346613545817
         },
         "lon": [
          8.8833,
          7.4951
         ],
         "mode": "lines",
         "opacity": 0.4,
         "showlegend": false,
         "text": "Plateau → FCT: 23",
         "type": "scattergeo"
        },
        {
         "hoverinfo": "text",
         "lat": [
          9.9333,
          10.2897
         ],
         "legendgroup": "flows",
         "line": {
          "color": "blue",
          "width": 0.0796812749003984
         },
         "lon": [
          8.8833,
          11.17
         ],
         "mode": "lines",
         "opacity": 0.4,
         "showlegend": false,
         "text": "Plateau → Gombe: 2",
         "type": "scattergeo"
        },
        {
         "hoverinfo": "text",
         "lat": [
          9.9333,
          5.4836
         ],
         "legendgroup": "flows",
         "line": {
          "color": "blue",
          "width": 0.0796812749003984
         },
         "lon": [
          8.8833,
          7.0333
         ],
         "mode": "lines",
         "opacity": 0.4,
         "showlegend": false,
         "text": "Plateau → Imo: 2",
         "type": "scattergeo"
        },
        {
         "hoverinfo": "text",
         "lat": [
          9.9333,
          12
         ],
         "legendgroup": "flows",
         "line": {
          "color": "blue",
          "width": 0.0398406374501992
         },
         "lon": [
          8.8833,
          9.7667
         ],
         "mode": "lines",
         "opacity": 0.4,
         "showlegend": false,
         "text": "Plateau → Jigawa: 1",
         "type": "scattergeo"
        },
        {
         "hoverinfo": "text",
         "lat": [
          9.9333,
          10.5231
         ],
         "legendgroup": "flows",
         "line": {
          "color": "blue",
          "width": 0.6374501992031872
         },
         "lon": [
          8.8833,
          7.4403
         ],
         "mode": "lines",
         "opacity": 0.4,
         "showlegend": false,
         "text": "Plateau → Kaduna: 16",
         "type": "scattergeo"
        },
        {
         "hoverinfo": "text",
         "lat": [
          9.9333,
          12.0022
         ],
         "legendgroup": "flows",
         "line": {
          "color": "blue",
          "width": 0.199203187250996
         },
         "lon": [
          8.8833,
          8.5919
         ],
         "mode": "lines",
         "opacity": 0.4,
         "showlegend": false,
         "text": "Plateau → Kano: 5",
         "type": "scattergeo"
        },
        {
         "hoverinfo": "text",
         "lat": [
          9.9333,
          12.9889
         ],
         "legendgroup": "flows",
         "line": {
          "color": "blue",
          "width": 0.11952191235059761
         },
         "lon": [
          8.8833,
          7.6
         ],
         "mode": "lines",
         "opacity": 0.4,
         "showlegend": false,
         "text": "Plateau → Katsina: 3",
         "type": "scattergeo"
        },
        {
         "hoverinfo": "text",
         "lat": [
          9.9333,
          7.8
         ],
         "legendgroup": "flows",
         "line": {
          "color": "blue",
          "width": 0.1593625498007968
         },
         "lon": [
          8.8833,
          6.7333
         ],
         "mode": "lines",
         "opacity": 0.4,
         "showlegend": false,
         "text": "Plateau → Kogi: 4",
         "type": "scattergeo"
        },
        {
         "hoverinfo": "text",
         "lat": [
          9.9333,
          8.5
         ],
         "legendgroup": "flows",
         "line": {
          "color": "blue",
          "width": 0.0398406374501992
         },
         "lon": [
          8.8833,
          4.55
         ],
         "mode": "lines",
         "opacity": 0.4,
         "showlegend": false,
         "text": "Plateau → Kwara: 1",
         "type": "scattergeo"
        },
        {
         "hoverinfo": "text",
         "lat": [
          9.9333,
          8.5333
         ],
         "legendgroup": "flows",
         "line": {
          "color": "blue",
          "width": 0.47808764940239046
         },
         "lon": [
          8.8833,
          8.5333
         ],
         "mode": "lines",
         "opacity": 0.4,
         "showlegend": false,
         "text": "Plateau → Nasarawa: 12",
         "type": "scattergeo"
        },
        {
         "hoverinfo": "text",
         "lat": [
          9.9333,
          7.3833
         ],
         "legendgroup": "flows",
         "line": {
          "color": "blue",
          "width": 0.0398406374501992
         },
         "lon": [
          8.8833,
          3.9333
         ],
         "mode": "lines",
         "opacity": 0.4,
         "showlegend": false,
         "text": "Plateau → Oyo: 1",
         "type": "scattergeo"
        },
        {
         "hoverinfo": "text",
         "lat": [
          9.9333,
          8.8833
         ],
         "legendgroup": "flows",
         "line": {
          "color": "blue",
          "width": 0.199203187250996
         },
         "lon": [
          8.8833,
          11.3667
         ],
         "mode": "lines",
         "opacity": 0.4,
         "showlegend": false,
         "text": "Plateau → Taraba: 5",
         "type": "scattergeo"
        },
        {
         "hoverinfo": "text",
         "lat": [
          9.9333,
          12
         ],
         "legendgroup": "flows",
         "line": {
          "color": "blue",
          "width": 0.11952191235059761
         },
         "lon": [
          8.8833,
          11.75
         ],
         "mode": "lines",
         "opacity": 0.4,
         "showlegend": false,
         "text": "Plateau → Yobe: 3",
         "type": "scattergeo"
        },
        {
         "hoverinfo": "text",
         "lat": [
          9.9333,
          12.1667
         ],
         "legendgroup": "flows",
         "line": {
          "color": "blue",
          "width": 0.0398406374501992
         },
         "lon": [
          8.8833,
          6.25
         ],
         "mode": "lines",
         "opacity": 0.4,
         "showlegend": false,
         "text": "Plateau → Zamfara: 1",
         "type": "scattergeo"
        },
        {
         "hoverinfo": "text",
         "lat": [
          4.8242,
          5.532
         ],
         "legendgroup": "flows",
         "line": {
          "color": "blue",
          "width": 0.6772908366533864
         },
         "lon": [
          7.0336,
          7.486
         ],
         "mode": "lines",
         "opacity": 0.4,
         "showlegend": false,
         "text": "Rivers → Abia: 17",
         "type": "scattergeo"
        },
        {
         "hoverinfo": "text",
         "lat": [
          4.8242,
          4.9268
         ],
         "legendgroup": "flows",
         "line": {
          "color": "blue",
          "width": 1.8725099601593627
         },
         "lon": [
          7.0336,
          7.8722
         ],
         "mode": "lines",
         "opacity": 0.4,
         "showlegend": false,
         "text": "Rivers → Akwa Ibom: 47",
         "type": "scattergeo"
        },
        {
         "hoverinfo": "text",
         "lat": [
          4.8242,
          6.21
         ],
         "legendgroup": "flows",
         "line": {
          "color": "blue",
          "width": 0.199203187250996
         },
         "lon": [
          7.0336,
          7.07
         ],
         "mode": "lines",
         "opacity": 0.4,
         "showlegend": false,
         "text": "Rivers → Anambra: 5",
         "type": "scattergeo"
        },
        {
         "hoverinfo": "text",
         "lat": [
          4.8242,
          10.3103
         ],
         "legendgroup": "flows",
         "line": {
          "color": "blue",
          "width": 0.0398406374501992
         },
         "lon": [
          7.0336,
          9.8439
         ],
         "mode": "lines",
         "opacity": 0.4,
         "showlegend": false,
         "text": "Rivers → Bauchi: 1",
         "type": "scattergeo"
        },
        {
         "hoverinfo": "text",
         "lat": [
          4.8242,
          4.922
         ],
         "legendgroup": "flows",
         "line": {
          "color": "blue",
          "width": 1.6733067729083664
         },
         "lon": [
          7.0336,
          6.2649
         ],
         "mode": "lines",
         "opacity": 0.4,
         "showlegend": false,
         "text": "Rivers → Bayelsa: 42",
         "type": "scattergeo"
        },
        {
         "hoverinfo": "text",
         "lat": [
          4.8242,
          4.9517
         ],
         "legendgroup": "flows",
         "line": {
          "color": "blue",
          "width": 0.23904382470119523
         },
         "lon": [
          7.0336,
          8.322
         ],
         "mode": "lines",
         "opacity": 0.4,
         "showlegend": false,
         "text": "Rivers → Cross River: 6",
         "type": "scattergeo"
        },
        {
         "hoverinfo": "text",
         "lat": [
          4.8242,
          5.465
         ],
         "legendgroup": "flows",
         "line": {
          "color": "blue",
          "width": 0.35856573705179284
         },
         "lon": [
          7.0336,
          6.2019
         ],
         "mode": "lines",
         "opacity": 0.4,
         "showlegend": false,
         "text": "Rivers → Delta: 9",
         "type": "scattergeo"
        },
        {
         "hoverinfo": "text",
         "lat": [
          4.8242,
          6.3249
         ],
         "legendgroup": "flows",
         "line": {
          "color": "blue",
          "width": 0.0796812749003984
         },
         "lon": [
          7.0336,
          8.1137
         ],
         "mode": "lines",
         "opacity": 0.4,
         "showlegend": false,
         "text": "Rivers → Ebonyi: 2",
         "type": "scattergeo"
        },
        {
         "hoverinfo": "text",
         "lat": [
          4.8242,
          6.335
         ],
         "legendgroup": "flows",
         "line": {
          "color": "blue",
          "width": 0.0398406374501992
         },
         "lon": [
          7.0336,
          5.6275
         ],
         "mode": "lines",
         "opacity": 0.4,
         "showlegend": false,
         "text": "Rivers → Edo: 1",
         "type": "scattergeo"
        },
        {
         "hoverinfo": "text",
         "lat": [
          4.8242,
          6.4527
         ],
         "legendgroup": "flows",
         "line": {
          "color": "blue",
          "width": 0.0398406374501992
         },
         "lon": [
          7.0336,
          7.5103
         ],
         "mode": "lines",
         "opacity": 0.4,
         "showlegend": false,
         "text": "Rivers → Enugu: 1",
         "type": "scattergeo"
        },
        {
         "hoverinfo": "text",
         "lat": [
          4.8242,
          9.0579
         ],
         "legendgroup": "flows",
         "line": {
          "color": "blue",
          "width": 0.199203187250996
         },
         "lon": [
          7.0336,
          7.4951
         ],
         "mode": "lines",
         "opacity": 0.4,
         "showlegend": false,
         "text": "Rivers → FCT: 5",
         "type": "scattergeo"
        },
        {
         "hoverinfo": "text",
         "lat": [
          4.8242,
          5.4836
         ],
         "legendgroup": "flows",
         "line": {
          "color": "blue",
          "width": 1.0756972111553784
         },
         "lon": [
          7.0336,
          7.0333
         ],
         "mode": "lines",
         "opacity": 0.4,
         "showlegend": false,
         "text": "Rivers → Imo: 27",
         "type": "scattergeo"
        },
        {
         "hoverinfo": "text",
         "lat": [
          4.8242,
          10.5231
         ],
         "legendgroup": "flows",
         "line": {
          "color": "blue",
          "width": 0.0398406374501992
         },
         "lon": [
          7.0336,
          7.4403
         ],
         "mode": "lines",
         "opacity": 0.4,
         "showlegend": false,
         "text": "Rivers → Kaduna: 1",
         "type": "scattergeo"
        },
        {
         "hoverinfo": "text",
         "lat": [
          4.8242,
          7.8
         ],
         "legendgroup": "flows",
         "line": {
          "color": "blue",
          "width": 0.0398406374501992
         },
         "lon": [
          7.0336,
          6.7333
         ],
         "mode": "lines",
         "opacity": 0.4,
         "showlegend": false,
         "text": "Rivers → Kogi: 1",
         "type": "scattergeo"
        },
        {
         "hoverinfo": "text",
         "lat": [
          4.8242,
          8.5
         ],
         "legendgroup": "flows",
         "line": {
          "color": "blue",
          "width": 0.0398406374501992
         },
         "lon": [
          7.0336,
          4.55
         ],
         "mode": "lines",
         "opacity": 0.4,
         "showlegend": false,
         "text": "Rivers → Kwara: 1",
         "type": "scattergeo"
        },
        {
         "hoverinfo": "text",
         "lat": [
          4.8242,
          6.5244
         ],
         "legendgroup": "flows",
         "line": {
          "color": "blue",
          "width": 0.11952191235059761
         },
         "lon": [
          7.0336,
          3.3792
         ],
         "mode": "lines",
         "opacity": 0.4,
         "showlegend": false,
         "text": "Rivers → Lagos: 3",
         "type": "scattergeo"
        },
        {
         "hoverinfo": "text",
         "lat": [
          4.8242,
          7
         ],
         "legendgroup": "flows",
         "line": {
          "color": "blue",
          "width": 0.0398406374501992
         },
         "lon": [
          7.0336,
          3.5833
         ],
         "mode": "lines",
         "opacity": 0.4,
         "showlegend": false,
         "text": "Rivers → Ogun: 1",
         "type": "scattergeo"
        },
        {
         "hoverinfo": "text",
         "lat": [
          4.8242,
          7.7833
         ],
         "legendgroup": "flows",
         "line": {
          "color": "blue",
          "width": 0.1593625498007968
         },
         "lon": [
          7.0336,
          4.5667
         ],
         "mode": "lines",
         "opacity": 0.4,
         "showlegend": false,
         "text": "Rivers → Osun: 4",
         "type": "scattergeo"
        },
        {
         "hoverinfo": "text",
         "lat": [
          4.8242,
          9.9333
         ],
         "legendgroup": "flows",
         "line": {
          "color": "blue",
          "width": 0.4382470119521913
         },
         "lon": [
          7.0336,
          8.8833
         ],
         "mode": "lines",
         "opacity": 0.4,
         "showlegend": false,
         "text": "Rivers → Plateau: 11",
         "type": "scattergeo"
        },
        {
         "hoverinfo": "text",
         "lat": [
          4.8242,
          13.0667
         ],
         "legendgroup": "flows",
         "line": {
          "color": "blue",
          "width": 0.0796812749003984
         },
         "lon": [
          7.0336,
          5.2333
         ],
         "mode": "lines",
         "opacity": 0.4,
         "showlegend": false,
         "text": "Rivers → Sokoto: 2",
         "type": "scattergeo"
        },
        {
         "hoverinfo": "text",
         "lat": [
          13.0667,
          9.3265
         ],
         "legendgroup": "flows",
         "line": {
          "color": "blue",
          "width": 0.0398406374501992
         },
         "lon": [
          5.2333,
          12.3984
         ],
         "mode": "lines",
         "opacity": 0.4,
         "showlegend": false,
         "text": "Sokoto → Adamawa: 1",
         "type": "scattergeo"
        },
        {
         "hoverinfo": "text",
         "lat": [
          13.0667,
          6.21
         ],
         "legendgroup": "flows",
         "line": {
          "color": "blue",
          "width": 0.11952191235059761
         },
         "lon": [
          5.2333,
          7.07
         ],
         "mode": "lines",
         "opacity": 0.4,
         "showlegend": false,
         "text": "Sokoto → Anambra: 3",
         "type": "scattergeo"
        },
        {
         "hoverinfo": "text",
         "lat": [
          13.0667,
          11.8333
         ],
         "legendgroup": "flows",
         "line": {
          "color": "blue",
          "width": 0.0398406374501992
         },
         "lon": [
          5.2333,
          13.15
         ],
         "mode": "lines",
         "opacity": 0.4,
         "showlegend": false,
         "text": "Sokoto → Borno: 1",
         "type": "scattergeo"
        },
        {
         "hoverinfo": "text",
         "lat": [
          13.0667,
          6.335
         ],
         "legendgroup": "flows",
         "line": {
          "color": "blue",
          "width": 0.199203187250996
         },
         "lon": [
          5.2333,
          5.6275
         ],
         "mode": "lines",
         "opacity": 0.4,
         "showlegend": false,
         "text": "Sokoto → Edo: 5",
         "type": "scattergeo"
        },
        {
         "hoverinfo": "text",
         "lat": [
          13.0667,
          7.6233
         ],
         "legendgroup": "flows",
         "line": {
          "color": "blue",
          "width": 0.0796812749003984
         },
         "lon": [
          5.2333,
          5.2214
         ],
         "mode": "lines",
         "opacity": 0.4,
         "showlegend": false,
         "text": "Sokoto → Ekiti: 2",
         "type": "scattergeo"
        },
        {
         "hoverinfo": "text",
         "lat": [
          13.0667,
          9.0579
         ],
         "legendgroup": "flows",
         "line": {
          "color": "blue",
          "width": 0.5577689243027888
         },
         "lon": [
          5.2333,
          7.4951
         ],
         "mode": "lines",
         "opacity": 0.4,
         "showlegend": false,
         "text": "Sokoto → FCT: 14",
         "type": "scattergeo"
        },
        {
         "hoverinfo": "text",
         "lat": [
          13.0667,
          10.2897
         ],
         "legendgroup": "flows",
         "line": {
          "color": "blue",
          "width": 0.0796812749003984
         },
         "lon": [
          5.2333,
          11.17
         ],
         "mode": "lines",
         "opacity": 0.4,
         "showlegend": false,
         "text": "Sokoto → Gombe: 2",
         "type": "scattergeo"
        },
        {
         "hoverinfo": "text",
         "lat": [
          13.0667,
          10.5231
         ],
         "legendgroup": "flows",
         "line": {
          "color": "blue",
          "width": 0.0398406374501992
         },
         "lon": [
          5.2333,
          7.4403
         ],
         "mode": "lines",
         "opacity": 0.4,
         "showlegend": false,
         "text": "Sokoto → Kaduna: 1",
         "type": "scattergeo"
        },
        {
         "hoverinfo": "text",
         "lat": [
          13.0667,
          12.0022
         ],
         "legendgroup": "flows",
         "line": {
          "color": "blue",
          "width": 0.0796812749003984
         },
         "lon": [
          5.2333,
          8.5919
         ],
         "mode": "lines",
         "opacity": 0.4,
         "showlegend": false,
         "text": "Sokoto → Kano: 2",
         "type": "scattergeo"
        },
        {
         "hoverinfo": "text",
         "lat": [
          13.0667,
          12.45
         ],
         "legendgroup": "flows",
         "line": {
          "color": "blue",
          "width": 0.23904382470119523
         },
         "lon": [
          5.2333,
          4.2
         ],
         "mode": "lines",
         "opacity": 0.4,
         "showlegend": false,
         "text": "Sokoto → Kebbi: 6",
         "type": "scattergeo"
        },
        {
         "hoverinfo": "text",
         "lat": [
          13.0667,
          7.8
         ],
         "legendgroup": "flows",
         "line": {
          "color": "blue",
          "width": 0.0796812749003984
         },
         "lon": [
          5.2333,
          6.7333
         ],
         "mode": "lines",
         "opacity": 0.4,
         "showlegend": false,
         "text": "Sokoto → Kogi: 2",
         "type": "scattergeo"
        },
        {
         "hoverinfo": "text",
         "lat": [
          13.0667,
          6.5244
         ],
         "legendgroup": "flows",
         "line": {
          "color": "blue",
          "width": 0.0398406374501992
         },
         "lon": [
          5.2333,
          3.3792
         ],
         "mode": "lines",
         "opacity": 0.4,
         "showlegend": false,
         "text": "Sokoto → Lagos: 1",
         "type": "scattergeo"
        },
        {
         "hoverinfo": "text",
         "lat": [
          13.0667,
          9.6
         ],
         "legendgroup": "flows",
         "line": {
          "color": "blue",
          "width": 0.3187250996015936
         },
         "lon": [
          5.2333,
          6.55
         ],
         "mode": "lines",
         "opacity": 0.4,
         "showlegend": false,
         "text": "Sokoto → Niger: 8",
         "type": "scattergeo"
        },
        {
         "hoverinfo": "text",
         "lat": [
          13.0667,
          7
         ],
         "legendgroup": "flows",
         "line": {
          "color": "blue",
          "width": 0.2788844621513944
         },
         "lon": [
          5.2333,
          3.5833
         ],
         "mode": "lines",
         "opacity": 0.4,
         "showlegend": false,
         "text": "Sokoto → Ogun: 7",
         "type": "scattergeo"
        },
        {
         "hoverinfo": "text",
         "lat": [
          13.0667,
          7.25
         ],
         "legendgroup": "flows",
         "line": {
          "color": "blue",
          "width": 0.0398406374501992
         },
         "lon": [
          5.2333,
          5.2
         ],
         "mode": "lines",
         "opacity": 0.4,
         "showlegend": false,
         "text": "Sokoto → Ondo: 1",
         "type": "scattergeo"
        },
        {
         "hoverinfo": "text",
         "lat": [
          13.0667,
          7.7833
         ],
         "legendgroup": "flows",
         "line": {
          "color": "blue",
          "width": 0.0796812749003984
         },
         "lon": [
          5.2333,
          4.5667
         ],
         "mode": "lines",
         "opacity": 0.4,
         "showlegend": false,
         "text": "Sokoto → Osun: 2",
         "type": "scattergeo"
        },
        {
         "hoverinfo": "text",
         "lat": [
          13.0667,
          9.9333
         ],
         "legendgroup": "flows",
         "line": {
          "color": "blue",
          "width": 0.0796812749003984
         },
         "lon": [
          5.2333,
          8.8833
         ],
         "mode": "lines",
         "opacity": 0.4,
         "showlegend": false,
         "text": "Sokoto → Plateau: 2",
         "type": "scattergeo"
        },
        {
         "hoverinfo": "text",
         "lat": [
          13.0667,
          8.8833
         ],
         "legendgroup": "flows",
         "line": {
          "color": "blue",
          "width": 0.1593625498007968
         },
         "lon": [
          5.2333,
          11.3667
         ],
         "mode": "lines",
         "opacity": 0.4,
         "showlegend": false,
         "text": "Sokoto → Taraba: 4",
         "type": "scattergeo"
        },
        {
         "hoverinfo": "text",
         "lat": [
          13.0667,
          12
         ],
         "legendgroup": "flows",
         "line": {
          "color": "blue",
          "width": 0.23904382470119523
         },
         "lon": [
          5.2333,
          11.75
         ],
         "mode": "lines",
         "opacity": 0.4,
         "showlegend": false,
         "text": "Sokoto → Yobe: 6",
         "type": "scattergeo"
        },
        {
         "hoverinfo": "text",
         "lat": [
          13.0667,
          12.1667
         ],
         "legendgroup": "flows",
         "line": {
          "color": "blue",
          "width": 0.0796812749003984
         },
         "lon": [
          5.2333,
          6.25
         ],
         "mode": "lines",
         "opacity": 0.4,
         "showlegend": false,
         "text": "Sokoto → Zamfara: 2",
         "type": "scattergeo"
        },
        {
         "hoverinfo": "text",
         "lat": [
          8.8833,
          9.3265
         ],
         "legendgroup": "flows",
         "line": {
          "color": "blue",
          "width": 0.1593625498007968
         },
         "lon": [
          11.3667,
          12.3984
         ],
         "mode": "lines",
         "opacity": 0.4,
         "showlegend": false,
         "text": "Taraba → Adamawa: 4",
         "type": "scattergeo"
        },
        {
         "hoverinfo": "text",
         "lat": [
          8.8833,
          6.21
         ],
         "legendgroup": "flows",
         "line": {
          "color": "blue",
          "width": 0.11952191235059761
         },
         "lon": [
          11.3667,
          7.07
         ],
         "mode": "lines",
         "opacity": 0.4,
         "showlegend": false,
         "text": "Taraba → Anambra: 3",
         "type": "scattergeo"
        },
        {
         "hoverinfo": "text",
         "lat": [
          8.8833,
          10.3103
         ],
         "legendgroup": "flows",
         "line": {
          "color": "blue",
          "width": 0.0796812749003984
         },
         "lon": [
          11.3667,
          9.8439
         ],
         "mode": "lines",
         "opacity": 0.4,
         "showlegend": false,
         "text": "Taraba → Bauchi: 2",
         "type": "scattergeo"
        },
        {
         "hoverinfo": "text",
         "lat": [
          8.8833,
          7.1907
         ],
         "legendgroup": "flows",
         "line": {
          "color": "blue",
          "width": 0.2788844621513944
         },
         "lon": [
          11.3667,
          8.129
         ],
         "mode": "lines",
         "opacity": 0.4,
         "showlegend": false,
         "text": "Taraba → Benue: 7",
         "type": "scattergeo"
        },
        {
         "hoverinfo": "text",
         "lat": [
          8.8833,
          4.9517
         ],
         "legendgroup": "flows",
         "line": {
          "color": "blue",
          "width": 0.0398406374501992
         },
         "lon": [
          11.3667,
          8.322
         ],
         "mode": "lines",
         "opacity": 0.4,
         "showlegend": false,
         "text": "Taraba → Cross River: 1",
         "type": "scattergeo"
        },
        {
         "hoverinfo": "text",
         "lat": [
          8.8833,
          5.465
         ],
         "legendgroup": "flows",
         "line": {
          "color": "blue",
          "width": 0.0398406374501992
         },
         "lon": [
          11.3667,
          6.2019
         ],
         "mode": "lines",
         "opacity": 0.4,
         "showlegend": false,
         "text": "Taraba → Delta: 1",
         "type": "scattergeo"
        },
        {
         "hoverinfo": "text",
         "lat": [
          8.8833,
          6.335
         ],
         "legendgroup": "flows",
         "line": {
          "color": "blue",
          "width": 0.35856573705179284
         },
         "lon": [
          11.3667,
          5.6275
         ],
         "mode": "lines",
         "opacity": 0.4,
         "showlegend": false,
         "text": "Taraba → Edo: 9",
         "type": "scattergeo"
        },
        {
         "hoverinfo": "text",
         "lat": [
          8.8833,
          6.4527
         ],
         "legendgroup": "flows",
         "line": {
          "color": "blue",
          "width": 0.23904382470119523
         },
         "lon": [
          11.3667,
          7.5103
         ],
         "mode": "lines",
         "opacity": 0.4,
         "showlegend": false,
         "text": "Taraba → Enugu: 6",
         "type": "scattergeo"
        },
        {
         "hoverinfo": "text",
         "lat": [
          8.8833,
          9.0579
         ],
         "legendgroup": "flows",
         "line": {
          "color": "blue",
          "width": 0.3187250996015936
         },
         "lon": [
          11.3667,
          7.4951
         ],
         "mode": "lines",
         "opacity": 0.4,
         "showlegend": false,
         "text": "Taraba → FCT: 8",
         "type": "scattergeo"
        },
        {
         "hoverinfo": "text",
         "lat": [
          8.8833,
          10.2897
         ],
         "legendgroup": "flows",
         "line": {
          "color": "blue",
          "width": 0.23904382470119523
         },
         "lon": [
          11.3667,
          11.17
         ],
         "mode": "lines",
         "opacity": 0.4,
         "showlegend": false,
         "text": "Taraba → Gombe: 6",
         "type": "scattergeo"
        },
        {
         "hoverinfo": "text",
         "lat": [
          8.8833,
          5.4836
         ],
         "legendgroup": "flows",
         "line": {
          "color": "blue",
          "width": 0.0398406374501992
         },
         "lon": [
          11.3667,
          7.0333
         ],
         "mode": "lines",
         "opacity": 0.4,
         "showlegend": false,
         "text": "Taraba → Imo: 1",
         "type": "scattergeo"
        },
        {
         "hoverinfo": "text",
         "lat": [
          8.8833,
          12.0022
         ],
         "legendgroup": "flows",
         "line": {
          "color": "blue",
          "width": 0.0398406374501992
         },
         "lon": [
          11.3667,
          8.5919
         ],
         "mode": "lines",
         "opacity": 0.4,
         "showlegend": false,
         "text": "Taraba → Kano: 1",
         "type": "scattergeo"
        },
        {
         "hoverinfo": "text",
         "lat": [
          8.8833,
          8.5333
         ],
         "legendgroup": "flows",
         "line": {
          "color": "blue",
          "width": 0.1593625498007968
         },
         "lon": [
          11.3667,
          8.5333
         ],
         "mode": "lines",
         "opacity": 0.4,
         "showlegend": false,
         "text": "Taraba → Nasarawa: 4",
         "type": "scattergeo"
        },
        {
         "hoverinfo": "text",
         "lat": [
          8.8833,
          7.25
         ],
         "legendgroup": "flows",
         "line": {
          "color": "blue",
          "width": 0.23904382470119523
         },
         "lon": [
          11.3667,
          5.2
         ],
         "mode": "lines",
         "opacity": 0.4,
         "showlegend": false,
         "text": "Taraba → Ondo: 6",
         "type": "scattergeo"
        },
        {
         "hoverinfo": "text",
         "lat": [
          8.8833,
          7.3833
         ],
         "legendgroup": "flows",
         "line": {
          "color": "blue",
          "width": 0.11952191235059761
         },
         "lon": [
          11.3667,
          3.9333
         ],
         "mode": "lines",
         "opacity": 0.4,
         "showlegend": false,
         "text": "Taraba → Oyo: 3",
         "type": "scattergeo"
        },
        {
         "hoverinfo": "text",
         "lat": [
          8.8833,
          9.9333
         ],
         "legendgroup": "flows",
         "line": {
          "color": "blue",
          "width": 0.2788844621513944
         },
         "lon": [
          11.3667,
          8.8833
         ],
         "mode": "lines",
         "opacity": 0.4,
         "showlegend": false,
         "text": "Taraba → Plateau: 7",
         "type": "scattergeo"
        },
        {
         "hoverinfo": "text",
         "lat": [
          8.8833,
          13.0667
         ],
         "legendgroup": "flows",
         "line": {
          "color": "blue",
          "width": 0.0398406374501992
         },
         "lon": [
          11.3667,
          5.2333
         ],
         "mode": "lines",
         "opacity": 0.4,
         "showlegend": false,
         "text": "Taraba → Sokoto: 1",
         "type": "scattergeo"
        },
        {
         "hoverinfo": "text",
         "lat": [
          8.8833,
          12
         ],
         "legendgroup": "flows",
         "line": {
          "color": "blue",
          "width": 0.2788844621513944
         },
         "lon": [
          11.3667,
          11.75
         ],
         "mode": "lines",
         "opacity": 0.4,
         "showlegend": false,
         "text": "Taraba → Yobe: 7",
         "type": "scattergeo"
        },
        {
         "hoverinfo": "text",
         "lat": [
          12,
          9.3265
         ],
         "legendgroup": "flows",
         "line": {
          "color": "blue",
          "width": 0.0796812749003984
         },
         "lon": [
          11.75,
          12.3984
         ],
         "mode": "lines",
         "opacity": 0.4,
         "showlegend": false,
         "text": "Yobe → Adamawa: 2",
         "type": "scattergeo"
        },
        {
         "hoverinfo": "text",
         "lat": [
          12,
          10.3103
         ],
         "legendgroup": "flows",
         "line": {
          "color": "blue",
          "width": 0.11952191235059761
         },
         "lon": [
          11.75,
          9.8439
         ],
         "mode": "lines",
         "opacity": 0.4,
         "showlegend": false,
         "text": "Yobe → Bauchi: 3",
         "type": "scattergeo"
        },
        {
         "hoverinfo": "text",
         "lat": [
          12,
          11.8333
         ],
         "legendgroup": "flows",
         "line": {
          "color": "blue",
          "width": 0.6772908366533864
         },
         "lon": [
          11.75,
          13.15
         ],
         "mode": "lines",
         "opacity": 0.4,
         "showlegend": false,
         "text": "Yobe → Borno: 17",
         "type": "scattergeo"
        },
        {
         "hoverinfo": "text",
         "lat": [
          12,
          5.465
         ],
         "legendgroup": "flows",
         "line": {
          "color": "blue",
          "width": 0.0398406374501992
         },
         "lon": [
          11.75,
          6.2019
         ],
         "mode": "lines",
         "opacity": 0.4,
         "showlegend": false,
         "text": "Yobe → Delta: 1",
         "type": "scattergeo"
        },
        {
         "hoverinfo": "text",
         "lat": [
          12,
          9.0579
         ],
         "legendgroup": "flows",
         "line": {
          "color": "blue",
          "width": 0.199203187250996
         },
         "lon": [
          11.75,
          7.4951
         ],
         "mode": "lines",
         "opacity": 0.4,
         "showlegend": false,
         "text": "Yobe → FCT: 5",
         "type": "scattergeo"
        },
        {
         "hoverinfo": "text",
         "lat": [
          12,
          10.2897
         ],
         "legendgroup": "flows",
         "line": {
          "color": "blue",
          "width": 0.199203187250996
         },
         "lon": [
          11.75,
          11.17
         ],
         "mode": "lines",
         "opacity": 0.4,
         "showlegend": false,
         "text": "Yobe → Gombe: 5",
         "type": "scattergeo"
        },
        {
         "hoverinfo": "text",
         "lat": [
          12,
          12
         ],
         "legendgroup": "flows",
         "line": {
          "color": "blue",
          "width": 0.2788844621513944
         },
         "lon": [
          11.75,
          9.7667
         ],
         "mode": "lines",
         "opacity": 0.4,
         "showlegend": false,
         "text": "Yobe → Jigawa: 7",
         "type": "scattergeo"
        },
        {
         "hoverinfo": "text",
         "lat": [
          12,
          12.0022
         ],
         "legendgroup": "flows",
         "line": {
          "color": "blue",
          "width": 0.0796812749003984
         },
         "lon": [
          11.75,
          8.5919
         ],
         "mode": "lines",
         "opacity": 0.4,
         "showlegend": false,
         "text": "Yobe → Kano: 2",
         "type": "scattergeo"
        },
        {
         "hoverinfo": "text",
         "lat": [
          12,
          6.5244
         ],
         "legendgroup": "flows",
         "line": {
          "color": "blue",
          "width": 0.0796812749003984
         },
         "lon": [
          11.75,
          3.3792
         ],
         "mode": "lines",
         "opacity": 0.4,
         "showlegend": false,
         "text": "Yobe → Lagos: 2",
         "type": "scattergeo"
        },
        {
         "hoverinfo": "text",
         "lat": [
          12,
          9.9333
         ],
         "legendgroup": "flows",
         "line": {
          "color": "blue",
          "width": 0.0398406374501992
         },
         "lon": [
          11.75,
          8.8833
         ],
         "mode": "lines",
         "opacity": 0.4,
         "showlegend": false,
         "text": "Yobe → Plateau: 1",
         "type": "scattergeo"
        },
        {
         "hoverinfo": "text",
         "lat": [
          12,
          8.8833
         ],
         "legendgroup": "flows",
         "line": {
          "color": "blue",
          "width": 0.0796812749003984
         },
         "lon": [
          11.75,
          11.3667
         ],
         "mode": "lines",
         "opacity": 0.4,
         "showlegend": false,
         "text": "Yobe → Taraba: 2",
         "type": "scattergeo"
        },
        {
         "hoverinfo": "text",
         "lat": [
          12.1667,
          5.532
         ],
         "legendgroup": "flows",
         "line": {
          "color": "blue",
          "width": 0.0398406374501992
         },
         "lon": [
          6.25,
          7.486
         ],
         "mode": "lines",
         "opacity": 0.4,
         "showlegend": false,
         "text": "Zamfara → Abia: 1",
         "type": "scattergeo"
        },
        {
         "hoverinfo": "text",
         "lat": [
          12.1667,
          4.9517
         ],
         "legendgroup": "flows",
         "line": {
          "color": "blue",
          "width": 0.0398406374501992
         },
         "lon": [
          6.25,
          8.322
         ],
         "mode": "lines",
         "opacity": 0.4,
         "showlegend": false,
         "text": "Zamfara → Cross River: 1",
         "type": "scattergeo"
        },
        {
         "hoverinfo": "text",
         "lat": [
          12.1667,
          7.6233
         ],
         "legendgroup": "flows",
         "line": {
          "color": "blue",
          "width": 0.0398406374501992
         },
         "lon": [
          6.25,
          5.2214
         ],
         "mode": "lines",
         "opacity": 0.4,
         "showlegend": false,
         "text": "Zamfara → Ekiti: 1",
         "type": "scattergeo"
        },
        {
         "hoverinfo": "text",
         "lat": [
          12.1667,
          9.0579
         ],
         "legendgroup": "flows",
         "line": {
          "color": "blue",
          "width": 0.35856573705179284
         },
         "lon": [
          6.25,
          7.4951
         ],
         "mode": "lines",
         "opacity": 0.4,
         "showlegend": false,
         "text": "Zamfara → FCT: 9",
         "type": "scattergeo"
        },
        {
         "hoverinfo": "text",
         "lat": [
          12.1667,
          12.0022
         ],
         "legendgroup": "flows",
         "line": {
          "color": "blue",
          "width": 0.0398406374501992
         },
         "lon": [
          6.25,
          8.5919
         ],
         "mode": "lines",
         "opacity": 0.4,
         "showlegend": false,
         "text": "Zamfara → Kano: 1",
         "type": "scattergeo"
        },
        {
         "hoverinfo": "text",
         "lat": [
          12.1667,
          12.9889
         ],
         "legendgroup": "flows",
         "line": {
          "color": "blue",
          "width": 0.0398406374501992
         },
         "lon": [
          6.25,
          7.6
         ],
         "mode": "lines",
         "opacity": 0.4,
         "showlegend": false,
         "text": "Zamfara → Katsina: 1",
         "type": "scattergeo"
        },
        {
         "hoverinfo": "text",
         "lat": [
          12.1667,
          12.45
         ],
         "legendgroup": "flows",
         "line": {
          "color": "blue",
          "width": 0.0796812749003984
         },
         "lon": [
          6.25,
          4.2
         ],
         "mode": "lines",
         "opacity": 0.4,
         "showlegend": false,
         "text": "Zamfara → Kebbi: 2",
         "type": "scattergeo"
        },
        {
         "hoverinfo": "text",
         "lat": [
          12.1667,
          8.5
         ],
         "legendgroup": "flows",
         "line": {
          "color": "blue",
          "width": 0.0398406374501992
         },
         "lon": [
          6.25,
          4.55
         ],
         "mode": "lines",
         "opacity": 0.4,
         "showlegend": false,
         "text": "Zamfara → Kwara: 1",
         "type": "scattergeo"
        },
        {
         "hoverinfo": "text",
         "lat": [
          12.1667,
          9.6
         ],
         "legendgroup": "flows",
         "line": {
          "color": "blue",
          "width": 0.0796812749003984
         },
         "lon": [
          6.25,
          6.55
         ],
         "mode": "lines",
         "opacity": 0.4,
         "showlegend": false,
         "text": "Zamfara → Niger: 2",
         "type": "scattergeo"
        },
        {
         "hoverinfo": "text",
         "lat": [
          12.1667,
          7.3833
         ],
         "legendgroup": "flows",
         "line": {
          "color": "blue",
          "width": 0.0398406374501992
         },
         "lon": [
          6.25,
          3.9333
         ],
         "mode": "lines",
         "opacity": 0.4,
         "showlegend": false,
         "text": "Zamfara → Oyo: 1",
         "type": "scattergeo"
        },
        {
         "hoverinfo": "text",
         "lat": [
          12.1667,
          9.9333
         ],
         "legendgroup": "flows",
         "line": {
          "color": "blue",
          "width": 0.0398406374501992
         },
         "lon": [
          6.25,
          8.8833
         ],
         "mode": "lines",
         "opacity": 0.4,
         "showlegend": false,
         "text": "Zamfara → Plateau: 1",
         "type": "scattergeo"
        },
        {
         "hoverinfo": "text",
         "lat": [
          12.1667,
          13.0667
         ],
         "legendgroup": "flows",
         "line": {
          "color": "blue",
          "width": 0.2788844621513944
         },
         "lon": [
          6.25,
          5.2333
         ],
         "mode": "lines",
         "opacity": 0.4,
         "showlegend": false,
         "text": "Zamfara → Sokoto: 7",
         "type": "scattergeo"
        },
        {
         "hoverinfo": "text",
         "lat": [
          12.1667,
          8.8833
         ],
         "legendgroup": "flows",
         "line": {
          "color": "blue",
          "width": 0.0398406374501992
         },
         "lon": [
          6.25,
          11.3667
         ],
         "mode": "lines",
         "opacity": 0.4,
         "showlegend": false,
         "text": "Zamfara → Taraba: 1",
         "type": "scattergeo"
        },
        {
         "hoverinfo": "text",
         "lat": [
          12.1667,
          12
         ],
         "legendgroup": "flows",
         "line": {
          "color": "blue",
          "width": 0.4382470119521913
         },
         "lon": [
          6.25,
          11.75
         ],
         "mode": "lines",
         "opacity": 0.4,
         "showlegend": false,
         "text": "Zamfara → Yobe: 11",
         "type": "scattergeo"
        },
        {
         "hoverinfo": "text",
         "lat": [
          5.532
         ],
         "legendgroup": "others",
         "lon": [
          7.486
         ],
         "marker": {
          "color": "red",
          "size": 6,
          "symbol": "circle"
         },
         "mode": "markers+text",
         "name": "Other Capitals",
         "showlegend": true,
         "text": "Abia",
         "textposition": "top center",
         "type": "scattergeo"
        },
        {
         "hoverinfo": "text",
         "lat": [
          9.3265
         ],
         "legendgroup": "others",
         "lon": [
          12.3984
         ],
         "marker": {
          "color": "red",
          "size": 6,
          "symbol": "circle"
         },
         "mode": "markers+text",
         "showlegend": false,
         "text": "Adamawa",
         "textposition": "top center",
         "type": "scattergeo"
        },
        {
         "hoverinfo": "text",
         "lat": [
          4.9268
         ],
         "legendgroup": "others",
         "lon": [
          7.8722
         ],
         "marker": {
          "color": "red",
          "size": 6,
          "symbol": "circle"
         },
         "mode": "markers+text",
         "showlegend": false,
         "text": "Akwa Ibom",
         "textposition": "top center",
         "type": "scattergeo"
        },
        {
         "hoverinfo": "text",
         "lat": [
          6.21
         ],
         "legendgroup": "others",
         "lon": [
          7.07
         ],
         "marker": {
          "color": "red",
          "size": 6,
          "symbol": "circle"
         },
         "mode": "markers+text",
         "showlegend": false,
         "text": "Anambra",
         "textposition": "top center",
         "type": "scattergeo"
        },
        {
         "hoverinfo": "text",
         "lat": [
          10.3103
         ],
         "legendgroup": "Bauchi",
         "lon": [
          9.8439
         ],
         "marker": {
          "color": "orange",
          "size": 8,
          "symbol": "diamond"
         },
         "mode": "markers+text",
         "name": "Bauchi (Immigration: 1000)",
         "showlegend": true,
         "text": "Bauchi",
         "textposition": "top center",
         "type": "scattergeo"
        },
        {
         "hoverinfo": "text",
         "lat": [
          4.922
         ],
         "legendgroup": "others",
         "lon": [
          6.2649
         ],
         "marker": {
          "color": "red",
          "size": 6,
          "symbol": "circle"
         },
         "mode": "markers+text",
         "showlegend": false,
         "text": "Bayelsa",
         "textposition": "top center",
         "type": "scattergeo"
        },
        {
         "hoverinfo": "text",
         "lat": [
          7.1907
         ],
         "legendgroup": "others",
         "lon": [
          8.129
         ],
         "marker": {
          "color": "red",
          "size": 6,
          "symbol": "circle"
         },
         "mode": "markers+text",
         "showlegend": false,
         "text": "Benue",
         "textposition": "top center",
         "type": "scattergeo"
        },
        {
         "hoverinfo": "text",
         "lat": [
          11.8333
         ],
         "legendgroup": "others",
         "lon": [
          13.15
         ],
         "marker": {
          "color": "red",
          "size": 6,
          "symbol": "circle"
         },
         "mode": "markers+text",
         "showlegend": false,
         "text": "Borno",
         "textposition": "top center",
         "type": "scattergeo"
        },
        {
         "hoverinfo": "text",
         "lat": [
          4.9517
         ],
         "legendgroup": "others",
         "lon": [
          8.322
         ],
         "marker": {
          "color": "red",
          "size": 6,
          "symbol": "circle"
         },
         "mode": "markers+text",
         "showlegend": false,
         "text": "Cross River",
         "textposition": "top center",
         "type": "scattergeo"
        },
        {
         "hoverinfo": "text",
         "lat": [
          5.465
         ],
         "legendgroup": "others",
         "lon": [
          6.2019
         ],
         "marker": {
          "color": "red",
          "size": 6,
          "symbol": "circle"
         },
         "mode": "markers+text",
         "showlegend": false,
         "text": "Delta",
         "textposition": "top center",
         "type": "scattergeo"
        },
        {
         "hoverinfo": "text",
         "lat": [
          6.3249
         ],
         "legendgroup": "others",
         "lon": [
          8.1137
         ],
         "marker": {
          "color": "red",
          "size": 6,
          "symbol": "circle"
         },
         "mode": "markers+text",
         "showlegend": false,
         "text": "Ebonyi",
         "textposition": "top center",
         "type": "scattergeo"
        },
        {
         "hoverinfo": "text",
         "lat": [
          6.335
         ],
         "legendgroup": "Edo",
         "lon": [
          5.6275
         ],
         "marker": {
          "color": "purple",
          "size": 8,
          "symbol": "diamond"
         },
         "mode": "markers+text",
         "name": "Edo (Immigration: 896)",
         "showlegend": true,
         "text": "Edo",
         "textposition": "top center",
         "type": "scattergeo"
        },
        {
         "hoverinfo": "text",
         "lat": [
          7.6233
         ],
         "legendgroup": "others",
         "lon": [
          5.2214
         ],
         "marker": {
          "color": "red",
          "size": 6,
          "symbol": "circle"
         },
         "mode": "markers+text",
         "showlegend": false,
         "text": "Ekiti",
         "textposition": "top center",
         "type": "scattergeo"
        },
        {
         "hoverinfo": "text",
         "lat": [
          6.4527
         ],
         "legendgroup": "others",
         "lon": [
          7.5103
         ],
         "marker": {
          "color": "red",
          "size": 6,
          "symbol": "circle"
         },
         "mode": "markers+text",
         "showlegend": false,
         "text": "Enugu",
         "textposition": "top center",
         "type": "scattergeo"
        },
        {
         "hoverinfo": "text",
         "lat": [
          10.2897
         ],
         "legendgroup": "others",
         "lon": [
          11.17
         ],
         "marker": {
          "color": "red",
          "size": 6,
          "symbol": "circle"
         },
         "mode": "markers+text",
         "showlegend": false,
         "text": "Gombe",
         "textposition": "top center",
         "type": "scattergeo"
        },
        {
         "hoverinfo": "text",
         "lat": [
          5.4836
         ],
         "legendgroup": "others",
         "lon": [
          7.0333
         ],
         "marker": {
          "color": "red",
          "size": 6,
          "symbol": "circle"
         },
         "mode": "markers+text",
         "showlegend": false,
         "text": "Imo",
         "textposition": "top center",
         "type": "scattergeo"
        },
        {
         "hoverinfo": "text",
         "lat": [
          12
         ],
         "legendgroup": "others",
         "lon": [
          9.7667
         ],
         "marker": {
          "color": "red",
          "size": 6,
          "symbol": "circle"
         },
         "mode": "markers+text",
         "showlegend": false,
         "text": "Jigawa",
         "textposition": "top center",
         "type": "scattergeo"
        },
        {
         "hoverinfo": "text",
         "lat": [
          10.5231
         ],
         "legendgroup": "others",
         "lon": [
          7.4403
         ],
         "marker": {
          "color": "red",
          "size": 6,
          "symbol": "circle"
         },
         "mode": "markers+text",
         "showlegend": false,
         "text": "Kaduna",
         "textposition": "top center",
         "type": "scattergeo"
        },
        {
         "hoverinfo": "text",
         "lat": [
          12.0022
         ],
         "legendgroup": "others",
         "lon": [
          8.5919
         ],
         "marker": {
          "color": "red",
          "size": 6,
          "symbol": "circle"
         },
         "mode": "markers+text",
         "showlegend": false,
         "text": "Kano",
         "textposition": "top center",
         "type": "scattergeo"
        },
        {
         "hoverinfo": "text",
         "lat": [
          12.9889
         ],
         "legendgroup": "others",
         "lon": [
          7.6
         ],
         "marker": {
          "color": "red",
          "size": 6,
          "symbol": "circle"
         },
         "mode": "markers+text",
         "showlegend": false,
         "text": "Katsina",
         "textposition": "top center",
         "type": "scattergeo"
        },
        {
         "hoverinfo": "text",
         "lat": [
          12.45
         ],
         "legendgroup": "others",
         "lon": [
          4.2
         ],
         "marker": {
          "color": "red",
          "size": 6,
          "symbol": "circle"
         },
         "mode": "markers+text",
         "showlegend": false,
         "text": "Kebbi",
         "textposition": "top center",
         "type": "scattergeo"
        },
        {
         "hoverinfo": "text",
         "lat": [
          7.8
         ],
         "legendgroup": "others",
         "lon": [
          6.7333
         ],
         "marker": {
          "color": "red",
          "size": 6,
          "symbol": "circle"
         },
         "mode": "markers+text",
         "showlegend": false,
         "text": "Kogi",
         "textposition": "top center",
         "type": "scattergeo"
        },
        {
         "hoverinfo": "text",
         "lat": [
          8.5
         ],
         "legendgroup": "others",
         "lon": [
          4.55
         ],
         "marker": {
          "color": "red",
          "size": 6,
          "symbol": "circle"
         },
         "mode": "markers+text",
         "showlegend": false,
         "text": "Kwara",
         "textposition": "top center",
         "type": "scattergeo"
        },
        {
         "hoverinfo": "text",
         "lat": [
          6.5244
         ],
         "legendgroup": "others",
         "lon": [
          3.3792
         ],
         "marker": {
          "color": "red",
          "size": 6,
          "symbol": "circle"
         },
         "mode": "markers+text",
         "showlegend": false,
         "text": "Lagos",
         "textposition": "top center",
         "type": "scattergeo"
        },
        {
         "hoverinfo": "text",
         "lat": [
          8.5333
         ],
         "legendgroup": "others",
         "lon": [
          8.5333
         ],
         "marker": {
          "color": "red",
          "size": 6,
          "symbol": "circle"
         },
         "mode": "markers+text",
         "showlegend": false,
         "text": "Nasarawa",
         "textposition": "top center",
         "type": "scattergeo"
        },
        {
         "hoverinfo": "text",
         "lat": [
          9.6
         ],
         "legendgroup": "others",
         "lon": [
          6.55
         ],
         "marker": {
          "color": "red",
          "size": 6,
          "symbol": "circle"
         },
         "mode": "markers+text",
         "showlegend": false,
         "text": "Niger",
         "textposition": "top center",
         "type": "scattergeo"
        },
        {
         "hoverinfo": "text",
         "lat": [
          7
         ],
         "legendgroup": "others",
         "lon": [
          3.5833
         ],
         "marker": {
          "color": "red",
          "size": 6,
          "symbol": "circle"
         },
         "mode": "markers+text",
         "showlegend": false,
         "text": "Ogun",
         "textposition": "top center",
         "type": "scattergeo"
        },
        {
         "hoverinfo": "text",
         "lat": [
          7.25
         ],
         "legendgroup": "Ondo",
         "lon": [
          5.2
         ],
         "marker": {
          "color": "green",
          "size": 8,
          "symbol": "diamond"
         },
         "mode": "markers+text",
         "name": "Ondo (Immigration: 590)",
         "showlegend": true,
         "text": "Ondo",
         "textposition": "top center",
         "type": "scattergeo"
        },
        {
         "hoverinfo": "text",
         "lat": [
          7.7833
         ],
         "legendgroup": "others",
         "lon": [
          4.5667
         ],
         "marker": {
          "color": "red",
          "size": 6,
          "symbol": "circle"
         },
         "mode": "markers+text",
         "showlegend": false,
         "text": "Osun",
         "textposition": "top center",
         "type": "scattergeo"
        },
        {
         "hoverinfo": "text",
         "lat": [
          7.3833
         ],
         "legendgroup": "others",
         "lon": [
          3.9333
         ],
         "marker": {
          "color": "red",
          "size": 6,
          "symbol": "circle"
         },
         "mode": "markers+text",
         "showlegend": false,
         "text": "Oyo",
         "textposition": "top center",
         "type": "scattergeo"
        },
        {
         "hoverinfo": "text",
         "lat": [
          9.9333
         ],
         "legendgroup": "others",
         "lon": [
          8.8833
         ],
         "marker": {
          "color": "red",
          "size": 6,
          "symbol": "circle"
         },
         "mode": "markers+text",
         "showlegend": false,
         "text": "Plateau",
         "textposition": "top center",
         "type": "scattergeo"
        },
        {
         "hoverinfo": "text",
         "lat": [
          4.8242
         ],
         "legendgroup": "others",
         "lon": [
          7.0336
         ],
         "marker": {
          "color": "red",
          "size": 6,
          "symbol": "circle"
         },
         "mode": "markers+text",
         "showlegend": false,
         "text": "Rivers",
         "textposition": "top center",
         "type": "scattergeo"
        },
        {
         "hoverinfo": "text",
         "lat": [
          13.0667
         ],
         "legendgroup": "others",
         "lon": [
          5.2333
         ],
         "marker": {
          "color": "red",
          "size": 6,
          "symbol": "circle"
         },
         "mode": "markers+text",
         "showlegend": false,
         "text": "Sokoto",
         "textposition": "top center",
         "type": "scattergeo"
        },
        {
         "hoverinfo": "text",
         "lat": [
          8.8833
         ],
         "legendgroup": "others",
         "lon": [
          11.3667
         ],
         "marker": {
          "color": "red",
          "size": 6,
          "symbol": "circle"
         },
         "mode": "markers+text",
         "showlegend": false,
         "text": "Taraba",
         "textposition": "top center",
         "type": "scattergeo"
        },
        {
         "hoverinfo": "text",
         "lat": [
          12
         ],
         "legendgroup": "others",
         "lon": [
          11.75
         ],
         "marker": {
          "color": "red",
          "size": 6,
          "symbol": "circle"
         },
         "mode": "markers+text",
         "showlegend": false,
         "text": "Yobe",
         "textposition": "top center",
         "type": "scattergeo"
        },
        {
         "hoverinfo": "text",
         "lat": [
          12.1667
         ],
         "legendgroup": "others",
         "lon": [
          6.25
         ],
         "marker": {
          "color": "red",
          "size": 6,
          "symbol": "circle"
         },
         "mode": "markers+text",
         "showlegend": false,
         "text": "Zamfara",
         "textposition": "top center",
         "type": "scattergeo"
        },
        {
         "hoverinfo": "text",
         "lat": [
          9.0579
         ],
         "legendgroup": "others",
         "lon": [
          7.4951
         ],
         "marker": {
          "color": "red",
          "size": 6,
          "symbol": "circle"
         },
         "mode": "markers+text",
         "showlegend": false,
         "text": "FCT",
         "textposition": "top center",
         "type": "scattergeo"
        }
       ],
       "layout": {
        "geo": {
         "center": {
          "lat": 9,
          "lon": 8
         },
         "countrycolor": "gray",
         "landcolor": "rgb(243, 243, 243)",
         "projection": {
          "scale": 7.5
         },
         "scope": "africa",
         "showland": true
        },
        "height": 850,
        "legend": {
         "orientation": "v",
         "title": {
          "text": "Legend"
         },
         "x": 1.05,
         "xanchor": "left",
         "y": 1,
         "yanchor": "top"
        },
        "showlegend": true,
        "template": {
         "data": {
          "bar": [
           {
            "error_x": {
             "color": "#2a3f5f"
            },
            "error_y": {
             "color": "#2a3f5f"
            },
            "marker": {
             "line": {
              "color": "#E5ECF6",
              "width": 0.5
             },
             "pattern": {
              "fillmode": "overlay",
              "size": 10,
              "solidity": 0.2
             }
            },
            "type": "bar"
           }
          ],
          "barpolar": [
           {
            "marker": {
             "line": {
              "color": "#E5ECF6",
              "width": 0.5
             },
             "pattern": {
              "fillmode": "overlay",
              "size": 10,
              "solidity": 0.2
             }
            },
            "type": "barpolar"
           }
          ],
          "carpet": [
           {
            "aaxis": {
             "endlinecolor": "#2a3f5f",
             "gridcolor": "white",
             "linecolor": "white",
             "minorgridcolor": "white",
             "startlinecolor": "#2a3f5f"
            },
            "baxis": {
             "endlinecolor": "#2a3f5f",
             "gridcolor": "white",
             "linecolor": "white",
             "minorgridcolor": "white",
             "startlinecolor": "#2a3f5f"
            },
            "type": "carpet"
           }
          ],
          "choropleth": [
           {
            "colorbar": {
             "outlinewidth": 0,
             "ticks": ""
            },
            "type": "choropleth"
           }
          ],
          "contour": [
           {
            "colorbar": {
             "outlinewidth": 0,
             "ticks": ""
            },
            "colorscale": [
             [
              0,
              "#0d0887"
             ],
             [
              0.1111111111111111,
              "#46039f"
             ],
             [
              0.2222222222222222,
              "#7201a8"
             ],
             [
              0.3333333333333333,
              "#9c179e"
             ],
             [
              0.4444444444444444,
              "#bd3786"
             ],
             [
              0.5555555555555556,
              "#d8576b"
             ],
             [
              0.6666666666666666,
              "#ed7953"
             ],
             [
              0.7777777777777778,
              "#fb9f3a"
             ],
             [
              0.8888888888888888,
              "#fdca26"
             ],
             [
              1,
              "#f0f921"
             ]
            ],
            "type": "contour"
           }
          ],
          "contourcarpet": [
           {
            "colorbar": {
             "outlinewidth": 0,
             "ticks": ""
            },
            "type": "contourcarpet"
           }
          ],
          "heatmap": [
           {
            "colorbar": {
             "outlinewidth": 0,
             "ticks": ""
            },
            "colorscale": [
             [
              0,
              "#0d0887"
             ],
             [
              0.1111111111111111,
              "#46039f"
             ],
             [
              0.2222222222222222,
              "#7201a8"
             ],
             [
              0.3333333333333333,
              "#9c179e"
             ],
             [
              0.4444444444444444,
              "#bd3786"
             ],
             [
              0.5555555555555556,
              "#d8576b"
             ],
             [
              0.6666666666666666,
              "#ed7953"
             ],
             [
              0.7777777777777778,
              "#fb9f3a"
             ],
             [
              0.8888888888888888,
              "#fdca26"
             ],
             [
              1,
              "#f0f921"
             ]
            ],
            "type": "heatmap"
           }
          ],
          "histogram": [
           {
            "marker": {
             "pattern": {
              "fillmode": "overlay",
              "size": 10,
              "solidity": 0.2
             }
            },
            "type": "histogram"
           }
          ],
          "histogram2d": [
           {
            "colorbar": {
             "outlinewidth": 0,
             "ticks": ""
            },
            "colorscale": [
             [
              0,
              "#0d0887"
             ],
             [
              0.1111111111111111,
              "#46039f"
             ],
             [
              0.2222222222222222,
              "#7201a8"
             ],
             [
              0.3333333333333333,
              "#9c179e"
             ],
             [
              0.4444444444444444,
              "#bd3786"
             ],
             [
              0.5555555555555556,
              "#d8576b"
             ],
             [
              0.6666666666666666,
              "#ed7953"
             ],
             [
              0.7777777777777778,
              "#fb9f3a"
             ],
             [
              0.8888888888888888,
              "#fdca26"
             ],
             [
              1,
              "#f0f921"
             ]
            ],
            "type": "histogram2d"
           }
          ],
          "histogram2dcontour": [
           {
            "colorbar": {
             "outlinewidth": 0,
             "ticks": ""
            },
            "colorscale": [
             [
              0,
              "#0d0887"
             ],
             [
              0.1111111111111111,
              "#46039f"
             ],
             [
              0.2222222222222222,
              "#7201a8"
             ],
             [
              0.3333333333333333,
              "#9c179e"
             ],
             [
              0.4444444444444444,
              "#bd3786"
             ],
             [
              0.5555555555555556,
              "#d8576b"
             ],
             [
              0.6666666666666666,
              "#ed7953"
             ],
             [
              0.7777777777777778,
              "#fb9f3a"
             ],
             [
              0.8888888888888888,
              "#fdca26"
             ],
             [
              1,
              "#f0f921"
             ]
            ],
            "type": "histogram2dcontour"
           }
          ],
          "mesh3d": [
           {
            "colorbar": {
             "outlinewidth": 0,
             "ticks": ""
            },
            "type": "mesh3d"
           }
          ],
          "parcoords": [
           {
            "line": {
             "colorbar": {
              "outlinewidth": 0,
              "ticks": ""
             }
            },
            "type": "parcoords"
           }
          ],
          "pie": [
           {
            "automargin": true,
            "type": "pie"
           }
          ],
          "scatter": [
           {
            "fillpattern": {
             "fillmode": "overlay",
             "size": 10,
             "solidity": 0.2
            },
            "type": "scatter"
           }
          ],
          "scatter3d": [
           {
            "line": {
             "colorbar": {
              "outlinewidth": 0,
              "ticks": ""
             }
            },
            "marker": {
             "colorbar": {
              "outlinewidth": 0,
              "ticks": ""
             }
            },
            "type": "scatter3d"
           }
          ],
          "scattercarpet": [
           {
            "marker": {
             "colorbar": {
              "outlinewidth": 0,
              "ticks": ""
             }
            },
            "type": "scattercarpet"
           }
          ],
          "scattergeo": [
           {
            "marker": {
             "colorbar": {
              "outlinewidth": 0,
              "ticks": ""
             }
            },
            "type": "scattergeo"
           }
          ],
          "scattergl": [
           {
            "marker": {
             "colorbar": {
              "outlinewidth": 0,
              "ticks": ""
             }
            },
            "type": "scattergl"
           }
          ],
          "scattermap": [
           {
            "marker": {
             "colorbar": {
              "outlinewidth": 0,
              "ticks": ""
             }
            },
            "type": "scattermap"
           }
          ],
          "scattermapbox": [
           {
            "marker": {
             "colorbar": {
              "outlinewidth": 0,
              "ticks": ""
             }
            },
            "type": "scattermapbox"
           }
          ],
          "scatterpolar": [
           {
            "marker": {
             "colorbar": {
              "outlinewidth": 0,
              "ticks": ""
             }
            },
            "type": "scatterpolar"
           }
          ],
          "scatterpolargl": [
           {
            "marker": {
             "colorbar": {
              "outlinewidth": 0,
              "ticks": ""
             }
            },
            "type": "scatterpolargl"
           }
          ],
          "scatterternary": [
           {
            "marker": {
             "colorbar": {
              "outlinewidth": 0,
              "ticks": ""
             }
            },
            "type": "scatterternary"
           }
          ],
          "surface": [
           {
            "colorbar": {
             "outlinewidth": 0,
             "ticks": ""
            },
            "colorscale": [
             [
              0,
              "#0d0887"
             ],
             [
              0.1111111111111111,
              "#46039f"
             ],
             [
              0.2222222222222222,
              "#7201a8"
             ],
             [
              0.3333333333333333,
              "#9c179e"
             ],
             [
              0.4444444444444444,
              "#bd3786"
             ],
             [
              0.5555555555555556,
              "#d8576b"
             ],
             [
              0.6666666666666666,
              "#ed7953"
             ],
             [
              0.7777777777777778,
              "#fb9f3a"
             ],
             [
              0.8888888888888888,
              "#fdca26"
             ],
             [
              1,
              "#f0f921"
             ]
            ],
            "type": "surface"
           }
          ],
          "table": [
           {
            "cells": {
             "fill": {
              "color": "#EBF0F8"
             },
             "line": {
              "color": "white"
             }
            },
            "header": {
             "fill": {
              "color": "#C8D4E3"
             },
             "line": {
              "color": "white"
             }
            },
            "type": "table"
           }
          ]
         },
         "layout": {
          "annotationdefaults": {
           "arrowcolor": "#2a3f5f",
           "arrowhead": 0,
           "arrowwidth": 1
          },
          "autotypenumbers": "strict",
          "coloraxis": {
           "colorbar": {
            "outlinewidth": 0,
            "ticks": ""
           }
          },
          "colorscale": {
           "diverging": [
            [
             0,
             "#8e0152"
            ],
            [
             0.1,
             "#c51b7d"
            ],
            [
             0.2,
             "#de77ae"
            ],
            [
             0.3,
             "#f1b6da"
            ],
            [
             0.4,
             "#fde0ef"
            ],
            [
             0.5,
             "#f7f7f7"
            ],
            [
             0.6,
             "#e6f5d0"
            ],
            [
             0.7,
             "#b8e186"
            ],
            [
             0.8,
             "#7fbc41"
            ],
            [
             0.9,
             "#4d9221"
            ],
            [
             1,
             "#276419"
            ]
           ],
           "sequential": [
            [
             0,
             "#0d0887"
            ],
            [
             0.1111111111111111,
             "#46039f"
            ],
            [
             0.2222222222222222,
             "#7201a8"
            ],
            [
             0.3333333333333333,
             "#9c179e"
            ],
            [
             0.4444444444444444,
             "#bd3786"
            ],
            [
             0.5555555555555556,
             "#d8576b"
            ],
            [
             0.6666666666666666,
             "#ed7953"
            ],
            [
             0.7777777777777778,
             "#fb9f3a"
            ],
            [
             0.8888888888888888,
             "#fdca26"
            ],
            [
             1,
             "#f0f921"
            ]
           ],
           "sequentialminus": [
            [
             0,
             "#0d0887"
            ],
            [
             0.1111111111111111,
             "#46039f"
            ],
            [
             0.2222222222222222,
             "#7201a8"
            ],
            [
             0.3333333333333333,
             "#9c179e"
            ],
            [
             0.4444444444444444,
             "#bd3786"
            ],
            [
             0.5555555555555556,
             "#d8576b"
            ],
            [
             0.6666666666666666,
             "#ed7953"
            ],
            [
             0.7777777777777778,
             "#fb9f3a"
            ],
            [
             0.8888888888888888,
             "#fdca26"
            ],
            [
             1,
             "#f0f921"
            ]
           ]
          },
          "colorway": [
           "#636efa",
           "#EF553B",
           "#00cc96",
           "#ab63fa",
           "#FFA15A",
           "#19d3f3",
           "#FF6692",
           "#B6E880",
           "#FF97FF",
           "#FECB52"
          ],
          "font": {
           "color": "#2a3f5f"
          },
          "geo": {
           "bgcolor": "white",
           "lakecolor": "white",
           "landcolor": "#E5ECF6",
           "showlakes": true,
           "showland": true,
           "subunitcolor": "white"
          },
          "hoverlabel": {
           "align": "left"
          },
          "hovermode": "closest",
          "mapbox": {
           "style": "light"
          },
          "paper_bgcolor": "white",
          "plot_bgcolor": "#E5ECF6",
          "polar": {
           "angularaxis": {
            "gridcolor": "white",
            "linecolor": "white",
            "ticks": ""
           },
           "bgcolor": "#E5ECF6",
           "radialaxis": {
            "gridcolor": "white",
            "linecolor": "white",
            "ticks": ""
           }
          },
          "scene": {
           "xaxis": {
            "backgroundcolor": "#E5ECF6",
            "gridcolor": "white",
            "gridwidth": 2,
            "linecolor": "white",
            "showbackground": true,
            "ticks": "",
            "zerolinecolor": "white"
           },
           "yaxis": {
            "backgroundcolor": "#E5ECF6",
            "gridcolor": "white",
            "gridwidth": 2,
            "linecolor": "white",
            "showbackground": true,
            "ticks": "",
            "zerolinecolor": "white"
           },
           "zaxis": {
            "backgroundcolor": "#E5ECF6",
            "gridcolor": "white",
            "gridwidth": 2,
            "linecolor": "white",
            "showbackground": true,
            "ticks": "",
            "zerolinecolor": "white"
           }
          },
          "shapedefaults": {
           "line": {
            "color": "#2a3f5f"
           }
          },
          "ternary": {
           "aaxis": {
            "gridcolor": "white",
            "linecolor": "white",
            "ticks": ""
           },
           "baxis": {
            "gridcolor": "white",
            "linecolor": "white",
            "ticks": ""
           },
           "bgcolor": "#E5ECF6",
           "caxis": {
            "gridcolor": "white",
            "linecolor": "white",
            "ticks": ""
           }
          },
          "title": {
           "x": 0.05
          },
          "xaxis": {
           "automargin": true,
           "gridcolor": "white",
           "linecolor": "white",
           "ticks": "",
           "title": {
            "standoff": 15
           },
           "zerolinecolor": "white",
           "zerolinewidth": 2
          },
          "yaxis": {
           "automargin": true,
           "gridcolor": "white",
           "linecolor": "white",
           "ticks": "",
           "title": {
            "standoff": 15
           },
           "zerolinecolor": "white",
           "zerolinewidth": 2
          }
         }
        },
        "title": {
         "text": "Nigeria State-to-State Migration Flows (Ondo, Bauchi, Edo Highlighted)"
        },
        "width": 1100
       }
      }
     },
     "metadata": {},
     "output_type": "display_data"
    }
   ],
   "source": [
    "import plotly.graph_objects as go\n",
    "\n",
    "fig = go.Figure()\n",
    "\n",
    "# Normalize line width for flows\n",
    "max_val = flow_data[\"count\"].max()\n",
    "\n",
    "# Migration flows (all in blue, single legend entry)\n",
    "for i, row in flow_data.iterrows():\n",
    "    src, dst, val = row[\"PrevPlaceName\"], row[\"CurrentPlaceName\"], row[\"count\"]\n",
    "    if src in state_coords and dst in state_coords:\n",
    "        lat_src, lon_src = state_coords[src]\n",
    "        lat_dst, lon_dst = state_coords[dst]\n",
    "\n",
    "        fig.add_trace(go.Scattergeo(\n",
    "            lon=[lon_src, lon_dst],\n",
    "            lat=[lat_src, lat_dst],\n",
    "            mode=\"lines\",\n",
    "            line=dict(width=(val / max_val) * 10, color=\"blue\"),\n",
    "            opacity=0.3,\n",
    "            hoverinfo=\"text\",\n",
    "            text=f\"{src} → {dst}: {val}\",\n",
    "            name=\"Migration Flow\" if i == 0 else None,\n",
    "            showlegend=(i == 0),\n",
    "            legendgroup=\"flows\"\n",
    "        ))\n",
    "\n",
    "# Add state capital markers\n",
    "highlight_colors = {\"Ondo\": \"green\", \"Bauchi\": \"orange\", \"Edo\": \"purple\"}\n",
    "\n",
    "for j, (state, (lat, lon)) in enumerate(state_coords.items()):\n",
    "    if state in highlight_colors:\n",
    "        fig.add_trace(go.Scattergeo(\n",
    "            lon=[lon], lat=[lat],\n",
    "            text=f\"{state}\",\n",
    "            mode=\"markers+text\",\n",
    "            marker=dict(size=8, color=highlight_colors[state], symbol=\"star\"),\n",
    "            textposition=\"top center\",\n",
    "            hoverinfo=\"text\",\n",
    "            name=f\"{state} Capital\",\n",
    "            showlegend=True\n",
    "        ))\n",
    "    else:\n",
    "        fig.add_trace(go.Scattergeo(\n",
    "            lon=[lon], lat=[lat],\n",
    "            text=state,\n",
    "            mode=\"markers+text\",\n",
    "            marker=dict(size=6, color=\"red\", symbol=\"circle\"),\n",
    "            textposition=\"top center\",\n",
    "            hoverinfo=\"text\",\n",
    "            name=\"Other Capitals\" if j == 0 else None,\n",
    "            showlegend=(j == 0),\n",
    "            legendgroup=\"others\"\n",
    "        ))\n",
    "\n",
    "# Configure map\n",
    "fig.update_layout(\n",
    "    title_text=\"Nigeria State-to-State Migration Flows (with Ondo, Bauchi, Edo highlighted)\",\n",
    "    showlegend=True,\n",
    "    legend=dict(\n",
    "        title=\"Legend\",\n",
    "        orientation=\"h\",\n",
    "        yanchor=\"bottom\",\n",
    "        y=-0.2,\n",
    "        xanchor=\"center\",\n",
    "        x=0.5\n",
    "    ),\n",
    "    geo=dict(\n",
    "        scope=\"africa\",\n",
    "        center=dict(lat=9.0, lon=8.0),\n",
    "        projection_scale=7.5,\n",
    "        showland=True,\n",
    "        landcolor=\"rgb(243, 243, 243)\",\n",
    "        countrycolor=\"gray\"\n",
    "    ),\n",
    "    width=1100,\n",
    "    height=850\n",
    ")\n",
    "\n",
    "fig.show()\n"
   ]
  },
  {
   "cell_type": "code",
   "execution_count": 183,
   "id": "879df0f4",
   "metadata": {},
   "outputs": [
    {
     "name": "stdout",
     "output_type": "stream",
     "text": [
      "Total Migrants: 30416\n",
      "     State  Count  Percentage\n",
      "9   Bauchi   1000        3.29\n",
      "15     Edo    896        2.95\n",
      "28    Ondo    590        1.94\n"
     ]
    }
   ],
   "source": [
    "# Immigration totals per state\n",
    "state_counts = combined_filtered_df[\"CurrentPlaceName\"].value_counts().reset_index()\n",
    "state_counts.columns = [\"State\", \"Count\"]\n",
    "\n",
    "# Total migrants in dataset\n",
    "total_migrants = state_counts[\"Count\"].sum()\n",
    "\n",
    "# Selected states\n",
    "selected = [\"Ondo\", \"Bauchi\", \"Edo\"]\n",
    "selected_stats = state_counts[state_counts[\"State\"].isin(selected)].copy()\n",
    "\n",
    "# Add percentages\n",
    "selected_stats[\"Percentage\"] = (selected_stats[\"Count\"] / total_migrants * 100).round(2)\n",
    "\n",
    "print(\"Total Migrants:\", total_migrants)\n",
    "print(selected_stats)\n"
   ]
  }
 ],
 "metadata": {
  "kernelspec": {
   "display_name": "migration-pattern (3.13.5)",
   "language": "python",
   "name": "python3"
  },
  "language_info": {
   "codemirror_mode": {
    "name": "ipython",
    "version": 3
   },
   "file_extension": ".py",
   "mimetype": "text/x-python",
   "name": "python",
   "nbconvert_exporter": "python",
   "pygments_lexer": "ipython3",
   "version": "3.13.5"
  }
 },
 "nbformat": 4,
 "nbformat_minor": 5
}
